{
 "cells": [
  {
   "cell_type": "code",
   "execution_count": 1,
   "metadata": {},
   "outputs": [],
   "source": [
    "import pandas as pd\n",
    "import json\n",
    "from tqdm.notebook import tqdm"
   ]
  },
  {
   "cell_type": "code",
   "execution_count": 2,
   "metadata": {},
   "outputs": [],
   "source": [
    "YEAR_RANGE = [2019, 2020]\n",
    "df_311 = pd.read_csv('data/raw/311_Block_Group_Processed.csv')\n",
    "# df_311 = df_311[df_311['CREATION YEAR'].between(YEAR_RANGE[0], YEAR_RANGE[1])]"
   ]
  },
  {
   "cell_type": "code",
   "execution_count": 3,
   "metadata": {},
   "outputs": [
    {
     "output_type": "execute_result",
     "data": {
      "text/plain": [
       "1229"
      ]
     },
     "metadata": {},
     "execution_count": 3
    }
   ],
   "source": [
    "len(df_311['REQUEST TYPE'].unique())"
   ]
  },
  {
   "cell_type": "code",
   "execution_count": 4,
   "metadata": {},
   "outputs": [
    {
     "output_type": "execute_result",
     "data": {
      "text/plain": [
       "array([2019, 2020, 2009, 2018, 2016, 2015, 2014, 2007, 2011, 2017, 2013,\n",
       "       2012, 2010, 2008, 2006, 2021], dtype=int64)"
      ]
     },
     "metadata": {},
     "execution_count": 4
    }
   ],
   "source": [
    "df_311['CREATION YEAR'].unique()"
   ]
  },
  {
   "cell_type": "code",
   "execution_count": null,
   "metadata": {},
   "outputs": [],
   "source": []
  },
  {
   "cell_type": "code",
   "execution_count": 5,
   "metadata": {
    "scrolled": true
   },
   "outputs": [
    {
     "output_type": "execute_result",
     "data": {
      "text/plain": [
       "      DEPARTMENT                                  WORK GROUP\n",
       "0   Public Works  Public Works-Street and Traffic-District 1\n",
       "1  Parks and Rec               Parks and Rec-Central Region-\n",
       "2            NHS                    NHS-Dangerous Buildings-\n",
       "3            NHS              NHS-Neighborhood Preservation-\n",
       "4            NHS                            NHS-Solid Waste-"
      ],
      "text/html": "<div>\n<style scoped>\n    .dataframe tbody tr th:only-of-type {\n        vertical-align: middle;\n    }\n\n    .dataframe tbody tr th {\n        vertical-align: top;\n    }\n\n    .dataframe thead th {\n        text-align: right;\n    }\n</style>\n<table border=\"1\" class=\"dataframe\">\n  <thead>\n    <tr style=\"text-align: right;\">\n      <th></th>\n      <th>DEPARTMENT</th>\n      <th>WORK GROUP</th>\n    </tr>\n  </thead>\n  <tbody>\n    <tr>\n      <th>0</th>\n      <td>Public Works</td>\n      <td>Public Works-Street and Traffic-District 1</td>\n    </tr>\n    <tr>\n      <th>1</th>\n      <td>Parks and Rec</td>\n      <td>Parks and Rec-Central Region-</td>\n    </tr>\n    <tr>\n      <th>2</th>\n      <td>NHS</td>\n      <td>NHS-Dangerous Buildings-</td>\n    </tr>\n    <tr>\n      <th>3</th>\n      <td>NHS</td>\n      <td>NHS-Neighborhood Preservation-</td>\n    </tr>\n    <tr>\n      <th>4</th>\n      <td>NHS</td>\n      <td>NHS-Solid Waste-</td>\n    </tr>\n  </tbody>\n</table>\n</div>"
     },
     "metadata": {},
     "execution_count": 5
    }
   ],
   "source": [
    "df_solution = df_311[['DEPARTMENT', 'WORK GROUP']]\n",
    "df_problem = df_311[['REQUEST TYPE', 'CATEGORY', 'TYPE', 'DETAIL']]\n",
    "\n",
    "df_solution.head()"
   ]
  },
  {
   "cell_type": "code",
   "execution_count": 22,
   "metadata": {},
   "outputs": [],
   "source": [
    "df_solution['DEPARTMENT'].drop_duplicates().to_csv('Taxonomy/unique_departments.csv', index = False)\n",
    "df_solution['WORK GROUP'].drop_duplicates().to_csv('Taxonomy/unique_workgroups.csv', index = False)\n",
    "df_solution.groupby(['DEPARTMENT', 'WORK GROUP']).count().to_csv('Taxonomy/solution_domain_hierarchy.csv')\n"
   ]
  },
  {
   "cell_type": "code",
   "execution_count": 20,
   "metadata": {},
   "outputs": [
    {
     "output_type": "execute_result",
     "data": {
      "text/plain": [
       "Empty DataFrame\n",
       "Columns: []\n",
       "Index: [(Aviation, Aviation--), (City Managers Office, City Managers Office-311 Call Center-), (City Managers Office, City Managers Office-311 Call Center-Administratio), (City Managers Office, City Managers Office-311 Call Center-Support), (City Managers Office, City Managers Office-311-Field Staff), (City Managers Office, City Managers Office-Administration-), (City Managers Office, City Managers Office-CIMO-), (City Managers Office, City Managers Office-Capital Projects-), (City Managers Office, City Managers Office-Compass KC-), (City Managers Office, City Managers Office-Emergency Management-), (City Managers Office, City Managers Office-KCPD-), (City Planning and Development, City Planning and Development-Administration), (City Planning and Development, City Planning and Development-Adminstration-), (City Planning and Development, City Planning and Development-Dev Comp-Zoning), (City Planning and Development, City Planning and Development-Elevators-), (City Planning and Development, City Planning and Development-Land Develop-Inspect), (City Planning and Development, City Planning and Development-Permit Compliance-), (Convention and Entertainment Center, Convention and Entertainment Center--), (Finance, Finance--), (Finance, Finance-PIAC-), (Fire, Fire--), (General Service, General Service-City Property-), (General Service, General Service-Facility Management-), (Health, Health--), (Health, Health-Air Quality-), (Health, Health-Communicable Disease Control-), (Health, Health-Community Environmental Health-), (Health, Health-Food Protection-), (Health, Health-Healthy Homes-), (Health, Health-Healthy Homes-Bedbugs), (Health, Health-Lead Poisoning Prevention-), (Health, Health-Noise Control-), (Health, Health-Rat-), (Health, Health-Tobacco Control-), (Housing Community Dev, Housing Community Dev-Property Preservation), (Human Resources, Human Resources--), (IT, IT-testing emails-), (Information Technology, Information Technology--), (Information Technology, Information Technology-ERP Testing-DML), (Information Technology, Information Technology-Email issue-), (KCPD, KCPD-Parking Control-), (Mayors Office, Mayors Office--), (Municipal Court, Municipal Court-Accommodations), (Municipal Court, Municipal Court-Customer Service-), (NCS, NCS-Animal Health and Safety-Jackson County), (NCS, NCS-Neighborhood Preservation-LT List), (NHS, NHS-Administration-), (NHS, NHS-Animal Health and Safety-), (NHS, NHS-Animal Health and Safety-Admin), (NHS, NHS-Dangerous Buildings-), (NHS, NHS-Dangerous Buildings-Emergency), (NHS, NHS-HazardousStructure), (NHS, NHS-NCAP-), (NHS, NHS-NPD-Assessments), (NHS, NHS-Neighborhood Preservation-), (NHS, NHS-Neighborhood Preservation-Abatement), (NHS, NHS-Neighborhood Preservation-Administration), (NHS, NHS-Neighborhood Preservation-DART), (NHS, NHS-Neighborhood Preservation-Illegal Dumping), (NHS, NHS-Neighborhood Preservation-Open Entry), (NHS, NHS-Neighborhood Preservation-Priority), (NHS, NHS-Neighborhood Preservation-Programs), (NHS, NHS-Neighborhood Referrals-Supervisors), (NHS, NHS-Neighborhood Services), (NHS, NHS-Neighborhood-Abatement), (NHS, NHS-Property Preservation-), (NHS, NHS-Regulated Industries-), (NHS, NHS-Salvage-), (NHS, NHS-Solid Waste-), (NHS, NHS-Solid Waste-Abatement Referral), (NHS, NHS-Solid Waste-Administration), (NHS, NHS-Solid Waste-Illegal Dumping), (NHS, NHS-Tow Services-), (NHS, NHS-Tow-Administration), (Northeast, Northeast-Alliance-Together), (Northland, Northland-Neighborhood-Inc), (Parks & Rec, Parks & Rec-Brush Creek-Maintenance), (Parks & Rec, Parks & Rec-Landscape Services-BRWF), (Parks & Rec, Parks & Rec-Landscape Services-Forestry), (Parks & Rec, Parks & Rec-Landscape Services-LT List), (Parks & Rec, Parks & Rec-Landscape Services-ROWWeeds), (Parks & Rec, Parks & Rec-Landscape Services-Visability), (Parks & Rec, Parks & Rec-Planning and Design), (Parks & Recreation, Parks & Recreation-Landscape Services-BRWF), (Parks and Rec, Parks and Rec-Administration-), (Parks and Rec, Parks and Rec-Central Region-), (Parks and Rec, Parks and Rec-Community Services-), (Parks and Rec, Parks and Rec-Facility Maintenance-), (Parks and Rec, Parks and Rec-Landscape Services-Forestry), (Parks and Rec, Parks and Rec-Landscape Services-Forestry Tech), (Parks and Rec, Parks and Rec-Landscape Services-Landscaping), (Parks and Rec, Parks and Rec-Landscape Services-Weeds), (Parks and Rec, Parks and Rec-North Region-), (Parks and Rec, Parks and Rec-Planning and Design), (Parks and Rec, Parks and Rec-South Region-), (Public Works, Public Works- Sidewalks- GO Bonds), (Public Works, Public Works-Administration-), (Public Works, Public Works-Capital Projects-), (Public Works, Public Works-Capital Projects-Preservation), (Public Works, Public Works-Capital Projects-Sidewalks), ...]\n",
       "\n",
       "[143 rows x 0 columns]"
      ],
      "text/html": "<div>\n<style scoped>\n    .dataframe tbody tr th:only-of-type {\n        vertical-align: middle;\n    }\n\n    .dataframe tbody tr th {\n        vertical-align: top;\n    }\n\n    .dataframe thead th {\n        text-align: right;\n    }\n</style>\n<table border=\"1\" class=\"dataframe\">\n  <thead>\n    <tr style=\"text-align: right;\">\n      <th></th>\n      <th></th>\n    </tr>\n    <tr>\n      <th>DEPARTMENT</th>\n      <th>WORK GROUP</th>\n    </tr>\n  </thead>\n  <tbody>\n    <tr>\n      <th>Aviation</th>\n      <th>Aviation--</th>\n    </tr>\n    <tr>\n      <th rowspan=\"4\" valign=\"top\">City Managers Office</th>\n      <th>City Managers Office-311 Call Center-</th>\n    </tr>\n    <tr>\n      <th>City Managers Office-311 Call Center-Administratio</th>\n    </tr>\n    <tr>\n      <th>City Managers Office-311 Call Center-Support</th>\n    </tr>\n    <tr>\n      <th>City Managers Office-311-Field Staff</th>\n    </tr>\n    <tr>\n      <th>...</th>\n      <th>...</th>\n    </tr>\n    <tr>\n      <th rowspan=\"5\" valign=\"top\">Water Services</th>\n      <th>Water Services-Meter &amp; Field Services-Supervisors</th>\n    </tr>\n    <tr>\n      <th>Water Services-Meter and Field Services-</th>\n    </tr>\n    <tr>\n      <th>Water Services-Reading-</th>\n    </tr>\n    <tr>\n      <th>Water Services-Stormwater Investigations</th>\n    </tr>\n    <tr>\n      <th>Water Services-Wastewater Investigations</th>\n    </tr>\n  </tbody>\n</table>\n<p>143 rows × 0 columns</p>\n</div>"
     },
     "metadata": {},
     "execution_count": 20
    }
   ],
   "source": [
    "df_solution.groupby(['DEPARTMENT', 'WORK GROUP']).count()"
   ]
  },
  {
   "cell_type": "code",
   "execution_count": 6,
   "metadata": {},
   "outputs": [
    {
     "output_type": "execute_result",
     "data": {
      "text/plain": [
       "{'Public Works': ['Public Works- Sidewalks- GO Bonds',\n",
       "  'Public Works-Administration-',\n",
       "  'Public Works-Capital Projects-',\n",
       "  'Public Works-Capital Projects-Preservation',\n",
       "  'Public Works-Capital Projects-Sidewalks',\n",
       "  'Public Works-Capital Projects-Signs',\n",
       "  'Public Works-Capital Projects-Traffic Control',\n",
       "  'Public Works-Capital Projects-Traffic Permits',\n",
       "  'Public Works-Capital Projects-Traffic Signals',\n",
       "  'Public Works-Coordination Service-Bicycle',\n",
       "  'Public Works-Facilities Maintenance-',\n",
       "  'Public Works-Parking Division-',\n",
       "  'Public Works-Snow and Ice-Administration',\n",
       "  'Public Works-Solid Waste-',\n",
       "  'Public Works-Street and Traffic-Administration',\n",
       "  'Public Works-Street and Traffic-District 1',\n",
       "  'Public Works-Street and Traffic-District 2',\n",
       "  'Public Works-Street and Traffic-District 3',\n",
       "  'Public Works-Street and Traffic-Project Planning',\n",
       "  'Public Works-Street and Traffic-Rural Mowing',\n",
       "  'Public Works-Street and Traffic-Snow',\n",
       "  'Public Works-Street and Traffic-Street Operations',\n",
       "  'Public Works-Street and Traffic-Streetlights',\n",
       "  'Public Works-Street and Traffic-Streetlights Staff',\n",
       "  'Public Works-Streets and Traffic-Administration',\n",
       "  'Public Works-Streets and Traffic-Project Planning'],\n",
       " 'Parks and Rec': ['Parks and Rec-Administration-',\n",
       "  'Parks and Rec-Central Region-',\n",
       "  'Parks and Rec-Community Services-',\n",
       "  'Parks and Rec-Facility Maintenance-',\n",
       "  'Parks and Rec-Landscape Services-Forestry',\n",
       "  'Parks and Rec-Landscape Services-Forestry Tech',\n",
       "  'Parks and Rec-Landscape Services-Landscaping',\n",
       "  'Parks and Rec-Landscape Services-Weeds',\n",
       "  'Parks and Rec-North Region-',\n",
       "  'Parks and Rec-Planning and Design',\n",
       "  'Parks and Rec-South Region-'],\n",
       " 'NHS': ['NHS-Administration-',\n",
       "  'NHS-Animal Health and Safety-',\n",
       "  'NHS-Animal Health and Safety-Admin',\n",
       "  'NHS-Dangerous Buildings-',\n",
       "  'NHS-Dangerous Buildings-Emergency',\n",
       "  'NHS-HazardousStructure',\n",
       "  'NHS-NCAP-',\n",
       "  'NHS-NPD-Assessments',\n",
       "  'NHS-Neighborhood Preservation-',\n",
       "  'NHS-Neighborhood Preservation-Abatement',\n",
       "  'NHS-Neighborhood Preservation-Administration',\n",
       "  'NHS-Neighborhood Preservation-DART',\n",
       "  'NHS-Neighborhood Preservation-Illegal Dumping',\n",
       "  'NHS-Neighborhood Preservation-Open Entry',\n",
       "  'NHS-Neighborhood Preservation-Priority',\n",
       "  'NHS-Neighborhood Preservation-Programs',\n",
       "  'NHS-Neighborhood Referrals-Supervisors',\n",
       "  'NHS-Neighborhood Services',\n",
       "  'NHS-Neighborhood-Abatement',\n",
       "  'NHS-Property Preservation-',\n",
       "  'NHS-Regulated Industries-',\n",
       "  'NHS-Salvage-',\n",
       "  'NHS-Solid Waste-',\n",
       "  'NHS-Solid Waste-Abatement Referral',\n",
       "  'NHS-Solid Waste-Administration',\n",
       "  'NHS-Solid Waste-Illegal Dumping',\n",
       "  'NHS-Tow Services-',\n",
       "  'NHS-Tow-Administration'],\n",
       " 'Water Services': ['Water Services - Wastewater Investigations',\n",
       "  'Water Services-Administration-',\n",
       "  'Water Services-Automatic Meter Reading-VSI',\n",
       "  'Water Services-Consumer Services-Back Office Suppo',\n",
       "  'Water Services-Engineering-Stormwater',\n",
       "  'Water Services-Engineering-Water and Sewer',\n",
       "  'Water Services-Facility-Engineering',\n",
       "  'Water Services-Industrial Waste Control-',\n",
       "  'Water Services-Laboratory Services-',\n",
       "  'Water Services-Leaf Brush',\n",
       "  'Water Services-Line Maintenance-Ice Abatement',\n",
       "  'Water Services-Line Maintenance-Leaf Brush',\n",
       "  'Water Services-Line Maintenance-Pipeline',\n",
       "  'Water Services-Line Maintenance-Restoration',\n",
       "  'Water Services-Line Maintenance-Stormwater',\n",
       "  'Water Services-Line Maintenance-Wastewater',\n",
       "  'Water Services-Meter & Field Services-Supervisors',\n",
       "  'Water Services-Meter and Field Services-',\n",
       "  'Water Services-Reading-',\n",
       "  'Water Services-Stormwater Investigations',\n",
       "  'Water Services-Wastewater Investigations'],\n",
       " 'Health': ['Health--',\n",
       "  'Health-Air Quality-',\n",
       "  'Health-Communicable Disease Control-',\n",
       "  'Health-Community Environmental Health-',\n",
       "  'Health-Food Protection-',\n",
       "  'Health-Healthy Homes-',\n",
       "  'Health-Healthy Homes-Bedbugs',\n",
       "  'Health-Lead Poisoning Prevention-',\n",
       "  'Health-Noise Control-',\n",
       "  'Health-Rat-',\n",
       "  'Health-Tobacco Control-'],\n",
       " 'City Managers Office': ['City Managers Office-311 Call Center-',\n",
       "  'City Managers Office-311 Call Center-Administratio',\n",
       "  'City Managers Office-311 Call Center-Support',\n",
       "  'City Managers Office-311-Field Staff',\n",
       "  'City Managers Office-Administration-',\n",
       "  'City Managers Office-CIMO-',\n",
       "  'City Managers Office-Capital Projects-',\n",
       "  'City Managers Office-Compass KC-',\n",
       "  'City Managers Office-Emergency Management-',\n",
       "  'City Managers Office-KCPD-'],\n",
       " 'KCPD': ['KCPD-Parking Control-'],\n",
       " 'City Planning and Development': ['City Planning and Development-Administration',\n",
       "  'City Planning and Development-Adminstration-',\n",
       "  'City Planning and Development-Dev Comp-Zoning',\n",
       "  'City Planning and Development-Elevators-',\n",
       "  'City Planning and Development-Land Develop-Inspect',\n",
       "  'City Planning and Development-Permit Compliance-'],\n",
       " 'Northland': ['Northland-Neighborhood-Inc'],\n",
       " 'South': ['South-KansasCity-Alliance'],\n",
       " 'Finance': ['Finance--', 'Finance-PIAC-'],\n",
       " 'Fire': ['Fire--'],\n",
       " 'Northeast': ['Northeast-Alliance-Together'],\n",
       " 'Aviation': ['Aviation--'],\n",
       " 'General Service': ['General Service-City Property-',\n",
       "  'General Service-Facility Management-'],\n",
       " 'Municipal Court': ['Municipal Court-Accommodations',\n",
       "  'Municipal Court-Customer Service-'],\n",
       " 'Convention and Entertainment Center': ['Convention and Entertainment Center--'],\n",
       " 'Parks & Rec': ['Parks & Rec-Brush Creek-Maintenance',\n",
       "  'Parks & Rec-Landscape Services-BRWF',\n",
       "  'Parks & Rec-Landscape Services-Forestry',\n",
       "  'Parks & Rec-Landscape Services-LT List',\n",
       "  'Parks & Rec-Landscape Services-ROWWeeds',\n",
       "  'Parks & Rec-Landscape Services-Visability',\n",
       "  'Parks & Rec-Planning and Design'],\n",
       " 'Information Technology': ['Information Technology--',\n",
       "  'Information Technology-ERP Testing-DML',\n",
       "  'Information Technology-Email issue-'],\n",
       " 'NCS': ['NCS-Animal Health and Safety-Jackson County',\n",
       "  'NCS-Neighborhood Preservation-LT List'],\n",
       " 'Housing Community Dev': ['Housing Community Dev-Property Preservation'],\n",
       " 'Parks & Recreation': ['Parks & Recreation-Landscape Services-BRWF'],\n",
       " 'IT': ['IT-testing emails-'],\n",
       " 'Mayors Office': ['Mayors Office--'],\n",
       " 'Human Resources': ['Human Resources--']}"
      ]
     },
     "metadata": {},
     "execution_count": 6
    }
   ],
   "source": [
    "department_dict = {x:[] for x in df_solution['DEPARTMENT'].unique().tolist()}\n",
    "for i, g in df_solution.groupby(['DEPARTMENT','WORK GROUP']):\n",
    "#     print(i)\n",
    "    department_dict[i[0]].append(i[1])\n",
    "#     display(g)\n",
    "department_dict"
   ]
  },
  {
   "cell_type": "code",
   "execution_count": 5,
   "metadata": {
    "tags": [
     "outputPrepend"
    ]
   },
   "outputs": [
    {
     "output_type": "stream",
     "name": "stdout",
     "text": [
      "                   \"children\": []\n                    },\n                    {\n                        \"name\": \"NHS-Solid Waste-Illegal Dumping\",\n                        \"parent\": \"NHS\",\n                        \"children\": []\n                    },\n                    {\n                        \"name\": \"NHS-Tow Services-\",\n                        \"parent\": \"NHS\",\n                        \"children\": []\n                    },\n                    {\n                        \"name\": \"NHS-Tow-Administration\",\n                        \"parent\": \"NHS\",\n                        \"children\": []\n                    }\n                ]\n            },\n            {\n                \"name\": \"Water Services\",\n                \"parent\": \"null\",\n                \"children\": [\n                    {\n                        \"name\": \"Water Services - Wastewater Investigations\",\n                        \"parent\": \"Water Services\",\n                        \"children\": []\n                    },\n                    {\n                        \"name\": \"Water Services-Administration-\",\n                        \"parent\": \"Water Services\",\n                        \"children\": []\n                    },\n                    {\n                        \"name\": \"Water Services-Automatic Meter Reading-VSI\",\n                        \"parent\": \"Water Services\",\n                        \"children\": []\n                    },\n                    {\n                        \"name\": \"Water Services-Consumer Services-Back Office Suppo\",\n                        \"parent\": \"Water Services\",\n                        \"children\": []\n                    },\n                    {\n                        \"name\": \"Water Services-Engineering-Stormwater\",\n                        \"parent\": \"Water Services\",\n                        \"children\": []\n                    },\n                    {\n                        \"name\": \"Water Services-Engineering-Water and Sewer\",\n                        \"parent\": \"Water Services\",\n                        \"children\": []\n                    },\n                    {\n                        \"name\": \"Water Services-Facility-Engineering\",\n                        \"parent\": \"Water Services\",\n                        \"children\": []\n                    },\n                    {\n                        \"name\": \"Water Services-Industrial Waste Control-\",\n                        \"parent\": \"Water Services\",\n                        \"children\": []\n                    },\n                    {\n                        \"name\": \"Water Services-Laboratory Services-\",\n                        \"parent\": \"Water Services\",\n                        \"children\": []\n                    },\n                    {\n                        \"name\": \"Water Services-Leaf Brush\",\n                        \"parent\": \"Water Services\",\n                        \"children\": []\n                    },\n                    {\n                        \"name\": \"Water Services-Line Maintenance-Ice Abatement\",\n                        \"parent\": \"Water Services\",\n                        \"children\": []\n                    },\n                    {\n                        \"name\": \"Water Services-Line Maintenance-Leaf Brush\",\n                        \"parent\": \"Water Services\",\n                        \"children\": []\n                    },\n                    {\n                        \"name\": \"Water Services-Line Maintenance-Pipeline\",\n                        \"parent\": \"Water Services\",\n                        \"children\": []\n                    },\n                    {\n                        \"name\": \"Water Services-Line Maintenance-Restoration\",\n                        \"parent\": \"Water Services\",\n                        \"children\": []\n                    },\n                    {\n                        \"name\": \"Water Services-Line Maintenance-Stormwater\",\n                        \"parent\": \"Water Services\",\n                        \"children\": []\n                    },\n                    {\n                        \"name\": \"Water Services-Line Maintenance-Wastewater\",\n                        \"parent\": \"Water Services\",\n                        \"children\": []\n                    },\n                    {\n                        \"name\": \"Water Services-Meter & Field Services-Supervisors\",\n                        \"parent\": \"Water Services\",\n                        \"children\": []\n                    },\n                    {\n                        \"name\": \"Water Services-Meter and Field Services-\",\n                        \"parent\": \"Water Services\",\n                        \"children\": []\n                    },\n                    {\n                        \"name\": \"Water Services-Reading-\",\n                        \"parent\": \"Water Services\",\n                        \"children\": []\n                    },\n                    {\n                        \"name\": \"Water Services-Stormwater Investigations\",\n                        \"parent\": \"Water Services\",\n                        \"children\": []\n                    },\n                    {\n                        \"name\": \"Water Services-Wastewater Investigations\",\n                        \"parent\": \"Water Services\",\n                        \"children\": []\n                    }\n                ]\n            },\n            {\n                \"name\": \"Health\",\n                \"parent\": \"null\",\n                \"children\": [\n                    {\n                        \"name\": \"Health--\",\n                        \"parent\": \"Health\",\n                        \"children\": []\n                    },\n                    {\n                        \"name\": \"Health-Air Quality-\",\n                        \"parent\": \"Health\",\n                        \"children\": []\n                    },\n                    {\n                        \"name\": \"Health-Communicable Disease Control-\",\n                        \"parent\": \"Health\",\n                        \"children\": []\n                    },\n                    {\n                        \"name\": \"Health-Community Environmental Health-\",\n                        \"parent\": \"Health\",\n                        \"children\": []\n                    },\n                    {\n                        \"name\": \"Health-Food Protection-\",\n                        \"parent\": \"Health\",\n                        \"children\": []\n                    },\n                    {\n                        \"name\": \"Health-Healthy Homes-\",\n                        \"parent\": \"Health\",\n                        \"children\": []\n                    },\n                    {\n                        \"name\": \"Health-Healthy Homes-Bedbugs\",\n                        \"parent\": \"Health\",\n                        \"children\": []\n                    },\n                    {\n                        \"name\": \"Health-Lead Poisoning Prevention-\",\n                        \"parent\": \"Health\",\n                        \"children\": []\n                    },\n                    {\n                        \"name\": \"Health-Noise Control-\",\n                        \"parent\": \"Health\",\n                        \"children\": []\n                    },\n                    {\n                        \"name\": \"Health-Rat-\",\n                        \"parent\": \"Health\",\n                        \"children\": []\n                    },\n                    {\n                        \"name\": \"Health-Tobacco Control-\",\n                        \"parent\": \"Health\",\n                        \"children\": []\n                    }\n                ]\n            },\n            {\n                \"name\": \"City Managers Office\",\n                \"parent\": \"null\",\n                \"children\": [\n                    {\n                        \"name\": \"City Managers Office-311 Call Center-\",\n                        \"parent\": \"City Managers Office\",\n                        \"children\": []\n                    },\n                    {\n                        \"name\": \"City Managers Office-311 Call Center-Administratio\",\n                        \"parent\": \"City Managers Office\",\n                        \"children\": []\n                    },\n                    {\n                        \"name\": \"City Managers Office-311 Call Center-Support\",\n                        \"parent\": \"City Managers Office\",\n                        \"children\": []\n                    },\n                    {\n                        \"name\": \"City Managers Office-311-Field Staff\",\n                        \"parent\": \"City Managers Office\",\n                        \"children\": []\n                    },\n                    {\n                        \"name\": \"City Managers Office-Administration-\",\n                        \"parent\": \"City Managers Office\",\n                        \"children\": []\n                    },\n                    {\n                        \"name\": \"City Managers Office-CIMO-\",\n                        \"parent\": \"City Managers Office\",\n                        \"children\": []\n                    },\n                    {\n                        \"name\": \"City Managers Office-Capital Projects-\",\n                        \"parent\": \"City Managers Office\",\n                        \"children\": []\n                    },\n                    {\n                        \"name\": \"City Managers Office-Compass KC-\",\n                        \"parent\": \"City Managers Office\",\n                        \"children\": []\n                    },\n                    {\n                        \"name\": \"City Managers Office-Emergency Management-\",\n                        \"parent\": \"City Managers Office\",\n                        \"children\": []\n                    },\n                    {\n                        \"name\": \"City Managers Office-KCPD-\",\n                        \"parent\": \"City Managers Office\",\n                        \"children\": []\n                    }\n                ]\n            },\n            {\n                \"name\": \"KCPD\",\n                \"parent\": \"null\",\n                \"children\": [\n                    {\n                        \"name\": \"KCPD-Parking Control-\",\n                        \"parent\": \"KCPD\",\n                        \"children\": []\n                    }\n                ]\n            },\n            {\n                \"name\": \"City Planning and Development\",\n                \"parent\": \"null\",\n                \"children\": [\n                    {\n                        \"name\": \"City Planning and Development-Administration\",\n                        \"parent\": \"City Planning and Development\",\n                        \"children\": []\n                    },\n                    {\n                        \"name\": \"City Planning and Development-Adminstration-\",\n                        \"parent\": \"City Planning and Development\",\n                        \"children\": []\n                    },\n                    {\n                        \"name\": \"City Planning and Development-Dev Comp-Zoning\",\n                        \"parent\": \"City Planning and Development\",\n                        \"children\": []\n                    },\n                    {\n                        \"name\": \"City Planning and Development-Elevators-\",\n                        \"parent\": \"City Planning and Development\",\n                        \"children\": []\n                    },\n                    {\n                        \"name\": \"City Planning and Development-Land Develop-Inspect\",\n                        \"parent\": \"City Planning and Development\",\n                        \"children\": []\n                    },\n                    {\n                        \"name\": \"City Planning and Development-Permit Compliance-\",\n                        \"parent\": \"City Planning and Development\",\n                        \"children\": []\n                    }\n                ]\n            },\n            {\n                \"name\": \"Northland\",\n                \"parent\": \"null\",\n                \"children\": [\n                    {\n                        \"name\": \"Northland-Neighborhood-Inc\",\n                        \"parent\": \"Northland\",\n                        \"children\": []\n                    }\n                ]\n            },\n            {\n                \"name\": \"South\",\n                \"parent\": \"null\",\n                \"children\": [\n                    {\n                        \"name\": \"South-KansasCity-Alliance\",\n                        \"parent\": \"South\",\n                        \"children\": []\n                    }\n                ]\n            },\n            {\n                \"name\": \"Finance\",\n                \"parent\": \"null\",\n                \"children\": [\n                    {\n                        \"name\": \"Finance--\",\n                        \"parent\": \"Finance\",\n                        \"children\": []\n                    },\n                    {\n                        \"name\": \"Finance-PIAC-\",\n                        \"parent\": \"Finance\",\n                        \"children\": []\n                    }\n                ]\n            },\n            {\n                \"name\": \"Fire\",\n                \"parent\": \"null\",\n                \"children\": [\n                    {\n                        \"name\": \"Fire--\",\n                        \"parent\": \"Fire\",\n                        \"children\": []\n                    }\n                ]\n            },\n            {\n                \"name\": \"Northeast\",\n                \"parent\": \"null\",\n                \"children\": [\n                    {\n                        \"name\": \"Northeast-Alliance-Together\",\n                        \"parent\": \"Northeast\",\n                        \"children\": []\n                    }\n                ]\n            },\n            {\n                \"name\": \"Aviation\",\n                \"parent\": \"null\",\n                \"children\": [\n                    {\n                        \"name\": \"Aviation--\",\n                        \"parent\": \"Aviation\",\n                        \"children\": []\n                    }\n                ]\n            },\n            {\n                \"name\": \"General Service\",\n                \"parent\": \"null\",\n                \"children\": [\n                    {\n                        \"name\": \"General Service-City Property-\",\n                        \"parent\": \"General Service\",\n                        \"children\": []\n                    },\n                    {\n                        \"name\": \"General Service-Facility Management-\",\n                        \"parent\": \"General Service\",\n                        \"children\": []\n                    }\n                ]\n            },\n            {\n                \"name\": \"Municipal Court\",\n                \"parent\": \"null\",\n                \"children\": [\n                    {\n                        \"name\": \"Municipal Court-Accommodations\",\n                        \"parent\": \"Municipal Court\",\n                        \"children\": []\n                    },\n                    {\n                        \"name\": \"Municipal Court-Customer Service-\",\n                        \"parent\": \"Municipal Court\",\n                        \"children\": []\n                    }\n                ]\n            },\n            {\n                \"name\": \"Convention and Entertainment Center\",\n                \"parent\": \"null\",\n                \"children\": [\n                    {\n                        \"name\": \"Convention and Entertainment Center--\",\n                        \"parent\": \"Convention and Entertainment Center\",\n                        \"children\": []\n                    }\n                ]\n            },\n            {\n                \"name\": \"Parks & Rec\",\n                \"parent\": \"null\",\n                \"children\": [\n                    {\n                        \"name\": \"Parks & Rec-Brush Creek-Maintenance\",\n                        \"parent\": \"Parks & Rec\",\n                        \"children\": []\n                    },\n                    {\n                        \"name\": \"Parks & Rec-Landscape Services-BRWF\",\n                        \"parent\": \"Parks & Rec\",\n                        \"children\": []\n                    },\n                    {\n                        \"name\": \"Parks & Rec-Landscape Services-Forestry\",\n                        \"parent\": \"Parks & Rec\",\n                        \"children\": []\n                    },\n                    {\n                        \"name\": \"Parks & Rec-Landscape Services-LT List\",\n                        \"parent\": \"Parks & Rec\",\n                        \"children\": []\n                    },\n                    {\n                        \"name\": \"Parks & Rec-Landscape Services-ROWWeeds\",\n                        \"parent\": \"Parks & Rec\",\n                        \"children\": []\n                    },\n                    {\n                        \"name\": \"Parks & Rec-Landscape Services-Visability\",\n                        \"parent\": \"Parks & Rec\",\n                        \"children\": []\n                    },\n                    {\n                        \"name\": \"Parks & Rec-Planning and Design\",\n                        \"parent\": \"Parks & Rec\",\n                        \"children\": []\n                    }\n                ]\n            },\n            {\n                \"name\": \"Information Technology\",\n                \"parent\": \"null\",\n                \"children\": [\n                    {\n                        \"name\": \"Information Technology--\",\n                        \"parent\": \"Information Technology\",\n                        \"children\": []\n                    },\n                    {\n                        \"name\": \"Information Technology-ERP Testing-DML\",\n                        \"parent\": \"Information Technology\",\n                        \"children\": []\n                    },\n                    {\n                        \"name\": \"Information Technology-Email issue-\",\n                        \"parent\": \"Information Technology\",\n                        \"children\": []\n                    }\n                ]\n            },\n            {\n                \"name\": \"NCS\",\n                \"parent\": \"null\",\n                \"children\": [\n                    {\n                        \"name\": \"NCS-Animal Health and Safety-Jackson County\",\n                        \"parent\": \"NCS\",\n                        \"children\": []\n                    },\n                    {\n                        \"name\": \"NCS-Neighborhood Preservation-LT List\",\n                        \"parent\": \"NCS\",\n                        \"children\": []\n                    }\n                ]\n            },\n            {\n                \"name\": \"Housing Community Dev\",\n                \"parent\": \"null\",\n                \"children\": [\n                    {\n                        \"name\": \"Housing Community Dev-Property Preservation\",\n                        \"parent\": \"Housing Community Dev\",\n                        \"children\": []\n                    }\n                ]\n            },\n            {\n                \"name\": \"Parks & Recreation\",\n                \"parent\": \"null\",\n                \"children\": [\n                    {\n                        \"name\": \"Parks & Recreation-Landscape Services-BRWF\",\n                        \"parent\": \"Parks & Recreation\",\n                        \"children\": []\n                    }\n                ]\n            },\n            {\n                \"name\": \"IT\",\n                \"parent\": \"null\",\n                \"children\": [\n                    {\n                        \"name\": \"IT-testing emails-\",\n                        \"parent\": \"IT\",\n                        \"children\": []\n                    }\n                ]\n            },\n            {\n                \"name\": \"Mayors Office\",\n                \"parent\": \"null\",\n                \"children\": [\n                    {\n                        \"name\": \"Mayors Office--\",\n                        \"parent\": \"Mayors Office\",\n                        \"children\": []\n                    }\n                ]\n            },\n            {\n                \"name\": \"Human Resources\",\n                \"parent\": \"null\",\n                \"children\": [\n                    {\n                        \"name\": \"Human Resources--\",\n                        \"parent\": \"Human Resources\",\n                        \"children\": []\n                    }\n                ]\n            }\n        ]\n    }\n]\n"
     ]
    }
   ],
   "source": [
    "'''\n",
    "Department -> Work Group\n",
    "'''\n",
    "hierarchy_obj = [{\n",
    "    \"name\": 'Solution Domain',\n",
    "    \"parent\": 'null',\n",
    "    'children': []\n",
    "    }\n",
    "]\n",
    "for k,v in department_dict.items():\n",
    "    # print(k,v)\n",
    "    dpt_obj = {\n",
    "    \"name\": k,\n",
    "    \"parent\": \"null\",\n",
    "    \"children\": []\n",
    "    }\n",
    "    '''\n",
    "    Category -> Type \n",
    "    '''\n",
    "    for cat in v:\n",
    "        cat_obj = {\n",
    "            \"name\": cat,\n",
    "            \"parent\": k,\n",
    "            'children': []\n",
    "          }\n",
    "        dpt_obj['children'].append(cat_obj)\n",
    "\n",
    "\n",
    "    hierarchy_obj[0]['children'].append(dpt_obj)\n",
    "    # break\n",
    "\n",
    "with open('departments_workgroup_hierarchy.json', 'w') as f:\n",
    "    json_obj = json.dumps(hierarchy_obj, indent = 4)\n",
    "    f.write(json_obj)\n",
    "print(json_obj)"
   ]
  },
  {
   "cell_type": "code",
   "execution_count": 16,
   "metadata": {
    "tags": [
     "outputPrepend"
    ]
   },
   "outputs": [
    {
     "output_type": "stream",
     "name": "stdout",
     "text": [
      "ecycling - Leaf/Brush - Thursday - North', 'Trash / Recycling', 'Leaf / Brush', 'Missed Pick Up')\n('Trash/Recycling - Leaf/Brush - Thursday - North', 'Trash / Recycling', 'Leaf / Brush', 'Thursday - North')\n('Trash/Recycling - Leaf/Brush - Thursday - South', 'Trash / Recycling', 'Leaf / Brush', 'Thursday - South')\n('Trash/Recycling - Leaf/Brush - Tuesday - Central', 'Trash / Recycling', 'Leaf / Brush', 'Tuesday - Central')\n('Trash/Recycling - Leaf/Brush - Tuesday - North', 'Trash / Recycling', 'Leaf / Brush', 'Monday - Central')\n('Trash/Recycling - Leaf/Brush - Tuesday - North', 'Trash / Recycling', 'Leaf / Brush', 'Tuesday - North')\n('Trash/Recycling - Leaf/Brush - Tuesday - South', 'Trash / Recycling', 'Leaf / Brush', 'Tuesday - South')\n('Trash/Recycling - Leaf/Brush - Wednesday - Central', 'Trash / Recycling', 'Leaf / Brush', 'Wednesday - Central')\n('Trash/Recycling - Leaf/Brush - Wednesday - North', 'Trash / Recycling', 'Leaf / Brush', 'Wednesday - North')\n('Trash/Recycling - Leaf/Brush - Wednesday - South', 'Trash / Recycling', 'Leaf / Brush', 'Wednesday - South')\n('Trash/Recycling - Trash Collection - Storm Trash', 'Trash / Recycling', 'Trash Collection', 'Storm Trash')\n('Tree Damage to City Tree from Storm Event', 'Trees', 'Storm Damage', '*Select one')\n('Tree Damage to City Tree from Storm Event', 'Trees', 'Storm Damage', 'Central Region')\n('Tree Damage to City Tree from Storm Event', 'Trees', 'Storm Damage', 'North Region')\n('Tree Damage to City Tree from Storm Event', 'Trees', 'Storm Damage', 'South Region')\n('Tree Disease, Insects or Vandalism', 'Trees', 'Disease', '*Select one')\n('Tree Disease, Insects or Vandalism', 'Trees', 'Disease', 'Central Region')\n('Tree Disease, Insects or Vandalism', 'Trees', 'Disease', 'South Region')\n('Tree Inspection on Private Property', 'Trees', 'Inspection for NPD', 'Private Property Violation')\n('Tree Limb and Brush Removal from City Tree - Central Region', 'Trees', 'Brush', 'Central Region')\n('Tree Limb and Brush Removal from City Tree - North Region', 'Trees', 'Brush', 'North Region')\n('Tree Limb and Brush Removal from City Tree - South Region', 'Trees', 'Brush', 'South Region')\n('Tree Limb or Brush Removal for City Tree', 'Trees', 'Brush', '*Select one')\n('Tree Limb or Brush Removal for City Tree', 'Trees', 'Brush', 'Central Region')\n('Tree Limb or Brush Removal for City Tree', 'Trees', 'Brush', 'North Region')\n('Tree Limb or Brush Removal for City Tree', 'Trees', 'Brush', 'South Region')\n('Tree Live Removal', 'Trees', 'Removal', 'All')\n('Tree Maintenance Seasonal', 'Trees', 'Trimming', '*Select One')\n('Tree Planting Central Region', 'Trees', 'Planting', 'Central Region')\n('Tree Planting North Region', 'Trees', 'Planting', 'North Region')\n('Tree Planting South Region', 'Trees', 'Planting', 'South Region')\n('Tree Planting for New Tree', 'Trees', 'Planting', '*Select one')\n('Tree Planting for New Tree', 'Trees', 'Planting', 'Central Region')\n('Tree Planting for New Tree', 'Trees', 'Planting', 'North Region')\n('Tree Planting for New Tree', 'Trees', 'Planting', 'South Region')\n('Tree Pruning for Block', 'Data Not Available', 'Data Not Available', 'Data Not Available')\n('Tree Pruning for Block', 'Trees', 'Trimming', '*Select One')\n('Tree Pruning for Block', 'Trees', 'Trimming', 'South Region')\n('Tree Removal Central Region', 'Data Not Available', 'Data Not Available', 'Data Not Available')\n('Tree Removal Central Region', 'Trees', 'Removal', 'All')\n('Tree Removal Central Region', 'Trees', 'Removal', 'Central Region')\n('Tree Removal Central Region', 'Trees', 'Removal', 'North Region')\n('Tree Removal North Region', 'Trees', 'Removal', 'North Region')\n('Tree Removal South Region', 'Trees', 'Removal', 'Central Region')\n('Tree Removal South Region', 'Trees', 'Removal', 'South Region')\n('Tree Removal of a City Tree', 'Data Not Available', 'Data Not Available', 'Data Not Available')\n('Tree Removal of a City Tree', 'Trees', 'Removal', '*Select one')\n('Tree Removal of a City Tree', 'Trees', 'Removal', 'Central Region')\n('Tree Removal of a City Tree', 'Trees', 'Removal', 'North Region')\n('Tree Removal of a City Tree', 'Trees', 'Removal', 'South Region')\n('Tree Staff Compliment', 'Trees', 'Customer Service', 'Compliment')\n('Tree Staff Customer Service Complaint', 'Trees', 'Customer Service', 'Complaint')\n('Tree Storm Damage Central Region', 'Trees', 'Storm Damage', 'Central Region')\n('Tree Storm Damage Central Region', 'Trees', 'Storm Damage', 'North Region')\n('Tree Storm Damage North Region', 'Trees', 'Storm Damage', 'North Region')\n('Tree Storm Damage South Region', 'Trees', 'Storm Damage', 'Central Region')\n('Tree Storm Damage South Region', 'Trees', 'Storm Damage', 'South Region')\n('Tree Stump Removal Central Region', 'Trees', 'Stump Removal', 'Central Region')\n('Tree Stump Removal Central Region', 'Trees', 'Stump Removal', 'South Region')\n('Tree Stump Removal North Region', 'Trees', 'Stump Removal', 'North Region')\n('Tree Stump Removal South Region', 'Trees', 'Stump Removal', 'South Region')\n('Tree Stump Removal for City Tree', 'Trees', 'Stump Removal', '*Select one')\n('Tree Stump Removal for City Tree', 'Trees', 'Stump Removal', 'Central Region')\n('Tree Stump Removal for City Tree', 'Trees', 'Stump Removal', 'North Region')\n('Tree Stump Removal for City Tree', 'Trees', 'Stump Removal', 'South Region')\n('Tree Trimming Central Region', 'Trees', 'Trimming', 'Central Region')\n('Tree Trimming North Region', 'Trees', 'Removal', '*Select one')\n('Tree Trimming North Region', 'Trees', 'Trimming', 'North Region')\n('Tree Trimming South Region', 'Trees', 'Trimming', 'South Region')\n('Tree Trimming at Intersection', 'Data Not Available', 'Data Not Available', 'Data Not Available')\n('Tree Trimming at Intersection', 'Trees', 'Intersection', 'All')\n('Tree Trimming for City Tree', 'Data Not Available', 'Data Not Available', 'Data Not Available')\n('Tree Trimming for City Tree', 'Trees', 'Removal', '*Select one')\n('Tree Trimming for City Tree', 'Trees', 'Trimming', '*Select One')\n('Tree Trimming for City Tree', 'Trees', 'Trimming', 'Central Region')\n('Tree Trimming for City Tree', 'Trees', 'Trimming', 'North Region')\n('Tree Trimming for City Tree', 'Trees', 'Trimming', 'South Region')\n('Tree Trimming from Electric Wire or Street Light', 'Trees', 'Trimming', '*Select One')\n('Tree Trimming from Electric Wire or Street Light', 'Trees', 'Trimming', 'Central Region')\n('Tree Trimming from Electric Wire or Street Light', 'Trees', 'Trimming', 'South Region')\n('Tree Trimming from Street Light', 'Trees', 'Trimming', '*Select One')\n('Tree Trimming from Street Light', 'Trees', 'Trimming', 'Central Region')\n('Tree Trimming from Street Light', 'Trees', 'Trimming', 'South Region')\n('Tree Trimming on Land Trust Lots', 'Trees', 'Customer Service', 'All')\n('Tree or Limb Down Due to Snow', 'Trees', 'DOWN OR DAMAGED', 'SNOW')\n('Trees - Permit - Ash Treatment', 'Trees', 'Permit', 'Ash Treatment')\n('Trees-Care-Disease', 'Trees', 'Care', 'Disease')\n('Trees-Care-Insects', 'Trees', 'Care', 'Insects')\n('Trees-Care-Sick', 'Trees', 'Care', 'Sick')\n('Trees-Care-Vandalism', 'Trees', 'Care', 'Vandalism')\n('Trees-Emerald Ash-Question / Feedback', 'Trees', 'Emerald Ash', 'Question / Feedback')\n('Trees-Emerald Ash-Removal', 'Trees', 'Emerald Ash', 'Removal')\n('Trees-Emerald Ash-Treatment', 'Trees', 'Emerald Ash', 'Treatment')\n('Trees-Land Bank-Dead', 'Trees', 'Land Bank', 'Dead')\n('Trees-Land Bank-Hazardous', 'Trees', 'Land Bank', 'Hazardous')\n('Trees-Land Bank-Tree Debris', 'Trees', 'Land Bank', 'Tree Debris')\n('Trees-Permit-Plant', 'Trees', 'Permit', 'Plant')\n('Trees-Permit-Remove', 'Trees', 'Permit', 'Remove')\n('Trees-Permit-Trim', 'Trees', 'Permit', 'Trim')\n('Trees-Private Property-Hazardous', 'Trees', 'Private Property', 'Hazardous')\n('Trees-Removal-Brush pickup', 'Trees', 'Removal', 'Brush Pickup')\n('Trees-Removal-Dangerous', 'Trees', 'Removal', 'Declining')\n('Trees-Removal-Declining', 'Trees', 'Removal', 'Declining')\n('Trees-Removal-Dumping', 'Trees', 'Removal', 'Dumping')\n('Trees-Removal-Stump', 'Trees', 'Removal', 'Stump')\n('Trees-Removal-Tree Limbs', 'Trees', 'Removal', 'Tree Limbs')\n('Trees-Removal-Tree dead', 'Trees', 'Removal', 'Tree Dead')\n('Trees-Removal-Tree down', 'Data Not Available', 'Data Not Available', 'Data Not Available')\n('Trees-Removal-Tree down', 'Trees', 'Removal', 'Tree Down')\n('Trees-Services-EAB', 'Trees', 'Services', 'EAB')\n('Trees-Services-Feedback', 'Trees', 'Services', 'Feedback')\n('Trees-Services-Plant City Tree Request', 'Trees', 'Services', 'Plant City Tree Request')\n('Trees-Services-Question', 'Trees', 'Services', 'Question')\n('Trees-Services-Review', 'Trees', 'Services', 'Review')\n('Trees-Services-Service Issue / Problem', 'Trees', 'Services', 'Service Issue / Problem')\n('Trees-Storm Damage-Tree Down', 'Trees', 'Storm Damage', 'Tree Down')\n('Trees-Storm Damage-Tree Limb / Brush', 'Trees', 'Storm Damage', 'Tree Limb / Brush')\n('Trees-Storm Damage-Trim', 'Trees', 'Storm Damage', 'Trim')\n('Trees-Trimming-Block Pruning', 'Trees', 'Trimming', 'Block Pruning')\n('Trees-Trimming-Seasonal', 'Trees', 'Trimming', 'Seasonal')\n('Trees-Trimming-Streetlight', 'Data Not Available', 'Data Not Available', 'Data Not Available')\n('Trees-Trimming-Streetlight', 'Trees', 'Trimming', 'Streetlight')\n('Trees-Trimming-Tree Limbs', 'Data Not Available', 'Data Not Available', 'Data Not Available')\n('Trees-Trimming-Tree Limbs', 'Trees', 'Trimming', 'Tree Limbs')\n('Trees-Trimming-Visibility', 'Trees', 'Trimming', 'Visibility')\n('Turn Off Water Service For A Repair', 'Consumer Services', 'Water Billing', 'Turn Off for Repairs')\n('Turn On Water Services - Internal Repairs Completed', 'Consumer Services', 'Water Billing', 'Turn On Repairs Made')\n('Turn On Water Services For Paid Bill', 'Consumer Services', 'Water Billing', 'Turn On for Paid Bill')\n('Vacant Structure Open to Entry', 'Property Violations', 'Board Up', 'All')\n('Valve Repair Referral', 'Water Leak', 'Repair', 'Valve Leak')\n('Valve Repair Referral', 'Water Leak', 'Valve Repair', '*SELECT ONE')\n('Valve Repair Referral', 'Water Leak', 'Valve Repair', 'Central Region')\n('Valve Repair Referral', 'Water Leak', 'Valve Repair', 'North Region')\n('Valve Repair Referral', 'Water Leak', 'Valve Repair', 'South Region')\n('Vehicle Illegally Parked', 'Downtown Parking', 'Illegally Parked Vehicle', 'Vehicle')\n(\"Vehicle Towed From Lot Without Owner's Permission by Tow Company\", 'Neighborhood & Community Services', 'Regulated Industries', 'Tow Company')\n('Vehicle-Scooter-Feedback/Concern', 'Vehicles / Parking', 'Scooter', 'Feedback/Concern')\n('Vehicles / Parking-Abandoned On Street-Boat', 'Vehicles / Parking', 'Abandoned On Street', 'Boat')\n('Vehicles / Parking-Abandoned On Street-Car', 'Data Not Available', 'Data Not Available', 'Data Not Available')\n('Vehicles / Parking-Abandoned On Street-Car', 'Vehicles / Parking', 'Abandoned On Street', 'Car')\n('Vehicles / Parking-Abandoned On Street-Other', 'Vehicles / Parking', 'Abandoned On Street', 'Other')\n('Vehicles / Parking-Abandoned On Street-Trailer', 'Vehicles / Parking', 'Abandoned On Street', 'Trailer')\n('Vehicles / Parking-Commercial Parking-Number of Handicap Spaces', 'Vehicles / Parking', 'Commercial Parking', 'Number of Handicap Spaces')\n('Vehicles / Parking-Commercial Parking-Parking Surface - Pay Lot', 'Vehicles / Parking', 'Commercial Parking', 'Parking Surface - Pay Lot')\n('Vehicles / Parking-Commercial Vehicle-On private property', 'Vehicles / Parking', 'Commercial Vehicle', 'On Private Property')\n('Vehicles / Parking-Illegally Parked-Street/Sidewalk', 'Data Not Available', 'Data Not Available', 'Data Not Available')\n('Vehicles / Parking-Illegally Parked-Street/Sidewalk', 'Vehicles / Parking', 'Illegally Parked', 'Street/Sidewalk')\n('Vehicles / Parking-Meter-Repair', 'Vehicles / Parking', 'Meter', 'Repair')\n('Vehicles / Parking-Tow Services-Feedback', 'Vehicles / Parking', 'Tow Services', 'Feedback')\n('Vehicles / Parking-Tow Services-Service Issue / Problem', 'Vehicles / Parking', 'Tow Services', 'Service Issue / Problem')\n('Violations and Encroachments on the Right of Way', 'Data Not Available', 'Data Not Available', 'Data Not Available')\n('Violations and Encroachments on the Right of Way', 'Permit', 'Traffic Permit', 'All')\n('Violations and Encroachments on the Right of Way', 'Right of Way', 'Encroachment', '*Select one')\n('Violations and Encroachments on the Right of Way', 'Right of Way', 'Encroachment', 'Basketball Goal')\n('Violations and Encroachments on the Right of Way', 'Right of Way', 'Encroachment', 'Other')\n('Violations and Encroachments on the Right of Way', 'Right of Way', 'Encroachment', 'Sign')\n('Visibility Problems at an Intersection', 'Weeds', 'Visibility', 'All')\n('Volunteer Inspection Program', 'Data Not Available', 'Data Not Available', 'Data Not Available')\n('Volunteer Inspection Program', 'Property Violations', 'Volunteer Inspector Program', 'All')\n('Wastewater Code 1 - Referral', 'Sewer', 'All', 'All')\n('Wastewater Code 1 - Referral', 'Sewer', 'Repair', 'Code 1')\n('Wastewater Code 1 - Referral', 'Water Services', 'Restoration', 'Turf')\n('Wastewater Code 2 - Referral', 'Sewer', 'All', 'All')\n('Wastewater Code 3 - Referral', 'Sewer', 'All', 'All')\n('Wastewater Treatment', 'Wastewater', 'Treatment', 'All')\n('Water - MFS Referral - Investigation', 'Water', 'MFS Referral (Meter Field Services)', 'Investigation')\n('Water - Services - Pipeline Restoration', 'Water', 'Services', 'Pipeline Restoration')\n('Water Bill Admin Tasks', 'Consumer Services', 'Research', 'Admin Tasks')\n('Water Bill Concerns', 'Consumer Services', 'Research', 'General')\n('Water Bill Concerns', 'Water Services', 'Administration', 'All')\n('Water Facilities and Engineering', 'Water Quality', 'Engineering', 'All')\n('Water Facilities and Stormwater Engineering', 'Water Quality', 'Engineering', 'All')\n('Water Industrial Waste Control', 'Wastewater', 'Industrial', 'All')\n('Water Industrial Waste Control', 'Water Quality', 'Industrial', 'All')\n('Water Leak or Pressure Problem', 'Data Not Available', 'Data Not Available', 'Data Not Available')\n('Water Leak or Pressure Problem', 'Water Leak', 'All', 'All')\n('Water Leak or Pressure Problem', 'Water Leak', 'Investigations', 'All')\n('Water Leak or Pressure Problem', 'Water Leak', 'Investigations', 'Meter Leak')\n('Water Leak or Pressure Problem', 'Water Leak', 'Investigations', 'Street Leak')\n('Water Leak or Pressure Problem', 'Water Leak', 'Repair', 'Hydrant Leak')\n('Water Leak or Pressure Problem', 'Water Leak', 'Water Main Repair', 'North Region')\n('Water Main Break', 'Water Main Break', 'All', 'All')\n('Water Main Projects', 'Water Quality', 'Engineering', 'Sewer Projects')\n('Water Main Projects', 'Water Quality', 'Engineering', 'Stormwater Projects')\n('Water Main Projects', 'Water Quality', 'Engineering', 'Water Main Projects')\n('Water Main Repair Referral', 'Water Leak', 'Repair', 'Main Leak')\n('Water Main Repair Referral', 'Water Leak', 'Water Main Repair', '*SELECT ONE')\n('Water Main Repair Referral', 'Water Leak', 'Water Main Repair', 'Central Region')\n('Water Main Repair Referral', 'Water Leak', 'Water Main Repair', 'North Region')\n('Water Main Repair Referral', 'Water Leak', 'Water Main Repair', 'South Region')\n('Water Payment or Refund', 'Consumer Services', 'Water Billing', 'Payment Issues')\n('Water Pipeline Barricade', 'Water Leak', 'Repair', 'Barricades')\n('Water Quality - Laboratory Services', 'Water Quality', 'Laboratory Service', 'All')\n('Water Repair and Restoration', 'Water Leak', 'All', 'All')\n('Water Restoration Contract', 'Water Main Break', 'Restoration', 'All')\n('Water Restoration Contract', 'Water Services', 'Restoration', 'Referral')\n('Water Services Administration', 'Water Services', 'Administration', 'All')\n('Water Services Pavement Restoration', 'Water Services', 'Restoration', 'Pavement')\n('Water Services Same Day Service', 'Consumer Services', 'Walk In Center City Hall', 'All')\n('Water Services Turf Restoration', 'Water Services', 'Restoration', 'Turf')\n('Water Theft and Fraud', 'Water Services', 'Revenue Protection', 'All')\n('Water-Account-Account Services', 'Water', 'Account', 'Account Services')\n('Water-Account-Theft', 'Water', 'Account', 'Theft')\n('Water-Leak-At Curb / In Yard', 'Water', 'Leak', 'At Curb / In Yard')\n('Water-Leak-Emergency Off / Flooding', 'Water', 'Leak', 'Emergency Off / Flooding')\n('Water-Leak-Hydrant', 'Water', 'Leak', 'Hydrant')\n('Water-Leak-Ice Due to Leak', 'Data Not Available', 'Data Not Available', 'Data Not Available')\n('Water-Leak-Ice Due to Leak', 'Water', 'Leak', 'Ice Due to Leak')\n('Water-Leak-In Street', 'Water', 'Leak', 'In Street')\n('Water-Leak-Meter', 'Data Not Available', 'Data Not Available', 'Data Not Available')\n('Water-Leak-Meter', 'Water', 'Leak', 'Meter')\n('Water-No Water / Pressure-High Pressure', 'Water', 'No Water / Pressure', 'High Pressure')\n('Water-No Water / Pressure-Low Pressure', 'Water', 'No Water / Pressure', 'Low Pressure')\n('Water-No Water / Pressure-No Water', 'Data Not Available', 'Data Not Available', 'Data Not Available')\n('Water-No Water / Pressure-No Water', 'Water', 'No Water / Pressure', 'No Water')\n('Water-Pipeline Referral-Curb-box / Service Line', 'Water', 'Pipeline Referral', 'Curb-box / Service Line')\n('Water-Pipeline Referral-Hydrant', 'Water', 'Pipeline Referral', 'Hydrant')\n('Water-Pipeline Referral-Materials left at site', 'Data Not Available', 'Data Not Available', 'Data Not Available')\n('Water-Pipeline Referral-Materials left at site', 'Water', 'Pipeline Referral', 'Materials Left At Site')\n('Water-Pipeline Referral-Pipeline/Restoration Issues', 'Data Not Available', 'Data Not Available', 'Data Not Available')\n('Water-Pipeline Referral-Pipeline/Restoration Issues', 'Water', 'Pipeline Referral', 'Restoration Issue')\n('Water-Pipeline Referral-Restoration', 'Water', 'Pipeline Referral', 'Restoration')\n('Water-Pipeline Referral-Restoration Issue', 'Water', 'Pipeline Referral', 'Restoration Issue')\n('Water-Pipeline Referral-Valve', 'Water', 'Pipeline Referral', 'Valve')\n('Water-Pipeline Referral-Water Main', 'Data Not Available', 'Data Not Available', 'Data Not Available')\n('Water-Pipeline Referral-Water Main', 'Water', 'Pipeline Referral', 'Water Main')\n('Water-Quality-Color / Cloudy', 'Water', 'Quality', 'Color / Cloudy')\n('Water-Quality-Smell / Odor', 'Water', 'Quality', 'Smell / Odor')\n('Water-Quality-Taste', 'Water', 'Quality', 'Taste')\n('Water-Services-Call Back Request', 'Water', 'Services', 'Call Back Request')\n('Water-Services-Feedback', 'Water', 'Services', 'Feedback')\n('Water-Services-Question', 'Water', 'Services', 'Question')\n('Water-Services-Service Issue / Problem', 'Water', 'Services', 'Service Issue / Problem')\n('Weatherization Program', 'Property Preservation', 'Weatherization Program', 'All')\n('Web SR - Health Code Violation', 'Public Health', 'Noise', 'Music')\n('Web SR - Property Maintenance - Neighborhoods', 'Data Not Available', 'Data Not Available', 'Data Not Available')\n('Web SR - Street Maintenance / Snow', 'Street Sign', 'Damage', 'Sign')\n('Web SR - Streetlights', 'Data Not Available', 'Data Not Available', 'Data Not Available')\n('Web SR - Trash, Recycle, Bulky', 'Trash / Recycling', 'Leaf / Brush', 'Monday - Central')\n('Web SR - Trash, Recycle, Bulky', 'Trash / Recycling', 'Trash Collection', 'Missed City Trash and Recycling')\n('Web SR - Trash, Recycle, Bulky', 'Trash / Recycling', 'Trash Collection', 'Missed North Trash - Recycling')\n('Web SR - Trash, Recycle, Bulky', 'Trash / Recycling', 'Trash Collection', 'Missed South Trash - Recycling')\n('Web SR - Trees (City Trees Only)', 'Data Not Available', 'Data Not Available', 'Data Not Available')\n('Wildlife', 'Animal', 'Wildlife', 'All')\n('Zoning Inspections and Violations', 'Data Not Available', 'Data Not Available', 'Data Not Available')\n('Zoning Inspections and Violations', 'Property / Buildings / Construction', 'Parking Lot', 'Improper Surface')\n('Zoning Inspections and Violations', 'Zoning', 'Investigation', 'All')\n"
     ]
    }
   ],
   "source": [
    "requestType_dict = {x:{} for x in df_problem['REQUEST TYPE'].unique().tolist()}\n",
    "for i, g in df_problem.groupby(['REQUEST TYPE','CATEGORY', 'TYPE', 'DETAIL']):\n",
    "    print(i)\n",
    "    if i[1] not in requestType_dict[i[0]]:\n",
    "        requestType_dict[i[0]][i[1]] = {i[2]: [i[3]]}\n",
    "    else: \n",
    "        if i[2] not in requestType_dict[i[0]][i[1]]:\n",
    "            requestType_dict[i[0]][i[1]][i[2]] = [i[3]]\n",
    "        else:\n",
    "            requestType_dict[i[0]][i[1]][i[2]].append(i[3])\n",
    "    # break\n"
   ]
  },
  {
   "cell_type": "code",
   "execution_count": 7,
   "metadata": {},
   "outputs": [
    {
     "output_type": "error",
     "ename": "NameError",
     "evalue": "name 'category_dict' is not defined",
     "traceback": [
      "\u001b[1;31m---------------------------------------------------------------------------\u001b[0m",
      "\u001b[1;31mNameError\u001b[0m                                 Traceback (most recent call last)",
      "\u001b[1;32m<ipython-input-7-4661434d8413>\u001b[0m in \u001b[0;36m<module>\u001b[1;34m\u001b[0m\n\u001b[1;32m----> 1\u001b[1;33m \u001b[0mcategory_dict\u001b[0m\u001b[1;33m[\u001b[0m\u001b[1;34m'Trash / Recycling'\u001b[0m\u001b[1;33m]\u001b[0m\u001b[1;33m\u001b[0m\u001b[1;33m\u001b[0m\u001b[0m\n\u001b[0m",
      "\u001b[1;31mNameError\u001b[0m: name 'category_dict' is not defined"
     ]
    }
   ],
   "source": [
    "category_dict['Trash / Recycling']"
   ]
  },
  {
   "cell_type": "code",
   "execution_count": null,
   "metadata": {
    "tags": []
   },
   "outputs": [],
   "source": [
    "print(requestType_dict)\n",
    "# print(category_dict)\n",
    "# print(type_dict)"
   ]
  },
  {
   "cell_type": "code",
   "execution_count": 17,
   "metadata": {},
   "outputs": [
    {
     "output_type": "execute_result",
     "data": {
      "text/plain": [
       "1229"
      ]
     },
     "metadata": {},
     "execution_count": 17
    }
   ],
   "source": [
    "len(requestType_dict)"
   ]
  },
  {
   "cell_type": "code",
   "execution_count": 25,
   "metadata": {
    "tags": [
     "outputPrepend"
    ]
   },
   "outputs": [
    {
     "output_type": "stream",
     "name": "stdout",
     "text": [
      "                        {\n                                \"name\": \"Dumping\",\n                                \"parent\": \"Trash / Recycling\",\n                                \"children\": [\n                                    {\n                                        \"name\": \"Solid Waste Referral\",\n                                        \"parent\": \"Dumping\"\n                                    }\n                                ]\n                            }\n                        ]\n                    }\n                ]\n            },\n            {\n                \"name\": \"Trash / Recycling-Dumping-ROW North\",\n                \"parent\": \"null\",\n                \"children\": [\n                    {\n                        \"name\": \"Trash / Recycling\",\n                        \"parent\": \"Trash / Recycling-Dumping-ROW North\",\n                        \"children\": [\n                            {\n                                \"name\": \"Dumping\",\n                                \"parent\": \"Trash / Recycling\",\n                                \"children\": [\n                                    {\n                                        \"name\": \"Right of Way North\",\n                                        \"parent\": \"Dumping\"\n                                    }\n                                ]\n                            }\n                        ]\n                    }\n                ]\n            },\n            {\n                \"name\": \"Trash / Recycling-Bulky Pick Up -Missed Pick Up\",\n                \"parent\": \"null\",\n                \"children\": [\n                    {\n                        \"name\": \"Trash / Recycling\",\n                        \"parent\": \"Trash / Recycling-Bulky Pick Up -Missed Pick Up\",\n                        \"children\": [\n                            {\n                                \"name\": \"Bulky Pick Up\",\n                                \"parent\": \"Trash / Recycling\",\n                                \"children\": [\n                                    {\n                                        \"name\": \"Missed Pick Up\",\n                                        \"parent\": \"Bulky Pick Up\"\n                                    }\n                                ]\n                            }\n                        ]\n                    }\n                ]\n            },\n            {\n                \"name\": \"Trash / Recycling-Dumping-ROW Land Bank Central\",\n                \"parent\": \"null\",\n                \"children\": [\n                    {\n                        \"name\": \"Trash / Recycling\",\n                        \"parent\": \"Trash / Recycling-Dumping-ROW Land Bank Central\",\n                        \"children\": [\n                            {\n                                \"name\": \"Dumping\",\n                                \"parent\": \"Trash / Recycling\",\n                                \"children\": [\n                                    {\n                                        \"name\": \"Right of Way LB Central\",\n                                        \"parent\": \"Dumping\"\n                                    }\n                                ]\n                            }\n                        ]\n                    }\n                ]\n            },\n            {\n                \"name\": \"Trash / Recycling-Dumping-ROW Land Bank North\",\n                \"parent\": \"null\",\n                \"children\": [\n                    {\n                        \"name\": \"Trash / Recycling\",\n                        \"parent\": \"Trash / Recycling-Dumping-ROW Land Bank North\",\n                        \"children\": [\n                            {\n                                \"name\": \"Dumping\",\n                                \"parent\": \"Trash / Recycling\",\n                                \"children\": [\n                                    {\n                                        \"name\": \"Right of Way LB North\",\n                                        \"parent\": \"Dumping\"\n                                    }\n                                ]\n                            }\n                        ]\n                    }\n                ]\n            },\n            {\n                \"name\": \"Trash / Recycling-Dumping-Private Property\",\n                \"parent\": \"null\",\n                \"children\": [\n                    {\n                        \"name\": \"Trash / Recycling\",\n                        \"parent\": \"Trash / Recycling-Dumping-Private Property\",\n                        \"children\": [\n                            {\n                                \"name\": \"Dumping\",\n                                \"parent\": \"Trash / Recycling\",\n                                \"children\": [\n                                    {\n                                        \"name\": \"Private Property\",\n                                        \"parent\": \"Dumping\"\n                                    }\n                                ]\n                            }\n                        ]\n                    }\n                ]\n            },\n            {\n                \"name\": \"Trash / Recycling - Dumping - Alley - D2\",\n                \"parent\": \"null\",\n                \"children\": [\n                    {\n                        \"name\": \"Trash / Recycling\",\n                        \"parent\": \"Trash / Recycling - Dumping - Alley - D2\",\n                        \"children\": [\n                            {\n                                \"name\": \"Dumping\",\n                                \"parent\": \"Trash / Recycling\",\n                                \"children\": [\n                                    {\n                                        \"name\": \"Alley - Public Works - District 2\",\n                                        \"parent\": \"Dumping\"\n                                    }\n                                ]\n                            }\n                        ]\n                    }\n                ]\n            },\n            {\n                \"name\": \"Trash / Recycling-Bulky Pick Up -Address Validation\",\n                \"parent\": \"null\",\n                \"children\": [\n                    {\n                        \"name\": \"Trash / Recycling\",\n                        \"parent\": \"Trash / Recycling-Bulky Pick Up -Address Validation\",\n                        \"children\": [\n                            {\n                                \"name\": \"Bulky Pick Up\",\n                                \"parent\": \"Trash / Recycling\",\n                                \"children\": [\n                                    {\n                                        \"name\": \"Address Validation\",\n                                        \"parent\": \"Bulky Pick Up\"\n                                    }\n                                ]\n                            }\n                        ]\n                    }\n                ]\n            },\n            {\n                \"name\": \"Trash / Recycling-Dumping-Camera Request\",\n                \"parent\": \"null\",\n                \"children\": [\n                    {\n                        \"name\": \"Trash / Recycling\",\n                        \"parent\": \"Trash / Recycling-Dumping-Camera Request\",\n                        \"children\": [\n                            {\n                                \"name\": \"Dumping\",\n                                \"parent\": \"Trash / Recycling\",\n                                \"children\": [\n                                    {\n                                        \"name\": \"Camera Request\",\n                                        \"parent\": \"Dumping\"\n                                    }\n                                ]\n                            }\n                        ]\n                    }\n                ]\n            },\n            {\n                \"name\": \"Trash / Recycling-Dumping-Park - Central\",\n                \"parent\": \"null\",\n                \"children\": [\n                    {\n                        \"name\": \"Trash / Recycling\",\n                        \"parent\": \"Trash / Recycling-Dumping-Park - Central\",\n                        \"children\": [\n                            {\n                                \"name\": \"Dumping\",\n                                \"parent\": \"Trash / Recycling\",\n                                \"children\": [\n                                    {\n                                        \"name\": \"Park - Central\",\n                                        \"parent\": \"Dumping\"\n                                    }\n                                ]\n                            }\n                        ]\n                    }\n                ]\n            },\n            {\n                \"name\": \"Trash / Recycling-Early Set Out-Central\",\n                \"parent\": \"null\",\n                \"children\": [\n                    {\n                        \"name\": \"Trash / Recycling\",\n                        \"parent\": \"Trash / Recycling-Early Set Out-Central\",\n                        \"children\": [\n                            {\n                                \"name\": \"Early Set Out\",\n                                \"parent\": \"Trash / Recycling\",\n                                \"children\": [\n                                    {\n                                        \"name\": \"Central\",\n                                        \"parent\": \"Early Set Out\"\n                                    }\n                                ]\n                            }\n                        ]\n                    }\n                ]\n            },\n            {\n                \"name\": \"Trash / Recycling-Dumping-Park - North\",\n                \"parent\": \"null\",\n                \"children\": [\n                    {\n                        \"name\": \"Trash / Recycling\",\n                        \"parent\": \"Trash / Recycling-Dumping-Park - North\",\n                        \"children\": [\n                            {\n                                \"name\": \"Dumping\",\n                                \"parent\": \"Trash / Recycling\",\n                                \"children\": [\n                                    {\n                                        \"name\": \"Park - North\",\n                                        \"parent\": \"Dumping\"\n                                    }\n                                ]\n                            }\n                        ]\n                    }\n                ]\n            },\n            {\n                \"name\": \"Trash / Recycling - Dumping - Alley - D3\",\n                \"parent\": \"null\",\n                \"children\": [\n                    {\n                        \"name\": \"Trash / Recycling\",\n                        \"parent\": \"Trash / Recycling - Dumping - Alley - D3\",\n                        \"children\": [\n                            {\n                                \"name\": \"Dumping\",\n                                \"parent\": \"Trash / Recycling\",\n                                \"children\": [\n                                    {\n                                        \"name\": \"Alley - Public Works - District 3\",\n                                        \"parent\": \"Dumping\"\n                                    }\n                                ]\n                            }\n                        ]\n                    }\n                ]\n            },\n            {\n                \"name\": \"Trash / Recycling-Early Set Out-North\",\n                \"parent\": \"null\",\n                \"children\": [\n                    {\n                        \"name\": \"Trash / Recycling\",\n                        \"parent\": \"Trash / Recycling-Early Set Out-North\",\n                        \"children\": [\n                            {\n                                \"name\": \"Early Set Out\",\n                                \"parent\": \"Trash / Recycling\",\n                                \"children\": [\n                                    {\n                                        \"name\": \"North\",\n                                        \"parent\": \"Early Set Out\"\n                                    }\n                                ]\n                            }\n                        ]\n                    }\n                ]\n            },\n            {\n                \"name\": \"Trash / Recycling-Dumping-ROW Land Bank South\",\n                \"parent\": \"null\",\n                \"children\": [\n                    {\n                        \"name\": \"Trash / Recycling\",\n                        \"parent\": \"Trash / Recycling-Dumping-ROW Land Bank South\",\n                        \"children\": [\n                            {\n                                \"name\": \"Dumping\",\n                                \"parent\": \"Trash / Recycling\",\n                                \"children\": [\n                                    {\n                                        \"name\": \"Right of Way LB South\",\n                                        \"parent\": \"Dumping\"\n                                    }\n                                ]\n                            }\n                        ]\n                    }\n                ]\n            },\n            {\n                \"name\": \"Trash / Recycling-Dumping-Park - South\",\n                \"parent\": \"null\",\n                \"children\": [\n                    {\n                        \"name\": \"Trash / Recycling\",\n                        \"parent\": \"Trash / Recycling-Dumping-Park - South\",\n                        \"children\": [\n                            {\n                                \"name\": \"Dumping\",\n                                \"parent\": \"Trash / Recycling\",\n                                \"children\": [\n                                    {\n                                        \"name\": \"Park - South\",\n                                        \"parent\": \"Dumping\"\n                                    }\n                                ]\n                            }\n                        ]\n                    }\n                ]\n            },\n            {\n                \"name\": \"Trash / Recycling-Early Set Out-South\",\n                \"parent\": \"null\",\n                \"children\": [\n                    {\n                        \"name\": \"Trash / Recycling\",\n                        \"parent\": \"Trash / Recycling-Early Set Out-South\",\n                        \"children\": [\n                            {\n                                \"name\": \"Early Set Out\",\n                                \"parent\": \"Trash / Recycling\",\n                                \"children\": [\n                                    {\n                                        \"name\": \"South\",\n                                        \"parent\": \"Early Set Out\"\n                                    }\n                                ]\n                            }\n                        ]\n                    }\n                ]\n            },\n            {\n                \"name\": \"Trash / Recycling-Dumpsters-Street / Alley / ROW\",\n                \"parent\": \"null\",\n                \"children\": [\n                    {\n                        \"name\": \"Trash / Recycling\",\n                        \"parent\": \"Trash / Recycling-Dumpsters-Street / Alley / ROW\",\n                        \"children\": [\n                            {\n                                \"name\": \"Dumpsters\",\n                                \"parent\": \"Trash / Recycling\",\n                                \"children\": [\n                                    {\n                                        \"name\": \"Street / Alley / ROW\",\n                                        \"parent\": \"Dumpsters\"\n                                    }\n                                ]\n                            }\n                        ]\n                    }\n                ]\n            },\n            {\n                \"name\": \"Trash / Recycling-Dumpsters-Dumpster Request\",\n                \"parent\": \"null\",\n                \"children\": [\n                    {\n                        \"name\": \"Trash / Recycling\",\n                        \"parent\": \"Trash / Recycling-Dumpsters-Dumpster Request\",\n                        \"children\": [\n                            {\n                                \"name\": \"Dumpsters\",\n                                \"parent\": \"Trash / Recycling\",\n                                \"children\": [\n                                    {\n                                        \"name\": \"Dumpster Request\",\n                                        \"parent\": \"Dumpsters\"\n                                    }\n                                ]\n                            }\n                        ]\n                    }\n                ]\n            },\n            {\n                \"name\": \"Trash / Recycling-Dumping-Landlord Set Out\",\n                \"parent\": \"null\",\n                \"children\": [\n                    {\n                        \"name\": \"Trash / Recycling\",\n                        \"parent\": \"Trash / Recycling-Dumping-Landlord Set Out\",\n                        \"children\": [\n                            {\n                                \"name\": \"Dumping\",\n                                \"parent\": \"Trash / Recycling\",\n                                \"children\": [\n                                    {\n                                        \"name\": \"Landlord Set Out\",\n                                        \"parent\": \"Dumping\"\n                                    }\n                                ]\n                            }\n                        ]\n                    }\n                ]\n            },\n            {\n                \"name\": \"Trash / Recycling-Dumping-Alley\",\n                \"parent\": \"null\",\n                \"children\": [\n                    {\n                        \"name\": \"Trash / Recycling\",\n                        \"parent\": \"Trash / Recycling-Dumping-Alley\",\n                        \"children\": [\n                            {\n                                \"name\": \"Dumping\",\n                                \"parent\": \"Trash / Recycling\",\n                                \"children\": [\n                                    {\n                                        \"name\": \"Alley - Public Works - District 1\",\n                                        \"parent\": \"Dumping\"\n                                    }\n                                ]\n                            }\n                        ]\n                    }\n                ]\n            },\n            {\n                \"name\": \"Trash / Recycling-Dumping-Right of Way (ROW)\",\n                \"parent\": \"null\",\n                \"children\": [\n                    {\n                        \"name\": \"Trash / Recycling\",\n                        \"parent\": \"Trash / Recycling-Dumping-Right of Way (ROW)\",\n                        \"children\": [\n                            {\n                                \"name\": \"Dumping\",\n                                \"parent\": \"Trash / Recycling\",\n                                \"children\": [\n                                    {\n                                        \"name\": \"Right-Of-Way\",\n                                        \"parent\": \"Dumping\"\n                                    }\n                                ]\n                            }\n                        ]\n                    }\n                ]\n            },\n            {\n                \"name\": \"Trash / Recycling - Dumping - Alley - D1\",\n                \"parent\": \"null\",\n                \"children\": [\n                    {\n                        \"name\": \"Trash / Recycling\",\n                        \"parent\": \"Trash / Recycling - Dumping - Alley - D1\",\n                        \"children\": [\n                            {\n                                \"name\": \"Dumping\",\n                                \"parent\": \"Trash / Recycling\",\n                                \"children\": [\n                                    {\n                                        \"name\": \"Alley - Public Works - District 1\",\n                                        \"parent\": \"Dumping\"\n                                    }\n                                ]\n                            }\n                        ]\n                    }\n                ]\n            }\n        ]\n    }\n]\n"
     ]
    }
   ],
   "source": [
    "'''\n",
    "Request Type -> Category -> Type -> Detail Hierarchy\n",
    "'''\n",
    "TYPE_MATCH = 'Bulky Pick Up', 'Dumping', 'Dumpsters', 'Early Set Out'\n",
    "\n",
    "hierarchy_obj = [{\n",
    "    \"name\": 'Problem Domain',\n",
    "    \"parent\": 'null',\n",
    "    'children': []\n",
    "    }\n",
    "]\n",
    "count = 0\n",
    "total_count_dict = {\n",
    "    'category': 0,\n",
    "    'type': 0,\n",
    "    'detail': 0,\n",
    "    'request_type': 0\n",
    "}\n",
    "for k,category_dict in requestType_dict.items():\n",
    "    # if count >= 20:\n",
    "    #     break\n",
    "    # print(k,v)\n",
    "    rqType_obj = {\n",
    "        \"name\": k,\n",
    "        \"parent\": \"null\",\n",
    "        \"children\": []\n",
    "    }\n",
    "    '''\n",
    "    Category -> Type \n",
    "    '''\n",
    "    for cat, type_dict in category_dict.items():\n",
    "        if cat != 'Trash / Recycling':\n",
    "            break\n",
    "        cat_obj = {\n",
    "            \"name\": cat,\n",
    "            \"parent\": k,\n",
    "            'children': []\n",
    "          }\n",
    "        '''\n",
    "        Type -> Detail \n",
    "        '''\n",
    "        for typ, details in type_dict.items():\n",
    "            if typ not in TYPE_MATCH:\n",
    "                continue\n",
    "            type_obj = {\n",
    "            \"name\": typ,\n",
    "            \"parent\": cat,\n",
    "            'children': []\n",
    "            }\n",
    "            for detail in details:\n",
    "                det_obj = {\n",
    "                    \"name\": detail,\n",
    "                    \"parent\": typ,\n",
    "                }\n",
    "                type_obj['children'].append(det_obj)\n",
    "                total_count_dict['detail'] += 1\n",
    "\n",
    "            cat_obj['children'].append(type_obj)\n",
    "            total_count_dict['type'] += 1\n",
    "        if len(cat_obj['children']) > 0:\n",
    "            rqType_obj['children'].append(cat_obj)\n",
    "        total_count_dict['category'] += 1\n",
    "\n",
    "    if len(rqType_obj['children']) > 0:\n",
    "        hierarchy_obj[0]['children'].append(rqType_obj)\n",
    "    count+=1\n",
    "    total_count_dict['request_type'] += 1 \n",
    "    # break\n",
    "\n",
    "with open('temp3.json', 'w') as f:\n",
    "    json_obj = json.dumps(hierarchy_obj, indent = 4)\n",
    "    f.write(json_obj)\n",
    "print(json_obj)"
   ]
  },
  {
   "cell_type": "code",
   "execution_count": 20,
   "metadata": {},
   "outputs": [
    {
     "output_type": "execute_result",
     "data": {
      "text/plain": [
       "{'category': 1349, 'type': 1401, 'detail': 1537, 'request_type': 1229}"
      ]
     },
     "metadata": {},
     "execution_count": 20
    }
   ],
   "source": [
    "total_count_dict"
   ]
  },
  {
   "cell_type": "code",
   "execution_count": 6,
   "metadata": {
    "tags": []
   },
   "outputs": [],
   "source": [
    "'''\n",
    "Ordered by Category first\n",
    "'''\n",
    "category_dict = {x:{} for x in df_problem['CATEGORY'].unique().tolist()}\n",
    "\n",
    "for i, g in df_problem.groupby(['CATEGORY','TYPE', 'DETAIL', 'REQUEST TYPE']):\n",
    "    # print(i)\n",
    "    if i[1] not in category_dict[i[0]]:\n",
    "        category_dict[i[0]][i[1]] = {i[2]: [i[3]]}\n",
    "    else: \n",
    "        if i[2] not in category_dict[i[0]][i[1]]:\n",
    "            category_dict[i[0]][i[1]][i[2]] = [i[3]]\n",
    "        else:\n",
    "            category_dict[i[0]][i[1]][i[2]].append(i[3])\n",
    "    # break\n",
    "#     display(g)\n",
    "# requestType_dict"
   ]
  },
  {
   "cell_type": "code",
   "execution_count": 9,
   "metadata": {},
   "outputs": [
    {
     "output_type": "execute_result",
     "data": {
      "text/plain": [
       "Empty DataFrame\n",
       "Columns: []\n",
       "Index: [(Air Quality, Pollutants, Indoor, Healthy Homes Program), (Air Quality, Pollutants, Outdoor, Outdoor Air Quality), (Air Quality, Tobacco, All, Smoking Complaints), (Animal, Barking Dog, All, Barking Dog), (Animal, Bite, *Select one, Animal Bite), (Animal, Bite, All, Animal Bite), (Animal, Emergency, *Select one, Animal Emergency), (Animal, Emergency, Abused, Animal Emergency), (Animal, Emergency, Aggressive, Animal Emergency), (Animal, Emergency, Bat visible in house, Animal Control), (Animal, Emergency, Bat visible in house, Animal Emergency), (Animal, Emergency, Injured Cat or Dog, Animal Emergency), (Animal, Injury or Cruelty involving an Animal, All, Injury or Cruelty Involving an Animal), (Animal, Insect Problem, Bedbugs, Bedbugs Problem), (Animal, Insect Problem, Integrated Pest Management Class, Integrated Pest Management Class), (Animal, Investigation, All, Animal Investigation), (Animal, Jackson County, Buckner, Animal Concerns Buckner Jackson County), (Animal, Jackson County, Buckner, Animal Emergency Buckner Jackson County), (Animal, Jackson County, Greenwood, Animal Concerns Greenwood Jackson County), (Animal, Jackson County, Greenwood, Animal Emergency Greenwood Jackson County), (Animal, Jackson County, Levacy, Animal Concerns Levacy Jackson County), (Animal, Jackson County, Levacy, Emergency Animal Levacy Jackson County), (Animal, Jackson County, Lone Jack, Animal Concerns Lone Jack Jackson County), (Animal, Jackson County, Lone Jack, Animal Emergency Lone Jack Jackson County), (Animal, Jackson County, Sibley, Animal Concerns Sibley Jackson County), (Animal, Jackson County, Sibley, Animal Emergency Greenwood Jackson County), (Animal, Jackson County, Sibley, Animal Emergency Sibley Jackson County), (Animal, Jackson County, Sugar Creek, Animal Concerns Sugar Creek Jackson County), (Animal, Jackson County, Sugar Creek, Animal Emergency Sugar Creek Jackson County), (Animal, Jackson County, Unincorporated Areas of Jackson County, Animal Concerns Unincorporated Jackson County), (Animal, Jackson County, Unincorporated Areas of Jackson County, Animal Concers Unicorporated Jackson County), (Animal, Jackson County, Unincorporated Areas of Jackson County, Animal Emergency Unincorporated Jackson County), (Animal, Jackson County, Unity Village, Animal Concerns Unity Village Jackson County), (Animal, Jackson County, Unity Village, Animal Emergency Unity Village Jackson County), (Animal, Other, Non Emergency, Animal Control), (Animal, Other, Non Emergency, Animal Investigation), (Animal, Owned or Stray at Large, All, Animal At Large), (Animal, Repair, *Select one, Animal Control), (Animal, Return Call to Citizen, All, Animal Admin Call Back), (Animal, Return Call to Citizen, All, Animal Control Administration), (Animal, Return Call to Citizen, Jack, Rat Control Education), (Animal, Rodent, Rat, Rat Control Education), (Animal, Rodent, Rat Control Treatment and Baiting, Rat Control Treatment), (Animal, Stray Confined, Confined, Stray Animal Confined), (Animal, Wildlife, All, Wildlife), (Animals / Pets, Bite, Animal on Animal, Animals / Pets-Bite-Animal on Animal), (Animals / Pets, Bite, Owned, Animals / Pets-Bite-Owned), (Animals / Pets, Bite, Stray, Animals / Pets-Bite-Stray), (Animals / Pets, Bite, Wildlife, Animals / Pets-Bite-Wildlife), (Animals / Pets, Cruelty or Neglect, Abandonment, Animals / Pets-Cruelty or Neglect-Abandonment), (Animals / Pets, Cruelty or Neglect, Abuse / Injury / Death, Animals / Pets-Cruelty or Neglect-Abuse / Injury / Death), (Animals / Pets, Cruelty or Neglect, Inclement Weather, Animals / Pets-Cruelty or Neglect-Inclement Weather), (Animals / Pets, Cruelty or Neglect, Shelter / Food / Water, Animals / Pets-Cruelty or Neglect-Shelter / Food / Water), (Animals / Pets, Dead Animal, Curb, Animals / Pets-Dead Animal -Curb), (Animals / Pets, Dead Animal, Private Property Nuisance, Property Violations), (Animals / Pets, Dead Animal, Private Property Pickup, Animals / Pets-Dead Animal -Private Property Pickup), (Animals / Pets, Dead Animal, Street, Animals / Pets-Dead Animal -Street), (Animals / Pets, Permit / License, Chicken / Rooster, Animals / Pets-Permit / License-Chicken / Rooster), (Animals / Pets, Permit / License, Livestock, Animals / Pets-Permit / License-Livestock), (Animals / Pets, Permit / License, Other, Animals / Pets-Permit / License-Other), (Animals / Pets, Permit / License, Permit Request, Animals / Pets-Permit / License-Permit Request), (Animals / Pets, Permit / License, Rescue Permit, Animals / Pets-Permit / License-Rescue Permit), (Animals / Pets, Permit / License, Vaccination / Pet License, Animals / Pets-Permit / License-Vaccination / Pet License), (Animals / Pets, Questionable Activity, Cock Fighting, Animals / Pets-Questionable Activity-Cock fighting), (Animals / Pets, Questionable Activity, Dog Fighting, Animals / Pets-Questionable Activity-Dog fighting), (Animals / Pets, Questionable Activity, Other, Animals / Pets-Questionable Activity-Other), (Animals / Pets, Questionable Activity, Over Limit / Hoarding, Animals / Pets-Questionable Activity-Over Limit / Hoarding), (Animals / Pets, Rat Treatment, City Block, Animals / Pets-Rat Treatment-City Block), (Animals / Pets, Rat Treatment, City Construction Site, Animals / Pets-Rat Treatment-City Const Site), (Animals / Pets, Rat Treatment, In the Sewer, Animals / Pets-Rat Treatment-In the Sewer), (Animals / Pets, Rat Treatment, Inside Home, Animals / Pets-Rat Treatment-Inside Residence), (Animals / Pets, Rat Treatment, Outside, Animals / Pets-Rat Treatment-Outside), (Animals / Pets, Rat Treatment, Vacant Home, Animals / Pets-Rat Treatment-Vacant Home), (Animals / Pets, Rat Treatment, Vacant Lot, Animals / Pets-Rat Treatment-Vacant Property), (Animals / Pets, Services, Barking Dog, Animals / Pets-Services-Barking Dog Letter), (Animals / Pets, Services, Call Back Request, Animals / Pets-Services-Call Back Request), (Animals / Pets, Services, Feedback, Animals / Pets-Services-Feedback), (Animals / Pets, Services, Off Leash - Investigation, Animals / Pets-Services-Off Leash), (Animals / Pets, Services, Off Leash - Investigation, Animals / Pets-Services-Off Leash - Investigation), (Animals / Pets, Services, Officer Assist, Animals / Pets-Services-Officer Assist), (Animals / Pets, Services, Question, Animals / Pets-Services-Question), (Animals / Pets, Services, Repeated Report, Animals / Pets-Services-Repeated Report), (Animals / Pets, Services, Service Issue / Problem, Animals / Pets-Services-Service Issue / Problem), (Animals / Pets, Stray, At Large - Aggressive, Animals / Pets-Stray-At Large - Aggressive), (Animals / Pets, Stray, At Large - Highway, Animals / Pets-Stray-At Large - Highway), (Animals / Pets, Stray, At Large - Non-Aggressive, Animals / Pets-Stray-At Large - Non-Aggressive), (Animals / Pets, Stray, At Large - Owned, Animals / Pets-Stray-At Large - Owned), (Animals / Pets, Stray, At Large - Pack, Animals / Pets-Stray-At Large - Pack), (Animals / Pets, Stray, Confined, Animals / Pets-Stray-Confined), (Animals / Pets, Stray, Injured, Animals / Pets-Stray-Injured), (Animals / Pets, Wildlife, Injured, Animals / Pets-Wildlife-Injured), (Animals / Pets, Wildlife, Inside, Animals / Pets-Wildlife-Inside), (Animals / Pets, Wildlife, Outside, Animals / Pets - Wildlife - Outside), (Aviation, All, All, Aviation - All), (Boulevard Parks and Rec, Bruce R. Watkins Freeway, All, Bruce R Watkins Freeway), (Bridge, Repair, Bridge, Bridge Repair (All Districts)), (Bulky Appointment, 01, All, Bulky Appointment- July 1), (Bulky Appointment, 01, April, Bulky Appointment- Apr 1), (Bulky Appointment, 01, December, Bulky Appointment December 01), (Bulky Appointment, 01, June, Bulky Appointment- June 1), ...]\n",
       "\n",
       "[1537 rows x 0 columns]"
      ],
      "text/html": "<div>\n<style scoped>\n    .dataframe tbody tr th:only-of-type {\n        vertical-align: middle;\n    }\n\n    .dataframe tbody tr th {\n        vertical-align: top;\n    }\n\n    .dataframe thead th {\n        text-align: right;\n    }\n</style>\n<table border=\"1\" class=\"dataframe\">\n  <thead>\n    <tr style=\"text-align: right;\">\n      <th></th>\n      <th></th>\n      <th></th>\n      <th></th>\n    </tr>\n    <tr>\n      <th>CATEGORY</th>\n      <th>TYPE</th>\n      <th>DETAIL</th>\n      <th>REQUEST TYPE</th>\n    </tr>\n  </thead>\n  <tbody>\n    <tr>\n      <th rowspan=\"3\" valign=\"top\">Air Quality</th>\n      <th rowspan=\"2\" valign=\"top\">Pollutants</th>\n      <th>Indoor</th>\n      <th>Healthy Homes Program</th>\n    </tr>\n    <tr>\n      <th>Outdoor</th>\n      <th>Outdoor Air Quality</th>\n    </tr>\n    <tr>\n      <th>Tobacco</th>\n      <th>All</th>\n      <th>Smoking Complaints</th>\n    </tr>\n    <tr>\n      <th rowspan=\"2\" valign=\"top\">Animal</th>\n      <th>Barking Dog</th>\n      <th>All</th>\n      <th>Barking Dog</th>\n    </tr>\n    <tr>\n      <th>Bite</th>\n      <th>*Select one</th>\n      <th>Animal Bite</th>\n    </tr>\n    <tr>\n      <th>...</th>\n      <th>...</th>\n      <th>...</th>\n      <th>...</th>\n    </tr>\n    <tr>\n      <th rowspan=\"5\" valign=\"top\">Zoning</th>\n      <th rowspan=\"5\" valign=\"top\">Investigation</th>\n      <th>Demolition and Debris</th>\n      <th>Demolition Debris and Landfill</th>\n    </tr>\n    <tr>\n      <th>Elevator</th>\n      <th>Elevator Inspection</th>\n    </tr>\n    <tr>\n      <th>Erosion Control</th>\n      <th>Mud and silt</th>\n    </tr>\n    <tr>\n      <th>Fence and Wall</th>\n      <th>Fence or Wall</th>\n    </tr>\n    <tr>\n      <th>Sign</th>\n      <th>Sign Violation Zoning</th>\n    </tr>\n  </tbody>\n</table>\n<p>1537 rows × 0 columns</p>\n</div>"
     },
     "metadata": {},
     "execution_count": 9
    }
   ],
   "source": [
    "df_problem.groupby(['CATEGORY','TYPE', 'DETAIL', 'REQUEST TYPE']).count()"
   ]
  },
  {
   "cell_type": "code",
   "execution_count": 15,
   "metadata": {},
   "outputs": [],
   "source": [
    "'''\r\n",
    "Print out Hierarchy in CSV\r\n",
    "'''\r\n",
    "df_problem.groupby(['CATEGORY','TYPE', 'DETAIL', 'REQUEST TYPE']).count().to_csv('Taxonomy/hierarchy.csv', index = True)"
   ]
  },
  {
   "cell_type": "code",
   "execution_count": 11,
   "metadata": {
    "tags": []
   },
   "outputs": [
    {
     "output_type": "execute_result",
     "data": {
      "text/plain": [
       "                                                                                                                             0\n",
       "CATEGORY          TYPE             DETAIL                            REQUEST TYPE                                             \n",
       "Trash / Recycling Bulky Pick Up    Address Validation                Trash / Recycling-Bulky Pick Up -Address Valida...    491\n",
       "                                   Missed Pick Up                    Trash / Recycling-Bulky Pick Up -Missed Pick Up      7707\n",
       "                  Dumping          Alley - Public Works - District 1 Trash / Recycling - Dumping - Alley - D1                3\n",
       "                                                                     Trash / Recycling-Dumping-Alley                       253\n",
       "                                   Alley - Public Works - District 2 Trash / Recycling - Dumping - Alley - D2              808\n",
       "...                                                                                                                        ...\n",
       "                  Trash Collection Missed by City                    Trash / Recycling-Trash Collection-Missed by City   17491\n",
       "                                   Missed by Contractor North        Trash / Recycling-Trash Collection-Missed by Co...  21681\n",
       "                                   Missed by Contractor South        Trash / Recycling-Trash Collection-Missed by Co...  27538\n",
       "                                   Repeat Missed                     Trash / Recycling-Trash Collection-Repeat Missed      871\n",
       "                                   Storm Trash                       Trash/Recycling - Trash Collection - Storm Trash       12\n",
       "\n",
       "[101 rows x 1 columns]"
      ],
      "text/html": "<div>\n<style scoped>\n    .dataframe tbody tr th:only-of-type {\n        vertical-align: middle;\n    }\n\n    .dataframe tbody tr th {\n        vertical-align: top;\n    }\n\n    .dataframe thead th {\n        text-align: right;\n    }\n</style>\n<table border=\"1\" class=\"dataframe\">\n  <thead>\n    <tr style=\"text-align: right;\">\n      <th></th>\n      <th></th>\n      <th></th>\n      <th></th>\n      <th>0</th>\n    </tr>\n    <tr>\n      <th>CATEGORY</th>\n      <th>TYPE</th>\n      <th>DETAIL</th>\n      <th>REQUEST TYPE</th>\n      <th></th>\n    </tr>\n  </thead>\n  <tbody>\n    <tr>\n      <th rowspan=\"11\" valign=\"top\">Trash / Recycling</th>\n      <th rowspan=\"2\" valign=\"top\">Bulky Pick Up</th>\n      <th>Address Validation</th>\n      <th>Trash / Recycling-Bulky Pick Up -Address Validation</th>\n      <td>491</td>\n    </tr>\n    <tr>\n      <th>Missed Pick Up</th>\n      <th>Trash / Recycling-Bulky Pick Up -Missed Pick Up</th>\n      <td>7707</td>\n    </tr>\n    <tr>\n      <th rowspan=\"3\" valign=\"top\">Dumping</th>\n      <th rowspan=\"2\" valign=\"top\">Alley - Public Works - District 1</th>\n      <th>Trash / Recycling - Dumping - Alley - D1</th>\n      <td>3</td>\n    </tr>\n    <tr>\n      <th>Trash / Recycling-Dumping-Alley</th>\n      <td>253</td>\n    </tr>\n    <tr>\n      <th>Alley - Public Works - District 2</th>\n      <th>Trash / Recycling - Dumping - Alley - D2</th>\n      <td>808</td>\n    </tr>\n    <tr>\n      <th>...</th>\n      <th>...</th>\n      <th>...</th>\n      <td>...</td>\n    </tr>\n    <tr>\n      <th rowspan=\"5\" valign=\"top\">Trash Collection</th>\n      <th>Missed by City</th>\n      <th>Trash / Recycling-Trash Collection-Missed by City</th>\n      <td>17491</td>\n    </tr>\n    <tr>\n      <th>Missed by Contractor North</th>\n      <th>Trash / Recycling-Trash Collection-Missed by Contractor North</th>\n      <td>21681</td>\n    </tr>\n    <tr>\n      <th>Missed by Contractor South</th>\n      <th>Trash / Recycling-Trash Collection-Missed by Contractor South</th>\n      <td>27538</td>\n    </tr>\n    <tr>\n      <th>Repeat Missed</th>\n      <th>Trash / Recycling-Trash Collection-Repeat Missed</th>\n      <td>871</td>\n    </tr>\n    <tr>\n      <th>Storm Trash</th>\n      <th>Trash/Recycling - Trash Collection - Storm Trash</th>\n      <td>12</td>\n    </tr>\n  </tbody>\n</table>\n<p>101 rows × 1 columns</p>\n</div>"
     },
     "metadata": {},
     "execution_count": 11
    }
   ],
   "source": [
    "frequency_table = df_problem.groupby(['CATEGORY','TYPE', 'DETAIL', 'REQUEST TYPE']).size().to_frame()\n",
    "# display(frequency_table)\n",
    "# frequency_table.sum(level = 'TYPE')\n",
    "frequency_table.xs('Trash / Recycling', level='CATEGORY', drop_level=False)\n"
   ]
  },
  {
   "cell_type": "code",
   "execution_count": 9,
   "metadata": {},
   "outputs": [
    {
     "output_type": "execute_result",
     "data": {
      "text/plain": [
       "84"
      ]
     },
     "metadata": {},
     "execution_count": 9
    }
   ],
   "source": [
    "len(category_dict)"
   ]
  },
  {
   "cell_type": "code",
   "execution_count": 111,
   "metadata": {},
   "outputs": [
    {
     "output_type": "execute_result",
     "data": {
      "text/plain": [
       "199720"
      ]
     },
     "metadata": {},
     "execution_count": 111
    }
   ],
   "source": [
    "cat_freq_df[cat_freq_df.index == k].values[0][0]"
   ]
  },
  {
   "cell_type": "code",
   "execution_count": 13,
   "metadata": {
    "tags": []
   },
   "outputs": [
    {
     "output_type": "display_data",
     "data": {
      "text/plain": "HBox(children=(HTML(value=''), FloatProgress(value=0.0, max=84.0), HTML(value='')))",
      "application/vnd.jupyter.widget-view+json": {
       "version_major": 2,
       "version_minor": 0,
       "model_id": "b25b16b3716f4d32868140598c90b90a"
      }
     },
     "metadata": {}
    },
    {
     "output_type": "stream",
     "name": "stdout",
     "text": [
      "\n"
     ]
    }
   ],
   "source": [
    "'''\n",
    "Category -> Type -> Detail -> Request Type Hierarchy (Relative Frequency)\n",
    "'''\n",
    "import random\n",
    "hierarchy_obj = [{\n",
    "    \"name\": 'Problem Domain',\n",
    "    \"parent\": 'null',\n",
    "    'children': []\n",
    "    }\n",
    "]\n",
    "category_count = 0\n",
    "max_types = random.randint(2,5)\n",
    "max_details = random.randint(2,5)\n",
    "cat_freq_df = frequency_table.sum(level='CATEGORY')\n",
    "total_cat = cat_freq_df.sum().values[0]\n",
    "\n",
    "total_count_dict = {\n",
    "    'category': 0,\n",
    "    'type': 0,\n",
    "    'detail': 0,\n",
    "    'request_type': 0\n",
    "}\n",
    "# TYPE_MATCH = 'Bulky Pick Up', 'Dumping', 'Dumpsters', 'Early Set Out'\n",
    "for k,type_dict in tqdm(category_dict.items()):\n",
    "    # if category_count >= 5:\n",
    "    #     break\n",
    "    # if k != 'Trash / Recycling':\n",
    "    #     continue\n",
    "    \n",
    "    cat_sum = cat_freq_df[cat_freq_df.index == k].values[0][0]\n",
    "    cat_freq = round(cat_sum/total_cat,4)\n",
    "    new_cat = \"{} - {} - {}\".format(k, str(cat_sum), str(cat_freq))\n",
    "    # print(cat_sum)\n",
    "    type_count = 0\n",
    "    cat_obj = {\n",
    "    \"name\": new_cat,\n",
    "    \"parent\": \"null\",\n",
    "    \"children\": []\n",
    "    }\n",
    "    '''\n",
    "    Calculate Type Frequency\n",
    "    '''\n",
    "    type_freq_df = frequency_table.xs(k, level='CATEGORY', drop_level=False).sum(level = 'TYPE')\n",
    "    total_type = type_freq_df.sum().values[0]\n",
    "    '''\n",
    "    Category -> Type \n",
    "    '''\n",
    "    for typ, detail_dict in type_dict.items():\n",
    "        # if type_count >= max_types:\n",
    "        #     break\n",
    "        # if typ not in TYPE_MATCH:\n",
    "        #     continue\n",
    "        detail_count = 0\n",
    "        type_sum = type_freq_df[type_freq_df.index == typ].values[0][0]\n",
    "        type_freq = round(type_sum/total_type, 4)\n",
    "\n",
    "        # print(type_freq)\n",
    "        new_typ = \"{} - {} - {}\".format(typ, str(type_sum), str(type_freq))\n",
    "        type_obj = {\n",
    "            \"name\": new_typ,\n",
    "            \"parent\": k,\n",
    "            'children': []\n",
    "          }\n",
    "\n",
    "        '''\n",
    "        Calculate Detail Frequency\n",
    "        '''\n",
    "        detail_freq_df = frequency_table.xs(k, level='CATEGORY', drop_level=False).xs(typ, level='TYPE', drop_level=False).sum(level = 'DETAIL')\n",
    "        total_detail = detail_freq_df.sum().values[0]\n",
    "        '''\n",
    "        Type -> Detail \n",
    "        '''\n",
    "        for detail, request_types in detail_dict.items():\n",
    "            # if detail_count > max_details: \n",
    "            #     break\n",
    "\n",
    "            detail_sum = detail_freq_df[detail_freq_df.index == detail].values[0][0]\n",
    "            detail_freq = round(detail_sum/total_detail, 4)\n",
    "            new_detail = \"{} - {} - {}\".format(detail, str(detail_sum), str(detail_freq))\n",
    "            detail_obj = {\n",
    "            \"name\": new_detail,\n",
    "            \"parent\": new_typ,\n",
    "            'children': []\n",
    "            }\n",
    "\n",
    "            reqType_freq_df = frequency_table.xs(k, level='CATEGORY', drop_level=False).xs(typ, level='TYPE', drop_level=False).xs(detail, level='DETAIL', drop_level=False).sum(level = 'REQUEST TYPE')\n",
    "            total_reqType = reqType_freq_df.sum().values[0]\n",
    "            for req_type in request_types:\n",
    "                reqType_sum = reqType_freq_df[reqType_freq_df.index == req_type].values[0][0]\n",
    "                reqType_freq = round(reqType_sum/total_reqType, 4)\n",
    "                new_reqType= \"{} - {} - {}\".format(req_type, str(reqType_sum),str(reqType_freq))\n",
    "                request_obj = {\n",
    "                    \"name\": new_reqType,\n",
    "                    \"parent\": new_detail,\n",
    "                }\n",
    "                detail_obj['children'].append(request_obj)\n",
    "                total_count_dict['request_type'] += 1\n",
    "            type_obj['children'].append(detail_obj)\n",
    "            detail_count+=1\n",
    "            total_count_dict['detail'] += 1\n",
    "        type_count+=1\n",
    "        total_count_dict['type'] += 1\n",
    "        cat_obj['children'].append(type_obj)\n",
    "\n",
    "\n",
    "    hierarchy_obj[0]['children'].append(cat_obj)\n",
    "    category_count+=1\n",
    "    total_count_dict['category'] += 1\n",
    "    # break\n",
    "\n",
    "\n",
    "# with open('temp1.json', 'w') as f:\n",
    "#     json_obj = json.dumps(hierarchy_obj, indent = 4)\n",
    "#     f.write(json_obj)\n",
    "# print(json_obj)"
   ]
  },
  {
   "cell_type": "code",
   "execution_count": 14,
   "metadata": {},
   "outputs": [
    {
     "output_type": "execute_result",
     "data": {
      "text/plain": [
       "{'category': 84, 'type': 366, 'detail': 1106, 'request_type': 1537}"
      ]
     },
     "metadata": {},
     "execution_count": 14
    }
   ],
   "source": [
    "total_count_dict"
   ]
  },
  {
   "cell_type": "code",
   "execution_count": 15,
   "metadata": {},
   "outputs": [],
   "source": [
    "'''\n",
    "Category -> Type -> Detail -> Request Type Hierarchy (Absolute Frequency)\n",
    "'''\n",
    "import random\n",
    "hierarchy_obj = [{\n",
    "    \"name\": 'Problem Domain',\n",
    "    \"parent\": 'null',\n",
    "    'children': []\n",
    "    }\n",
    "]\n",
    "category_count = 0\n",
    "max_types = random.randint(2,5)\n",
    "max_details = random.randint(2,5)\n",
    "cat_freq_df = frequency_table.sum(level='CATEGORY')\n",
    "total_cat = cat_freq_df.sum().values[0]\n",
    "# TYPE_MATCH = 'Bulky Pick Up', 'Dumping', 'Dumpsters', 'Early Set Out'\n",
    "total_count_dict = {\n",
    "    'category': 0,\n",
    "    'type': 0,\n",
    "    'detail': 0,\n",
    "    'request_type': 0\n",
    "}\n",
    "for k,type_dict in tqdm(category_dict.items()):\n",
    "    # if category_count >= 5:\n",
    "    #     break\n",
    "    # if k != 'Trash / Recycling':\n",
    "    #     continue\n",
    "    \n",
    "    cat_sum = cat_freq_df[cat_freq_df.index == k].values[0][0]\n",
    "    cat_freq = round(cat_sum/total_cat,4)\n",
    "    new_cat = \"{} - {} - {}\".format(k, str(cat_sum), str(cat_freq))\n",
    "    # print(cat_freq)\n",
    "    type_count = 0\n",
    "    cat_obj = {\n",
    "    \"name\": new_cat,\n",
    "    \"parent\": \"null\",\n",
    "    \"children\": []\n",
    "    }\n",
    "    '''\n",
    "    Calculate Type Frequency\n",
    "    '''\n",
    "    type_freq_df = frequency_table.xs(k, level='CATEGORY', drop_level=False).sum(level = 'TYPE')\n",
    "    total_type = type_freq_df.sum().values[0]\n",
    "    '''\n",
    "    Category -> Type \n",
    "    '''\n",
    "    for typ, detail_dict in type_dict.items():\n",
    "        # if type_count >= max_types:\n",
    "        #     break\n",
    "        # if typ not in TYPE_MATCH:\n",
    "        #     continue\n",
    "        detail_count = 0\n",
    "        type_sum = type_freq_df[type_freq_df.index == typ].values[0][0]\n",
    "        type_freq = round((type_sum/total_type) * cat_freq, 4)\n",
    "        new_typ = \"{} - {} - {}\".format(typ, str(type_sum), str(type_freq))\n",
    "        type_obj = {\n",
    "            \"name\": new_typ,\n",
    "            \"parent\": k,\n",
    "            'children': []\n",
    "          }\n",
    "\n",
    "        '''\n",
    "        Calculate Detail Frequency\n",
    "        '''\n",
    "        detail_freq_df = frequency_table.xs(k, level='CATEGORY', drop_level=False).xs(typ, level='TYPE', drop_level=False).sum(level = 'DETAIL')\n",
    "        total_detail = detail_freq_df.sum().values[0]\n",
    "        '''\n",
    "        Type -> Detail \n",
    "        '''\n",
    "        for detail, request_types in detail_dict.items():\n",
    "            # if detail_count > max_details: \n",
    "            #     break\n",
    "\n",
    "            detail_sum = detail_freq_df[detail_freq_df.index == detail].values[0][0]\n",
    "            detail_freq = round((detail_sum/total_detail) * type_freq, 4)\n",
    "            new_detail = \"{} - {} - {}\".format(detail, str(detail_sum), str(detail_freq))\n",
    "            detail_obj = {\n",
    "            \"name\": new_detail,\n",
    "            \"parent\": new_typ,\n",
    "            'children': []\n",
    "            }\n",
    "\n",
    "            reqType_freq_df = frequency_table.xs(k, level='CATEGORY', drop_level=False).xs(typ, level='TYPE', drop_level=False).xs(detail, level='DETAIL', drop_level=False).sum(level = 'REQUEST TYPE')\n",
    "            total_reqType = reqType_freq_df.sum().values[0]\n",
    "            for req_type in request_types:\n",
    "                reqType_sum = reqType_freq_df[reqType_freq_df.index == req_type].values[0][0]\n",
    "                reqType_freq = round((reqType_sum/total_reqType) * detail_freq, 4)\n",
    "                new_reqType= \"{} - {} - {}\".format(req_type, str(reqType_sum),str(reqType_freq))\n",
    "                request_obj = {\n",
    "                    \"name\": new_reqType,\n",
    "                    \"parent\": new_detail,\n",
    "                }\n",
    "                detail_obj['children'].append(request_obj)\n",
    "                total_count_dict['request_type'] += 1\n",
    "\n",
    "                \n",
    "            type_obj['children'].append(detail_obj)\n",
    "            total_count_dict['detail'] += 1\n",
    "            detail_count+=1\n",
    "        type_count+=1\n",
    "        total_count_dict['type'] += 1\n",
    "\n",
    "        cat_obj['children'].append(type_obj)\n",
    "\n",
    "\n",
    "    hierarchy_obj[0]['children'].append(cat_obj)\n",
    "    category_count+=1\n",
    "    total_count_dict['category'] += 1\n",
    "    # break\n",
    "\n",
    "\n",
    "# with open('temp2.json', 'w') as f:\n",
    "#     json_obj = json.dumps(hierarchy_obj, indent = 4)\n",
    "#     f.write(json_obj)\n",
    "# print(json_obj)"
   ]
  },
  {
   "cell_type": "code",
   "execution_count": 144,
   "metadata": {},
   "outputs": [],
   "source": [
    "frequency_table.columns=['Count']"
   ]
  },
  {
   "cell_type": "code",
   "execution_count": 166,
   "metadata": {},
   "outputs": [
    {
     "output_type": "display_data",
     "data": {
      "text/plain": "                                                                                                                         0\nCATEGORY          TYPE          DETAIL                            REQUEST TYPE                                            \nTrash / Recycling Bulky Pick Up Address Validation                Trash / Recycling-Bulky Pick Up -Address Valida...   327\n                                Missed Pick Up                    Trash / Recycling-Bulky Pick Up -Missed Pick Up     2047\n                  Dumping       Alley - Public Works - District 1 Trash / Recycling - Dumping - Alley - D1               1\n                                Alley - Public Works - District 2 Trash / Recycling - Dumping - Alley - D2             333\n                                Alley - Public Works - District 3 Trash / Recycling - Dumping - Alley - D3              30\n                                Camera Request                    Trash / Recycling-Dumping-Camera Request             202\n                                Landlord Set Out                  Trash / Recycling-Dumping-Landlord Set Out             2\n                                Park - Central                    Trash / Recycling-Dumping-Park - Central             108\n                                Park - North                      Trash / Recycling-Dumping-Park - North                27\n                                Park - South                      Trash / Recycling-Dumping-Park - South                49\n                                Private Property                  Trash / Recycling-Dumping-Private Property           648\n                                Right of Way Central              Trash / Recycling-Dumping-ROW Central               1828\n                                Right of Way LB Central           Trash / Recycling-Dumping-ROW Land Bank Central      352\n                                Right of Way LB North             Trash / Recycling-Dumping-ROW Land Bank North          3\n                                Right of Way LB South             Trash / Recycling-Dumping-ROW Land Bank South         51\n                                Right of Way North                Trash / Recycling-Dumping-ROW North                  300\n                                Right of Way South                Trash / Recycling-Dumping-ROW South                  621\n                                Right-Of-Way                      Trash / Recycling-Dumping-Right of Way                 8\n                                Solid Waste Referral              Trash / Recycling-Dumping-Solid Waste Referral      3590\n                  Dumpsters     Dumpster Request                  Trash / Recycling-Dumpsters-Dumpster Request           7\n                                Private Property                  Property Violations                                   44\n                                Street / Alley / ROW              Trash / Recycling-Dumpsters-Street / Alley / ROW      39\n                  Early Set Out Central                           Trash / Recycling-Early Set Out-Central              108\n                                North                             Trash / Recycling-Early Set Out-North                 20\n                                South                             Trash / Recycling-Early Set Out-South                 46",
      "text/html": "<div>\n<style scoped>\n    .dataframe tbody tr th:only-of-type {\n        vertical-align: middle;\n    }\n\n    .dataframe tbody tr th {\n        vertical-align: top;\n    }\n\n    .dataframe thead th {\n        text-align: right;\n    }\n</style>\n<table border=\"1\" class=\"dataframe\">\n  <thead>\n    <tr style=\"text-align: right;\">\n      <th></th>\n      <th></th>\n      <th></th>\n      <th></th>\n      <th>0</th>\n    </tr>\n    <tr>\n      <th>CATEGORY</th>\n      <th>TYPE</th>\n      <th>DETAIL</th>\n      <th>REQUEST TYPE</th>\n      <th></th>\n    </tr>\n  </thead>\n  <tbody>\n    <tr>\n      <th rowspan=\"25\" valign=\"top\">Trash / Recycling</th>\n      <th rowspan=\"2\" valign=\"top\">Bulky Pick Up</th>\n      <th>Address Validation</th>\n      <th>Trash / Recycling-Bulky Pick Up -Address Validation</th>\n      <td>327</td>\n    </tr>\n    <tr>\n      <th>Missed Pick Up</th>\n      <th>Trash / Recycling-Bulky Pick Up -Missed Pick Up</th>\n      <td>2047</td>\n    </tr>\n    <tr>\n      <th rowspan=\"17\" valign=\"top\">Dumping</th>\n      <th>Alley - Public Works - District 1</th>\n      <th>Trash / Recycling - Dumping - Alley - D1</th>\n      <td>1</td>\n    </tr>\n    <tr>\n      <th>Alley - Public Works - District 2</th>\n      <th>Trash / Recycling - Dumping - Alley - D2</th>\n      <td>333</td>\n    </tr>\n    <tr>\n      <th>Alley - Public Works - District 3</th>\n      <th>Trash / Recycling - Dumping - Alley - D3</th>\n      <td>30</td>\n    </tr>\n    <tr>\n      <th>Camera Request</th>\n      <th>Trash / Recycling-Dumping-Camera Request</th>\n      <td>202</td>\n    </tr>\n    <tr>\n      <th>Landlord Set Out</th>\n      <th>Trash / Recycling-Dumping-Landlord Set Out</th>\n      <td>2</td>\n    </tr>\n    <tr>\n      <th>Park - Central</th>\n      <th>Trash / Recycling-Dumping-Park - Central</th>\n      <td>108</td>\n    </tr>\n    <tr>\n      <th>Park - North</th>\n      <th>Trash / Recycling-Dumping-Park - North</th>\n      <td>27</td>\n    </tr>\n    <tr>\n      <th>Park - South</th>\n      <th>Trash / Recycling-Dumping-Park - South</th>\n      <td>49</td>\n    </tr>\n    <tr>\n      <th>Private Property</th>\n      <th>Trash / Recycling-Dumping-Private Property</th>\n      <td>648</td>\n    </tr>\n    <tr>\n      <th>Right of Way Central</th>\n      <th>Trash / Recycling-Dumping-ROW Central</th>\n      <td>1828</td>\n    </tr>\n    <tr>\n      <th>Right of Way LB Central</th>\n      <th>Trash / Recycling-Dumping-ROW Land Bank Central</th>\n      <td>352</td>\n    </tr>\n    <tr>\n      <th>Right of Way LB North</th>\n      <th>Trash / Recycling-Dumping-ROW Land Bank North</th>\n      <td>3</td>\n    </tr>\n    <tr>\n      <th>Right of Way LB South</th>\n      <th>Trash / Recycling-Dumping-ROW Land Bank South</th>\n      <td>51</td>\n    </tr>\n    <tr>\n      <th>Right of Way North</th>\n      <th>Trash / Recycling-Dumping-ROW North</th>\n      <td>300</td>\n    </tr>\n    <tr>\n      <th>Right of Way South</th>\n      <th>Trash / Recycling-Dumping-ROW South</th>\n      <td>621</td>\n    </tr>\n    <tr>\n      <th>Right-Of-Way</th>\n      <th>Trash / Recycling-Dumping-Right of Way</th>\n      <td>8</td>\n    </tr>\n    <tr>\n      <th>Solid Waste Referral</th>\n      <th>Trash / Recycling-Dumping-Solid Waste Referral</th>\n      <td>3590</td>\n    </tr>\n    <tr>\n      <th rowspan=\"3\" valign=\"top\">Dumpsters</th>\n      <th>Dumpster Request</th>\n      <th>Trash / Recycling-Dumpsters-Dumpster Request</th>\n      <td>7</td>\n    </tr>\n    <tr>\n      <th>Private Property</th>\n      <th>Property Violations</th>\n      <td>44</td>\n    </tr>\n    <tr>\n      <th>Street / Alley / ROW</th>\n      <th>Trash / Recycling-Dumpsters-Street / Alley / ROW</th>\n      <td>39</td>\n    </tr>\n    <tr>\n      <th rowspan=\"3\" valign=\"top\">Early Set Out</th>\n      <th>Central</th>\n      <th>Trash / Recycling-Early Set Out-Central</th>\n      <td>108</td>\n    </tr>\n    <tr>\n      <th>North</th>\n      <th>Trash / Recycling-Early Set Out-North</th>\n      <td>20</td>\n    </tr>\n    <tr>\n      <th>South</th>\n      <th>Trash / Recycling-Early Set Out-South</th>\n      <td>46</td>\n    </tr>\n  </tbody>\n</table>\n</div>"
     },
     "metadata": {}
    }
   ],
   "source": [
    "# frequency_table.xs(['Trash / Recycling'], level='CATEGORY', drop_level=False)\n",
    "temp = frequency_table.iloc[frequency_table.index.get_level_values('TYPE').isin(TYPE_MATCH)]\n",
    "display(temp)\n",
    "# temp.to_csv('Taxonomy/category_counts-subset.csv')\n"
   ]
  },
  {
   "source": [
    "<h1> Category - Department taxonomy"
   ],
   "cell_type": "markdown",
   "metadata": {}
  },
  {
   "cell_type": "code",
   "execution_count": 57,
   "metadata": {},
   "outputs": [
    {
     "output_type": "execute_result",
     "data": {
      "text/plain": [
       "                              CATEGORY     DEPARTMENT\n",
       "0          Streets / Roadways / Alleys   Public Works\n",
       "1                   Parks & Recreation  Parks and Rec\n",
       "2  Property / Buildings / Construction            NHS\n",
       "3  Property / Buildings / Construction            NHS\n",
       "4                    Trash / Recycling            NHS"
      ],
      "text/html": "<div>\n<style scoped>\n    .dataframe tbody tr th:only-of-type {\n        vertical-align: middle;\n    }\n\n    .dataframe tbody tr th {\n        vertical-align: top;\n    }\n\n    .dataframe thead th {\n        text-align: right;\n    }\n</style>\n<table border=\"1\" class=\"dataframe\">\n  <thead>\n    <tr style=\"text-align: right;\">\n      <th></th>\n      <th>CATEGORY</th>\n      <th>DEPARTMENT</th>\n    </tr>\n  </thead>\n  <tbody>\n    <tr>\n      <th>0</th>\n      <td>Streets / Roadways / Alleys</td>\n      <td>Public Works</td>\n    </tr>\n    <tr>\n      <th>1</th>\n      <td>Parks &amp; Recreation</td>\n      <td>Parks and Rec</td>\n    </tr>\n    <tr>\n      <th>2</th>\n      <td>Property / Buildings / Construction</td>\n      <td>NHS</td>\n    </tr>\n    <tr>\n      <th>3</th>\n      <td>Property / Buildings / Construction</td>\n      <td>NHS</td>\n    </tr>\n    <tr>\n      <th>4</th>\n      <td>Trash / Recycling</td>\n      <td>NHS</td>\n    </tr>\n  </tbody>\n</table>\n</div>"
     },
     "metadata": {},
     "execution_count": 57
    }
   ],
   "source": [
    "df_inconsistency = df_311.copy().loc[:, ['CATEGORY', 'DEPARTMENT']]\n",
    "df_inconsistency.head()"
   ]
  },
  {
   "cell_type": "code",
   "execution_count": 58,
   "metadata": {},
   "outputs": [
    {
     "output_type": "execute_result",
     "data": {
      "text/plain": [
       "{'Streets / Roadways / Alleys': ['City Managers Office',\n",
       "  'City Planning and Development',\n",
       "  'KCPD',\n",
       "  'NHS',\n",
       "  'Parks and Rec',\n",
       "  'Public Works',\n",
       "  'Water Services'],\n",
       " 'Parks & Recreation': ['City Managers Office',\n",
       "  'Information Technology',\n",
       "  'NHS',\n",
       "  'Parks & Rec',\n",
       "  'Parks and Rec',\n",
       "  'Public Works',\n",
       "  'Water Services'],\n",
       " 'Property / Buildings / Construction': ['City Managers Office',\n",
       "  'City Planning and Development',\n",
       "  'General Service',\n",
       "  'Health',\n",
       "  'KCPD',\n",
       "  'NHS',\n",
       "  'Northeast',\n",
       "  'Northland',\n",
       "  'Public Works',\n",
       "  'South'],\n",
       " 'Trash / Recycling': ['City Managers Office',\n",
       "  'NHS',\n",
       "  'Northland',\n",
       "  'Parks and Rec',\n",
       "  'Public Works',\n",
       "  'Water Services'],\n",
       " 'Trees': ['City Managers Office',\n",
       "  'NHS',\n",
       "  'Northland',\n",
       "  'Parks & Rec',\n",
       "  'Parks and Rec',\n",
       "  'Water Services'],\n",
       " 'Water': ['City Managers Office',\n",
       "  'Health',\n",
       "  'Parks and Rec',\n",
       "  'Public Works',\n",
       "  'Water Services'],\n",
       " 'Lights / Signals': ['City Managers Office',\n",
       "  'City Planning and Development',\n",
       "  'NHS',\n",
       "  'Parks and Rec',\n",
       "  'Public Works'],\n",
       " 'Sidewalks / Curbs / Ditch': ['City Managers Office',\n",
       "  'City Planning and Development',\n",
       "  'General Service',\n",
       "  'KCPD',\n",
       "  'NHS',\n",
       "  'Parks and Rec',\n",
       "  'Public Works',\n",
       "  'Water Services'],\n",
       " 'Animals / Pets': ['City Managers Office', 'Health', 'NHS'],\n",
       " 'Storm Water / Sewer': ['City Managers Office',\n",
       "  'NHS',\n",
       "  'Parks and Rec',\n",
       "  'Public Works',\n",
       "  'Water Services'],\n",
       " 'Mowing / Weeds': ['Aviation',\n",
       "  'City Managers Office',\n",
       "  'General Service',\n",
       "  'NHS',\n",
       "  'Northland',\n",
       "  'Parks and Rec',\n",
       "  'Public Works',\n",
       "  'Water Services'],\n",
       " 'Bulky Appointment': ['City Managers Office', 'NHS', 'Public Works'],\n",
       " 'Signs': ['City Managers Office',\n",
       "  'City Planning and Development',\n",
       "  'KCPD',\n",
       "  'NHS',\n",
       "  'Parks and Rec',\n",
       "  'Public Works',\n",
       "  'Water Services'],\n",
       " 'Public Health': ['City Managers Office',\n",
       "  'City Planning and Development',\n",
       "  'Health',\n",
       "  'NHS',\n",
       "  'Parks and Rec',\n",
       "  'Water Services'],\n",
       " 'Public Safety': ['City Managers Office',\n",
       "  'Fire',\n",
       "  'Health',\n",
       "  'KCPD',\n",
       "  'Municipal Court',\n",
       "  'NHS'],\n",
       " 'Vehicles / Parking': ['City Managers Office',\n",
       "  'City Planning and Development',\n",
       "  'KCPD',\n",
       "  'NHS',\n",
       "  'Northland',\n",
       "  'Public Works'],\n",
       " 'Capital Projects': ['City Managers Office',\n",
       "  'City Planning and Development',\n",
       "  'Finance',\n",
       "  'Parks and Rec',\n",
       "  'Public Works',\n",
       "  'Water Services'],\n",
       " 'Government': ['Aviation',\n",
       "  'City Managers Office',\n",
       "  'Finance',\n",
       "  'Human Resources',\n",
       "  'Information Technology',\n",
       "  'KCPD',\n",
       "  'Mayors Office',\n",
       "  'NHS',\n",
       "  'Parks and Rec',\n",
       "  'Public Works',\n",
       "  'Water Services'],\n",
       " 'Property Violations': ['City Managers Office', 'NHS'],\n",
       " 'Trash': ['City Managers Office',\n",
       "  'NHS',\n",
       "  'Parks & Rec',\n",
       "  'Parks and Rec',\n",
       "  'Public Works',\n",
       "  'Water Services'],\n",
       " 'Data Not Available': ['City Managers Office',\n",
       "  'City Planning and Development',\n",
       "  'Fire',\n",
       "  'Health',\n",
       "  'Housing Community Dev',\n",
       "  'KCPD',\n",
       "  'NCS',\n",
       "  'NHS',\n",
       "  'Northland',\n",
       "  'Parks and Rec',\n",
       "  'Public Works',\n",
       "  'Water Services'],\n",
       " 'City Facilities': ['Aviation',\n",
       "  'City Managers Office',\n",
       "  'Convention and Entertainment Center',\n",
       "  'General Service',\n",
       "  'NHS',\n",
       "  'Parks and Rec',\n",
       "  'Public Works',\n",
       "  'Water Services'],\n",
       " 'Animal': ['City Managers Office', 'Health', 'NCS', 'NHS'],\n",
       " 'Vehicle': ['City Managers Office', 'KCPD', 'NHS', 'Public Works'],\n",
       " 'Public Works': ['City Managers Office',\n",
       "  'NHS',\n",
       "  'Public Works',\n",
       "  'Water Services'],\n",
       " 'Noise Control': ['City Managers Office', 'Health', 'Public Works'],\n",
       " 'Water Services': ['City Managers Office', 'Public Works', 'Water Services'],\n",
       " 'Pothole': ['City Managers Office', 'Public Works'],\n",
       " 'Nuisance Violations': ['City Managers Office', 'NHS'],\n",
       " 'Water Leak': ['City Managers Office', 'Water Services'],\n",
       " 'Health': ['City Managers Office', 'Health', 'NHS'],\n",
       " 'Property & Nuisance Violations': ['City Managers Office', 'NHS'],\n",
       " 'Weeds': ['City Managers Office',\n",
       "  'General Service',\n",
       "  'NCS',\n",
       "  'NHS',\n",
       "  'Parks & Rec',\n",
       "  'Parks and Rec',\n",
       "  'Public Works'],\n",
       " 'City Planning & Development': ['City Managers Office',\n",
       "  'City Planning and Development'],\n",
       " 'Sewer': ['City Managers Office', 'NHS', 'Water Services'],\n",
       " 'Property Preservation': ['Housing Community Dev', 'NHS'],\n",
       " 'Storm Water': ['City Managers Office', 'Public Works', 'Water Services'],\n",
       " 'Neighborhood & Community Services': ['City Managers Office', 'NHS'],\n",
       " 'Fire': ['City Managers Office', 'Fire'],\n",
       " 'Neighborhood Preservation': ['NHS'],\n",
       " 'Street Light': ['City Managers Office', 'Public Works'],\n",
       " 'Sidewalk': ['City Managers Office', 'Public Works'],\n",
       " 'Signal': ['City Managers Office', 'Public Works'],\n",
       " 'Downtown Parking': ['City Managers Office', 'Public Works'],\n",
       " 'Graffiti': ['City Managers Office',\n",
       "  'NHS',\n",
       "  'Parks & Rec',\n",
       "  'Parks and Rec',\n",
       "  'Public Works'],\n",
       " 'Air Quality': ['City Managers Office', 'Health'],\n",
       " 'Street Sign': ['City Managers Office', 'Public Works'],\n",
       " 'Water Quality': ['City Managers Office', 'Water Services'],\n",
       " 'Street': ['City Managers Office', 'Public Works'],\n",
       " 'Snow & Ice': ['City Managers Office', 'Public Works'],\n",
       " 'Food Protection': ['City Managers Office', 'Health'],\n",
       " 'Maintenance': ['City Managers Office', 'Public Works', 'Water Services'],\n",
       " 'Traffic Sign': ['City Managers Office', 'Public Works'],\n",
       " 'Traffic Study': ['City Managers Office', 'Public Works'],\n",
       " 'City Managers Office': ['City Managers Office',\n",
       "  'Finance',\n",
       "  'NHS',\n",
       "  'Public Works',\n",
       "  'Water Services'],\n",
       " 'Right of Way': ['City Managers Office', 'Public Works'],\n",
       " 'Cleaning': ['City Managers Office', 'Public Works'],\n",
       " 'Markings': ['City Managers Office', 'Public Works'],\n",
       " 'Sealing': ['City Managers Office', 'Public Works'],\n",
       " 'Water Main Break': ['City Managers Office',\n",
       "  'Public Works',\n",
       "  'Water Services'],\n",
       " 'Zoning': ['City Managers Office', 'City Planning and Development', 'Health'],\n",
       " 'Convention & Entertainment Center': ['Convention and Entertainment Center'],\n",
       " 'Steel Plate': ['City Managers Office', 'Public Works'],\n",
       " 'Parking Meter': ['City Managers Office', 'Public Works'],\n",
       " 'Permit': ['City Managers Office',\n",
       "  'City Planning and Development',\n",
       "  'Public Works'],\n",
       " 'Ditch': ['City Managers Office', 'Public Works'],\n",
       " 'Bridge': ['City Managers Office', 'Public Works'],\n",
       " 'Sweeping': ['Public Works'],\n",
       " 'Park': ['City Managers Office',\n",
       "  'Parks & Rec',\n",
       "  'Parks & Recreation',\n",
       "  'Parks and Rec',\n",
       "  'Public Works'],\n",
       " 'Guard Rail': ['City Managers Office', 'Public Works'],\n",
       " 'Aviation': ['Aviation'],\n",
       " 'Facilities': ['City Managers Office',\n",
       "  'General Service',\n",
       "  'NHS',\n",
       "  'Public Works'],\n",
       " 'Information Technology': ['City Managers Office',\n",
       "  'IT',\n",
       "  'Information Technology',\n",
       "  'Public Works'],\n",
       " 'Housing': ['City Managers Office', 'NHS'],\n",
       " 'Park Maintenance': ['City Managers Office', 'Parks & Rec', 'Parks and Rec'],\n",
       " 'Boulevard Parks and Rec': ['City Managers Office',\n",
       "  'Parks & Rec',\n",
       "  'Parks & Recreation'],\n",
       " 'Law': ['City Managers Office', 'Water Services'],\n",
       " 'Consumer Services': ['City Managers Office', 'NHS', 'Water Services'],\n",
       " 'Wastewater': ['City Managers Office', 'Water Services'],\n",
       " 'Mayors Office': ['City Managers Office'],\n",
       " 'Finance': ['City Managers Office', 'Public Works'],\n",
       " 'Information Request': ['City Managers Office', 'NHS'],\n",
       " 'City Clerks Office': ['City Planning and Development'],\n",
       " 'Municipal Court': ['Public Works']}"
      ]
     },
     "metadata": {},
     "execution_count": 58
    }
   ],
   "source": [
    "inconsistency_dict = {x:[] for x in df_inconsistency['CATEGORY'].unique().tolist()}\n",
    "for i, g in df_inconsistency.groupby(['CATEGORY','DEPARTMENT']):\n",
    "#     print(i)\n",
    "    inconsistency_dict[i[0]].append(i[1])\n",
    "#     display(g)\n",
    "inconsistency_dict"
   ]
  },
  {
   "cell_type": "code",
   "execution_count": 62,
   "metadata": {
    "tags": []
   },
   "outputs": [
    {
     "output_type": "stream",
     "name": "stdout",
     "text": [
      "[\n    {\n        \"name\": \"Inconsistencies\",\n        \"parent\": \"null\",\n        \"children\": [\n            {\n                \"name\": \"Streets / Roadways / Alleys\",\n                \"parent\": \"null\",\n                \"children\": [\n                    {\n                        \"name\": \"City Managers Office\",\n                        \"parent\": \"Streets / Roadways / Alleys\",\n                        \"children\": []\n                    },\n                    {\n                        \"name\": \"City Planning and Development\",\n                        \"parent\": \"Streets / Roadways / Alleys\",\n                        \"children\": []\n                    },\n                    {\n                        \"name\": \"KCPD\",\n                        \"parent\": \"Streets / Roadways / Alleys\",\n                        \"children\": []\n                    },\n                    {\n                        \"name\": \"NHS\",\n                        \"parent\": \"Streets / Roadways / Alleys\",\n                        \"children\": []\n                    },\n                    {\n                        \"name\": \"Parks and Rec\",\n                        \"parent\": \"Streets / Roadways / Alleys\",\n                        \"children\": []\n                    },\n                    {\n                        \"name\": \"Public Works\",\n                        \"parent\": \"Streets / Roadways / Alleys\",\n                        \"children\": []\n                    },\n                    {\n                        \"name\": \"Water Services\",\n                        \"parent\": \"Streets / Roadways / Alleys\",\n                        \"children\": []\n                    }\n                ]\n            },\n            {\n                \"name\": \"Parks & Recreation\",\n                \"parent\": \"null\",\n                \"children\": [\n                    {\n                        \"name\": \"City Managers Office\",\n                        \"parent\": \"Parks & Recreation\",\n                        \"children\": []\n                    },\n                    {\n                        \"name\": \"Information Technology\",\n                        \"parent\": \"Parks & Recreation\",\n                        \"children\": []\n                    },\n                    {\n                        \"name\": \"NHS\",\n                        \"parent\": \"Parks & Recreation\",\n                        \"children\": []\n                    },\n                    {\n                        \"name\": \"Parks & Rec\",\n                        \"parent\": \"Parks & Recreation\",\n                        \"children\": []\n                    },\n                    {\n                        \"name\": \"Parks and Rec\",\n                        \"parent\": \"Parks & Recreation\",\n                        \"children\": []\n                    },\n                    {\n                        \"name\": \"Public Works\",\n                        \"parent\": \"Parks & Recreation\",\n                        \"children\": []\n                    },\n                    {\n                        \"name\": \"Water Services\",\n                        \"parent\": \"Parks & Recreation\",\n                        \"children\": []\n                    }\n                ]\n            },\n            {\n                \"name\": \"Property / Buildings / Construction\",\n                \"parent\": \"null\",\n                \"children\": [\n                    {\n                        \"name\": \"City Managers Office\",\n                        \"parent\": \"Property / Buildings / Construction\",\n                        \"children\": []\n                    },\n                    {\n                        \"name\": \"City Planning and Development\",\n                        \"parent\": \"Property / Buildings / Construction\",\n                        \"children\": []\n                    },\n                    {\n                        \"name\": \"General Service\",\n                        \"parent\": \"Property / Buildings / Construction\",\n                        \"children\": []\n                    },\n                    {\n                        \"name\": \"Health\",\n                        \"parent\": \"Property / Buildings / Construction\",\n                        \"children\": []\n                    },\n                    {\n                        \"name\": \"KCPD\",\n                        \"parent\": \"Property / Buildings / Construction\",\n                        \"children\": []\n                    },\n                    {\n                        \"name\": \"NHS\",\n                        \"parent\": \"Property / Buildings / Construction\",\n                        \"children\": []\n                    },\n                    {\n                        \"name\": \"Northeast\",\n                        \"parent\": \"Property / Buildings / Construction\",\n                        \"children\": []\n                    },\n                    {\n                        \"name\": \"Northland\",\n                        \"parent\": \"Property / Buildings / Construction\",\n                        \"children\": []\n                    },\n                    {\n                        \"name\": \"Public Works\",\n                        \"parent\": \"Property / Buildings / Construction\",\n                        \"children\": []\n                    },\n                    {\n                        \"name\": \"South\",\n                        \"parent\": \"Property / Buildings / Construction\",\n                        \"children\": []\n                    }\n                ]\n            },\n            {\n                \"name\": \"Trash / Recycling\",\n                \"parent\": \"null\",\n                \"children\": [\n                    {\n                        \"name\": \"City Managers Office\",\n                        \"parent\": \"Trash / Recycling\",\n                        \"children\": []\n                    },\n                    {\n                        \"name\": \"NHS\",\n                        \"parent\": \"Trash / Recycling\",\n                        \"children\": []\n                    },\n                    {\n                        \"name\": \"Northland\",\n                        \"parent\": \"Trash / Recycling\",\n                        \"children\": []\n                    },\n                    {\n                        \"name\": \"Parks and Rec\",\n                        \"parent\": \"Trash / Recycling\",\n                        \"children\": []\n                    },\n                    {\n                        \"name\": \"Public Works\",\n                        \"parent\": \"Trash / Recycling\",\n                        \"children\": []\n                    },\n                    {\n                        \"name\": \"Water Services\",\n                        \"parent\": \"Trash / Recycling\",\n                        \"children\": []\n                    }\n                ]\n            },\n            {\n                \"name\": \"Trees\",\n                \"parent\": \"null\",\n                \"children\": [\n                    {\n                        \"name\": \"City Managers Office\",\n                        \"parent\": \"Trees\",\n                        \"children\": []\n                    },\n                    {\n                        \"name\": \"NHS\",\n                        \"parent\": \"Trees\",\n                        \"children\": []\n                    },\n                    {\n                        \"name\": \"Northland\",\n                        \"parent\": \"Trees\",\n                        \"children\": []\n                    },\n                    {\n                        \"name\": \"Parks & Rec\",\n                        \"parent\": \"Trees\",\n                        \"children\": []\n                    },\n                    {\n                        \"name\": \"Parks and Rec\",\n                        \"parent\": \"Trees\",\n                        \"children\": []\n                    },\n                    {\n                        \"name\": \"Water Services\",\n                        \"parent\": \"Trees\",\n                        \"children\": []\n                    }\n                ]\n            }\n        ]\n    }\n]\n"
     ]
    }
   ],
   "source": [
    "'''\n",
    "Category -> Department\n",
    "'''\n",
    "hierarchy_obj = [{\n",
    "    \"name\": 'Inconsistencies',\n",
    "    \"parent\": 'null',\n",
    "    'children': []\n",
    "    }\n",
    "]\n",
    "MAX_CAT = 5\n",
    "count = 0\n",
    "for k,v in inconsistency_dict.items():\n",
    "    # print(k,v)\n",
    "    if count >= MAX_CAT:\n",
    "        break\n",
    "    cat_obj = {\n",
    "    \"name\": k,\n",
    "    \"parent\": \"null\",\n",
    "    \"children\": []\n",
    "    }\n",
    "    '''\n",
    "    Category -> Type \n",
    "    '''\n",
    "    for dpt in v:\n",
    "        dpt_obj = {\n",
    "            \"name\": dpt,\n",
    "            \"parent\": k,\n",
    "            'children': []\n",
    "          }\n",
    "        cat_obj['children'].append(dpt_obj)\n",
    "\n",
    "\n",
    "    hierarchy_obj[0]['children'].append(cat_obj)\n",
    "    # break\n",
    "    count+=1\n",
    "with open('inconsistency_hierarchy.json', 'w') as f:\n",
    "    json_obj = json.dumps(hierarchy_obj, indent = 4)\n",
    "    f.write(json_obj)\n",
    "print(json_obj)"
   ]
  },
  {
   "source": [
    "<h1> Redundancy Taxonomy"
   ],
   "cell_type": "markdown",
   "metadata": {}
  },
  {
   "cell_type": "code",
   "execution_count": 66,
   "metadata": {},
   "outputs": [],
   "source": [
    "from tqdm.notebook import tqdm\n",
    "df_redundancy = df_311.copy().loc[:, ['REQUEST TYPE', 'CATEGORY', 'TYPE', 'DETAIL']]"
   ]
  },
  {
   "cell_type": "code",
   "execution_count": 67,
   "metadata": {},
   "outputs": [
    {
     "output_type": "display_data",
     "data": {
      "text/plain": "HBox(children=(HTML(value=''), FloatProgress(value=0.0, max=1545067.0), HTML(value='')))",
      "application/vnd.jupyter.widget-view+json": {
       "version_major": 2,
       "version_minor": 0,
       "model_id": "81ce352ac04240ca9c34f6737e8d654e"
      }
     },
     "metadata": {}
    },
    {
     "output_type": "stream",
     "name": "stdout",
     "text": [
      "\n"
     ]
    },
    {
     "output_type": "execute_result",
     "data": {
      "text/plain": [
       "['Property Violations',\n",
       " 'Nuisance Violations',\n",
       " 'Water Main Break',\n",
       " 'Bulky Appointment']"
      ]
     },
     "metadata": {},
     "execution_count": 67
    }
   ],
   "source": [
    "redundancy_list = []\n",
    "for index, row in tqdm(df_redundancy.iterrows(), total = df_redundancy.shape[0]):\n",
    "    if row['REQUEST TYPE'] == row['CATEGORY']:\n",
    "        if row['CATEGORY'] not in redundancy_list:\n",
    "            redundancy_list.append(row['CATEGORY'])\n",
    "redundancy_list\n"
   ]
  },
  {
   "cell_type": "code",
   "execution_count": 70,
   "metadata": {},
   "outputs": [],
   "source": [
    "df_redundancy = df_redundancy[df_redundancy['REQUEST TYPE'].isin(redundancy_list)]\n"
   ]
  },
  {
   "cell_type": "code",
   "execution_count": 71,
   "metadata": {},
   "outputs": [
    {
     "output_type": "execute_result",
     "data": {
      "text/plain": [
       "{'Property Violations': ['Animals / Pets',\n",
       "  'Data Not Available',\n",
       "  'Mowing / Weeds',\n",
       "  'Neighborhood Preservation',\n",
       "  'Property / Buildings / Construction',\n",
       "  'Property Violations',\n",
       "  'Sidewalks / Curbs / Ditch',\n",
       "  'Storm Water / Sewer',\n",
       "  'Trash / Recycling',\n",
       "  'Trees',\n",
       "  'Vehicles / Parking'],\n",
       " 'Nuisance Violations': ['Data Not Available',\n",
       "  'Graffiti',\n",
       "  'Nuisance Violations'],\n",
       " 'Bulky Appointment': ['Bulky Appointment', 'Trash'],\n",
       " 'Water Main Break': ['Water Main Break']}"
      ]
     },
     "metadata": {},
     "execution_count": 71
    }
   ],
   "source": [
    "redundancy_dict = {x:[] for x in df_redundancy['REQUEST TYPE'].unique().tolist()}\n",
    "for i, g in df_redundancy.groupby(['REQUEST TYPE','CATEGORY']):\n",
    "#     print(i)\n",
    "    redundancy_dict[i[0]].append(i[1])\n",
    "#     display(g)\n",
    "redundancy_dict"
   ]
  },
  {
   "cell_type": "code",
   "execution_count": 72,
   "metadata": {},
   "outputs": [
    {
     "output_type": "stream",
     "name": "stdout",
     "text": [
      "[\n    {\n        \"name\": \"Redundancy\",\n        \"parent\": \"null\",\n        \"children\": [\n            {\n                \"name\": \"Property Violations\",\n                \"parent\": \"null\",\n                \"children\": [\n                    {\n                        \"name\": \"Animals / Pets\",\n                        \"parent\": \"Property Violations\",\n                        \"children\": []\n                    },\n                    {\n                        \"name\": \"Data Not Available\",\n                        \"parent\": \"Property Violations\",\n                        \"children\": []\n                    },\n                    {\n                        \"name\": \"Mowing / Weeds\",\n                        \"parent\": \"Property Violations\",\n                        \"children\": []\n                    },\n                    {\n                        \"name\": \"Neighborhood Preservation\",\n                        \"parent\": \"Property Violations\",\n                        \"children\": []\n                    },\n                    {\n                        \"name\": \"Property / Buildings / Construction\",\n                        \"parent\": \"Property Violations\",\n                        \"children\": []\n                    },\n                    {\n                        \"name\": \"Property Violations\",\n                        \"parent\": \"Property Violations\",\n                        \"children\": []\n                    },\n                    {\n                        \"name\": \"Sidewalks / Curbs / Ditch\",\n                        \"parent\": \"Property Violations\",\n                        \"children\": []\n                    },\n                    {\n                        \"name\": \"Storm Water / Sewer\",\n                        \"parent\": \"Property Violations\",\n                        \"children\": []\n                    },\n                    {\n                        \"name\": \"Trash / Recycling\",\n                        \"parent\": \"Property Violations\",\n                        \"children\": []\n                    },\n                    {\n                        \"name\": \"Trees\",\n                        \"parent\": \"Property Violations\",\n                        \"children\": []\n                    },\n                    {\n                        \"name\": \"Vehicles / Parking\",\n                        \"parent\": \"Property Violations\",\n                        \"children\": []\n                    }\n                ]\n            },\n            {\n                \"name\": \"Nuisance Violations\",\n                \"parent\": \"null\",\n                \"children\": [\n                    {\n                        \"name\": \"Data Not Available\",\n                        \"parent\": \"Nuisance Violations\",\n                        \"children\": []\n                    },\n                    {\n                        \"name\": \"Graffiti\",\n                        \"parent\": \"Nuisance Violations\",\n                        \"children\": []\n                    },\n                    {\n                        \"name\": \"Nuisance Violations\",\n                        \"parent\": \"Nuisance Violations\",\n                        \"children\": []\n                    }\n                ]\n            },\n            {\n                \"name\": \"Bulky Appointment\",\n                \"parent\": \"null\",\n                \"children\": [\n                    {\n                        \"name\": \"Bulky Appointment\",\n                        \"parent\": \"Bulky Appointment\",\n                        \"children\": []\n                    },\n                    {\n                        \"name\": \"Trash\",\n                        \"parent\": \"Bulky Appointment\",\n                        \"children\": []\n                    }\n                ]\n            },\n            {\n                \"name\": \"Water Main Break\",\n                \"parent\": \"null\",\n                \"children\": [\n                    {\n                        \"name\": \"Water Main Break\",\n                        \"parent\": \"Water Main Break\",\n                        \"children\": []\n                    }\n                ]\n            }\n        ]\n    }\n]\n"
     ]
    }
   ],
   "source": [
    "'''\n",
    "REQUEST TYPE -> CATEGORY (REDUNDANCY)\n",
    "'''\n",
    "hierarchy_obj = [{\n",
    "    \"name\": 'Redundancy',\n",
    "    \"parent\": 'null',\n",
    "    'children': []\n",
    "    }\n",
    "]\n",
    "MAX_CAT = 5\n",
    "count = 0\n",
    "for k,v in redundancy_dict.items():\n",
    "    # print(k,v)\n",
    "    reqType_obj = {\n",
    "    \"name\": k,\n",
    "    \"parent\": \"null\",\n",
    "    \"children\": []\n",
    "    }\n",
    "    for cat in v:\n",
    "        cat_obj = {\n",
    "            \"name\": cat,\n",
    "            \"parent\": k,\n",
    "            'children': []\n",
    "          }\n",
    "        reqType_obj['children'].append(cat_obj)\n",
    "\n",
    "\n",
    "    hierarchy_obj[0]['children'].append(reqType_obj)\n",
    "    # break\n",
    "    count+=1\n",
    "with open('redundancy_hierarchy.json', 'w') as f:\n",
    "    json_obj = json.dumps(hierarchy_obj, indent = 4)\n",
    "    f.write(json_obj)\n",
    "print(json_obj)"
   ]
  },
  {
   "source": [
    "<h1> 311 Vacant Calls"
   ],
   "cell_type": "markdown",
   "metadata": {}
  },
  {
   "cell_type": "code",
   "execution_count": 94,
   "metadata": {},
   "outputs": [
    {
     "output_type": "execute_result",
     "data": {
      "text/plain": [
       "                REQUEST TYPE        CATEGORY                  TYPE  \\\n",
       "145      Property Violations  Mowing / Weeds  Private / Commercial   \n",
       "159      Property Violations  Mowing / Weeds  Private / Commercial   \n",
       "428      Property Violations  Mowing / Weeds  Private / Commercial   \n",
       "555      Property Violations  Mowing / Weeds  Private / Commercial   \n",
       "556      Property Violations  Mowing / Weeds  Private / Commercial   \n",
       "...                      ...             ...                   ...   \n",
       "1543219  Property Violations  Mowing / Weeds  Private / Commercial   \n",
       "1544128  Property Violations  Mowing / Weeds  Private / Commercial   \n",
       "1544647  Property Violations  Mowing / Weeds  Private / Commercial   \n",
       "1544741  Property Violations  Mowing / Weeds  Private / Commercial   \n",
       "1544969  Property Violations  Mowing / Weeds  Private / Commercial   \n",
       "\n",
       "               DETAIL  \n",
       "145      Lot - Vacant  \n",
       "159      Lot - Vacant  \n",
       "428      Lot - Vacant  \n",
       "555      Lot - Vacant  \n",
       "556      Lot - Vacant  \n",
       "...               ...  \n",
       "1543219  Lot - Vacant  \n",
       "1544128  Lot - Vacant  \n",
       "1544647  Lot - Vacant  \n",
       "1544741  Lot - Vacant  \n",
       "1544969  Lot - Vacant  \n",
       "\n",
       "[30467 rows x 4 columns]"
      ],
      "text/html": "<div>\n<style scoped>\n    .dataframe tbody tr th:only-of-type {\n        vertical-align: middle;\n    }\n\n    .dataframe tbody tr th {\n        vertical-align: top;\n    }\n\n    .dataframe thead th {\n        text-align: right;\n    }\n</style>\n<table border=\"1\" class=\"dataframe\">\n  <thead>\n    <tr style=\"text-align: right;\">\n      <th></th>\n      <th>REQUEST TYPE</th>\n      <th>CATEGORY</th>\n      <th>TYPE</th>\n      <th>DETAIL</th>\n    </tr>\n  </thead>\n  <tbody>\n    <tr>\n      <th>145</th>\n      <td>Property Violations</td>\n      <td>Mowing / Weeds</td>\n      <td>Private / Commercial</td>\n      <td>Lot - Vacant</td>\n    </tr>\n    <tr>\n      <th>159</th>\n      <td>Property Violations</td>\n      <td>Mowing / Weeds</td>\n      <td>Private / Commercial</td>\n      <td>Lot - Vacant</td>\n    </tr>\n    <tr>\n      <th>428</th>\n      <td>Property Violations</td>\n      <td>Mowing / Weeds</td>\n      <td>Private / Commercial</td>\n      <td>Lot - Vacant</td>\n    </tr>\n    <tr>\n      <th>555</th>\n      <td>Property Violations</td>\n      <td>Mowing / Weeds</td>\n      <td>Private / Commercial</td>\n      <td>Lot - Vacant</td>\n    </tr>\n    <tr>\n      <th>556</th>\n      <td>Property Violations</td>\n      <td>Mowing / Weeds</td>\n      <td>Private / Commercial</td>\n      <td>Lot - Vacant</td>\n    </tr>\n    <tr>\n      <th>...</th>\n      <td>...</td>\n      <td>...</td>\n      <td>...</td>\n      <td>...</td>\n    </tr>\n    <tr>\n      <th>1543219</th>\n      <td>Property Violations</td>\n      <td>Mowing / Weeds</td>\n      <td>Private / Commercial</td>\n      <td>Lot - Vacant</td>\n    </tr>\n    <tr>\n      <th>1544128</th>\n      <td>Property Violations</td>\n      <td>Mowing / Weeds</td>\n      <td>Private / Commercial</td>\n      <td>Lot - Vacant</td>\n    </tr>\n    <tr>\n      <th>1544647</th>\n      <td>Property Violations</td>\n      <td>Mowing / Weeds</td>\n      <td>Private / Commercial</td>\n      <td>Lot - Vacant</td>\n    </tr>\n    <tr>\n      <th>1544741</th>\n      <td>Property Violations</td>\n      <td>Mowing / Weeds</td>\n      <td>Private / Commercial</td>\n      <td>Lot - Vacant</td>\n    </tr>\n    <tr>\n      <th>1544969</th>\n      <td>Property Violations</td>\n      <td>Mowing / Weeds</td>\n      <td>Private / Commercial</td>\n      <td>Lot - Vacant</td>\n    </tr>\n  </tbody>\n</table>\n<p>30467 rows × 4 columns</p>\n</div>"
     },
     "metadata": {},
     "execution_count": 94
    }
   ],
   "source": [
    "df_Vacant311 = df_311.copy().loc[:, ['REQUEST TYPE', 'CATEGORY', 'TYPE', 'DETAIL']]\n",
    "df_Vacant311 =df_Vacant311[df_Vacant311.apply(lambda col: col.str.contains('Vacant', na=False), axis=1).any(1)]\n",
    "\n",
    "df_Vacant311"
   ]
  },
  {
   "cell_type": "code",
   "execution_count": 95,
   "metadata": {},
   "outputs": [],
   "source": [
    "requestType_dict = {x:[] for x in df_PropVlt['REQUEST TYPE'].unique().tolist()}\n",
    "for i, g in df_PropVlt.groupby(['REQUEST TYPE','CATEGORY']):\n",
    "#     print(i)\n",
    "    requestType_dict[i[0]].append(i[1])\n",
    "#     display(g)\n",
    "category_dict = {x:[] for x in df_PropVlt['CATEGORY'].unique().tolist()}\n",
    "for i, g in df_PropVlt.groupby(['CATEGORY','TYPE']):\n",
    "#     print(i)\n",
    "    category_dict[i[0]].append(i[1])\n",
    "#     display(g)\n",
    "    \n",
    "type_dict = {x:[] for x in df_PropVlt['TYPE'].unique().tolist()}\n",
    "for i, g in df_PropVlt.groupby(['TYPE','DETAIL']):\n",
    "#     print(i)\n",
    "    type_dict[i[0]].append(i[1])\n",
    "#     display(g)\n"
   ]
  },
  {
   "cell_type": "code",
   "execution_count": 96,
   "metadata": {},
   "outputs": [
    {
     "output_type": "stream",
     "name": "stdout",
     "text": [
      "[\n    {\n        \"name\": \"311 Vacant Calls\",\n        \"parent\": \"null\",\n        \"children\": [\n            {\n                \"name\": \"Property Violations\",\n                \"parent\": \"null\",\n                \"children\": [\n                    {\n                        \"name\": \"Mowing / Weeds\",\n                        \"parent\": \"Property Violations\",\n                        \"children\": [\n                            {\n                                \"name\": \"Private / Commercial\",\n                                \"parent\": \"Mowing / Weeds\",\n                                \"children\": [\n                                    {\n                                        \"name\": \"Lot - Vacant\",\n                                        \"parent\": \"Private / Commercial\"\n                                    }\n                                ]\n                            },\n                            {\n                                \"name\": \"Public Property\",\n                                \"parent\": \"Mowing / Weeds\",\n                                \"children\": [\n                                    {\n                                        \"name\": \"City Vacant Lot\",\n                                        \"parent\": \"Public Property\"\n                                    }\n                                ]\n                            }\n                        ]\n                    }\n                ]\n            },\n            {\n                \"name\": \"Mowing / Weeds-Public Property-City Vacant Lot\",\n                \"parent\": \"null\",\n                \"children\": [\n                    {\n                        \"name\": \"Mowing / Weeds\",\n                        \"parent\": \"Mowing / Weeds-Public Property-City Vacant Lot\",\n                        \"children\": [\n                            {\n                                \"name\": \"Private / Commercial\",\n                                \"parent\": \"Mowing / Weeds\",\n                                \"children\": [\n                                    {\n                                        \"name\": \"Lot - Vacant\",\n                                        \"parent\": \"Private / Commercial\"\n                                    }\n                                ]\n                            },\n                            {\n                                \"name\": \"Public Property\",\n                                \"parent\": \"Mowing / Weeds\",\n                                \"children\": [\n                                    {\n                                        \"name\": \"City Vacant Lot\",\n                                        \"parent\": \"Public Property\"\n                                    }\n                                ]\n                            }\n                        ]\n                    }\n                ]\n            },\n            {\n                \"name\": \"Vacant Structure Open to Entry\",\n                \"parent\": \"null\",\n                \"children\": [\n                    {\n                        \"name\": \"Property Violations\",\n                        \"parent\": \"Vacant Structure Open to Entry\",\n                        \"children\": [\n                            {\n                                \"name\": \"Board Up\",\n                                \"parent\": \"Property Violations\",\n                                \"children\": [\n                                    {\n                                        \"name\": \"All\",\n                                        \"parent\": \"Board Up\"\n                                    }\n                                ]\n                            }\n                        ]\n                    }\n                ]\n            },\n            {\n                \"name\": \"Animals / Pets-Rat Treatment-Vacant Home\",\n                \"parent\": \"null\",\n                \"children\": [\n                    {\n                        \"name\": \"Animals / Pets\",\n                        \"parent\": \"Animals / Pets-Rat Treatment-Vacant Home\",\n                        \"children\": [\n                            {\n                                \"name\": \"Rat Treatment\",\n                                \"parent\": \"Animals / Pets\",\n                                \"children\": [\n                                    {\n                                        \"name\": \"Vacant Home\",\n                                        \"parent\": \"Rat Treatment\"\n                                    },\n                                    {\n                                        \"name\": \"Vacant Lot\",\n                                        \"parent\": \"Rat Treatment\"\n                                    }\n                                ]\n                            }\n                        ]\n                    }\n                ]\n            },\n            {\n                \"name\": \"Animals / Pets-Rat Treatment-Vacant Property\",\n                \"parent\": \"null\",\n                \"children\": [\n                    {\n                        \"name\": \"Animals / Pets\",\n                        \"parent\": \"Animals / Pets-Rat Treatment-Vacant Property\",\n                        \"children\": [\n                            {\n                                \"name\": \"Rat Treatment\",\n                                \"parent\": \"Animals / Pets\",\n                                \"children\": [\n                                    {\n                                        \"name\": \"Vacant Home\",\n                                        \"parent\": \"Rat Treatment\"\n                                    },\n                                    {\n                                        \"name\": \"Vacant Lot\",\n                                        \"parent\": \"Rat Treatment\"\n                                    }\n                                ]\n                            }\n                        ]\n                    }\n                ]\n            },\n            {\n                \"name\": \"Nuisance Violations on Private Property Vacant Structure\",\n                \"parent\": \"null\",\n                \"children\": [\n                    {\n                        \"name\": \"Property & Nuisance Violations\",\n                        \"parent\": \"Nuisance Violations on Private Property Vacant Structure\",\n                        \"children\": [\n                            {\n                                \"name\": \"Private Property\",\n                                \"parent\": \"Property & Nuisance Violations\",\n                                \"children\": [\n                                    {\n                                        \"name\": \"All\",\n                                        \"parent\": \"Private Property\"\n                                    }\n                                ]\n                            }\n                        ]\n                    }\n                ]\n            }\n        ]\n    }\n]\n"
     ]
    }
   ],
   "source": [
    "'''\n",
    "Request Type -> Category -> Type -> Detail Hierarchy\n",
    "'''\n",
    "hierarchy_obj = [{\n",
    "    \"name\": '311 Vacant Calls',\n",
    "    \"parent\": 'null',\n",
    "    'children': []\n",
    "    }\n",
    "]\n",
    "\n",
    "for k,v in requestType_dict.items():\n",
    "    # print(k,v)\n",
    "    rqType_obj = {\n",
    "    \"name\": k,\n",
    "    \"parent\": \"null\",\n",
    "    \"children\": []\n",
    "    }\n",
    "    '''\n",
    "    Category -> Type \n",
    "    '''\n",
    "    for cat in v:\n",
    "        cat_obj = {\n",
    "            \"name\": cat,\n",
    "            \"parent\": k,\n",
    "            'children': []\n",
    "          }\n",
    "        '''\n",
    "        Type -> Detail \n",
    "        '''\n",
    "        for typ in category_dict[cat]:\n",
    "            type_obj = {\n",
    "            \"name\": typ,\n",
    "            \"parent\": cat,\n",
    "            'children': []\n",
    "            }\n",
    "            for detail in type_dict[typ]:\n",
    "                det_obj = {\n",
    "                    \"name\": detail,\n",
    "                    \"parent\": typ,\n",
    "                }\n",
    "                type_obj['children'].append(det_obj)\n",
    "            cat_obj['children'].append(type_obj)\n",
    "\n",
    "        rqType_obj['children'].append(cat_obj)\n",
    "\n",
    "\n",
    "    hierarchy_obj[0]['children'].append(rqType_obj)\n",
    "    # break\n",
    "\n",
    "with open('311_vacant_hierarchy.json', 'w') as f:\n",
    "    json_obj = json.dumps(hierarchy_obj, indent = 4)\n",
    "    f.write(json_obj)\n",
    "print(json_obj)"
   ]
  },
  {
   "cell_type": "code",
   "execution_count": null,
   "metadata": {},
   "outputs": [],
   "source": []
  }
 ],
 "metadata": {
  "kernelspec": {
   "display_name": "Python 3",
   "language": "python",
   "name": "python3"
  },
  "language_info": {
   "codemirror_mode": {
    "name": "ipython",
    "version": 3
   },
   "file_extension": ".py",
   "mimetype": "text/x-python",
   "name": "python",
   "nbconvert_exporter": "python",
   "pygments_lexer": "ipython3",
   "version": "3.8.8"
  }
 },
 "nbformat": 4,
 "nbformat_minor": 4
}