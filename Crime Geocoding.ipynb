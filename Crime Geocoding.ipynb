{
 "metadata": {
  "language_info": {
   "codemirror_mode": {
    "name": "ipython",
    "version": 3
   },
   "file_extension": ".py",
   "mimetype": "text/x-python",
   "name": "python",
   "nbconvert_exporter": "python",
   "pygments_lexer": "ipython3",
   "version": "3.9.1-final"
  },
  "orig_nbformat": 2,
  "kernelspec": {
   "name": "python3",
   "display_name": "Python 3.9.1 64-bit",
   "metadata": {
    "interpreter": {
     "hash": "743d8e81f6457303ca6194fcdb1f2fe72990b27d918a951aab731d237c696ad8"
    }
   }
  }
 },
 "nbformat": 4,
 "nbformat_minor": 2,
 "cells": [
  {
   "cell_type": "code",
   "execution_count": null,
   "metadata": {},
   "outputs": [],
   "source": [
    "import pandas as pd\n",
    "import math\n",
    "from tqdm.notebook import tqdm\n",
    "\n",
    "\n"
   ]
  },
  {
   "cell_type": "code",
   "execution_count": 32,
   "metadata": {},
   "outputs": [
    {
     "output_type": "execute_result",
     "data": {
      "text/plain": [
       "        Report_No Reported_Date Reported_Time   From_Date From_Time  \\\n",
       "0      KC19019997    03/19/2019         10:14  03/18/2019     23:00   \n",
       "1      KC19020310    03/20/2019         09:46  03/20/2019     09:32   \n",
       "2      KC19020439    03/20/2019         17:11  03/20/2019     17:30   \n",
       "3      KC19021445    03/24/2019         15:26  03/24/2019     15:26   \n",
       "4      KC19021555    03/25/2019         07:35  03/25/2019     09:09   \n",
       "...           ...           ...           ...         ...       ...   \n",
       "78041  KC19088414    11/18/2019         20:55  11/18/2019     12:10   \n",
       "78042  KC19095028    12/15/2019         00:07  12/15/2019     00:07   \n",
       "78043  KC19094960    12/14/2019         11:57  12/12/2019     01:30   \n",
       "78044  KC19090150    11/25/2019         16:20  11/22/2019     19:00   \n",
       "78045  KC19093526    12/09/2019         06:26  12/08/2019     23:54   \n",
       "\n",
       "          To_Date To_Time                                            Offense  \\\n",
       "0      03/19/2019   07:00               Stealing from Auto (Theft from Auto)   \n",
       "1      03/20/2019   10:48                      City/Municipal Warrant Arrest   \n",
       "2             NaN     NaN                      City/Municipal Warrant Arrest   \n",
       "3      03/24/2019   16:02                       Outside State Warrant Arrest   \n",
       "4             NaN     NaN  Possession/Sale/Distribution of a Controlled S...   \n",
       "...           ...     ...                                                ...   \n",
       "78041         NaN     NaN      Harassment / Intimidation - Domestic Violence   \n",
       "78042  12/15/2019   00:07                               Assault (Aggravated)   \n",
       "78043  12/15/2019   11:57                             Burglary (Residential)   \n",
       "78044  11/25/2019   07:45                         Burglary (Non-Residential)   \n",
       "78045         NaN     NaN                               Assault (Aggravated)   \n",
       "\n",
       "      IBRS                     Description  ... Zip Code Rep_Dist  Area  \\\n",
       "0      23F        Theft From Motor Vehicle  ...  64151.0   PP0674   NPD   \n",
       "1      NaN                             NaN  ...  64068.0      NaN  OSPD   \n",
       "2      NaN                             NaN  ...  64068.0      NaN  OSPD   \n",
       "3      NaN                             NaN  ...  64117.0   PC1130   SCP   \n",
       "4      35A      Drug / Narcotic Violations  ...  64108.0   PJ1831   CPD   \n",
       "...    ...                             ...  ...      ...      ...   ...   \n",
       "78041  13C                    Intimidation  ...  64132.0      NaN   MPD   \n",
       "78042  13A              Aggravated Assault  ...  64109.0      NaN   CPD   \n",
       "78043  220  Burglary/Breaking and Entering  ...  64129.0   PJ2242   EPD   \n",
       "78044  220  Burglary/Breaking and Entering  ...  64132.0   PJ6345   MPD   \n",
       "78045  13A              Aggravated Assault  ...  64127.0   PJ1644   EPD   \n",
       "\n",
       "       DVFlag  Involvement Race Sex   Age Firearm Used Flag  \\\n",
       "0           N      CMP VIC    W   F  51.0             False   \n",
       "1           N      ARR SUS    W   M  32.0             False   \n",
       "2           N  ARR CHA SUS    W   M  31.0             False   \n",
       "3           N  ARR CHA SUS    W   F  27.0             False   \n",
       "4           N  ARR CHA SUS    B   M  31.0             False   \n",
       "...       ...          ...  ...  ..   ...               ...   \n",
       "78041       N          SUS    W   F   NaN             False   \n",
       "78042       N  ARR CHA SUS    B   F  38.0             False   \n",
       "78043       N          SUS    U   M   NaN             False   \n",
       "78044       N          VIC    W   M  50.0             False   \n",
       "78045       N          VIC    W   F   NaN              True   \n",
       "\n",
       "                                                Location  \n",
       "0                                                    NaN  \n",
       "1                                                    NaN  \n",
       "2                                                    NaN  \n",
       "3                                                    NaN  \n",
       "4                                                    NaN  \n",
       "...                                                  ...  \n",
       "78041                                                NaN  \n",
       "78042  2400  E LINWOOD BLVD\\nKANSAS CITY 64109\\n(39.0...  \n",
       "78043  2600  BOOTH AVE\\nKANSAS CITY 64129\\n(39.076245...  \n",
       "78044  8700  INDIANA AVE\\nKANSAS CITY 64132\\n(38.9670...  \n",
       "78045  3000  E 19TH TER\\nKANSAS CITY 64127\\n(39.08894...  \n",
       "\n",
       "[78046 rows x 23 columns]"
      ],
      "text/html": "<div>\n<style scoped>\n    .dataframe tbody tr th:only-of-type {\n        vertical-align: middle;\n    }\n\n    .dataframe tbody tr th {\n        vertical-align: top;\n    }\n\n    .dataframe thead th {\n        text-align: right;\n    }\n</style>\n<table border=\"1\" class=\"dataframe\">\n  <thead>\n    <tr style=\"text-align: right;\">\n      <th></th>\n      <th>Report_No</th>\n      <th>Reported_Date</th>\n      <th>Reported_Time</th>\n      <th>From_Date</th>\n      <th>From_Time</th>\n      <th>To_Date</th>\n      <th>To_Time</th>\n      <th>Offense</th>\n      <th>IBRS</th>\n      <th>Description</th>\n      <th>...</th>\n      <th>Zip Code</th>\n      <th>Rep_Dist</th>\n      <th>Area</th>\n      <th>DVFlag</th>\n      <th>Involvement</th>\n      <th>Race</th>\n      <th>Sex</th>\n      <th>Age</th>\n      <th>Firearm Used Flag</th>\n      <th>Location</th>\n    </tr>\n  </thead>\n  <tbody>\n    <tr>\n      <th>0</th>\n      <td>KC19019997</td>\n      <td>03/19/2019</td>\n      <td>10:14</td>\n      <td>03/18/2019</td>\n      <td>23:00</td>\n      <td>03/19/2019</td>\n      <td>07:00</td>\n      <td>Stealing from Auto (Theft from Auto)</td>\n      <td>23F</td>\n      <td>Theft From Motor Vehicle</td>\n      <td>...</td>\n      <td>64151.0</td>\n      <td>PP0674</td>\n      <td>NPD</td>\n      <td>N</td>\n      <td>CMP VIC</td>\n      <td>W</td>\n      <td>F</td>\n      <td>51.0</td>\n      <td>False</td>\n      <td>NaN</td>\n    </tr>\n    <tr>\n      <th>1</th>\n      <td>KC19020310</td>\n      <td>03/20/2019</td>\n      <td>09:46</td>\n      <td>03/20/2019</td>\n      <td>09:32</td>\n      <td>03/20/2019</td>\n      <td>10:48</td>\n      <td>City/Municipal Warrant Arrest</td>\n      <td>NaN</td>\n      <td>NaN</td>\n      <td>...</td>\n      <td>64068.0</td>\n      <td>NaN</td>\n      <td>OSPD</td>\n      <td>N</td>\n      <td>ARR SUS</td>\n      <td>W</td>\n      <td>M</td>\n      <td>32.0</td>\n      <td>False</td>\n      <td>NaN</td>\n    </tr>\n    <tr>\n      <th>2</th>\n      <td>KC19020439</td>\n      <td>03/20/2019</td>\n      <td>17:11</td>\n      <td>03/20/2019</td>\n      <td>17:30</td>\n      <td>NaN</td>\n      <td>NaN</td>\n      <td>City/Municipal Warrant Arrest</td>\n      <td>NaN</td>\n      <td>NaN</td>\n      <td>...</td>\n      <td>64068.0</td>\n      <td>NaN</td>\n      <td>OSPD</td>\n      <td>N</td>\n      <td>ARR CHA SUS</td>\n      <td>W</td>\n      <td>M</td>\n      <td>31.0</td>\n      <td>False</td>\n      <td>NaN</td>\n    </tr>\n    <tr>\n      <th>3</th>\n      <td>KC19021445</td>\n      <td>03/24/2019</td>\n      <td>15:26</td>\n      <td>03/24/2019</td>\n      <td>15:26</td>\n      <td>03/24/2019</td>\n      <td>16:02</td>\n      <td>Outside State Warrant Arrest</td>\n      <td>NaN</td>\n      <td>NaN</td>\n      <td>...</td>\n      <td>64117.0</td>\n      <td>PC1130</td>\n      <td>SCP</td>\n      <td>N</td>\n      <td>ARR CHA SUS</td>\n      <td>W</td>\n      <td>F</td>\n      <td>27.0</td>\n      <td>False</td>\n      <td>NaN</td>\n    </tr>\n    <tr>\n      <th>4</th>\n      <td>KC19021555</td>\n      <td>03/25/2019</td>\n      <td>07:35</td>\n      <td>03/25/2019</td>\n      <td>09:09</td>\n      <td>NaN</td>\n      <td>NaN</td>\n      <td>Possession/Sale/Distribution of a Controlled S...</td>\n      <td>35A</td>\n      <td>Drug / Narcotic Violations</td>\n      <td>...</td>\n      <td>64108.0</td>\n      <td>PJ1831</td>\n      <td>CPD</td>\n      <td>N</td>\n      <td>ARR CHA SUS</td>\n      <td>B</td>\n      <td>M</td>\n      <td>31.0</td>\n      <td>False</td>\n      <td>NaN</td>\n    </tr>\n    <tr>\n      <th>...</th>\n      <td>...</td>\n      <td>...</td>\n      <td>...</td>\n      <td>...</td>\n      <td>...</td>\n      <td>...</td>\n      <td>...</td>\n      <td>...</td>\n      <td>...</td>\n      <td>...</td>\n      <td>...</td>\n      <td>...</td>\n      <td>...</td>\n      <td>...</td>\n      <td>...</td>\n      <td>...</td>\n      <td>...</td>\n      <td>...</td>\n      <td>...</td>\n      <td>...</td>\n      <td>...</td>\n    </tr>\n    <tr>\n      <th>78041</th>\n      <td>KC19088414</td>\n      <td>11/18/2019</td>\n      <td>20:55</td>\n      <td>11/18/2019</td>\n      <td>12:10</td>\n      <td>NaN</td>\n      <td>NaN</td>\n      <td>Harassment / Intimidation - Domestic Violence</td>\n      <td>13C</td>\n      <td>Intimidation</td>\n      <td>...</td>\n      <td>64132.0</td>\n      <td>NaN</td>\n      <td>MPD</td>\n      <td>N</td>\n      <td>SUS</td>\n      <td>W</td>\n      <td>F</td>\n      <td>NaN</td>\n      <td>False</td>\n      <td>NaN</td>\n    </tr>\n    <tr>\n      <th>78042</th>\n      <td>KC19095028</td>\n      <td>12/15/2019</td>\n      <td>00:07</td>\n      <td>12/15/2019</td>\n      <td>00:07</td>\n      <td>12/15/2019</td>\n      <td>00:07</td>\n      <td>Assault (Aggravated)</td>\n      <td>13A</td>\n      <td>Aggravated Assault</td>\n      <td>...</td>\n      <td>64109.0</td>\n      <td>NaN</td>\n      <td>CPD</td>\n      <td>N</td>\n      <td>ARR CHA SUS</td>\n      <td>B</td>\n      <td>F</td>\n      <td>38.0</td>\n      <td>False</td>\n      <td>2400  E LINWOOD BLVD\\nKANSAS CITY 64109\\n(39.0...</td>\n    </tr>\n    <tr>\n      <th>78043</th>\n      <td>KC19094960</td>\n      <td>12/14/2019</td>\n      <td>11:57</td>\n      <td>12/12/2019</td>\n      <td>01:30</td>\n      <td>12/15/2019</td>\n      <td>11:57</td>\n      <td>Burglary (Residential)</td>\n      <td>220</td>\n      <td>Burglary/Breaking and Entering</td>\n      <td>...</td>\n      <td>64129.0</td>\n      <td>PJ2242</td>\n      <td>EPD</td>\n      <td>N</td>\n      <td>SUS</td>\n      <td>U</td>\n      <td>M</td>\n      <td>NaN</td>\n      <td>False</td>\n      <td>2600  BOOTH AVE\\nKANSAS CITY 64129\\n(39.076245...</td>\n    </tr>\n    <tr>\n      <th>78044</th>\n      <td>KC19090150</td>\n      <td>11/25/2019</td>\n      <td>16:20</td>\n      <td>11/22/2019</td>\n      <td>19:00</td>\n      <td>11/25/2019</td>\n      <td>07:45</td>\n      <td>Burglary (Non-Residential)</td>\n      <td>220</td>\n      <td>Burglary/Breaking and Entering</td>\n      <td>...</td>\n      <td>64132.0</td>\n      <td>PJ6345</td>\n      <td>MPD</td>\n      <td>N</td>\n      <td>VIC</td>\n      <td>W</td>\n      <td>M</td>\n      <td>50.0</td>\n      <td>False</td>\n      <td>8700  INDIANA AVE\\nKANSAS CITY 64132\\n(38.9670...</td>\n    </tr>\n    <tr>\n      <th>78045</th>\n      <td>KC19093526</td>\n      <td>12/09/2019</td>\n      <td>06:26</td>\n      <td>12/08/2019</td>\n      <td>23:54</td>\n      <td>NaN</td>\n      <td>NaN</td>\n      <td>Assault (Aggravated)</td>\n      <td>13A</td>\n      <td>Aggravated Assault</td>\n      <td>...</td>\n      <td>64127.0</td>\n      <td>PJ1644</td>\n      <td>EPD</td>\n      <td>N</td>\n      <td>VIC</td>\n      <td>W</td>\n      <td>F</td>\n      <td>NaN</td>\n      <td>True</td>\n      <td>3000  E 19TH TER\\nKANSAS CITY 64127\\n(39.08894...</td>\n    </tr>\n  </tbody>\n</table>\n<p>78046 rows × 23 columns</p>\n</div>"
     },
     "metadata": {},
     "execution_count": 32
    }
   ],
   "source": [
    "df_crime"
   ]
  },
  {
   "cell_type": "code",
   "execution_count": null,
   "metadata": {},
   "outputs": [],
   "source": [
    "filename = 'Crime/KCPD_Crime_Data_2019.csv'\n",
    "df_crime = pd.read_csv(filename)"
   ]
  },
  {
   "cell_type": "code",
   "execution_count": null,
   "metadata": {},
   "outputs": [],
   "source": []
  },
  {
   "cell_type": "code",
   "execution_count": null,
   "metadata": {},
   "outputs": [],
   "source": [
    "df_crime[df_crime['City'] == 'KANSAS'][['Address','City', 'Zip Code']]"
   ]
  }
 ]
}