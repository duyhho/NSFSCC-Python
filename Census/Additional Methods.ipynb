{
 "metadata": {
  "language_info": {
   "codemirror_mode": {
    "name": "ipython",
    "version": 3
   },
   "file_extension": ".py",
   "mimetype": "text/x-python",
   "name": "python",
   "nbconvert_exporter": "python",
   "pygments_lexer": "ipython3",
   "version": "3.8.5-final"
  },
  "orig_nbformat": 2,
  "kernelspec": {
   "name": "python3",
   "display_name": "Python 3.8.5 64-bit (conda)",
   "metadata": {
    "interpreter": {
     "hash": "a69a97d3c0c90f1132d3fe1c1bdf15f941a20aa0a78eb54401bae5bd6029936d"
    }
   }
  }
 },
 "nbformat": 4,
 "nbformat_minor": 2,
 "cells": [
  {
   "cell_type": "code",
   "execution_count": 198,
   "metadata": {},
   "outputs": [],
   "source": [
    "import pandas as pd\n",
    "import numpy as np\n",
    "from sklearn.model_selection import train_test_split\n",
    "from sklearn.preprocessing import MinMaxScaler   , RobustScaler, StandardScaler\n",
    "import seaborn as sns\n",
    "from sklearn.linear_model import LinearRegression\n",
    "from sklearn.ensemble import RandomForestRegressor, AdaBoostRegressor, BaggingRegressor, GradientBoostingRegressor\n",
    "from sklearn.ensemble import AdaBoostRegressor\n",
    "from sklearn import metrics\n",
    "from sklearn.svm import SVR\n",
    "from sklearn.ensemble import BaggingRegressor"
   ]
  },
  {
   "cell_type": "code",
   "execution_count": 6,
   "metadata": {},
   "outputs": [
    {
     "output_type": "execute_result",
     "data": {
      "text/plain": [
       "   BLOCKGROUP_ID  Total population  Median income  Median home value  \\\n",
       "0   290019505004              1127          15955             134900   \n",
       "1   290019505003              1033          41652             155800   \n",
       "2   290019503004               811          13167              98500   \n",
       "3   290019503001               527          39208              71600   \n",
       "4   290019502002               857          48529              82400   \n",
       "\n",
       "   Total population age 25+ years with a bachelor's degree or higher  \\\n",
       "0                                                 93                   \n",
       "1                                                270                   \n",
       "2                                                121                   \n",
       "3                                                 97                   \n",
       "4                                                127                   \n",
       "\n",
       "   White alone  Black or African American alone  Asian alone  \\\n",
       "0         1010                               14           95   \n",
       "1          952                               11           28   \n",
       "2          738                               41           31   \n",
       "3          525                                2            0   \n",
       "4          763                                0            0   \n",
       "\n",
       "   Hispanic or Latino  Total Vacant  ...  \\\n",
       "0                   0            14  ...   \n",
       "1                   0            28  ...   \n",
       "2                   0            74  ...   \n",
       "3                   0            92  ...   \n",
       "4                  84           157  ...   \n",
       "\n",
       "   Households considered in poverty calculation  \\\n",
       "0                                           433   \n",
       "1                                           337   \n",
       "2                                           352   \n",
       "3                                           249   \n",
       "4                                           340   \n",
       "\n",
       "   Families with income below poverty  Individuals with income below poverty  \\\n",
       "0                                  72                                    607   \n",
       "1                                   0                                    218   \n",
       "2                                   0                                    443   \n",
       "3                                  13                                    123   \n",
       "4                                  39                                    148   \n",
       "\n",
       "   Households with income below poverty  Total population 25 or older  \\\n",
       "0                                   233                           373   \n",
       "1                                   126                           350   \n",
       "2                                   213                           407   \n",
       "3                                    76                           411   \n",
       "4                                    60                           594   \n",
       "\n",
       "   No schooling completed  High school diploma  Bachelor's degree  \\\n",
       "0                       0                    0                 81   \n",
       "1                       0                    0                 86   \n",
       "2                      11                   21                 45   \n",
       "3                       2                   21                 37   \n",
       "4                       3                   18                 61   \n",
       "\n",
       "   Master's degree  Doctorate degree  \n",
       "0                0                 0  \n",
       "1               69                99  \n",
       "2               45                31  \n",
       "3               50                 3  \n",
       "4               61                 0  \n",
       "\n",
       "[5 rows x 27 columns]"
      ],
      "text/html": "<div>\n<style scoped>\n    .dataframe tbody tr th:only-of-type {\n        vertical-align: middle;\n    }\n\n    .dataframe tbody tr th {\n        vertical-align: top;\n    }\n\n    .dataframe thead th {\n        text-align: right;\n    }\n</style>\n<table border=\"1\" class=\"dataframe\">\n  <thead>\n    <tr style=\"text-align: right;\">\n      <th></th>\n      <th>BLOCKGROUP_ID</th>\n      <th>Total population</th>\n      <th>Median income</th>\n      <th>Median home value</th>\n      <th>Total population age 25+ years with a bachelor's degree or higher</th>\n      <th>White alone</th>\n      <th>Black or African American alone</th>\n      <th>Asian alone</th>\n      <th>Hispanic or Latino</th>\n      <th>Total Vacant</th>\n      <th>...</th>\n      <th>Households considered in poverty calculation</th>\n      <th>Families with income below poverty</th>\n      <th>Individuals with income below poverty</th>\n      <th>Households with income below poverty</th>\n      <th>Total population 25 or older</th>\n      <th>No schooling completed</th>\n      <th>High school diploma</th>\n      <th>Bachelor's degree</th>\n      <th>Master's degree</th>\n      <th>Doctorate degree</th>\n    </tr>\n  </thead>\n  <tbody>\n    <tr>\n      <th>0</th>\n      <td>290019505004</td>\n      <td>1127</td>\n      <td>15955</td>\n      <td>134900</td>\n      <td>93</td>\n      <td>1010</td>\n      <td>14</td>\n      <td>95</td>\n      <td>0</td>\n      <td>14</td>\n      <td>...</td>\n      <td>433</td>\n      <td>72</td>\n      <td>607</td>\n      <td>233</td>\n      <td>373</td>\n      <td>0</td>\n      <td>0</td>\n      <td>81</td>\n      <td>0</td>\n      <td>0</td>\n    </tr>\n    <tr>\n      <th>1</th>\n      <td>290019505003</td>\n      <td>1033</td>\n      <td>41652</td>\n      <td>155800</td>\n      <td>270</td>\n      <td>952</td>\n      <td>11</td>\n      <td>28</td>\n      <td>0</td>\n      <td>28</td>\n      <td>...</td>\n      <td>337</td>\n      <td>0</td>\n      <td>218</td>\n      <td>126</td>\n      <td>350</td>\n      <td>0</td>\n      <td>0</td>\n      <td>86</td>\n      <td>69</td>\n      <td>99</td>\n    </tr>\n    <tr>\n      <th>2</th>\n      <td>290019503004</td>\n      <td>811</td>\n      <td>13167</td>\n      <td>98500</td>\n      <td>121</td>\n      <td>738</td>\n      <td>41</td>\n      <td>31</td>\n      <td>0</td>\n      <td>74</td>\n      <td>...</td>\n      <td>352</td>\n      <td>0</td>\n      <td>443</td>\n      <td>213</td>\n      <td>407</td>\n      <td>11</td>\n      <td>21</td>\n      <td>45</td>\n      <td>45</td>\n      <td>31</td>\n    </tr>\n    <tr>\n      <th>3</th>\n      <td>290019503001</td>\n      <td>527</td>\n      <td>39208</td>\n      <td>71600</td>\n      <td>97</td>\n      <td>525</td>\n      <td>2</td>\n      <td>0</td>\n      <td>0</td>\n      <td>92</td>\n      <td>...</td>\n      <td>249</td>\n      <td>13</td>\n      <td>123</td>\n      <td>76</td>\n      <td>411</td>\n      <td>2</td>\n      <td>21</td>\n      <td>37</td>\n      <td>50</td>\n      <td>3</td>\n    </tr>\n    <tr>\n      <th>4</th>\n      <td>290019502002</td>\n      <td>857</td>\n      <td>48529</td>\n      <td>82400</td>\n      <td>127</td>\n      <td>763</td>\n      <td>0</td>\n      <td>0</td>\n      <td>84</td>\n      <td>157</td>\n      <td>...</td>\n      <td>340</td>\n      <td>39</td>\n      <td>148</td>\n      <td>60</td>\n      <td>594</td>\n      <td>3</td>\n      <td>18</td>\n      <td>61</td>\n      <td>61</td>\n      <td>0</td>\n    </tr>\n  </tbody>\n</table>\n<p>5 rows × 27 columns</p>\n</div>"
     },
     "metadata": {},
     "execution_count": 6
    }
   ],
   "source": [
    "df_census = pd.read_csv('Census-validBG.csv')\n",
    "df_2019_missing = pd.read_csv('Census_corruptBG_v2.csv')\n",
    "df = df_census.drop(['BLOCKGROUP_ID'], axis = 1).reset_index(drop=True).astype(int)\n",
    "\n",
    "df_census.head()"
   ]
  },
  {
   "cell_type": "code",
   "execution_count": 7,
   "metadata": {},
   "outputs": [
    {
     "output_type": "display_data",
     "data": {
      "text/plain": "    Total population  Median income  \\\n0              887.0        21731.0   \n1             2337.0        13885.0   \n2             1736.0        13810.0   \n3              780.0        17500.0   \n4              187.0        28250.0   \n5              893.0        39926.0   \n6              625.0        29358.0   \n7              270.0        30556.0   \n8             3271.0        16069.0   \n9              750.0        16050.0   \n10            1894.0        12222.0   \n11             428.0        26402.0   \n12            1293.0        11920.0   \n13            1016.0        37157.0   \n14             982.0        52188.0   \n15            1014.0        44435.0   \n16             826.0        44456.0   \n17            8516.0        41761.0   \n18             921.0        80125.0   \n19             629.0        67750.0   \n20             911.0        49009.0   \n21            2559.0        39528.0   \n22            1955.0        78359.0   \n23            1883.0        48073.0   \n24             833.0        25521.0   \n25             783.0        27799.0   \n26             545.0        32300.0   \n27            1017.0        38341.0   \n28             986.0        81915.0   \n29             272.0        42500.0   \n30             873.0        12366.0   \n31            1572.0        11409.0   \n32             616.0        27917.0   \n33             961.0        64122.0   \n34             977.0        28750.0   \n35            1890.0        26250.0   \n36             933.0        21318.0   \n\n    Total population age 25+ years with a bachelor's degree or higher  \\\n0                                                11.0                   \n1                                               408.0                   \n2                                                 0.0                   \n3                                                59.0                   \n4                                                 5.0                   \n5                                               303.0                   \n6                                                36.0                   \n7                                                10.0                   \n8                                                55.0                   \n9                                                84.0                   \n10                                               49.0                   \n11                                               24.0                   \n12                                               10.0                   \n13                                              278.0                   \n14                                              147.0                   \n15                                                0.0                   \n16                                               40.0                   \n17                                             1057.0                   \n18                                              237.0                   \n19                                               30.0                   \n20                                               51.0                   \n21                                              368.0                   \n22                                              885.0                   \n23                                              334.0                   \n24                                               27.0                   \n25                                              366.0                   \n26                                              198.0                   \n27                                              122.0                   \n28                                                0.0                   \n29                                                9.0                   \n30                                               32.0                   \n31                                               82.0                   \n32                                              165.0                   \n33                                              563.0                   \n34                                              107.0                   \n35                                              468.0                   \n36                                              203.0                   \n\n    White alone  Black or African American alone  Asian alone  \\\n0         597.0                              0.0        165.0   \n1        1744.0                             92.0        251.0   \n2        1430.0                             91.0         27.0   \n3         537.0                            169.0          0.0   \n4         187.0                              0.0          0.0   \n5         631.0                            168.0          0.0   \n6         392.0                             54.0         54.0   \n7         120.0                            150.0          0.0   \n8        2763.0                            209.0        136.0   \n9         525.0                             31.0        134.0   \n10       1548.0                            101.0        175.0   \n11         29.0                            369.0          0.0   \n12        106.0                            799.0        157.0   \n13        391.0                            564.0          0.0   \n14        626.0                            172.0         50.0   \n15        680.0                            286.0          0.0   \n16        470.0                             93.0          8.0   \n17       3797.0                           2048.0        459.0   \n18        497.0                            147.0          0.0   \n19        201.0                              0.0          0.0   \n20        534.0                             50.0         84.0   \n21       1926.0                            221.0         76.0   \n22        304.0                            198.0       1263.0   \n23       1781.0                            102.0          0.0   \n24         42.0                            626.0         30.0   \n25        153.0                            527.0         20.0   \n26        262.0                            260.0          0.0   \n27        112.0                            773.0          0.0   \n28        542.0                            444.0          0.0   \n29         19.0                            144.0          0.0   \n30         17.0                            781.0          0.0   \n31        861.0                            392.0        161.0   \n32         45.0                            556.0          0.0   \n33        483.0                            155.0        163.0   \n34         15.0                            953.0          0.0   \n35       1068.0                            251.0        340.0   \n36        558.0                            101.0        204.0   \n\n    Hispanic or Latino  Total Vacant  Total Renter Occupied  \\\n0                 29.0          92.0                  314.0   \n1                 66.0          91.0                 1104.0   \n2                 76.0          30.0                  278.0   \n3                  6.0          35.0                  442.0   \n4                  0.0          50.0                   19.0   \n5                 62.0         168.0                  621.0   \n6                  0.0           0.0                  181.0   \n7                  0.0          54.0                  102.0   \n8                119.0         122.0                  579.0   \n9                  7.0          44.0                  258.0   \n10                56.0         116.0                  450.0   \n11                23.0         162.0                  190.0   \n12               199.0          81.0                  447.0   \n13                33.0          72.0                  681.0   \n14               115.0           0.0                  309.0   \n15                48.0           0.0                  321.0   \n16               194.0          54.0                  233.0   \n17              1606.0          53.0                  211.0   \n18               277.0           0.0                  194.0   \n19               394.0           0.0                   93.0   \n20               163.0          39.0                  254.0   \n21               257.0         141.0                  818.0   \n22               174.0           0.0                  656.0   \n23                 0.0          51.0                 1048.0   \n24                 0.0         122.0                  323.0   \n25                36.0          50.0                  342.0   \n26                 0.0           0.0                  408.0   \n27               132.0          35.0                  301.0   \n28                 0.0          20.0                   42.0   \n29               109.0          57.0                   82.0   \n30                65.0          45.0                  441.0   \n31               101.0         145.0                  372.0   \n32                 7.0          12.0                  262.0   \n33                93.0         174.0                  696.0   \n34                 0.0          52.0                  424.0   \n35               167.0         112.0                  653.0   \n36                31.0         149.0                  303.0   \n\n    Total civilian labor force  Total employed  Total unemployed  \\\n0                        356.0           307.0              49.0   \n1                       1364.0          1255.0             109.0   \n2                        714.0           677.0              37.0   \n3                        245.0           232.0              13.0   \n4                         95.0            83.0              12.0   \n5                        587.0           587.0               0.0   \n6                        243.0           172.0              71.0   \n7                        138.0            90.0              48.0   \n8                       1237.0          1048.0             189.0   \n9                        390.0           390.0               0.0   \n10                       709.0           617.0              92.0   \n11                       128.0           115.0              13.0   \n12                       592.0           485.0             107.0   \n13                       712.0           712.0               0.0   \n14                       242.0           221.0              21.0   \n15                       454.0           454.0               0.0   \n16                       149.0           124.0              25.0   \n17                      1378.0          1315.0              63.0   \n18                       190.0            91.0              99.0   \n19                       133.0           123.0              10.0   \n20                       230.0           177.0              53.0   \n21                       712.0           701.0              11.0   \n22                       969.0           948.0              21.0   \n23                      1594.0          1467.0             127.0   \n24                       368.0           326.0              42.0   \n25                       501.0           430.0              71.0   \n26                       468.0           468.0               0.0   \n27                       566.0           534.0              32.0   \n28                       224.0           224.0               0.0   \n29                       156.0           122.0              34.0   \n30                       392.0           267.0             125.0   \n31                       553.0           532.0              21.0   \n32                       347.0           276.0              71.0   \n33                       740.0           694.0              46.0   \n34                       311.0           251.0              60.0   \n35                       871.0           815.0              56.0   \n36                       475.0           450.0              25.0   \n\n    Households with income below poverty  \n0                                  191.0  \n1                                  777.0  \n2                                  269.0  \n3                                  202.0  \n4                                    8.0  \n5                                  189.0  \n6                                   68.0  \n7                                   86.0  \n8                                  358.0  \n9                                  134.0  \n10                                 364.0  \n11                                  62.0  \n12                                 315.0  \n13                                  82.0  \n14                                  27.0  \n15                                  26.0  \n16                                  15.0  \n17                                   7.0  \n18                                   9.0  \n19                                   0.0  \n20                                  18.0  \n21                                  88.0  \n22                                  56.0  \n23                                  43.0  \n24                                 110.0  \n25                                 165.0  \n26                                  32.0  \n27                                   0.0  \n28                                   0.0  \n29                                  34.0  \n30                                 247.0  \n31                                 214.0  \n32                                  69.0  \n33                                  89.0  \n34                                 150.0  \n35                                 243.0  \n36                                 130.0  ",
      "text/html": "<div>\n<style scoped>\n    .dataframe tbody tr th:only-of-type {\n        vertical-align: middle;\n    }\n\n    .dataframe tbody tr th {\n        vertical-align: top;\n    }\n\n    .dataframe thead th {\n        text-align: right;\n    }\n</style>\n<table border=\"1\" class=\"dataframe\">\n  <thead>\n    <tr style=\"text-align: right;\">\n      <th></th>\n      <th>Total population</th>\n      <th>Median income</th>\n      <th>Total population age 25+ years with a bachelor's degree or higher</th>\n      <th>White alone</th>\n      <th>Black or African American alone</th>\n      <th>Asian alone</th>\n      <th>Hispanic or Latino</th>\n      <th>Total Vacant</th>\n      <th>Total Renter Occupied</th>\n      <th>Total civilian labor force</th>\n      <th>Total employed</th>\n      <th>Total unemployed</th>\n      <th>Households with income below poverty</th>\n    </tr>\n  </thead>\n  <tbody>\n    <tr>\n      <th>0</th>\n      <td>887.0</td>\n      <td>21731.0</td>\n      <td>11.0</td>\n      <td>597.0</td>\n      <td>0.0</td>\n      <td>165.0</td>\n      <td>29.0</td>\n      <td>92.0</td>\n      <td>314.0</td>\n      <td>356.0</td>\n      <td>307.0</td>\n      <td>49.0</td>\n      <td>191.0</td>\n    </tr>\n    <tr>\n      <th>1</th>\n      <td>2337.0</td>\n      <td>13885.0</td>\n      <td>408.0</td>\n      <td>1744.0</td>\n      <td>92.0</td>\n      <td>251.0</td>\n      <td>66.0</td>\n      <td>91.0</td>\n      <td>1104.0</td>\n      <td>1364.0</td>\n      <td>1255.0</td>\n      <td>109.0</td>\n      <td>777.0</td>\n    </tr>\n    <tr>\n      <th>2</th>\n      <td>1736.0</td>\n      <td>13810.0</td>\n      <td>0.0</td>\n      <td>1430.0</td>\n      <td>91.0</td>\n      <td>27.0</td>\n      <td>76.0</td>\n      <td>30.0</td>\n      <td>278.0</td>\n      <td>714.0</td>\n      <td>677.0</td>\n      <td>37.0</td>\n      <td>269.0</td>\n    </tr>\n    <tr>\n      <th>3</th>\n      <td>780.0</td>\n      <td>17500.0</td>\n      <td>59.0</td>\n      <td>537.0</td>\n      <td>169.0</td>\n      <td>0.0</td>\n      <td>6.0</td>\n      <td>35.0</td>\n      <td>442.0</td>\n      <td>245.0</td>\n      <td>232.0</td>\n      <td>13.0</td>\n      <td>202.0</td>\n    </tr>\n    <tr>\n      <th>4</th>\n      <td>187.0</td>\n      <td>28250.0</td>\n      <td>5.0</td>\n      <td>187.0</td>\n      <td>0.0</td>\n      <td>0.0</td>\n      <td>0.0</td>\n      <td>50.0</td>\n      <td>19.0</td>\n      <td>95.0</td>\n      <td>83.0</td>\n      <td>12.0</td>\n      <td>8.0</td>\n    </tr>\n    <tr>\n      <th>5</th>\n      <td>893.0</td>\n      <td>39926.0</td>\n      <td>303.0</td>\n      <td>631.0</td>\n      <td>168.0</td>\n      <td>0.0</td>\n      <td>62.0</td>\n      <td>168.0</td>\n      <td>621.0</td>\n      <td>587.0</td>\n      <td>587.0</td>\n      <td>0.0</td>\n      <td>189.0</td>\n    </tr>\n    <tr>\n      <th>6</th>\n      <td>625.0</td>\n      <td>29358.0</td>\n      <td>36.0</td>\n      <td>392.0</td>\n      <td>54.0</td>\n      <td>54.0</td>\n      <td>0.0</td>\n      <td>0.0</td>\n      <td>181.0</td>\n      <td>243.0</td>\n      <td>172.0</td>\n      <td>71.0</td>\n      <td>68.0</td>\n    </tr>\n    <tr>\n      <th>7</th>\n      <td>270.0</td>\n      <td>30556.0</td>\n      <td>10.0</td>\n      <td>120.0</td>\n      <td>150.0</td>\n      <td>0.0</td>\n      <td>0.0</td>\n      <td>54.0</td>\n      <td>102.0</td>\n      <td>138.0</td>\n      <td>90.0</td>\n      <td>48.0</td>\n      <td>86.0</td>\n    </tr>\n    <tr>\n      <th>8</th>\n      <td>3271.0</td>\n      <td>16069.0</td>\n      <td>55.0</td>\n      <td>2763.0</td>\n      <td>209.0</td>\n      <td>136.0</td>\n      <td>119.0</td>\n      <td>122.0</td>\n      <td>579.0</td>\n      <td>1237.0</td>\n      <td>1048.0</td>\n      <td>189.0</td>\n      <td>358.0</td>\n    </tr>\n    <tr>\n      <th>9</th>\n      <td>750.0</td>\n      <td>16050.0</td>\n      <td>84.0</td>\n      <td>525.0</td>\n      <td>31.0</td>\n      <td>134.0</td>\n      <td>7.0</td>\n      <td>44.0</td>\n      <td>258.0</td>\n      <td>390.0</td>\n      <td>390.0</td>\n      <td>0.0</td>\n      <td>134.0</td>\n    </tr>\n    <tr>\n      <th>10</th>\n      <td>1894.0</td>\n      <td>12222.0</td>\n      <td>49.0</td>\n      <td>1548.0</td>\n      <td>101.0</td>\n      <td>175.0</td>\n      <td>56.0</td>\n      <td>116.0</td>\n      <td>450.0</td>\n      <td>709.0</td>\n      <td>617.0</td>\n      <td>92.0</td>\n      <td>364.0</td>\n    </tr>\n    <tr>\n      <th>11</th>\n      <td>428.0</td>\n      <td>26402.0</td>\n      <td>24.0</td>\n      <td>29.0</td>\n      <td>369.0</td>\n      <td>0.0</td>\n      <td>23.0</td>\n      <td>162.0</td>\n      <td>190.0</td>\n      <td>128.0</td>\n      <td>115.0</td>\n      <td>13.0</td>\n      <td>62.0</td>\n    </tr>\n    <tr>\n      <th>12</th>\n      <td>1293.0</td>\n      <td>11920.0</td>\n      <td>10.0</td>\n      <td>106.0</td>\n      <td>799.0</td>\n      <td>157.0</td>\n      <td>199.0</td>\n      <td>81.0</td>\n      <td>447.0</td>\n      <td>592.0</td>\n      <td>485.0</td>\n      <td>107.0</td>\n      <td>315.0</td>\n    </tr>\n    <tr>\n      <th>13</th>\n      <td>1016.0</td>\n      <td>37157.0</td>\n      <td>278.0</td>\n      <td>391.0</td>\n      <td>564.0</td>\n      <td>0.0</td>\n      <td>33.0</td>\n      <td>72.0</td>\n      <td>681.0</td>\n      <td>712.0</td>\n      <td>712.0</td>\n      <td>0.0</td>\n      <td>82.0</td>\n    </tr>\n    <tr>\n      <th>14</th>\n      <td>982.0</td>\n      <td>52188.0</td>\n      <td>147.0</td>\n      <td>626.0</td>\n      <td>172.0</td>\n      <td>50.0</td>\n      <td>115.0</td>\n      <td>0.0</td>\n      <td>309.0</td>\n      <td>242.0</td>\n      <td>221.0</td>\n      <td>21.0</td>\n      <td>27.0</td>\n    </tr>\n    <tr>\n      <th>15</th>\n      <td>1014.0</td>\n      <td>44435.0</td>\n      <td>0.0</td>\n      <td>680.0</td>\n      <td>286.0</td>\n      <td>0.0</td>\n      <td>48.0</td>\n      <td>0.0</td>\n      <td>321.0</td>\n      <td>454.0</td>\n      <td>454.0</td>\n      <td>0.0</td>\n      <td>26.0</td>\n    </tr>\n    <tr>\n      <th>16</th>\n      <td>826.0</td>\n      <td>44456.0</td>\n      <td>40.0</td>\n      <td>470.0</td>\n      <td>93.0</td>\n      <td>8.0</td>\n      <td>194.0</td>\n      <td>54.0</td>\n      <td>233.0</td>\n      <td>149.0</td>\n      <td>124.0</td>\n      <td>25.0</td>\n      <td>15.0</td>\n    </tr>\n    <tr>\n      <th>17</th>\n      <td>8516.0</td>\n      <td>41761.0</td>\n      <td>1057.0</td>\n      <td>3797.0</td>\n      <td>2048.0</td>\n      <td>459.0</td>\n      <td>1606.0</td>\n      <td>53.0</td>\n      <td>211.0</td>\n      <td>1378.0</td>\n      <td>1315.0</td>\n      <td>63.0</td>\n      <td>7.0</td>\n    </tr>\n    <tr>\n      <th>18</th>\n      <td>921.0</td>\n      <td>80125.0</td>\n      <td>237.0</td>\n      <td>497.0</td>\n      <td>147.0</td>\n      <td>0.0</td>\n      <td>277.0</td>\n      <td>0.0</td>\n      <td>194.0</td>\n      <td>190.0</td>\n      <td>91.0</td>\n      <td>99.0</td>\n      <td>9.0</td>\n    </tr>\n    <tr>\n      <th>19</th>\n      <td>629.0</td>\n      <td>67750.0</td>\n      <td>30.0</td>\n      <td>201.0</td>\n      <td>0.0</td>\n      <td>0.0</td>\n      <td>394.0</td>\n      <td>0.0</td>\n      <td>93.0</td>\n      <td>133.0</td>\n      <td>123.0</td>\n      <td>10.0</td>\n      <td>0.0</td>\n    </tr>\n    <tr>\n      <th>20</th>\n      <td>911.0</td>\n      <td>49009.0</td>\n      <td>51.0</td>\n      <td>534.0</td>\n      <td>50.0</td>\n      <td>84.0</td>\n      <td>163.0</td>\n      <td>39.0</td>\n      <td>254.0</td>\n      <td>230.0</td>\n      <td>177.0</td>\n      <td>53.0</td>\n      <td>18.0</td>\n    </tr>\n    <tr>\n      <th>21</th>\n      <td>2559.0</td>\n      <td>39528.0</td>\n      <td>368.0</td>\n      <td>1926.0</td>\n      <td>221.0</td>\n      <td>76.0</td>\n      <td>257.0</td>\n      <td>141.0</td>\n      <td>818.0</td>\n      <td>712.0</td>\n      <td>701.0</td>\n      <td>11.0</td>\n      <td>88.0</td>\n    </tr>\n    <tr>\n      <th>22</th>\n      <td>1955.0</td>\n      <td>78359.0</td>\n      <td>885.0</td>\n      <td>304.0</td>\n      <td>198.0</td>\n      <td>1263.0</td>\n      <td>174.0</td>\n      <td>0.0</td>\n      <td>656.0</td>\n      <td>969.0</td>\n      <td>948.0</td>\n      <td>21.0</td>\n      <td>56.0</td>\n    </tr>\n    <tr>\n      <th>23</th>\n      <td>1883.0</td>\n      <td>48073.0</td>\n      <td>334.0</td>\n      <td>1781.0</td>\n      <td>102.0</td>\n      <td>0.0</td>\n      <td>0.0</td>\n      <td>51.0</td>\n      <td>1048.0</td>\n      <td>1594.0</td>\n      <td>1467.0</td>\n      <td>127.0</td>\n      <td>43.0</td>\n    </tr>\n    <tr>\n      <th>24</th>\n      <td>833.0</td>\n      <td>25521.0</td>\n      <td>27.0</td>\n      <td>42.0</td>\n      <td>626.0</td>\n      <td>30.0</td>\n      <td>0.0</td>\n      <td>122.0</td>\n      <td>323.0</td>\n      <td>368.0</td>\n      <td>326.0</td>\n      <td>42.0</td>\n      <td>110.0</td>\n    </tr>\n    <tr>\n      <th>25</th>\n      <td>783.0</td>\n      <td>27799.0</td>\n      <td>366.0</td>\n      <td>153.0</td>\n      <td>527.0</td>\n      <td>20.0</td>\n      <td>36.0</td>\n      <td>50.0</td>\n      <td>342.0</td>\n      <td>501.0</td>\n      <td>430.0</td>\n      <td>71.0</td>\n      <td>165.0</td>\n    </tr>\n    <tr>\n      <th>26</th>\n      <td>545.0</td>\n      <td>32300.0</td>\n      <td>198.0</td>\n      <td>262.0</td>\n      <td>260.0</td>\n      <td>0.0</td>\n      <td>0.0</td>\n      <td>0.0</td>\n      <td>408.0</td>\n      <td>468.0</td>\n      <td>468.0</td>\n      <td>0.0</td>\n      <td>32.0</td>\n    </tr>\n    <tr>\n      <th>27</th>\n      <td>1017.0</td>\n      <td>38341.0</td>\n      <td>122.0</td>\n      <td>112.0</td>\n      <td>773.0</td>\n      <td>0.0</td>\n      <td>132.0</td>\n      <td>35.0</td>\n      <td>301.0</td>\n      <td>566.0</td>\n      <td>534.0</td>\n      <td>32.0</td>\n      <td>0.0</td>\n    </tr>\n    <tr>\n      <th>28</th>\n      <td>986.0</td>\n      <td>81915.0</td>\n      <td>0.0</td>\n      <td>542.0</td>\n      <td>444.0</td>\n      <td>0.0</td>\n      <td>0.0</td>\n      <td>20.0</td>\n      <td>42.0</td>\n      <td>224.0</td>\n      <td>224.0</td>\n      <td>0.0</td>\n      <td>0.0</td>\n    </tr>\n    <tr>\n      <th>29</th>\n      <td>272.0</td>\n      <td>42500.0</td>\n      <td>9.0</td>\n      <td>19.0</td>\n      <td>144.0</td>\n      <td>0.0</td>\n      <td>109.0</td>\n      <td>57.0</td>\n      <td>82.0</td>\n      <td>156.0</td>\n      <td>122.0</td>\n      <td>34.0</td>\n      <td>34.0</td>\n    </tr>\n    <tr>\n      <th>30</th>\n      <td>873.0</td>\n      <td>12366.0</td>\n      <td>32.0</td>\n      <td>17.0</td>\n      <td>781.0</td>\n      <td>0.0</td>\n      <td>65.0</td>\n      <td>45.0</td>\n      <td>441.0</td>\n      <td>392.0</td>\n      <td>267.0</td>\n      <td>125.0</td>\n      <td>247.0</td>\n    </tr>\n    <tr>\n      <th>31</th>\n      <td>1572.0</td>\n      <td>11409.0</td>\n      <td>82.0</td>\n      <td>861.0</td>\n      <td>392.0</td>\n      <td>161.0</td>\n      <td>101.0</td>\n      <td>145.0</td>\n      <td>372.0</td>\n      <td>553.0</td>\n      <td>532.0</td>\n      <td>21.0</td>\n      <td>214.0</td>\n    </tr>\n    <tr>\n      <th>32</th>\n      <td>616.0</td>\n      <td>27917.0</td>\n      <td>165.0</td>\n      <td>45.0</td>\n      <td>556.0</td>\n      <td>0.0</td>\n      <td>7.0</td>\n      <td>12.0</td>\n      <td>262.0</td>\n      <td>347.0</td>\n      <td>276.0</td>\n      <td>71.0</td>\n      <td>69.0</td>\n    </tr>\n    <tr>\n      <th>33</th>\n      <td>961.0</td>\n      <td>64122.0</td>\n      <td>563.0</td>\n      <td>483.0</td>\n      <td>155.0</td>\n      <td>163.0</td>\n      <td>93.0</td>\n      <td>174.0</td>\n      <td>696.0</td>\n      <td>740.0</td>\n      <td>694.0</td>\n      <td>46.0</td>\n      <td>89.0</td>\n    </tr>\n    <tr>\n      <th>34</th>\n      <td>977.0</td>\n      <td>28750.0</td>\n      <td>107.0</td>\n      <td>15.0</td>\n      <td>953.0</td>\n      <td>0.0</td>\n      <td>0.0</td>\n      <td>52.0</td>\n      <td>424.0</td>\n      <td>311.0</td>\n      <td>251.0</td>\n      <td>60.0</td>\n      <td>150.0</td>\n    </tr>\n    <tr>\n      <th>35</th>\n      <td>1890.0</td>\n      <td>26250.0</td>\n      <td>468.0</td>\n      <td>1068.0</td>\n      <td>251.0</td>\n      <td>340.0</td>\n      <td>167.0</td>\n      <td>112.0</td>\n      <td>653.0</td>\n      <td>871.0</td>\n      <td>815.0</td>\n      <td>56.0</td>\n      <td>243.0</td>\n    </tr>\n    <tr>\n      <th>36</th>\n      <td>933.0</td>\n      <td>21318.0</td>\n      <td>203.0</td>\n      <td>558.0</td>\n      <td>101.0</td>\n      <td>204.0</td>\n      <td>31.0</td>\n      <td>149.0</td>\n      <td>303.0</td>\n      <td>475.0</td>\n      <td>450.0</td>\n      <td>25.0</td>\n      <td>130.0</td>\n    </tr>\n  </tbody>\n</table>\n</div>"
     },
     "metadata": {}
    },
    {
     "output_type": "execute_result",
     "data": {
      "text/plain": [
       "      Total population  Median income  Median home value  \\\n",
       "0               1127.0        15955.0           134900.0   \n",
       "1               1033.0        41652.0           155800.0   \n",
       "2                811.0        13167.0            98500.0   \n",
       "3                527.0        39208.0            71600.0   \n",
       "4                857.0        48529.0            82400.0   \n",
       "...                ...            ...                ...   \n",
       "4180             540.0        39934.0            93600.0   \n",
       "4181             813.0        34276.0            95400.0   \n",
       "4182            1716.0        28125.0            98300.0   \n",
       "4183             494.0        55489.0           258800.0   \n",
       "4184            1069.0        37039.0           212000.0   \n",
       "\n",
       "      Total population age 25+ years with a bachelor's degree or higher  \\\n",
       "0                                              0.082520                   \n",
       "1                                              0.261375                   \n",
       "2                                              0.149199                   \n",
       "3                                              0.184061                   \n",
       "4                                              0.148191                   \n",
       "...                                                 ...                   \n",
       "4180                                           0.120370                   \n",
       "4181                                           0.115621                   \n",
       "4182                                           0.083333                   \n",
       "4183                                           0.451417                   \n",
       "4184                                           0.465856                   \n",
       "\n",
       "      White alone  Black or African American alone  Asian alone  \\\n",
       "0        0.896185                         0.012422     0.084295   \n",
       "1        0.921588                         0.010649     0.027106   \n",
       "2        0.909988                         0.050555     0.038224   \n",
       "3        0.996205                         0.003795     0.000000   \n",
       "4        0.890315                         0.000000     0.000000   \n",
       "...           ...                              ...          ...   \n",
       "4180     0.664815                         0.000000     0.000000   \n",
       "4181     0.739237                         0.092251     0.097171   \n",
       "4182     0.385198                         0.430070     0.004079   \n",
       "4183     0.846154                         0.087045     0.000000   \n",
       "4184     0.535080                         0.303087     0.045837   \n",
       "\n",
       "      Hispanic or Latino  Total Vacant  Total Renter Occupied  \\\n",
       "0               0.000000      0.032333               0.674365   \n",
       "1               0.000000      0.083086               0.406528   \n",
       "2               0.000000      0.210227               0.849432   \n",
       "3               0.000000      0.369478               0.188755   \n",
       "4               0.098016      0.461765               0.150000   \n",
       "...                  ...           ...                    ...   \n",
       "4180            0.335185      0.159091               0.200000   \n",
       "4181            0.071341      0.144796               0.260181   \n",
       "4182            0.174825      0.205993               0.677903   \n",
       "4183            0.030364      0.111913               0.592058   \n",
       "4184            0.072965      0.145833               0.925000   \n",
       "\n",
       "      Total civilian labor force  Total employed  Total unemployed  \\\n",
       "0                          353.0           328.0              25.0   \n",
       "1                          528.0           472.0              56.0   \n",
       "2                          388.0           374.0              14.0   \n",
       "3                          222.0           220.0               2.0   \n",
       "4                          415.0           392.0              23.0   \n",
       "...                          ...             ...               ...   \n",
       "4180                       222.0           209.0              13.0   \n",
       "4181                       436.0           424.0              12.0   \n",
       "4182                       822.0           710.0             112.0   \n",
       "4183                       337.0           323.0              14.0   \n",
       "4184                       778.0           753.0              25.0   \n",
       "\n",
       "      Households with income below poverty  \n",
       "0                                 0.538106  \n",
       "1                                 0.373887  \n",
       "2                                 0.605114  \n",
       "3                                 0.305221  \n",
       "4                                 0.176471  \n",
       "...                                    ...  \n",
       "4180                              0.145455  \n",
       "4181                              0.149321  \n",
       "4182                              0.451311  \n",
       "4183                              0.140794  \n",
       "4184                              0.161111  \n",
       "\n",
       "[4185 rows x 14 columns]"
      ],
      "text/html": "<div>\n<style scoped>\n    .dataframe tbody tr th:only-of-type {\n        vertical-align: middle;\n    }\n\n    .dataframe tbody tr th {\n        vertical-align: top;\n    }\n\n    .dataframe thead th {\n        text-align: right;\n    }\n</style>\n<table border=\"1\" class=\"dataframe\">\n  <thead>\n    <tr style=\"text-align: right;\">\n      <th></th>\n      <th>Total population</th>\n      <th>Median income</th>\n      <th>Median home value</th>\n      <th>Total population age 25+ years with a bachelor's degree or higher</th>\n      <th>White alone</th>\n      <th>Black or African American alone</th>\n      <th>Asian alone</th>\n      <th>Hispanic or Latino</th>\n      <th>Total Vacant</th>\n      <th>Total Renter Occupied</th>\n      <th>Total civilian labor force</th>\n      <th>Total employed</th>\n      <th>Total unemployed</th>\n      <th>Households with income below poverty</th>\n    </tr>\n  </thead>\n  <tbody>\n    <tr>\n      <th>0</th>\n      <td>1127.0</td>\n      <td>15955.0</td>\n      <td>134900.0</td>\n      <td>0.082520</td>\n      <td>0.896185</td>\n      <td>0.012422</td>\n      <td>0.084295</td>\n      <td>0.000000</td>\n      <td>0.032333</td>\n      <td>0.674365</td>\n      <td>353.0</td>\n      <td>328.0</td>\n      <td>25.0</td>\n      <td>0.538106</td>\n    </tr>\n    <tr>\n      <th>1</th>\n      <td>1033.0</td>\n      <td>41652.0</td>\n      <td>155800.0</td>\n      <td>0.261375</td>\n      <td>0.921588</td>\n      <td>0.010649</td>\n      <td>0.027106</td>\n      <td>0.000000</td>\n      <td>0.083086</td>\n      <td>0.406528</td>\n      <td>528.0</td>\n      <td>472.0</td>\n      <td>56.0</td>\n      <td>0.373887</td>\n    </tr>\n    <tr>\n      <th>2</th>\n      <td>811.0</td>\n      <td>13167.0</td>\n      <td>98500.0</td>\n      <td>0.149199</td>\n      <td>0.909988</td>\n      <td>0.050555</td>\n      <td>0.038224</td>\n      <td>0.000000</td>\n      <td>0.210227</td>\n      <td>0.849432</td>\n      <td>388.0</td>\n      <td>374.0</td>\n      <td>14.0</td>\n      <td>0.605114</td>\n    </tr>\n    <tr>\n      <th>3</th>\n      <td>527.0</td>\n      <td>39208.0</td>\n      <td>71600.0</td>\n      <td>0.184061</td>\n      <td>0.996205</td>\n      <td>0.003795</td>\n      <td>0.000000</td>\n      <td>0.000000</td>\n      <td>0.369478</td>\n      <td>0.188755</td>\n      <td>222.0</td>\n      <td>220.0</td>\n      <td>2.0</td>\n      <td>0.305221</td>\n    </tr>\n    <tr>\n      <th>4</th>\n      <td>857.0</td>\n      <td>48529.0</td>\n      <td>82400.0</td>\n      <td>0.148191</td>\n      <td>0.890315</td>\n      <td>0.000000</td>\n      <td>0.000000</td>\n      <td>0.098016</td>\n      <td>0.461765</td>\n      <td>0.150000</td>\n      <td>415.0</td>\n      <td>392.0</td>\n      <td>23.0</td>\n      <td>0.176471</td>\n    </tr>\n    <tr>\n      <th>...</th>\n      <td>...</td>\n      <td>...</td>\n      <td>...</td>\n      <td>...</td>\n      <td>...</td>\n      <td>...</td>\n      <td>...</td>\n      <td>...</td>\n      <td>...</td>\n      <td>...</td>\n      <td>...</td>\n      <td>...</td>\n      <td>...</td>\n      <td>...</td>\n    </tr>\n    <tr>\n      <th>4180</th>\n      <td>540.0</td>\n      <td>39934.0</td>\n      <td>93600.0</td>\n      <td>0.120370</td>\n      <td>0.664815</td>\n      <td>0.000000</td>\n      <td>0.000000</td>\n      <td>0.335185</td>\n      <td>0.159091</td>\n      <td>0.200000</td>\n      <td>222.0</td>\n      <td>209.0</td>\n      <td>13.0</td>\n      <td>0.145455</td>\n    </tr>\n    <tr>\n      <th>4181</th>\n      <td>813.0</td>\n      <td>34276.0</td>\n      <td>95400.0</td>\n      <td>0.115621</td>\n      <td>0.739237</td>\n      <td>0.092251</td>\n      <td>0.097171</td>\n      <td>0.071341</td>\n      <td>0.144796</td>\n      <td>0.260181</td>\n      <td>436.0</td>\n      <td>424.0</td>\n      <td>12.0</td>\n      <td>0.149321</td>\n    </tr>\n    <tr>\n      <th>4182</th>\n      <td>1716.0</td>\n      <td>28125.0</td>\n      <td>98300.0</td>\n      <td>0.083333</td>\n      <td>0.385198</td>\n      <td>0.430070</td>\n      <td>0.004079</td>\n      <td>0.174825</td>\n      <td>0.205993</td>\n      <td>0.677903</td>\n      <td>822.0</td>\n      <td>710.0</td>\n      <td>112.0</td>\n      <td>0.451311</td>\n    </tr>\n    <tr>\n      <th>4183</th>\n      <td>494.0</td>\n      <td>55489.0</td>\n      <td>258800.0</td>\n      <td>0.451417</td>\n      <td>0.846154</td>\n      <td>0.087045</td>\n      <td>0.000000</td>\n      <td>0.030364</td>\n      <td>0.111913</td>\n      <td>0.592058</td>\n      <td>337.0</td>\n      <td>323.0</td>\n      <td>14.0</td>\n      <td>0.140794</td>\n    </tr>\n    <tr>\n      <th>4184</th>\n      <td>1069.0</td>\n      <td>37039.0</td>\n      <td>212000.0</td>\n      <td>0.465856</td>\n      <td>0.535080</td>\n      <td>0.303087</td>\n      <td>0.045837</td>\n      <td>0.072965</td>\n      <td>0.145833</td>\n      <td>0.925000</td>\n      <td>778.0</td>\n      <td>753.0</td>\n      <td>25.0</td>\n      <td>0.161111</td>\n    </tr>\n  </tbody>\n</table>\n<p>4185 rows × 14 columns</p>\n</div>"
     },
     "metadata": {},
     "execution_count": 7
    }
   ],
   "source": [
    "population_mean = df['Total population'].mean()\n",
    "population_mean\n",
    "\n",
    "ignored_columns = [\n",
    "                   'Families considered in poverty calculation', \n",
    "                   'Individuals considered in poverty calculation', \n",
    "                   'Households considered in poverty calculation', \n",
    "                   'Families with income below poverty', \n",
    "                   'Individuals with income below poverty', 'Number of Households', 'No schooling completed',\n",
    "                   'High school diploma',\t'Bachelor\\'s degree',\t'Master\\'s degree','Doctorate degree', 'Total population 25 or older']\n",
    "df_normalized = df.copy().drop(ignored_columns, axis = 1).astype(np.float32)\n",
    "df_normalized.loc[:, \"Total population age 25+ years with a bachelor's degree or higher\" : 'Hispanic or Latino'] = df_normalized.loc[:, \"Total population age 25+ years with a bachelor's degree or higher\" : 'Hispanic or Latino'].div(df['Total population'], axis = 0)\n",
    "df_normalized.loc[:, \"Total Vacant\" : 'Total Renter Occupied'] = df_normalized.loc[:, \"Total Vacant\" : 'Total Renter Occupied'].div(df['Number of Households'], axis = 0)\n",
    "df_normalized.loc[:, 'Households with income below poverty'] = df_normalized.loc[:, 'Households with income below poverty'] .div(df['Households considered in poverty calculation'], axis = 0)\n",
    "\n",
    "# df_normalized['Median home value (range)'] = pd.qcut(df_normalized['Median home value'],q=10,labels=[x for x in range(1, 11)])\n",
    "\n",
    "\n",
    "\n",
    "X = df_normalized.drop(['Median home value'], axis = 1).reset_index(drop=True)\n",
    "y = df_normalized[['Median home value']]/100000\n",
    "Z = df_2019_missing.drop(ignored_columns + ['Median home value', 'BLOCKGROUP_ID'], axis = 1).astype(np.float32)\n",
    "Z = Z[(Z >= 0).all(1)]\n",
    "display(Z)\n",
    "\n",
    "\n",
    "# X = df_normalized[['Median income']]/100000\n",
    "# y = df_normalized[['Median income']]/100000\n",
    "# Z = df_2019_missing[['Median income']]/100000\n",
    "df_normalized"
   ]
  },
  {
   "cell_type": "code",
   "execution_count": null,
   "metadata": {},
   "outputs": [],
   "source": []
  },
  {
   "cell_type": "code",
   "execution_count": null,
   "metadata": {},
   "outputs": [],
   "source": []
  },
  {
   "cell_type": "code",
   "execution_count": 45,
   "metadata": {},
   "outputs": [],
   "source": [
    "# Train - Test\n",
    "X_trainval, X_test, y_trainval, y_test = train_test_split(X, y, test_size=0.2, random_state=69)\n",
    "# Split train\" into train-val\n",
    "X_train, X_val, y_train, y_val = train_test_split(X_trainval, y_trainval, test_size=0.1, random_state=21)"
   ]
  },
  {
   "cell_type": "code",
   "execution_count": 25,
   "metadata": {},
   "outputs": [
    {
     "output_type": "execute_result",
     "data": {
      "text/plain": [
       "(3013, 13)"
      ]
     },
     "metadata": {},
     "execution_count": 25
    }
   ],
   "source": [
    "X_train.shape"
   ]
  },
  {
   "cell_type": "code",
   "execution_count": 24,
   "metadata": {},
   "outputs": [],
   "source": [
    "scaler_X = StandardScaler()\n",
    "X_train = scaler_X.fit_transform(X_train)\n",
    "X_val = scaler_X.transform(X_val)\n",
    "X_test = scaler_X.transform(X_test)\n",
    "Z_test = scaler_X.transform(Z)\n",
    "scaler_y = MinMaxScaler()\n",
    "# scaler_y = RobustScaler()\n",
    "# y_train = scaler_y.fit_transform(y_train)\n",
    "# y_val = scaler_y.transform(y_val)\n",
    "# y_test = scaler_y.transform(y_test)\n",
    "\n",
    "\n",
    "# X_train, y_train = np.array(X_train), np.array(y_train)\n",
    "# X_val, y_val = np.array(X_val), np.array(y_val)\n",
    "# X_test, y_test = np.array(X_test), np.array(y_test)"
   ]
  },
  {
   "cell_type": "code",
   "execution_count": null,
   "metadata": {},
   "outputs": [],
   "source": []
  },
  {
   "cell_type": "code",
   "execution_count": 89,
   "metadata": {},
   "outputs": [
    {
     "output_type": "execute_result",
     "data": {
      "text/plain": [
       "                                                    Coefficient\n",
       "Total population                                       0.000524\n",
       "Median income                                          0.000026\n",
       "Total population age 25+ years with a bachelor'...     2.285348\n",
       "White alone                                            1.221397\n",
       "Black or African American alone                        0.743728\n",
       "Asian alone                                            2.114507\n",
       "Hispanic or Latino                                     0.651581\n",
       "Total Vacant                                           0.224581\n",
       "Total Renter Occupied                                  0.725247\n",
       "Total civilian labor force                            -0.000310\n",
       "Total employed                                        -0.000687\n",
       "Total unemployed                                       0.000376\n",
       "Households with income below poverty                   0.846160"
      ],
      "text/html": "<div>\n<style scoped>\n    .dataframe tbody tr th:only-of-type {\n        vertical-align: middle;\n    }\n\n    .dataframe tbody tr th {\n        vertical-align: top;\n    }\n\n    .dataframe thead th {\n        text-align: right;\n    }\n</style>\n<table border=\"1\" class=\"dataframe\">\n  <thead>\n    <tr style=\"text-align: right;\">\n      <th></th>\n      <th>Coefficient</th>\n    </tr>\n  </thead>\n  <tbody>\n    <tr>\n      <th>Total population</th>\n      <td>0.000524</td>\n    </tr>\n    <tr>\n      <th>Median income</th>\n      <td>0.000026</td>\n    </tr>\n    <tr>\n      <th>Total population age 25+ years with a bachelor's degree or higher</th>\n      <td>2.285348</td>\n    </tr>\n    <tr>\n      <th>White alone</th>\n      <td>1.221397</td>\n    </tr>\n    <tr>\n      <th>Black or African American alone</th>\n      <td>0.743728</td>\n    </tr>\n    <tr>\n      <th>Asian alone</th>\n      <td>2.114507</td>\n    </tr>\n    <tr>\n      <th>Hispanic or Latino</th>\n      <td>0.651581</td>\n    </tr>\n    <tr>\n      <th>Total Vacant</th>\n      <td>0.224581</td>\n    </tr>\n    <tr>\n      <th>Total Renter Occupied</th>\n      <td>0.725247</td>\n    </tr>\n    <tr>\n      <th>Total civilian labor force</th>\n      <td>-0.000310</td>\n    </tr>\n    <tr>\n      <th>Total employed</th>\n      <td>-0.000687</td>\n    </tr>\n    <tr>\n      <th>Total unemployed</th>\n      <td>0.000376</td>\n    </tr>\n    <tr>\n      <th>Households with income below poverty</th>\n      <td>0.846160</td>\n    </tr>\n  </tbody>\n</table>\n</div>"
     },
     "metadata": {},
     "execution_count": 89
    }
   ],
   "source": []
  },
  {
   "source": [
    "<h1> Linear Regression"
   ],
   "cell_type": "markdown",
   "metadata": {}
  },
  {
   "cell_type": "code",
   "execution_count": 160,
   "metadata": {},
   "outputs": [
    {
     "output_type": "execute_result",
     "data": {
      "text/plain": [
       "                                                    Coefficient\n",
       "Total population                                       0.000524\n",
       "Median income                                          0.000026\n",
       "Total population age 25+ years with a bachelor'...     2.285348\n",
       "White alone                                            1.221397\n",
       "Black or African American alone                        0.743728\n",
       "Asian alone                                            2.114507\n",
       "Hispanic or Latino                                     0.651581\n",
       "Total Vacant                                           0.224581\n",
       "Total Renter Occupied                                  0.725247\n",
       "Total civilian labor force                            -0.000310\n",
       "Total employed                                        -0.000687\n",
       "Total unemployed                                       0.000376\n",
       "Households with income below poverty                   0.846160"
      ],
      "text/html": "<div>\n<style scoped>\n    .dataframe tbody tr th:only-of-type {\n        vertical-align: middle;\n    }\n\n    .dataframe tbody tr th {\n        vertical-align: top;\n    }\n\n    .dataframe thead th {\n        text-align: right;\n    }\n</style>\n<table border=\"1\" class=\"dataframe\">\n  <thead>\n    <tr style=\"text-align: right;\">\n      <th></th>\n      <th>Coefficient</th>\n    </tr>\n  </thead>\n  <tbody>\n    <tr>\n      <th>Total population</th>\n      <td>0.000524</td>\n    </tr>\n    <tr>\n      <th>Median income</th>\n      <td>0.000026</td>\n    </tr>\n    <tr>\n      <th>Total population age 25+ years with a bachelor's degree or higher</th>\n      <td>2.285348</td>\n    </tr>\n    <tr>\n      <th>White alone</th>\n      <td>1.221397</td>\n    </tr>\n    <tr>\n      <th>Black or African American alone</th>\n      <td>0.743728</td>\n    </tr>\n    <tr>\n      <th>Asian alone</th>\n      <td>2.114507</td>\n    </tr>\n    <tr>\n      <th>Hispanic or Latino</th>\n      <td>0.651581</td>\n    </tr>\n    <tr>\n      <th>Total Vacant</th>\n      <td>0.224581</td>\n    </tr>\n    <tr>\n      <th>Total Renter Occupied</th>\n      <td>0.725247</td>\n    </tr>\n    <tr>\n      <th>Total civilian labor force</th>\n      <td>-0.000310</td>\n    </tr>\n    <tr>\n      <th>Total employed</th>\n      <td>-0.000687</td>\n    </tr>\n    <tr>\n      <th>Total unemployed</th>\n      <td>0.000376</td>\n    </tr>\n    <tr>\n      <th>Households with income below poverty</th>\n      <td>0.846160</td>\n    </tr>\n  </tbody>\n</table>\n</div>"
     },
     "metadata": {},
     "execution_count": 160
    }
   ],
   "source": [
    "LR = LinearRegression()\n",
    "LR.fit(X_train, y_train)\n",
    "coeff_df = pd.DataFrame(regressor.coef_[0], X.columns, columns=['Coefficient'])\n",
    "coeff_df"
   ]
  },
  {
   "cell_type": "code",
   "execution_count": 162,
   "metadata": {},
   "outputs": [
    {
     "output_type": "stream",
     "name": "stdout",
     "text": [
      "Linear Regression - Validation\nMean Absolute Error: 0.3202578404033954\nMean Squared Error: 0.21908879417351332\nRoot Mean Squared Error: 0.46806921942541074\nR^2: 0.7834862290404894\n"
     ]
    }
   ],
   "source": [
    "y_val_pred = LR.predict(X_val).tolist()\n",
    "test_df = pd.DataFrame(data = np.concatenate([y_val, y_val_pred], axis = 1), columns = ['Actual', 'Predicted'])\n",
    "test_df.head(10)\n",
    "print('Linear Regression - Validation')\n",
    "mse = metrics.mean_squared_error(y_val, y_val_pred)\n",
    "r_square = metrics.r2_score(y_val, y_val_pred)\n",
    "\n",
    "print('Mean Absolute Error:', metrics.mean_absolute_error(y_val, y_val_pred))\n",
    "print('Mean Squared Error:', mse)\n",
    "print('Root Mean Squared Error:', np.sqrt(mse))\n",
    "print('R^2:', r_square)"
   ]
  },
  {
   "cell_type": "code",
   "execution_count": 163,
   "metadata": {},
   "outputs": [
    {
     "output_type": "stream",
     "name": "stdout",
     "text": [
      "Linear Regression - Test\nMean Absolute Error: 0.37054297460380214\nMean Squared Error: 0.2708135625505237\nRoot Mean Squared Error: 0.5203975043661563\nR^2: 0.7536333353394936\n"
     ]
    }
   ],
   "source": [
    "y_pred = LR.predict(X_test).tolist()\n",
    "test_df = pd.DataFrame(data = np.concatenate([y_test, y_pred], axis = 1), columns = ['Actual', 'Predicted'])\n",
    "test_df.head(10)\n",
    "print('Linear Regression - Test')\n",
    "mse = metrics.mean_squared_error(y_test, y_pred)\n",
    "r_square = metrics.r2_score(y_test, y_pred)\n",
    "\n",
    "print('Mean Absolute Error:', metrics.mean_absolute_error(y_test, y_pred))\n",
    "print('Mean Squared Error:', mse)\n",
    "print('Root Mean Squared Error:', np.sqrt(mse))\n",
    "print('R^2:', r_square)"
   ]
  },
  {
   "source": [
    "<h1> Random Forest Regression"
   ],
   "cell_type": "markdown",
   "metadata": {}
  },
  {
   "cell_type": "code",
   "execution_count": 147,
   "metadata": {},
   "outputs": [
    {
     "output_type": "stream",
     "name": "stdout",
     "text": [
      "Random Forest Regression\nMean Absolute Error: 0.4245351507191927\nMean Squared Error: 0.35009706715235717\nRoot Mean Squared Error: 0.5916900093396518\nR^2: 0.681506915940888\n"
     ]
    }
   ],
   "source": [
    "RFR = RandomForestRegressor(max_depth=2, random_state=0) #random forest regression\n",
    "RFR.fit(X_train, y_train)\n",
    "\n"
   ]
  },
  {
   "cell_type": "code",
   "execution_count": 165,
   "metadata": {},
   "outputs": [
    {
     "output_type": "stream",
     "name": "stdout",
     "text": [
      "Random Forest Regression - Validation\nMean Absolute Error: 0.3820248679807125\nMean Squared Error: 0.28382985004170336\nRoot Mean Squared Error: 0.5327568395072028\nR^2: 0.7195060962600752\n"
     ]
    }
   ],
   "source": [
    "print('Random Forest Regression - Validation')\n",
    "\n",
    "y_val_pred = RFR.predict(X_val).tolist()\n",
    "y_val_pred = np.array(y_val_pred).reshape(-1,1)\n",
    "test_df = pd.DataFrame(np.concatenate([y_val, np.array(y_val_pred).reshape(-1,1)], axis = 1), columns= ['Actual','Predicted'])\n",
    "mse = metrics.mean_squared_error(y_val, y_val_pred)\n",
    "r_square = metrics.r2_score(y_val, y_val_pred)\n",
    "\n",
    "print('Mean Absolute Error:', metrics.mean_absolute_error(y_val, y_val_pred))\n",
    "print('Mean Squared Error:', mse)\n",
    "print('Root Mean Squared Error:', np.sqrt(mse))\n",
    "print('R^2:', r_square)"
   ]
  },
  {
   "cell_type": "code",
   "execution_count": 166,
   "metadata": {},
   "outputs": [
    {
     "output_type": "stream",
     "name": "stdout",
     "text": [
      "Random Forest Regression - Test\nMean Absolute Error: 0.4245351507191927\nMean Squared Error: 0.35009706715235717\nRoot Mean Squared Error: 0.5916900093396518\nR^2: 0.681506915940888\n"
     ]
    }
   ],
   "source": [
    "y_pred = RFR.predict(X_test).tolist()\n",
    "y_pred = np.array(y_pred).reshape(-1,1)\n",
    "test_df = pd.DataFrame(np.concatenate([y_test, np.array(y_pred).reshape(-1,1)], axis = 1), columns= ['Actual','Predicted'])\n",
    "test_df.head(10)\n",
    "print('Random Forest Regression - Test')\n",
    "mse = metrics.mean_squared_error(y_test, y_pred)\n",
    "r_square = metrics.r2_score(y_test, y_pred)\n",
    "\n",
    "print('Mean Absolute Error:', metrics.mean_absolute_error(y_test, y_pred))\n",
    "print('Mean Squared Error:', mse)\n",
    "print('Root Mean Squared Error:', np.sqrt(mse))\n",
    "print('R^2:', r_square)"
   ]
  },
  {
   "cell_type": "code",
   "execution_count": 126,
   "metadata": {},
   "outputs": [
    {
     "output_type": "execute_result",
     "data": {
      "text/plain": [
       "     Actual  Predicted\n",
       "0     1.978   1.911522\n",
       "1     1.399   1.552332\n",
       "2     1.354   1.144789\n",
       "3     1.286   1.090910\n",
       "4     0.794   1.090910\n",
       "..      ...        ...\n",
       "832   0.704   1.090910\n",
       "833   0.638   1.090910\n",
       "834   2.924   2.952987\n",
       "835   1.546   1.172475\n",
       "836   0.788   1.090910\n",
       "\n",
       "[837 rows x 2 columns]"
      ],
      "text/html": "<div>\n<style scoped>\n    .dataframe tbody tr th:only-of-type {\n        vertical-align: middle;\n    }\n\n    .dataframe tbody tr th {\n        vertical-align: top;\n    }\n\n    .dataframe thead th {\n        text-align: right;\n    }\n</style>\n<table border=\"1\" class=\"dataframe\">\n  <thead>\n    <tr style=\"text-align: right;\">\n      <th></th>\n      <th>Actual</th>\n      <th>Predicted</th>\n    </tr>\n  </thead>\n  <tbody>\n    <tr>\n      <th>0</th>\n      <td>1.978</td>\n      <td>1.911522</td>\n    </tr>\n    <tr>\n      <th>1</th>\n      <td>1.399</td>\n      <td>1.552332</td>\n    </tr>\n    <tr>\n      <th>2</th>\n      <td>1.354</td>\n      <td>1.144789</td>\n    </tr>\n    <tr>\n      <th>3</th>\n      <td>1.286</td>\n      <td>1.090910</td>\n    </tr>\n    <tr>\n      <th>4</th>\n      <td>0.794</td>\n      <td>1.090910</td>\n    </tr>\n    <tr>\n      <th>...</th>\n      <td>...</td>\n      <td>...</td>\n    </tr>\n    <tr>\n      <th>832</th>\n      <td>0.704</td>\n      <td>1.090910</td>\n    </tr>\n    <tr>\n      <th>833</th>\n      <td>0.638</td>\n      <td>1.090910</td>\n    </tr>\n    <tr>\n      <th>834</th>\n      <td>2.924</td>\n      <td>2.952987</td>\n    </tr>\n    <tr>\n      <th>835</th>\n      <td>1.546</td>\n      <td>1.172475</td>\n    </tr>\n    <tr>\n      <th>836</th>\n      <td>0.788</td>\n      <td>1.090910</td>\n    </tr>\n  </tbody>\n</table>\n<p>837 rows × 2 columns</p>\n</div>"
     },
     "metadata": {},
     "execution_count": 126
    }
   ],
   "source": [
    "test_df = pd.DataFrame(np.concatenate([y_test, np.array(y_pred).reshape(-1,1)], axis = 1), columns= ['Actual','Predicted'])\n",
    "test_df"
   ]
  },
  {
   "source": [
    "<h1> Extreme Gradient Boosting"
   ],
   "cell_type": "markdown",
   "metadata": {}
  },
  {
   "cell_type": "code",
   "execution_count": 129,
   "metadata": {},
   "outputs": [],
   "source": [
    "import xgboost as xgb"
   ]
  },
  {
   "cell_type": "code",
   "execution_count": 130,
   "metadata": {},
   "outputs": [
    {
     "output_type": "stream",
     "name": "stdout",
     "text": [
      "XGBRegressor(base_score=None, booster=None, colsample_bylevel=None,\n             colsample_bynode=None, colsample_bytree=None, gamma=None,\n             gpu_id=None, importance_type='gain', interaction_constraints=None,\n             learning_rate=None, max_delta_step=None, max_depth=None,\n             min_child_weight=None, missing=nan, monotone_constraints=None,\n             n_estimators=100, n_jobs=None, num_parallel_tree=None,\n             random_state=None, reg_alpha=None, reg_lambda=None,\n             scale_pos_weight=None, subsample=None, tree_method=None,\n             validate_parameters=None, verbosity=0)\n"
     ]
    }
   ],
   "source": [
    "xgbr = xgb.XGBRegressor(verbosity=0) \n",
    "print(xgbr)\n"
   ]
  },
  {
   "cell_type": "code",
   "execution_count": 133,
   "metadata": {},
   "outputs": [
    {
     "output_type": "execute_result",
     "data": {
      "text/plain": [
       "XGBRegressor(base_score=0.5, booster='gbtree', colsample_bylevel=1,\n",
       "             colsample_bynode=1, colsample_bytree=1, gamma=0, gpu_id=-1,\n",
       "             importance_type='gain', interaction_constraints='',\n",
       "             learning_rate=0.300000012, max_delta_step=0, max_depth=6,\n",
       "             min_child_weight=1, missing=nan, monotone_constraints='()',\n",
       "             n_estimators=100, n_jobs=12, num_parallel_tree=1, random_state=0,\n",
       "             reg_alpha=0, reg_lambda=1, scale_pos_weight=1, subsample=1,\n",
       "             tree_method='exact', validate_parameters=1, verbosity=0)"
      ]
     },
     "metadata": {},
     "execution_count": 133
    }
   ],
   "source": [
    "xgbr.fit(X_train, y_train)"
   ]
  },
  {
   "cell_type": "code",
   "execution_count": 167,
   "metadata": {},
   "outputs": [
    {
     "output_type": "stream",
     "name": "stdout",
     "text": [
      "Extreme Gradient Boost - Validation\nMean Absolute Error: 0.33073412468753643\nMean Squared Error: 0.2711915560020377\nRoot Mean Squared Error: 0.5207605553438526\nR^2: 0.7319958482409821\n"
     ]
    }
   ],
   "source": [
    "y_val_pred = xgbr.predict(X_val)\n",
    "print('Extreme Gradient Boost - Validation')\n",
    "\n",
    "mse = metrics.mean_squared_error(y_val, y_val_pred)\n",
    "r_square = metrics.r2_score(y_val, y_val_pred)\n",
    "\n",
    "print('Mean Absolute Error:', metrics.mean_absolute_error(y_val, y_val_pred))\n",
    "print('Mean Squared Error:', mse)\n",
    "print('Root Mean Squared Error:', np.sqrt(mse))\n",
    "print('R^2:', r_square)"
   ]
  },
  {
   "cell_type": "code",
   "execution_count": 168,
   "metadata": {},
   "outputs": [
    {
     "output_type": "stream",
     "name": "stdout",
     "text": [
      "Extreme Gradient Boost - Test\nMean Absolute Error: 0.3486433147535359\nMean Squared Error: 0.2721734314804528\nRoot Mean Squared Error: 0.5217024357624304\nR^2: 0.7523962245778065\n"
     ]
    }
   ],
   "source": [
    "y_pred = xgbr.predict(X_test)\n",
    "print('Extreme Gradient Boost - Test')\n",
    "mse = metrics.mean_squared_error(y_test, y_pred)\n",
    "r_square = metrics.r2_score(y_test, y_pred)\n",
    "print('Mean Absolute Error:', metrics.mean_absolute_error(y_test, y_pred))\n",
    "print('Mean Squared Error:', metrics.mean_squared_error(y_test, y_pred))\n",
    "print('Root Mean Squared Error:', np.sqrt(metrics.mean_squared_error(y_test, y_pred)))\n",
    "print('R^2:', r_square)\n",
    "\n"
   ]
  },
  {
   "source": [
    "<h1> Support Vector Machine Regression"
   ],
   "cell_type": "markdown",
   "metadata": {}
  },
  {
   "cell_type": "code",
   "execution_count": 169,
   "metadata": {},
   "outputs": [
    {
     "output_type": "execute_result",
     "data": {
      "text/plain": [
       "SVR()"
      ]
     },
     "metadata": {},
     "execution_count": 169
    }
   ],
   "source": [
    "SVMR = SVR()\n",
    "SVMR.fit(X_train, y_train)"
   ]
  },
  {
   "cell_type": "code",
   "execution_count": 171,
   "metadata": {},
   "outputs": [
    {
     "output_type": "stream",
     "name": "stdout",
     "text": [
      "Support Vector Machine Regression - Validation\nMean Absolute Error: 0.33095574173836856\nMean Squared Error: 0.2878801147772577\nRoot Mean Squared Error: 0.5365446065121312\nR^2: 0.7155034356284016\n"
     ]
    }
   ],
   "source": [
    "y_val_pred = SVMR.predict(X_val)\n",
    "print('Support Vector Machine Regression - Validation')\n",
    "\n",
    "mse = metrics.mean_squared_error(y_val, y_val_pred)\n",
    "r_square = metrics.r2_score(y_val, y_val_pred)\n",
    "\n",
    "print('Mean Absolute Error:', metrics.mean_absolute_error(y_val, y_val_pred))\n",
    "print('Mean Squared Error:', mse)\n",
    "print('Root Mean Squared Error:', np.sqrt(mse))\n",
    "print('R^2:', r_square)"
   ]
  },
  {
   "cell_type": "code",
   "execution_count": 172,
   "metadata": {},
   "outputs": [
    {
     "output_type": "stream",
     "name": "stdout",
     "text": [
      "Support Vector Machine Regression - Test\nMean Absolute Error: 0.3957404285154113\nMean Squared Error: 0.35920387276505167\nRoot Mean Squared Error: 0.673222200421544\nR^2: 0.673222200421544\n"
     ]
    }
   ],
   "source": [
    "y_pred = SVMR.predict(X_test)\n",
    "print('Support Vector Machine Regression - Test')\n",
    "mse = metrics.mean_squared_error(y_test, y_pred)\n",
    "r_square = metrics.r2_score(y_test, y_pred)\n",
    "\n",
    "print('Mean Absolute Error:', metrics.mean_absolute_error(y_test, y_pred))\n",
    "print('Mean Squared Error:', mse)\n",
    "print('Root Mean Squared Error:', r_square)\n",
    "print('R^2:', r_square)\n"
   ]
  },
  {
   "source": [
    "<h1> AdaBoost Regression"
   ],
   "cell_type": "markdown",
   "metadata": {}
  },
  {
   "cell_type": "code",
   "execution_count": 174,
   "metadata": {},
   "outputs": [
    {
     "output_type": "execute_result",
     "data": {
      "text/plain": [
       "AdaBoostRegressor(n_estimators=100, random_state=0)"
      ]
     },
     "metadata": {},
     "execution_count": 174
    }
   ],
   "source": [
    "ABR = AdaBoostRegressor(random_state=0, n_estimators=100)\n",
    "ABR.fit(X_train, y_train)"
   ]
  },
  {
   "cell_type": "code",
   "execution_count": 175,
   "metadata": {},
   "outputs": [
    {
     "output_type": "stream",
     "name": "stdout",
     "text": [
      "AdaBoost Regression - Validation\nMean Absolute Error: 0.7616303083418222\nMean Squared Error: 0.7907019755578335\nRoot Mean Squared Error: 0.8892142461509676\nR^2: 0.21859140683582112\n"
     ]
    }
   ],
   "source": [
    "y_val_pred = ABR.predict(X_val)\n",
    "print('AdaBoost Regression - Validation')\n",
    "\n",
    "mse = metrics.mean_squared_error(y_val, y_val_pred)\n",
    "r_square = metrics.r2_score(y_val, y_val_pred)\n",
    "\n",
    "print('Mean Absolute Error:', metrics.mean_absolute_error(y_val, y_val_pred))\n",
    "print('Mean Squared Error:', mse)\n",
    "print('Root Mean Squared Error:', np.sqrt(mse))\n",
    "print('R^2:', r_square)"
   ]
  },
  {
   "cell_type": "code",
   "execution_count": 176,
   "metadata": {},
   "outputs": [
    {
     "output_type": "stream",
     "name": "stdout",
     "text": [
      "AdaBoost Regression - Test\nMean Absolute Error: 0.7549707375352046\nMean Squared Error: 0.7398767320398861\nRoot Mean Squared Error: 0.8601608756737812\nR^2: 0.3269134639496679\n"
     ]
    }
   ],
   "source": [
    "y_pred = ABR.predict(X_test)\n",
    "print('AdaBoost Regression - Test')\n",
    "\n",
    "mse = metrics.mean_squared_error(y_test, y_pred)\n",
    "r_square = metrics.r2_score(y_test, y_pred)\n",
    "\n",
    "print('Mean Absolute Error:', metrics.mean_absolute_error(y_test, y_pred))\n",
    "print('Mean Squared Error:', metrics.mean_squared_error(y_test, y_pred))\n",
    "print('Root Mean Squared Error:', np.sqrt(metrics.mean_squared_error(y_test, y_pred)))\n",
    "print('R^2:', r_square)\n",
    "\n",
    "\n"
   ]
  },
  {
   "source": [
    "<h1> Bagging Regression"
   ],
   "cell_type": "markdown",
   "metadata": {}
  },
  {
   "cell_type": "code",
   "execution_count": 179,
   "metadata": {},
   "outputs": [],
   "source": [
    "# BR = BaggingRegressor(base_estimator=SVR(),n_estimators=10, random_state=0).fit(X_train, y_train)\n",
    "BR = BaggingRegressor().fit(X_train, y_train)"
   ]
  },
  {
   "cell_type": "code",
   "execution_count": 182,
   "metadata": {},
   "outputs": [
    {
     "output_type": "stream",
     "name": "stdout",
     "text": [
      "Bagging Regression - Validation\nMean Absolute Error: 0.3146916417910448\nMean Squared Error: 0.21691800349253737\nRoot Mean Squared Error: 0.4657445689350949\nR^2: 0.7856315056990921\n"
     ]
    }
   ],
   "source": [
    "y_val_pred = BR.predict(X_val)\n",
    "print('Bagging Regression - Validation')\n",
    "\n",
    "mse = metrics.mean_squared_error(y_val, y_val_pred)\n",
    "r_square = metrics.r2_score(y_val, y_val_pred)\n",
    "\n",
    "print('Mean Absolute Error:', metrics.mean_absolute_error(y_val, y_val_pred))\n",
    "print('Mean Squared Error:', mse)\n",
    "print('Root Mean Squared Error:', np.sqrt(mse))\n",
    "print('R^2:', r_square)"
   ]
  },
  {
   "cell_type": "code",
   "execution_count": 181,
   "metadata": {},
   "outputs": [
    {
     "output_type": "stream",
     "name": "stdout",
     "text": [
      "Bagging Regression - Test\nMean Absolute Error: 0.3509660776583035\nMean Squared Error: 0.2831801427341756\nRoot Mean Squared Error: 0.5321467304552153\nR^2: 0.7423831118115098\n"
     ]
    }
   ],
   "source": [
    "y_pred = BR.predict(X_test)\n",
    "print('Bagging Regression - Test')\n",
    "\n",
    "mse = metrics.mean_squared_error(y_test, y_pred)\n",
    "r_square = metrics.r2_score(y_test, y_pred)\n",
    "\n",
    "print('Mean Absolute Error:', metrics.mean_absolute_error(y_test, y_pred))\n",
    "print('Mean Squared Error:', metrics.mean_squared_error(y_test, y_pred))\n",
    "print('Root Mean Squared Error:', np.sqrt(metrics.mean_squared_error(y_test, y_pred)))\n",
    "print('R^2:', r_square)\n",
    "\n",
    "\n"
   ]
  },
  {
   "source": [
    "<h1> Lasso Regression"
   ],
   "cell_type": "markdown",
   "metadata": {}
  },
  {
   "cell_type": "code",
   "execution_count": 199,
   "metadata": {},
   "outputs": [],
   "source": [
    "from sklearn import linear_model"
   ]
  },
  {
   "cell_type": "code",
   "execution_count": 203,
   "metadata": {},
   "outputs": [],
   "source": [
    "Lasso = linear_model.Lasso(alpha=1).fit(X_train, y_train)"
   ]
  },
  {
   "cell_type": "code",
   "execution_count": 204,
   "metadata": {},
   "outputs": [
    {
     "output_type": "stream",
     "name": "stdout",
     "text": [
      "Lasso Regression - Validation\nMean Absolute Error: 0.36311370506312934\nMean Squared Error: 0.3072604406566917\nRoot Mean Squared Error: 0.5543107798488964\nR^2: 0.6963508931425579\n"
     ]
    }
   ],
   "source": [
    "y_val_pred = Lasso.predict(X_val)\n",
    "print('Lasso Regression - Validation')\n",
    "\n",
    "mse = metrics.mean_squared_error(y_val, y_val_pred)\n",
    "r_square = metrics.r2_score(y_val, y_val_pred)\n",
    "\n",
    "print('Mean Absolute Error:', metrics.mean_absolute_error(y_val, y_val_pred))\n",
    "print('Mean Squared Error:', mse)\n",
    "print('Root Mean Squared Error:', np.sqrt(mse))\n",
    "print('R^2:', r_square)"
   ]
  },
  {
   "cell_type": "code",
   "execution_count": 205,
   "metadata": {},
   "outputs": [
    {
     "output_type": "stream",
     "name": "stdout",
     "text": [
      "Lasso Regression - Test\nMean Absolute Error: 0.4218210232989797\nMean Squared Error: 0.3693135591473836\nRoot Mean Squared Error: 0.6077117401757051\nR^2: 0.6640251362445452\n"
     ]
    }
   ],
   "source": [
    "y_pred = Lasso.predict(X_test)\n",
    "print('Lasso Regression - Test')\n",
    "\n",
    "mse = metrics.mean_squared_error(y_test, y_pred)\n",
    "r_square = metrics.r2_score(y_test, y_pred)\n",
    "\n",
    "print('Mean Absolute Error:', metrics.mean_absolute_error(y_test, y_pred))\n",
    "print('Mean Squared Error:', metrics.mean_squared_error(y_test, y_pred))\n",
    "print('Root Mean Squared Error:', np.sqrt(metrics.mean_squared_error(y_test, y_pred)))\n",
    "print('R^2:', r_square)\n",
    "\n",
    "\n"
   ]
  },
  {
   "source": [
    "<h1> Partial Least Squares Regression"
   ],
   "cell_type": "markdown",
   "metadata": {}
  },
  {
   "cell_type": "code",
   "execution_count": 218,
   "metadata": {},
   "outputs": [],
   "source": [
    "from sklearn.cross_decomposition import PLSRegression\n",
    "from sklearn import model_selection\n",
    "from tqdm.notebook import tqdm\n",
    "import matplotlib.pyplot as plt\n"
   ]
  },
  {
   "cell_type": "code",
   "execution_count": 224,
   "metadata": {},
   "outputs": [
    {
     "output_type": "display_data",
     "data": {
      "text/plain": "HBox(children=(HTML(value=''), FloatProgress(value=0.0, max=19.0), HTML(value='')))",
      "application/vnd.jupyter.widget-view+json": {
       "version_major": 2,
       "version_minor": 0,
       "model_id": "005dfabae8854d379268251e71aaa4d4"
      }
     },
     "metadata": {}
    },
    {
     "output_type": "stream",
     "name": "stdout",
     "text": [
      "\n"
     ]
    },
    {
     "output_type": "display_data",
     "data": {
      "text/plain": "<Figure size 432x288 with 1 Axes>",
      "image/svg+xml": "<?xml version=\"1.0\" encoding=\"utf-8\" standalone=\"no\"?>\r\n<!DOCTYPE svg PUBLIC \"-//W3C//DTD SVG 1.1//EN\"\r\n  \"http://www.w3.org/Graphics/SVG/1.1/DTD/svg11.dtd\">\r\n<!-- Created with matplotlib (https://matplotlib.org/) -->\r\n<svg height=\"277.314375pt\" version=\"1.1\" viewBox=\"0 0 392.14375 277.314375\" width=\"392.14375pt\" xmlns=\"http://www.w3.org/2000/svg\" xmlns:xlink=\"http://www.w3.org/1999/xlink\">\r\n <metadata>\r\n  <rdf:RDF xmlns:cc=\"http://creativecommons.org/ns#\" xmlns:dc=\"http://purl.org/dc/elements/1.1/\" xmlns:rdf=\"http://www.w3.org/1999/02/22-rdf-syntax-ns#\">\r\n   <cc:Work>\r\n    <dc:type rdf:resource=\"http://purl.org/dc/dcmitype/StillImage\"/>\r\n    <dc:date>2021-03-25T03:47:40.675252</dc:date>\r\n    <dc:format>image/svg+xml</dc:format>\r\n    <dc:creator>\r\n     <cc:Agent>\r\n      <dc:title>Matplotlib v3.3.2, https://matplotlib.org/</dc:title>\r\n     </cc:Agent>\r\n    </dc:creator>\r\n   </cc:Work>\r\n  </rdf:RDF>\r\n </metadata>\r\n <defs>\r\n  <style type=\"text/css\">*{stroke-linecap:butt;stroke-linejoin:round;}</style>\r\n </defs>\r\n <g id=\"figure_1\">\r\n  <g id=\"patch_1\">\r\n   <path d=\"M 0 277.314375 \r\nL 392.14375 277.314375 \r\nL 392.14375 0 \r\nL 0 0 \r\nz\r\n\" style=\"fill:none;\"/>\r\n  </g>\r\n  <g id=\"axes_1\">\r\n   <g id=\"patch_2\">\r\n    <path d=\"M 50.14375 239.758125 \r\nL 384.94375 239.758125 \r\nL 384.94375 22.318125 \r\nL 50.14375 22.318125 \r\nz\r\n\" style=\"fill:#ffffff;\"/>\r\n   </g>\r\n   <g id=\"matplotlib.axis_1\">\r\n    <g id=\"xtick_1\">\r\n     <g id=\"line2d_1\">\r\n      <defs>\r\n       <path d=\"M 0 0 \r\nL 0 3.5 \r\n\" id=\"m7191ba2ba3\" style=\"stroke:#000000;stroke-width:0.8;\"/>\r\n      </defs>\r\n      <g>\r\n       <use style=\"stroke:#000000;stroke-width:0.8;\" x=\"73.075257\" xlink:href=\"#m7191ba2ba3\" y=\"239.758125\"/>\r\n      </g>\r\n     </g>\r\n     <g id=\"text_1\">\r\n      <!-- 0 -->\r\n      <g transform=\"translate(69.894007 254.356562)scale(0.1 -0.1)\">\r\n       <defs>\r\n        <path d=\"M 31.78125 66.40625 \r\nQ 24.171875 66.40625 20.328125 58.90625 \r\nQ 16.5 51.421875 16.5 36.375 \r\nQ 16.5 21.390625 20.328125 13.890625 \r\nQ 24.171875 6.390625 31.78125 6.390625 \r\nQ 39.453125 6.390625 43.28125 13.890625 \r\nQ 47.125 21.390625 47.125 36.375 \r\nQ 47.125 51.421875 43.28125 58.90625 \r\nQ 39.453125 66.40625 31.78125 66.40625 \r\nz\r\nM 31.78125 74.21875 \r\nQ 44.046875 74.21875 50.515625 64.515625 \r\nQ 56.984375 54.828125 56.984375 36.375 \r\nQ 56.984375 17.96875 50.515625 8.265625 \r\nQ 44.046875 -1.421875 31.78125 -1.421875 \r\nQ 19.53125 -1.421875 13.0625 8.265625 \r\nQ 6.59375 17.96875 6.59375 36.375 \r\nQ 6.59375 54.828125 13.0625 64.515625 \r\nQ 19.53125 74.21875 31.78125 74.21875 \r\nz\r\n\" id=\"DejaVuSans-48\"/>\r\n       </defs>\r\n       <use xlink:href=\"#DejaVuSans-48\"/>\r\n      </g>\r\n     </g>\r\n    </g>\r\n    <g id=\"xtick_2\">\r\n     <g id=\"line2d_2\">\r\n      <g>\r\n       <use style=\"stroke:#000000;stroke-width:0.8;\" x=\"118.938271\" xlink:href=\"#m7191ba2ba3\" y=\"239.758125\"/>\r\n      </g>\r\n     </g>\r\n     <g id=\"text_2\">\r\n      <!-- 2 -->\r\n      <g transform=\"translate(115.757021 254.356562)scale(0.1 -0.1)\">\r\n       <defs>\r\n        <path d=\"M 19.1875 8.296875 \r\nL 53.609375 8.296875 \r\nL 53.609375 0 \r\nL 7.328125 0 \r\nL 7.328125 8.296875 \r\nQ 12.9375 14.109375 22.625 23.890625 \r\nQ 32.328125 33.6875 34.8125 36.53125 \r\nQ 39.546875 41.84375 41.421875 45.53125 \r\nQ 43.3125 49.21875 43.3125 52.78125 \r\nQ 43.3125 58.59375 39.234375 62.25 \r\nQ 35.15625 65.921875 28.609375 65.921875 \r\nQ 23.96875 65.921875 18.8125 64.3125 \r\nQ 13.671875 62.703125 7.8125 59.421875 \r\nL 7.8125 69.390625 \r\nQ 13.765625 71.78125 18.9375 73 \r\nQ 24.125 74.21875 28.421875 74.21875 \r\nQ 39.75 74.21875 46.484375 68.546875 \r\nQ 53.21875 62.890625 53.21875 53.421875 \r\nQ 53.21875 48.921875 51.53125 44.890625 \r\nQ 49.859375 40.875 45.40625 35.40625 \r\nQ 44.1875 33.984375 37.640625 27.21875 \r\nQ 31.109375 20.453125 19.1875 8.296875 \r\nz\r\n\" id=\"DejaVuSans-50\"/>\r\n       </defs>\r\n       <use xlink:href=\"#DejaVuSans-50\"/>\r\n      </g>\r\n     </g>\r\n    </g>\r\n    <g id=\"xtick_3\">\r\n     <g id=\"line2d_3\">\r\n      <g>\r\n       <use style=\"stroke:#000000;stroke-width:0.8;\" x=\"164.801284\" xlink:href=\"#m7191ba2ba3\" y=\"239.758125\"/>\r\n      </g>\r\n     </g>\r\n     <g id=\"text_3\">\r\n      <!-- 4 -->\r\n      <g transform=\"translate(161.620034 254.356562)scale(0.1 -0.1)\">\r\n       <defs>\r\n        <path d=\"M 37.796875 64.3125 \r\nL 12.890625 25.390625 \r\nL 37.796875 25.390625 \r\nz\r\nM 35.203125 72.90625 \r\nL 47.609375 72.90625 \r\nL 47.609375 25.390625 \r\nL 58.015625 25.390625 \r\nL 58.015625 17.1875 \r\nL 47.609375 17.1875 \r\nL 47.609375 0 \r\nL 37.796875 0 \r\nL 37.796875 17.1875 \r\nL 4.890625 17.1875 \r\nL 4.890625 26.703125 \r\nz\r\n\" id=\"DejaVuSans-52\"/>\r\n       </defs>\r\n       <use xlink:href=\"#DejaVuSans-52\"/>\r\n      </g>\r\n     </g>\r\n    </g>\r\n    <g id=\"xtick_4\">\r\n     <g id=\"line2d_4\">\r\n      <g>\r\n       <use style=\"stroke:#000000;stroke-width:0.8;\" x=\"210.664298\" xlink:href=\"#m7191ba2ba3\" y=\"239.758125\"/>\r\n      </g>\r\n     </g>\r\n     <g id=\"text_4\">\r\n      <!-- 6 -->\r\n      <g transform=\"translate(207.483048 254.356562)scale(0.1 -0.1)\">\r\n       <defs>\r\n        <path d=\"M 33.015625 40.375 \r\nQ 26.375 40.375 22.484375 35.828125 \r\nQ 18.609375 31.296875 18.609375 23.390625 \r\nQ 18.609375 15.53125 22.484375 10.953125 \r\nQ 26.375 6.390625 33.015625 6.390625 \r\nQ 39.65625 6.390625 43.53125 10.953125 \r\nQ 47.40625 15.53125 47.40625 23.390625 \r\nQ 47.40625 31.296875 43.53125 35.828125 \r\nQ 39.65625 40.375 33.015625 40.375 \r\nz\r\nM 52.59375 71.296875 \r\nL 52.59375 62.3125 \r\nQ 48.875 64.0625 45.09375 64.984375 \r\nQ 41.3125 65.921875 37.59375 65.921875 \r\nQ 27.828125 65.921875 22.671875 59.328125 \r\nQ 17.53125 52.734375 16.796875 39.40625 \r\nQ 19.671875 43.65625 24.015625 45.921875 \r\nQ 28.375 48.1875 33.59375 48.1875 \r\nQ 44.578125 48.1875 50.953125 41.515625 \r\nQ 57.328125 34.859375 57.328125 23.390625 \r\nQ 57.328125 12.15625 50.6875 5.359375 \r\nQ 44.046875 -1.421875 33.015625 -1.421875 \r\nQ 20.359375 -1.421875 13.671875 8.265625 \r\nQ 6.984375 17.96875 6.984375 36.375 \r\nQ 6.984375 53.65625 15.1875 63.9375 \r\nQ 23.390625 74.21875 37.203125 74.21875 \r\nQ 40.921875 74.21875 44.703125 73.484375 \r\nQ 48.484375 72.75 52.59375 71.296875 \r\nz\r\n\" id=\"DejaVuSans-54\"/>\r\n       </defs>\r\n       <use xlink:href=\"#DejaVuSans-54\"/>\r\n      </g>\r\n     </g>\r\n    </g>\r\n    <g id=\"xtick_5\">\r\n     <g id=\"line2d_5\">\r\n      <g>\r\n       <use style=\"stroke:#000000;stroke-width:0.8;\" x=\"256.527312\" xlink:href=\"#m7191ba2ba3\" y=\"239.758125\"/>\r\n      </g>\r\n     </g>\r\n     <g id=\"text_5\">\r\n      <!-- 8 -->\r\n      <g transform=\"translate(253.346062 254.356562)scale(0.1 -0.1)\">\r\n       <defs>\r\n        <path d=\"M 31.78125 34.625 \r\nQ 24.75 34.625 20.71875 30.859375 \r\nQ 16.703125 27.09375 16.703125 20.515625 \r\nQ 16.703125 13.921875 20.71875 10.15625 \r\nQ 24.75 6.390625 31.78125 6.390625 \r\nQ 38.8125 6.390625 42.859375 10.171875 \r\nQ 46.921875 13.96875 46.921875 20.515625 \r\nQ 46.921875 27.09375 42.890625 30.859375 \r\nQ 38.875 34.625 31.78125 34.625 \r\nz\r\nM 21.921875 38.8125 \r\nQ 15.578125 40.375 12.03125 44.71875 \r\nQ 8.5 49.078125 8.5 55.328125 \r\nQ 8.5 64.0625 14.71875 69.140625 \r\nQ 20.953125 74.21875 31.78125 74.21875 \r\nQ 42.671875 74.21875 48.875 69.140625 \r\nQ 55.078125 64.0625 55.078125 55.328125 \r\nQ 55.078125 49.078125 51.53125 44.71875 \r\nQ 48 40.375 41.703125 38.8125 \r\nQ 48.828125 37.15625 52.796875 32.3125 \r\nQ 56.78125 27.484375 56.78125 20.515625 \r\nQ 56.78125 9.90625 50.3125 4.234375 \r\nQ 43.84375 -1.421875 31.78125 -1.421875 \r\nQ 19.734375 -1.421875 13.25 4.234375 \r\nQ 6.78125 9.90625 6.78125 20.515625 \r\nQ 6.78125 27.484375 10.78125 32.3125 \r\nQ 14.796875 37.15625 21.921875 38.8125 \r\nz\r\nM 18.3125 54.390625 \r\nQ 18.3125 48.734375 21.84375 45.5625 \r\nQ 25.390625 42.390625 31.78125 42.390625 \r\nQ 38.140625 42.390625 41.71875 45.5625 \r\nQ 45.3125 48.734375 45.3125 54.390625 \r\nQ 45.3125 60.0625 41.71875 63.234375 \r\nQ 38.140625 66.40625 31.78125 66.40625 \r\nQ 25.390625 66.40625 21.84375 63.234375 \r\nQ 18.3125 60.0625 18.3125 54.390625 \r\nz\r\n\" id=\"DejaVuSans-56\"/>\r\n       </defs>\r\n       <use xlink:href=\"#DejaVuSans-56\"/>\r\n      </g>\r\n     </g>\r\n    </g>\r\n    <g id=\"xtick_6\">\r\n     <g id=\"line2d_6\">\r\n      <g>\r\n       <use style=\"stroke:#000000;stroke-width:0.8;\" x=\"302.390325\" xlink:href=\"#m7191ba2ba3\" y=\"239.758125\"/>\r\n      </g>\r\n     </g>\r\n     <g id=\"text_6\">\r\n      <!-- 10 -->\r\n      <g transform=\"translate(296.027825 254.356562)scale(0.1 -0.1)\">\r\n       <defs>\r\n        <path d=\"M 12.40625 8.296875 \r\nL 28.515625 8.296875 \r\nL 28.515625 63.921875 \r\nL 10.984375 60.40625 \r\nL 10.984375 69.390625 \r\nL 28.421875 72.90625 \r\nL 38.28125 72.90625 \r\nL 38.28125 8.296875 \r\nL 54.390625 8.296875 \r\nL 54.390625 0 \r\nL 12.40625 0 \r\nz\r\n\" id=\"DejaVuSans-49\"/>\r\n       </defs>\r\n       <use xlink:href=\"#DejaVuSans-49\"/>\r\n       <use x=\"63.623047\" xlink:href=\"#DejaVuSans-48\"/>\r\n      </g>\r\n     </g>\r\n    </g>\r\n    <g id=\"xtick_7\">\r\n     <g id=\"line2d_7\">\r\n      <g>\r\n       <use style=\"stroke:#000000;stroke-width:0.8;\" x=\"348.253339\" xlink:href=\"#m7191ba2ba3\" y=\"239.758125\"/>\r\n      </g>\r\n     </g>\r\n     <g id=\"text_7\">\r\n      <!-- 12 -->\r\n      <g transform=\"translate(341.890839 254.356562)scale(0.1 -0.1)\">\r\n       <use xlink:href=\"#DejaVuSans-49\"/>\r\n       <use x=\"63.623047\" xlink:href=\"#DejaVuSans-50\"/>\r\n      </g>\r\n     </g>\r\n    </g>\r\n    <g id=\"text_8\">\r\n     <!-- Number of principal components in regression -->\r\n     <g transform=\"translate(101.650781 268.034687)scale(0.1 -0.1)\">\r\n      <defs>\r\n       <path d=\"M 9.8125 72.90625 \r\nL 23.09375 72.90625 \r\nL 55.421875 11.921875 \r\nL 55.421875 72.90625 \r\nL 64.984375 72.90625 \r\nL 64.984375 0 \r\nL 51.703125 0 \r\nL 19.390625 60.984375 \r\nL 19.390625 0 \r\nL 9.8125 0 \r\nz\r\n\" id=\"DejaVuSans-78\"/>\r\n       <path d=\"M 8.5 21.578125 \r\nL 8.5 54.6875 \r\nL 17.484375 54.6875 \r\nL 17.484375 21.921875 \r\nQ 17.484375 14.15625 20.5 10.265625 \r\nQ 23.53125 6.390625 29.59375 6.390625 \r\nQ 36.859375 6.390625 41.078125 11.03125 \r\nQ 45.3125 15.671875 45.3125 23.6875 \r\nL 45.3125 54.6875 \r\nL 54.296875 54.6875 \r\nL 54.296875 0 \r\nL 45.3125 0 \r\nL 45.3125 8.40625 \r\nQ 42.046875 3.421875 37.71875 1 \r\nQ 33.40625 -1.421875 27.6875 -1.421875 \r\nQ 18.265625 -1.421875 13.375 4.4375 \r\nQ 8.5 10.296875 8.5 21.578125 \r\nz\r\nM 31.109375 56 \r\nz\r\n\" id=\"DejaVuSans-117\"/>\r\n       <path d=\"M 52 44.1875 \r\nQ 55.375 50.25 60.0625 53.125 \r\nQ 64.75 56 71.09375 56 \r\nQ 79.640625 56 84.28125 50.015625 \r\nQ 88.921875 44.046875 88.921875 33.015625 \r\nL 88.921875 0 \r\nL 79.890625 0 \r\nL 79.890625 32.71875 \r\nQ 79.890625 40.578125 77.09375 44.375 \r\nQ 74.3125 48.1875 68.609375 48.1875 \r\nQ 61.625 48.1875 57.5625 43.546875 \r\nQ 53.515625 38.921875 53.515625 30.90625 \r\nL 53.515625 0 \r\nL 44.484375 0 \r\nL 44.484375 32.71875 \r\nQ 44.484375 40.625 41.703125 44.40625 \r\nQ 38.921875 48.1875 33.109375 48.1875 \r\nQ 26.21875 48.1875 22.15625 43.53125 \r\nQ 18.109375 38.875 18.109375 30.90625 \r\nL 18.109375 0 \r\nL 9.078125 0 \r\nL 9.078125 54.6875 \r\nL 18.109375 54.6875 \r\nL 18.109375 46.1875 \r\nQ 21.1875 51.21875 25.484375 53.609375 \r\nQ 29.78125 56 35.6875 56 \r\nQ 41.65625 56 45.828125 52.96875 \r\nQ 50 49.953125 52 44.1875 \r\nz\r\n\" id=\"DejaVuSans-109\"/>\r\n       <path d=\"M 48.6875 27.296875 \r\nQ 48.6875 37.203125 44.609375 42.84375 \r\nQ 40.53125 48.484375 33.40625 48.484375 \r\nQ 26.265625 48.484375 22.1875 42.84375 \r\nQ 18.109375 37.203125 18.109375 27.296875 \r\nQ 18.109375 17.390625 22.1875 11.75 \r\nQ 26.265625 6.109375 33.40625 6.109375 \r\nQ 40.53125 6.109375 44.609375 11.75 \r\nQ 48.6875 17.390625 48.6875 27.296875 \r\nz\r\nM 18.109375 46.390625 \r\nQ 20.953125 51.265625 25.265625 53.625 \r\nQ 29.59375 56 35.59375 56 \r\nQ 45.5625 56 51.78125 48.09375 \r\nQ 58.015625 40.1875 58.015625 27.296875 \r\nQ 58.015625 14.40625 51.78125 6.484375 \r\nQ 45.5625 -1.421875 35.59375 -1.421875 \r\nQ 29.59375 -1.421875 25.265625 0.953125 \r\nQ 20.953125 3.328125 18.109375 8.203125 \r\nL 18.109375 0 \r\nL 9.078125 0 \r\nL 9.078125 75.984375 \r\nL 18.109375 75.984375 \r\nz\r\n\" id=\"DejaVuSans-98\"/>\r\n       <path d=\"M 56.203125 29.59375 \r\nL 56.203125 25.203125 \r\nL 14.890625 25.203125 \r\nQ 15.484375 15.921875 20.484375 11.0625 \r\nQ 25.484375 6.203125 34.421875 6.203125 \r\nQ 39.59375 6.203125 44.453125 7.46875 \r\nQ 49.3125 8.734375 54.109375 11.28125 \r\nL 54.109375 2.78125 \r\nQ 49.265625 0.734375 44.1875 -0.34375 \r\nQ 39.109375 -1.421875 33.890625 -1.421875 \r\nQ 20.796875 -1.421875 13.15625 6.1875 \r\nQ 5.515625 13.8125 5.515625 26.8125 \r\nQ 5.515625 40.234375 12.765625 48.109375 \r\nQ 20.015625 56 32.328125 56 \r\nQ 43.359375 56 49.78125 48.890625 \r\nQ 56.203125 41.796875 56.203125 29.59375 \r\nz\r\nM 47.21875 32.234375 \r\nQ 47.125 39.59375 43.09375 43.984375 \r\nQ 39.0625 48.390625 32.421875 48.390625 \r\nQ 24.90625 48.390625 20.390625 44.140625 \r\nQ 15.875 39.890625 15.1875 32.171875 \r\nz\r\n\" id=\"DejaVuSans-101\"/>\r\n       <path d=\"M 41.109375 46.296875 \r\nQ 39.59375 47.171875 37.8125 47.578125 \r\nQ 36.03125 48 33.890625 48 \r\nQ 26.265625 48 22.1875 43.046875 \r\nQ 18.109375 38.09375 18.109375 28.8125 \r\nL 18.109375 0 \r\nL 9.078125 0 \r\nL 9.078125 54.6875 \r\nL 18.109375 54.6875 \r\nL 18.109375 46.1875 \r\nQ 20.953125 51.171875 25.484375 53.578125 \r\nQ 30.03125 56 36.53125 56 \r\nQ 37.453125 56 38.578125 55.875 \r\nQ 39.703125 55.765625 41.0625 55.515625 \r\nz\r\n\" id=\"DejaVuSans-114\"/>\r\n       <path id=\"DejaVuSans-32\"/>\r\n       <path d=\"M 30.609375 48.390625 \r\nQ 23.390625 48.390625 19.1875 42.75 \r\nQ 14.984375 37.109375 14.984375 27.296875 \r\nQ 14.984375 17.484375 19.15625 11.84375 \r\nQ 23.34375 6.203125 30.609375 6.203125 \r\nQ 37.796875 6.203125 41.984375 11.859375 \r\nQ 46.1875 17.53125 46.1875 27.296875 \r\nQ 46.1875 37.015625 41.984375 42.703125 \r\nQ 37.796875 48.390625 30.609375 48.390625 \r\nz\r\nM 30.609375 56 \r\nQ 42.328125 56 49.015625 48.375 \r\nQ 55.71875 40.765625 55.71875 27.296875 \r\nQ 55.71875 13.875 49.015625 6.21875 \r\nQ 42.328125 -1.421875 30.609375 -1.421875 \r\nQ 18.84375 -1.421875 12.171875 6.21875 \r\nQ 5.515625 13.875 5.515625 27.296875 \r\nQ 5.515625 40.765625 12.171875 48.375 \r\nQ 18.84375 56 30.609375 56 \r\nz\r\n\" id=\"DejaVuSans-111\"/>\r\n       <path d=\"M 37.109375 75.984375 \r\nL 37.109375 68.5 \r\nL 28.515625 68.5 \r\nQ 23.6875 68.5 21.796875 66.546875 \r\nQ 19.921875 64.59375 19.921875 59.515625 \r\nL 19.921875 54.6875 \r\nL 34.71875 54.6875 \r\nL 34.71875 47.703125 \r\nL 19.921875 47.703125 \r\nL 19.921875 0 \r\nL 10.890625 0 \r\nL 10.890625 47.703125 \r\nL 2.296875 47.703125 \r\nL 2.296875 54.6875 \r\nL 10.890625 54.6875 \r\nL 10.890625 58.5 \r\nQ 10.890625 67.625 15.140625 71.796875 \r\nQ 19.390625 75.984375 28.609375 75.984375 \r\nz\r\n\" id=\"DejaVuSans-102\"/>\r\n       <path d=\"M 18.109375 8.203125 \r\nL 18.109375 -20.796875 \r\nL 9.078125 -20.796875 \r\nL 9.078125 54.6875 \r\nL 18.109375 54.6875 \r\nL 18.109375 46.390625 \r\nQ 20.953125 51.265625 25.265625 53.625 \r\nQ 29.59375 56 35.59375 56 \r\nQ 45.5625 56 51.78125 48.09375 \r\nQ 58.015625 40.1875 58.015625 27.296875 \r\nQ 58.015625 14.40625 51.78125 6.484375 \r\nQ 45.5625 -1.421875 35.59375 -1.421875 \r\nQ 29.59375 -1.421875 25.265625 0.953125 \r\nQ 20.953125 3.328125 18.109375 8.203125 \r\nz\r\nM 48.6875 27.296875 \r\nQ 48.6875 37.203125 44.609375 42.84375 \r\nQ 40.53125 48.484375 33.40625 48.484375 \r\nQ 26.265625 48.484375 22.1875 42.84375 \r\nQ 18.109375 37.203125 18.109375 27.296875 \r\nQ 18.109375 17.390625 22.1875 11.75 \r\nQ 26.265625 6.109375 33.40625 6.109375 \r\nQ 40.53125 6.109375 44.609375 11.75 \r\nQ 48.6875 17.390625 48.6875 27.296875 \r\nz\r\n\" id=\"DejaVuSans-112\"/>\r\n       <path d=\"M 9.421875 54.6875 \r\nL 18.40625 54.6875 \r\nL 18.40625 0 \r\nL 9.421875 0 \r\nz\r\nM 9.421875 75.984375 \r\nL 18.40625 75.984375 \r\nL 18.40625 64.59375 \r\nL 9.421875 64.59375 \r\nz\r\n\" id=\"DejaVuSans-105\"/>\r\n       <path d=\"M 54.890625 33.015625 \r\nL 54.890625 0 \r\nL 45.90625 0 \r\nL 45.90625 32.71875 \r\nQ 45.90625 40.484375 42.875 44.328125 \r\nQ 39.84375 48.1875 33.796875 48.1875 \r\nQ 26.515625 48.1875 22.3125 43.546875 \r\nQ 18.109375 38.921875 18.109375 30.90625 \r\nL 18.109375 0 \r\nL 9.078125 0 \r\nL 9.078125 54.6875 \r\nL 18.109375 54.6875 \r\nL 18.109375 46.1875 \r\nQ 21.34375 51.125 25.703125 53.5625 \r\nQ 30.078125 56 35.796875 56 \r\nQ 45.21875 56 50.046875 50.171875 \r\nQ 54.890625 44.34375 54.890625 33.015625 \r\nz\r\n\" id=\"DejaVuSans-110\"/>\r\n       <path d=\"M 48.78125 52.59375 \r\nL 48.78125 44.1875 \r\nQ 44.96875 46.296875 41.140625 47.34375 \r\nQ 37.3125 48.390625 33.40625 48.390625 \r\nQ 24.65625 48.390625 19.8125 42.84375 \r\nQ 14.984375 37.3125 14.984375 27.296875 \r\nQ 14.984375 17.28125 19.8125 11.734375 \r\nQ 24.65625 6.203125 33.40625 6.203125 \r\nQ 37.3125 6.203125 41.140625 7.25 \r\nQ 44.96875 8.296875 48.78125 10.40625 \r\nL 48.78125 2.09375 \r\nQ 45.015625 0.34375 40.984375 -0.53125 \r\nQ 36.96875 -1.421875 32.421875 -1.421875 \r\nQ 20.0625 -1.421875 12.78125 6.34375 \r\nQ 5.515625 14.109375 5.515625 27.296875 \r\nQ 5.515625 40.671875 12.859375 48.328125 \r\nQ 20.21875 56 33.015625 56 \r\nQ 37.15625 56 41.109375 55.140625 \r\nQ 45.0625 54.296875 48.78125 52.59375 \r\nz\r\n\" id=\"DejaVuSans-99\"/>\r\n       <path d=\"M 34.28125 27.484375 \r\nQ 23.390625 27.484375 19.1875 25 \r\nQ 14.984375 22.515625 14.984375 16.5 \r\nQ 14.984375 11.71875 18.140625 8.90625 \r\nQ 21.296875 6.109375 26.703125 6.109375 \r\nQ 34.1875 6.109375 38.703125 11.40625 \r\nQ 43.21875 16.703125 43.21875 25.484375 \r\nL 43.21875 27.484375 \r\nz\r\nM 52.203125 31.203125 \r\nL 52.203125 0 \r\nL 43.21875 0 \r\nL 43.21875 8.296875 \r\nQ 40.140625 3.328125 35.546875 0.953125 \r\nQ 30.953125 -1.421875 24.3125 -1.421875 \r\nQ 15.921875 -1.421875 10.953125 3.296875 \r\nQ 6 8.015625 6 15.921875 \r\nQ 6 25.140625 12.171875 29.828125 \r\nQ 18.359375 34.515625 30.609375 34.515625 \r\nL 43.21875 34.515625 \r\nL 43.21875 35.40625 \r\nQ 43.21875 41.609375 39.140625 45 \r\nQ 35.0625 48.390625 27.6875 48.390625 \r\nQ 23 48.390625 18.546875 47.265625 \r\nQ 14.109375 46.140625 10.015625 43.890625 \r\nL 10.015625 52.203125 \r\nQ 14.9375 54.109375 19.578125 55.046875 \r\nQ 24.21875 56 28.609375 56 \r\nQ 40.484375 56 46.34375 49.84375 \r\nQ 52.203125 43.703125 52.203125 31.203125 \r\nz\r\n\" id=\"DejaVuSans-97\"/>\r\n       <path d=\"M 9.421875 75.984375 \r\nL 18.40625 75.984375 \r\nL 18.40625 0 \r\nL 9.421875 0 \r\nz\r\n\" id=\"DejaVuSans-108\"/>\r\n       <path d=\"M 18.3125 70.21875 \r\nL 18.3125 54.6875 \r\nL 36.8125 54.6875 \r\nL 36.8125 47.703125 \r\nL 18.3125 47.703125 \r\nL 18.3125 18.015625 \r\nQ 18.3125 11.328125 20.140625 9.421875 \r\nQ 21.96875 7.515625 27.59375 7.515625 \r\nL 36.8125 7.515625 \r\nL 36.8125 0 \r\nL 27.59375 0 \r\nQ 17.1875 0 13.234375 3.875 \r\nQ 9.28125 7.765625 9.28125 18.015625 \r\nL 9.28125 47.703125 \r\nL 2.6875 47.703125 \r\nL 2.6875 54.6875 \r\nL 9.28125 54.6875 \r\nL 9.28125 70.21875 \r\nz\r\n\" id=\"DejaVuSans-116\"/>\r\n       <path d=\"M 44.28125 53.078125 \r\nL 44.28125 44.578125 \r\nQ 40.484375 46.53125 36.375 47.5 \r\nQ 32.28125 48.484375 27.875 48.484375 \r\nQ 21.1875 48.484375 17.84375 46.4375 \r\nQ 14.5 44.390625 14.5 40.28125 \r\nQ 14.5 37.15625 16.890625 35.375 \r\nQ 19.28125 33.59375 26.515625 31.984375 \r\nL 29.59375 31.296875 \r\nQ 39.15625 29.25 43.1875 25.515625 \r\nQ 47.21875 21.78125 47.21875 15.09375 \r\nQ 47.21875 7.46875 41.1875 3.015625 \r\nQ 35.15625 -1.421875 24.609375 -1.421875 \r\nQ 20.21875 -1.421875 15.453125 -0.5625 \r\nQ 10.6875 0.296875 5.421875 2 \r\nL 5.421875 11.28125 \r\nQ 10.40625 8.6875 15.234375 7.390625 \r\nQ 20.0625 6.109375 24.8125 6.109375 \r\nQ 31.15625 6.109375 34.5625 8.28125 \r\nQ 37.984375 10.453125 37.984375 14.40625 \r\nQ 37.984375 18.0625 35.515625 20.015625 \r\nQ 33.0625 21.96875 24.703125 23.78125 \r\nL 21.578125 24.515625 \r\nQ 13.234375 26.265625 9.515625 29.90625 \r\nQ 5.8125 33.546875 5.8125 39.890625 \r\nQ 5.8125 47.609375 11.28125 51.796875 \r\nQ 16.75 56 26.8125 56 \r\nQ 31.78125 56 36.171875 55.265625 \r\nQ 40.578125 54.546875 44.28125 53.078125 \r\nz\r\n\" id=\"DejaVuSans-115\"/>\r\n       <path d=\"M 45.40625 27.984375 \r\nQ 45.40625 37.75 41.375 43.109375 \r\nQ 37.359375 48.484375 30.078125 48.484375 \r\nQ 22.859375 48.484375 18.828125 43.109375 \r\nQ 14.796875 37.75 14.796875 27.984375 \r\nQ 14.796875 18.265625 18.828125 12.890625 \r\nQ 22.859375 7.515625 30.078125 7.515625 \r\nQ 37.359375 7.515625 41.375 12.890625 \r\nQ 45.40625 18.265625 45.40625 27.984375 \r\nz\r\nM 54.390625 6.78125 \r\nQ 54.390625 -7.171875 48.1875 -13.984375 \r\nQ 42 -20.796875 29.203125 -20.796875 \r\nQ 24.46875 -20.796875 20.265625 -20.09375 \r\nQ 16.0625 -19.390625 12.109375 -17.921875 \r\nL 12.109375 -9.1875 \r\nQ 16.0625 -11.328125 19.921875 -12.34375 \r\nQ 23.78125 -13.375 27.78125 -13.375 \r\nQ 36.625 -13.375 41.015625 -8.765625 \r\nQ 45.40625 -4.15625 45.40625 5.171875 \r\nL 45.40625 9.625 \r\nQ 42.625 4.78125 38.28125 2.390625 \r\nQ 33.9375 0 27.875 0 \r\nQ 17.828125 0 11.671875 7.65625 \r\nQ 5.515625 15.328125 5.515625 27.984375 \r\nQ 5.515625 40.671875 11.671875 48.328125 \r\nQ 17.828125 56 27.875 56 \r\nQ 33.9375 56 38.28125 53.609375 \r\nQ 42.625 51.21875 45.40625 46.390625 \r\nL 45.40625 54.6875 \r\nL 54.390625 54.6875 \r\nz\r\n\" id=\"DejaVuSans-103\"/>\r\n      </defs>\r\n      <use xlink:href=\"#DejaVuSans-78\"/>\r\n      <use x=\"74.804688\" xlink:href=\"#DejaVuSans-117\"/>\r\n      <use x=\"138.183594\" xlink:href=\"#DejaVuSans-109\"/>\r\n      <use x=\"235.595703\" xlink:href=\"#DejaVuSans-98\"/>\r\n      <use x=\"299.072266\" xlink:href=\"#DejaVuSans-101\"/>\r\n      <use x=\"360.595703\" xlink:href=\"#DejaVuSans-114\"/>\r\n      <use x=\"401.708984\" xlink:href=\"#DejaVuSans-32\"/>\r\n      <use x=\"433.496094\" xlink:href=\"#DejaVuSans-111\"/>\r\n      <use x=\"494.677734\" xlink:href=\"#DejaVuSans-102\"/>\r\n      <use x=\"529.882812\" xlink:href=\"#DejaVuSans-32\"/>\r\n      <use x=\"561.669922\" xlink:href=\"#DejaVuSans-112\"/>\r\n      <use x=\"625.146484\" xlink:href=\"#DejaVuSans-114\"/>\r\n      <use x=\"666.259766\" xlink:href=\"#DejaVuSans-105\"/>\r\n      <use x=\"694.042969\" xlink:href=\"#DejaVuSans-110\"/>\r\n      <use x=\"757.421875\" xlink:href=\"#DejaVuSans-99\"/>\r\n      <use x=\"812.402344\" xlink:href=\"#DejaVuSans-105\"/>\r\n      <use x=\"840.185547\" xlink:href=\"#DejaVuSans-112\"/>\r\n      <use x=\"903.662109\" xlink:href=\"#DejaVuSans-97\"/>\r\n      <use x=\"964.941406\" xlink:href=\"#DejaVuSans-108\"/>\r\n      <use x=\"992.724609\" xlink:href=\"#DejaVuSans-32\"/>\r\n      <use x=\"1024.511719\" xlink:href=\"#DejaVuSans-99\"/>\r\n      <use x=\"1079.492188\" xlink:href=\"#DejaVuSans-111\"/>\r\n      <use x=\"1140.673828\" xlink:href=\"#DejaVuSans-109\"/>\r\n      <use x=\"1238.085938\" xlink:href=\"#DejaVuSans-112\"/>\r\n      <use x=\"1301.5625\" xlink:href=\"#DejaVuSans-111\"/>\r\n      <use x=\"1362.744141\" xlink:href=\"#DejaVuSans-110\"/>\r\n      <use x=\"1426.123047\" xlink:href=\"#DejaVuSans-101\"/>\r\n      <use x=\"1487.646484\" xlink:href=\"#DejaVuSans-110\"/>\r\n      <use x=\"1551.025391\" xlink:href=\"#DejaVuSans-116\"/>\r\n      <use x=\"1590.234375\" xlink:href=\"#DejaVuSans-115\"/>\r\n      <use x=\"1642.333984\" xlink:href=\"#DejaVuSans-32\"/>\r\n      <use x=\"1674.121094\" xlink:href=\"#DejaVuSans-105\"/>\r\n      <use x=\"1701.904297\" xlink:href=\"#DejaVuSans-110\"/>\r\n      <use x=\"1765.283203\" xlink:href=\"#DejaVuSans-32\"/>\r\n      <use x=\"1797.070312\" xlink:href=\"#DejaVuSans-114\"/>\r\n      <use x=\"1835.933594\" xlink:href=\"#DejaVuSans-101\"/>\r\n      <use x=\"1897.457031\" xlink:href=\"#DejaVuSans-103\"/>\r\n      <use x=\"1960.933594\" xlink:href=\"#DejaVuSans-114\"/>\r\n      <use x=\"1999.796875\" xlink:href=\"#DejaVuSans-101\"/>\r\n      <use x=\"2061.320312\" xlink:href=\"#DejaVuSans-115\"/>\r\n      <use x=\"2113.419922\" xlink:href=\"#DejaVuSans-115\"/>\r\n      <use x=\"2165.519531\" xlink:href=\"#DejaVuSans-105\"/>\r\n      <use x=\"2193.302734\" xlink:href=\"#DejaVuSans-111\"/>\r\n      <use x=\"2254.484375\" xlink:href=\"#DejaVuSans-110\"/>\r\n     </g>\r\n    </g>\r\n   </g>\r\n   <g id=\"matplotlib.axis_2\">\r\n    <g id=\"ytick_1\">\r\n     <g id=\"line2d_8\">\r\n      <defs>\r\n       <path d=\"M 0 0 \r\nL -3.5 0 \r\n\" id=\"m6e88bb4fe1\" style=\"stroke:#000000;stroke-width:0.8;\"/>\r\n      </defs>\r\n      <g>\r\n       <use style=\"stroke:#000000;stroke-width:0.8;\" x=\"50.14375\" xlink:href=\"#m6e88bb4fe1\" y=\"231.159709\"/>\r\n      </g>\r\n     </g>\r\n     <g id=\"text_9\">\r\n      <!-- 0.30 -->\r\n      <g transform=\"translate(20.878125 234.958928)scale(0.1 -0.1)\">\r\n       <defs>\r\n        <path d=\"M 10.6875 12.40625 \r\nL 21 12.40625 \r\nL 21 0 \r\nL 10.6875 0 \r\nz\r\n\" id=\"DejaVuSans-46\"/>\r\n        <path d=\"M 40.578125 39.3125 \r\nQ 47.65625 37.796875 51.625 33 \r\nQ 55.609375 28.21875 55.609375 21.1875 \r\nQ 55.609375 10.40625 48.1875 4.484375 \r\nQ 40.765625 -1.421875 27.09375 -1.421875 \r\nQ 22.515625 -1.421875 17.65625 -0.515625 \r\nQ 12.796875 0.390625 7.625 2.203125 \r\nL 7.625 11.71875 \r\nQ 11.71875 9.328125 16.59375 8.109375 \r\nQ 21.484375 6.890625 26.8125 6.890625 \r\nQ 36.078125 6.890625 40.9375 10.546875 \r\nQ 45.796875 14.203125 45.796875 21.1875 \r\nQ 45.796875 27.640625 41.28125 31.265625 \r\nQ 36.765625 34.90625 28.71875 34.90625 \r\nL 20.21875 34.90625 \r\nL 20.21875 43.015625 \r\nL 29.109375 43.015625 \r\nQ 36.375 43.015625 40.234375 45.921875 \r\nQ 44.09375 48.828125 44.09375 54.296875 \r\nQ 44.09375 59.90625 40.109375 62.90625 \r\nQ 36.140625 65.921875 28.71875 65.921875 \r\nQ 24.65625 65.921875 20.015625 65.03125 \r\nQ 15.375 64.15625 9.8125 62.3125 \r\nL 9.8125 71.09375 \r\nQ 15.4375 72.65625 20.34375 73.4375 \r\nQ 25.25 74.21875 29.59375 74.21875 \r\nQ 40.828125 74.21875 47.359375 69.109375 \r\nQ 53.90625 64.015625 53.90625 55.328125 \r\nQ 53.90625 49.265625 50.4375 45.09375 \r\nQ 46.96875 40.921875 40.578125 39.3125 \r\nz\r\n\" id=\"DejaVuSans-51\"/>\r\n       </defs>\r\n       <use xlink:href=\"#DejaVuSans-48\"/>\r\n       <use x=\"63.623047\" xlink:href=\"#DejaVuSans-46\"/>\r\n       <use x=\"95.410156\" xlink:href=\"#DejaVuSans-51\"/>\r\n       <use x=\"159.033203\" xlink:href=\"#DejaVuSans-48\"/>\r\n      </g>\r\n     </g>\r\n    </g>\r\n    <g id=\"ytick_2\">\r\n     <g id=\"line2d_9\">\r\n      <g>\r\n       <use style=\"stroke:#000000;stroke-width:0.8;\" x=\"50.14375\" xlink:href=\"#m6e88bb4fe1\" y=\"184.055113\"/>\r\n      </g>\r\n     </g>\r\n     <g id=\"text_10\">\r\n      <!-- 0.35 -->\r\n      <g transform=\"translate(20.878125 187.854331)scale(0.1 -0.1)\">\r\n       <defs>\r\n        <path d=\"M 10.796875 72.90625 \r\nL 49.515625 72.90625 \r\nL 49.515625 64.59375 \r\nL 19.828125 64.59375 \r\nL 19.828125 46.734375 \r\nQ 21.96875 47.46875 24.109375 47.828125 \r\nQ 26.265625 48.1875 28.421875 48.1875 \r\nQ 40.625 48.1875 47.75 41.5 \r\nQ 54.890625 34.8125 54.890625 23.390625 \r\nQ 54.890625 11.625 47.5625 5.09375 \r\nQ 40.234375 -1.421875 26.90625 -1.421875 \r\nQ 22.3125 -1.421875 17.546875 -0.640625 \r\nQ 12.796875 0.140625 7.71875 1.703125 \r\nL 7.71875 11.625 \r\nQ 12.109375 9.234375 16.796875 8.0625 \r\nQ 21.484375 6.890625 26.703125 6.890625 \r\nQ 35.15625 6.890625 40.078125 11.328125 \r\nQ 45.015625 15.765625 45.015625 23.390625 \r\nQ 45.015625 31 40.078125 35.4375 \r\nQ 35.15625 39.890625 26.703125 39.890625 \r\nQ 22.75 39.890625 18.8125 39.015625 \r\nQ 14.890625 38.140625 10.796875 36.28125 \r\nz\r\n\" id=\"DejaVuSans-53\"/>\r\n       </defs>\r\n       <use xlink:href=\"#DejaVuSans-48\"/>\r\n       <use x=\"63.623047\" xlink:href=\"#DejaVuSans-46\"/>\r\n       <use x=\"95.410156\" xlink:href=\"#DejaVuSans-51\"/>\r\n       <use x=\"159.033203\" xlink:href=\"#DejaVuSans-53\"/>\r\n      </g>\r\n     </g>\r\n    </g>\r\n    <g id=\"ytick_3\">\r\n     <g id=\"line2d_10\">\r\n      <g>\r\n       <use style=\"stroke:#000000;stroke-width:0.8;\" x=\"50.14375\" xlink:href=\"#m6e88bb4fe1\" y=\"136.950516\"/>\r\n      </g>\r\n     </g>\r\n     <g id=\"text_11\">\r\n      <!-- 0.40 -->\r\n      <g transform=\"translate(20.878125 140.749735)scale(0.1 -0.1)\">\r\n       <use xlink:href=\"#DejaVuSans-48\"/>\r\n       <use x=\"63.623047\" xlink:href=\"#DejaVuSans-46\"/>\r\n       <use x=\"95.410156\" xlink:href=\"#DejaVuSans-52\"/>\r\n       <use x=\"159.033203\" xlink:href=\"#DejaVuSans-48\"/>\r\n      </g>\r\n     </g>\r\n    </g>\r\n    <g id=\"ytick_4\">\r\n     <g id=\"line2d_11\">\r\n      <g>\r\n       <use style=\"stroke:#000000;stroke-width:0.8;\" x=\"50.14375\" xlink:href=\"#m6e88bb4fe1\" y=\"89.84592\"/>\r\n      </g>\r\n     </g>\r\n     <g id=\"text_12\">\r\n      <!-- 0.45 -->\r\n      <g transform=\"translate(20.878125 93.645139)scale(0.1 -0.1)\">\r\n       <use xlink:href=\"#DejaVuSans-48\"/>\r\n       <use x=\"63.623047\" xlink:href=\"#DejaVuSans-46\"/>\r\n       <use x=\"95.410156\" xlink:href=\"#DejaVuSans-52\"/>\r\n       <use x=\"159.033203\" xlink:href=\"#DejaVuSans-53\"/>\r\n      </g>\r\n     </g>\r\n    </g>\r\n    <g id=\"ytick_5\">\r\n     <g id=\"line2d_12\">\r\n      <g>\r\n       <use style=\"stroke:#000000;stroke-width:0.8;\" x=\"50.14375\" xlink:href=\"#m6e88bb4fe1\" y=\"42.741323\"/>\r\n      </g>\r\n     </g>\r\n     <g id=\"text_13\">\r\n      <!-- 0.50 -->\r\n      <g transform=\"translate(20.878125 46.540542)scale(0.1 -0.1)\">\r\n       <use xlink:href=\"#DejaVuSans-48\"/>\r\n       <use x=\"63.623047\" xlink:href=\"#DejaVuSans-46\"/>\r\n       <use x=\"95.410156\" xlink:href=\"#DejaVuSans-53\"/>\r\n       <use x=\"159.033203\" xlink:href=\"#DejaVuSans-48\"/>\r\n      </g>\r\n     </g>\r\n    </g>\r\n    <g id=\"text_14\">\r\n     <!-- MSE -->\r\n     <g transform=\"translate(14.798438 141.685781)rotate(-90)scale(0.1 -0.1)\">\r\n      <defs>\r\n       <path d=\"M 9.8125 72.90625 \r\nL 24.515625 72.90625 \r\nL 43.109375 23.296875 \r\nL 61.8125 72.90625 \r\nL 76.515625 72.90625 \r\nL 76.515625 0 \r\nL 66.890625 0 \r\nL 66.890625 64.015625 \r\nL 48.09375 14.015625 \r\nL 38.1875 14.015625 \r\nL 19.390625 64.015625 \r\nL 19.390625 0 \r\nL 9.8125 0 \r\nz\r\n\" id=\"DejaVuSans-77\"/>\r\n       <path d=\"M 53.515625 70.515625 \r\nL 53.515625 60.890625 \r\nQ 47.90625 63.578125 42.921875 64.890625 \r\nQ 37.9375 66.21875 33.296875 66.21875 \r\nQ 25.25 66.21875 20.875 63.09375 \r\nQ 16.5 59.96875 16.5 54.203125 \r\nQ 16.5 49.359375 19.40625 46.890625 \r\nQ 22.3125 44.4375 30.421875 42.921875 \r\nL 36.375 41.703125 \r\nQ 47.40625 39.59375 52.65625 34.296875 \r\nQ 57.90625 29 57.90625 20.125 \r\nQ 57.90625 9.515625 50.796875 4.046875 \r\nQ 43.703125 -1.421875 29.984375 -1.421875 \r\nQ 24.8125 -1.421875 18.96875 -0.25 \r\nQ 13.140625 0.921875 6.890625 3.21875 \r\nL 6.890625 13.375 \r\nQ 12.890625 10.015625 18.65625 8.296875 \r\nQ 24.421875 6.59375 29.984375 6.59375 \r\nQ 38.421875 6.59375 43.015625 9.90625 \r\nQ 47.609375 13.234375 47.609375 19.390625 \r\nQ 47.609375 24.75 44.3125 27.78125 \r\nQ 41.015625 30.8125 33.5 32.328125 \r\nL 27.484375 33.5 \r\nQ 16.453125 35.6875 11.515625 40.375 \r\nQ 6.59375 45.0625 6.59375 53.421875 \r\nQ 6.59375 63.09375 13.40625 68.65625 \r\nQ 20.21875 74.21875 32.171875 74.21875 \r\nQ 37.3125 74.21875 42.625 73.28125 \r\nQ 47.953125 72.359375 53.515625 70.515625 \r\nz\r\n\" id=\"DejaVuSans-83\"/>\r\n       <path d=\"M 9.8125 72.90625 \r\nL 55.90625 72.90625 \r\nL 55.90625 64.59375 \r\nL 19.671875 64.59375 \r\nL 19.671875 43.015625 \r\nL 54.390625 43.015625 \r\nL 54.390625 34.71875 \r\nL 19.671875 34.71875 \r\nL 19.671875 8.296875 \r\nL 56.78125 8.296875 \r\nL 56.78125 0 \r\nL 9.8125 0 \r\nz\r\n\" id=\"DejaVuSans-69\"/>\r\n      </defs>\r\n      <use xlink:href=\"#DejaVuSans-77\"/>\r\n      <use x=\"86.279297\" xlink:href=\"#DejaVuSans-83\"/>\r\n      <use x=\"149.755859\" xlink:href=\"#DejaVuSans-69\"/>\r\n     </g>\r\n    </g>\r\n   </g>\r\n   <g id=\"line2d_13\">\r\n    <path clip-path=\"url(#p1fc7a71fda)\" d=\"M 96.006764 32.201761 \r\nL 118.938271 147.021186 \r\nL 141.869777 190.56906 \r\nL 164.801284 210.942475 \r\nL 187.732791 220.042264 \r\nL 210.664298 223.709197 \r\nL 233.595805 225.892623 \r\nL 256.527312 227.892903 \r\nL 279.458818 229.308675 \r\nL 302.390325 229.429983 \r\nL 325.321832 229.408731 \r\nL 348.253339 229.874489 \r\nL 371.184846 229.874489 \r\n\" style=\"fill:none;stroke:#1f77b4;stroke-linecap:square;stroke-width:1.5;\"/>\r\n    <defs>\r\n     <path d=\"M -0 3 \r\nL 3 -3 \r\nL -3 -3 \r\nz\r\n\" id=\"m74ce0a87b4\" style=\"stroke:#1f77b4;stroke-linejoin:miter;\"/>\r\n    </defs>\r\n    <g clip-path=\"url(#p1fc7a71fda)\">\r\n     <use style=\"fill:#1f77b4;stroke:#1f77b4;stroke-linejoin:miter;\" x=\"96.006764\" xlink:href=\"#m74ce0a87b4\" y=\"32.201761\"/>\r\n     <use style=\"fill:#1f77b4;stroke:#1f77b4;stroke-linejoin:miter;\" x=\"118.938271\" xlink:href=\"#m74ce0a87b4\" y=\"147.021186\"/>\r\n     <use style=\"fill:#1f77b4;stroke:#1f77b4;stroke-linejoin:miter;\" x=\"141.869777\" xlink:href=\"#m74ce0a87b4\" y=\"190.56906\"/>\r\n     <use style=\"fill:#1f77b4;stroke:#1f77b4;stroke-linejoin:miter;\" x=\"164.801284\" xlink:href=\"#m74ce0a87b4\" y=\"210.942475\"/>\r\n     <use style=\"fill:#1f77b4;stroke:#1f77b4;stroke-linejoin:miter;\" x=\"187.732791\" xlink:href=\"#m74ce0a87b4\" y=\"220.042264\"/>\r\n     <use style=\"fill:#1f77b4;stroke:#1f77b4;stroke-linejoin:miter;\" x=\"210.664298\" xlink:href=\"#m74ce0a87b4\" y=\"223.709197\"/>\r\n     <use style=\"fill:#1f77b4;stroke:#1f77b4;stroke-linejoin:miter;\" x=\"233.595805\" xlink:href=\"#m74ce0a87b4\" y=\"225.892623\"/>\r\n     <use style=\"fill:#1f77b4;stroke:#1f77b4;stroke-linejoin:miter;\" x=\"256.527312\" xlink:href=\"#m74ce0a87b4\" y=\"227.892903\"/>\r\n     <use style=\"fill:#1f77b4;stroke:#1f77b4;stroke-linejoin:miter;\" x=\"279.458818\" xlink:href=\"#m74ce0a87b4\" y=\"229.308675\"/>\r\n     <use style=\"fill:#1f77b4;stroke:#1f77b4;stroke-linejoin:miter;\" x=\"302.390325\" xlink:href=\"#m74ce0a87b4\" y=\"229.429983\"/>\r\n     <use style=\"fill:#1f77b4;stroke:#1f77b4;stroke-linejoin:miter;\" x=\"325.321832\" xlink:href=\"#m74ce0a87b4\" y=\"229.408731\"/>\r\n     <use style=\"fill:#1f77b4;stroke:#1f77b4;stroke-linejoin:miter;\" x=\"348.253339\" xlink:href=\"#m74ce0a87b4\" y=\"229.874489\"/>\r\n     <use style=\"fill:#1f77b4;stroke:#1f77b4;stroke-linejoin:miter;\" x=\"371.184846\" xlink:href=\"#m74ce0a87b4\" y=\"229.874489\"/>\r\n    </g>\r\n   </g>\r\n   <g id=\"patch_3\">\r\n    <path d=\"M 50.14375 239.758125 \r\nL 50.14375 22.318125 \r\n\" style=\"fill:none;stroke:#000000;stroke-linecap:square;stroke-linejoin:miter;stroke-width:0.8;\"/>\r\n   </g>\r\n   <g id=\"patch_4\">\r\n    <path d=\"M 384.94375 239.758125 \r\nL 384.94375 22.318125 \r\n\" style=\"fill:none;stroke:#000000;stroke-linecap:square;stroke-linejoin:miter;stroke-width:0.8;\"/>\r\n   </g>\r\n   <g id=\"patch_5\">\r\n    <path d=\"M 50.14375 239.758125 \r\nL 384.94375 239.758125 \r\n\" style=\"fill:none;stroke:#000000;stroke-linecap:square;stroke-linejoin:miter;stroke-width:0.8;\"/>\r\n   </g>\r\n   <g id=\"patch_6\">\r\n    <path d=\"M 50.14375 22.318125 \r\nL 384.94375 22.318125 \r\n\" style=\"fill:none;stroke:#000000;stroke-linecap:square;stroke-linejoin:miter;stroke-width:0.8;\"/>\r\n   </g>\r\n   <g id=\"text_15\">\r\n    <!-- Salary -->\r\n    <g transform=\"translate(198.69625 16.318125)scale(0.12 -0.12)\">\r\n     <defs>\r\n      <path d=\"M 32.171875 -5.078125 \r\nQ 28.375 -14.84375 24.75 -17.8125 \r\nQ 21.140625 -20.796875 15.09375 -20.796875 \r\nL 7.90625 -20.796875 \r\nL 7.90625 -13.28125 \r\nL 13.1875 -13.28125 \r\nQ 16.890625 -13.28125 18.9375 -11.515625 \r\nQ 21 -9.765625 23.484375 -3.21875 \r\nL 25.09375 0.875 \r\nL 2.984375 54.6875 \r\nL 12.5 54.6875 \r\nL 29.59375 11.921875 \r\nL 46.6875 54.6875 \r\nL 56.203125 54.6875 \r\nz\r\n\" id=\"DejaVuSans-121\"/>\r\n     </defs>\r\n     <use xlink:href=\"#DejaVuSans-83\"/>\r\n     <use x=\"63.476562\" xlink:href=\"#DejaVuSans-97\"/>\r\n     <use x=\"124.755859\" xlink:href=\"#DejaVuSans-108\"/>\r\n     <use x=\"152.539062\" xlink:href=\"#DejaVuSans-97\"/>\r\n     <use x=\"213.818359\" xlink:href=\"#DejaVuSans-114\"/>\r\n     <use x=\"254.931641\" xlink:href=\"#DejaVuSans-121\"/>\r\n    </g>\r\n   </g>\r\n  </g>\r\n </g>\r\n <defs>\r\n  <clipPath id=\"p1fc7a71fda\">\r\n   <rect height=\"217.44\" width=\"334.8\" x=\"50.14375\" y=\"22.318125\"/>\r\n  </clipPath>\r\n </defs>\r\n</svg>\r\n",
      "image/png": "[encoded data removed]"
     },
     "metadata": {
      "needs_background": "light"
     }
    }
   ],
   "source": [
    "n = len(X_train)\n",
    "\n",
    "# 10-fold CV, with shuffle\n",
    "kf_10 = model_selection.KFold(n_splits=10, shuffle=True, random_state=1)\n",
    "\n",
    "mse = []\n",
    "\n",
    "for i in tqdm(np.arange(1, 20)):\n",
    "    pls = PLSRegression(n_components=i)\n",
    "    score = model_selection.cross_val_score(pls, X_train, y_train, cv=kf_10, scoring='neg_mean_squared_error').mean()\n",
    "    mse.append(-score)\n",
    "# Plot results\n",
    "plt.plot(np.arange(1, 20), np.array(mse), '-v')\n",
    "plt.xlabel('Number of principal components in regression')\n",
    "plt.ylabel('MSE')\n",
    "plt.title('Salary')\n",
    "plt.xlim(xmin=-1)\n",
    "\n",
    "best_components = mse.index(min(mse))+1"
   ]
  },
  {
   "cell_type": "code",
   "execution_count": 226,
   "metadata": {},
   "outputs": [
    {
     "output_type": "execute_result",
     "data": {
      "text/plain": [
       "PLSRegression(n_components=12)"
      ]
     },
     "metadata": {},
     "execution_count": 226
    }
   ],
   "source": [
    "pls = PLSRegression(n_components=best_components)\n",
    "pls.fit(X_train, y_train)\n",
    "\n"
   ]
  },
  {
   "cell_type": "code",
   "execution_count": 228,
   "metadata": {},
   "outputs": [
    {
     "output_type": "stream",
     "name": "stdout",
     "text": [
      "PLS Regression - Validation\nMean Absolute Error: 0.32025784040288185\nMean Squared Error: 0.2190887941735308\nRoot Mean Squared Error: 0.46806921942542945\nR^2: 0.783486229040472\n"
     ]
    }
   ],
   "source": [
    "y_val_pred = pls.predict(X_val)\n",
    "mse = metrics.mean_squared_error(y_val, y_val_pred)\n",
    "r_square = metrics.r2_score(y_val, y_val_pred)\n",
    "print('PLS Regression - Validation')\n",
    "print('Mean Absolute Error:', metrics.mean_absolute_error(y_val, y_val_pred))\n",
    "print('Mean Squared Error:', mse)\n",
    "print('Root Mean Squared Error:', np.sqrt(mse))\n",
    "print('R^2:', r_square)"
   ]
  },
  {
   "cell_type": "code",
   "execution_count": 229,
   "metadata": {},
   "outputs": [
    {
     "output_type": "stream",
     "name": "stdout",
     "text": [
      "PLS Regression - Test\nMean Absolute Error: 0.37054297460343255\nMean Squared Error: 0.2708135625502148\nRoot Mean Squared Error: 0.5203975043658595\nR^2: 0.7536333353397746\n"
     ]
    }
   ],
   "source": [
    "y_pred = pls.predict(X_test)\n",
    "print('PLS Regression - Test')\n",
    "\n",
    "mse = metrics.mean_squared_error(y_test, y_pred)\n",
    "r_square = metrics.r2_score(y_test, y_pred)\n",
    "\n",
    "print('Mean Absolute Error:', metrics.mean_absolute_error(y_test, y_pred))\n",
    "print('Mean Squared Error:', metrics.mean_squared_error(y_test, y_pred))\n",
    "print('Root Mean Squared Error:', np.sqrt(metrics.mean_squared_error(y_test, y_pred)))\n",
    "print('R^2:', r_square)\n",
    "\n",
    "\n"
   ]
  },
  {
   "source": [
    "<h1> Visualization"
   ],
   "cell_type": "markdown",
   "metadata": {}
  },
  {
   "cell_type": "code",
   "execution_count": null,
   "metadata": {},
   "outputs": [],
   "source": []
  },
  {
   "cell_type": "code",
   "execution_count": 233,
   "metadata": {},
   "outputs": [
    {
     "output_type": "display_data",
     "data": {
      "application/vnd.plotly.v1+json": {
       "config": {
        "plotlyServerURL": "https://plot.ly"
       },
       "data": [
        {
         "marker": {
          "color": "rgb(17, 103, 177)"
         },
         "name": "Validation",
         "type": "bar",
         "x": [
          "LR",
          "RFR",
          "XGBR",
          "SVMR",
          "AdaBoost",
          "BR",
          "Lasso",
          "PLS",
          "DNN"
         ],
         "y": [
          0.7838,
          0.7195,
          0.7539,
          0.7155,
          0.2185,
          0.7856,
          0.6963,
          0.78348,
          0.7919
         ]
        },
        {
         "marker": {
          "color": "rgb(42, 157, 244)"
         },
         "name": "Test",
         "type": "bar",
         "x": [
          "LR",
          "RFR",
          "XGBR",
          "SVMR",
          "AdaBoost",
          "BR",
          "Lasso",
          "PLS",
          "DNN"
         ],
         "y": [
          0.7536,
          0.6815,
          0.75239,
          0.6732222,
          0.326913,
          0.7423,
          0.664,
          0.75363,
          0.7795
         ]
        }
       ],
       "layout": {
        "barmode": "group",
        "template": {
         "data": {
          "bar": [
           {
            "error_x": {
             "color": "#2a3f5f"
            },
            "error_y": {
             "color": "#2a3f5f"
            },
            "marker": {
             "line": {
              "color": "#E5ECF6",
              "width": 0.5
             }
            },
            "type": "bar"
           }
          ],
          "barpolar": [
           {
            "marker": {
             "line": {
              "color": "#E5ECF6",
              "width": 0.5
             }
            },
            "type": "barpolar"
           }
          ],
          "carpet": [
           {
            "aaxis": {
             "endlinecolor": "#2a3f5f",
             "gridcolor": "white",
             "linecolor": "white",
             "minorgridcolor": "white",
             "startlinecolor": "#2a3f5f"
            },
            "baxis": {
             "endlinecolor": "#2a3f5f",
             "gridcolor": "white",
             "linecolor": "white",
             "minorgridcolor": "white",
             "startlinecolor": "#2a3f5f"
            },
            "type": "carpet"
           }
          ],
          "choropleth": [
           {
            "colorbar": {
             "outlinewidth": 0,
             "ticks": ""
            },
            "type": "choropleth"
           }
          ],
          "contour": [
           {
            "colorbar": {
             "outlinewidth": 0,
             "ticks": ""
            },
            "colorscale": [
             [
              0,
              "#0d0887"
             ],
             [
              0.1111111111111111,
              "#46039f"
             ],
             [
              0.2222222222222222,
              "#7201a8"
             ],
             [
              0.3333333333333333,
              "#9c179e"
             ],
             [
              0.4444444444444444,
              "#bd3786"
             ],
             [
              0.5555555555555556,
              "#d8576b"
             ],
             [
              0.6666666666666666,
              "#ed7953"
             ],
             [
              0.7777777777777778,
              "#fb9f3a"
             ],
             [
              0.8888888888888888,
              "#fdca26"
             ],
             [
              1,
              "#f0f921"
             ]
            ],
            "type": "contour"
           }
          ],
          "contourcarpet": [
           {
            "colorbar": {
             "outlinewidth": 0,
             "ticks": ""
            },
            "type": "contourcarpet"
           }
          ],
          "heatmap": [
           {
            "colorbar": {
             "outlinewidth": 0,
             "ticks": ""
            },
            "colorscale": [
             [
              0,
              "#0d0887"
             ],
             [
              0.1111111111111111,
              "#46039f"
             ],
             [
              0.2222222222222222,
              "#7201a8"
             ],
             [
              0.3333333333333333,
              "#9c179e"
             ],
             [
              0.4444444444444444,
              "#bd3786"
             ],
             [
              0.5555555555555556,
              "#d8576b"
             ],
             [
              0.6666666666666666,
              "#ed7953"
             ],
             [
              0.7777777777777778,
              "#fb9f3a"
             ],
             [
              0.8888888888888888,
              "#fdca26"
             ],
             [
              1,
              "#f0f921"
             ]
            ],
            "type": "heatmap"
           }
          ],
          "heatmapgl": [
           {
            "colorbar": {
             "outlinewidth": 0,
             "ticks": ""
            },
            "colorscale": [
             [
              0,
              "#0d0887"
             ],
             [
              0.1111111111111111,
              "#46039f"
             ],
             [
              0.2222222222222222,
              "#7201a8"
             ],
             [
              0.3333333333333333,
              "#9c179e"
             ],
             [
              0.4444444444444444,
              "#bd3786"
             ],
             [
              0.5555555555555556,
              "#d8576b"
             ],
             [
              0.6666666666666666,
              "#ed7953"
             ],
             [
              0.7777777777777778,
              "#fb9f3a"
             ],
             [
              0.8888888888888888,
              "#fdca26"
             ],
             [
              1,
              "#f0f921"
             ]
            ],
            "type": "heatmapgl"
           }
          ],
          "histogram": [
           {
            "marker": {
             "colorbar": {
              "outlinewidth": 0,
              "ticks": ""
             }
            },
            "type": "histogram"
           }
          ],
          "histogram2d": [
           {
            "colorbar": {
             "outlinewidth": 0,
             "ticks": ""
            },
            "colorscale": [
             [
              0,
              "#0d0887"
             ],
             [
              0.1111111111111111,
              "#46039f"
             ],
             [
              0.2222222222222222,
              "#7201a8"
             ],
             [
              0.3333333333333333,
              "#9c179e"
             ],
             [
              0.4444444444444444,
              "#bd3786"
             ],
             [
              0.5555555555555556,
              "#d8576b"
             ],
             [
              0.6666666666666666,
              "#ed7953"
             ],
             [
              0.7777777777777778,
              "#fb9f3a"
             ],
             [
              0.8888888888888888,
              "#fdca26"
             ],
             [
              1,
              "#f0f921"
             ]
            ],
            "type": "histogram2d"
           }
          ],
          "histogram2dcontour": [
           {
            "colorbar": {
             "outlinewidth": 0,
             "ticks": ""
            },
            "colorscale": [
             [
              0,
              "#0d0887"
             ],
             [
              0.1111111111111111,
              "#46039f"
             ],
             [
              0.2222222222222222,
              "#7201a8"
             ],
             [
              0.3333333333333333,
              "#9c179e"
             ],
             [
              0.4444444444444444,
              "#bd3786"
             ],
             [
              0.5555555555555556,
              "#d8576b"
             ],
             [
              0.6666666666666666,
              "#ed7953"
             ],
             [
              0.7777777777777778,
              "#fb9f3a"
             ],
             [
              0.8888888888888888,
              "#fdca26"
             ],
             [
              1,
              "#f0f921"
             ]
            ],
            "type": "histogram2dcontour"
           }
          ],
          "mesh3d": [
           {
            "colorbar": {
             "outlinewidth": 0,
             "ticks": ""
            },
            "type": "mesh3d"
           }
          ],
          "parcoords": [
           {
            "line": {
             "colorbar": {
              "outlinewidth": 0,
              "ticks": ""
             }
            },
            "type": "parcoords"
           }
          ],
          "pie": [
           {
            "automargin": true,
            "type": "pie"
           }
          ],
          "scatter": [
           {
            "marker": {
             "colorbar": {
              "outlinewidth": 0,
              "ticks": ""
             }
            },
            "type": "scatter"
           }
          ],
          "scatter3d": [
           {
            "line": {
             "colorbar": {
              "outlinewidth": 0,
              "ticks": ""
             }
            },
            "marker": {
             "colorbar": {
              "outlinewidth": 0,
              "ticks": ""
             }
            },
            "type": "scatter3d"
           }
          ],
          "scattercarpet": [
           {
            "marker": {
             "colorbar": {
              "outlinewidth": 0,
              "ticks": ""
             }
            },
            "type": "scattercarpet"
           }
          ],
          "scattergeo": [
           {
            "marker": {
             "colorbar": {
              "outlinewidth": 0,
              "ticks": ""
             }
            },
            "type": "scattergeo"
           }
          ],
          "scattergl": [
           {
            "marker": {
             "colorbar": {
              "outlinewidth": 0,
              "ticks": ""
             }
            },
            "type": "scattergl"
           }
          ],
          "scattermapbox": [
           {
            "marker": {
             "colorbar": {
              "outlinewidth": 0,
              "ticks": ""
             }
            },
            "type": "scattermapbox"
           }
          ],
          "scatterpolar": [
           {
            "marker": {
             "colorbar": {
              "outlinewidth": 0,
              "ticks": ""
             }
            },
            "type": "scatterpolar"
           }
          ],
          "scatterpolargl": [
           {
            "marker": {
             "colorbar": {
              "outlinewidth": 0,
              "ticks": ""
             }
            },
            "type": "scatterpolargl"
           }
          ],
          "scatterternary": [
           {
            "marker": {
             "colorbar": {
              "outlinewidth": 0,
              "ticks": ""
             }
            },
            "type": "scatterternary"
           }
          ],
          "surface": [
           {
            "colorbar": {
             "outlinewidth": 0,
             "ticks": ""
            },
            "colorscale": [
             [
              0,
              "#0d0887"
             ],
             [
              0.1111111111111111,
              "#46039f"
             ],
             [
              0.2222222222222222,
              "#7201a8"
             ],
             [
              0.3333333333333333,
              "#9c179e"
             ],
             [
              0.4444444444444444,
              "#bd3786"
             ],
             [
              0.5555555555555556,
              "#d8576b"
             ],
             [
              0.6666666666666666,
              "#ed7953"
             ],
             [
              0.7777777777777778,
              "#fb9f3a"
             ],
             [
              0.8888888888888888,
              "#fdca26"
             ],
             [
              1,
              "#f0f921"
             ]
            ],
            "type": "surface"
           }
          ],
          "table": [
           {
            "cells": {
             "fill": {
              "color": "#EBF0F8"
             },
             "line": {
              "color": "white"
             }
            },
            "header": {
             "fill": {
              "color": "#C8D4E3"
             },
             "line": {
              "color": "white"
             }
            },
            "type": "table"
           }
          ]
         },
         "layout": {
          "annotationdefaults": {
           "arrowcolor": "#2a3f5f",
           "arrowhead": 0,
           "arrowwidth": 1
          },
          "autotypenumbers": "strict",
          "coloraxis": {
           "colorbar": {
            "outlinewidth": 0,
            "ticks": ""
           }
          },
          "colorscale": {
           "diverging": [
            [
             0,
             "#8e0152"
            ],
            [
             0.1,
             "#c51b7d"
            ],
            [
             0.2,
             "#de77ae"
            ],
            [
             0.3,
             "#f1b6da"
            ],
            [
             0.4,
             "#fde0ef"
            ],
            [
             0.5,
             "#f7f7f7"
            ],
            [
             0.6,
             "#e6f5d0"
            ],
            [
             0.7,
             "#b8e186"
            ],
            [
             0.8,
             "#7fbc41"
            ],
            [
             0.9,
             "#4d9221"
            ],
            [
             1,
             "#276419"
            ]
           ],
           "sequential": [
            [
             0,
             "#0d0887"
            ],
            [
             0.1111111111111111,
             "#46039f"
            ],
            [
             0.2222222222222222,
             "#7201a8"
            ],
            [
             0.3333333333333333,
             "#9c179e"
            ],
            [
             0.4444444444444444,
             "#bd3786"
            ],
            [
             0.5555555555555556,
             "#d8576b"
            ],
            [
             0.6666666666666666,
             "#ed7953"
            ],
            [
             0.7777777777777778,
             "#fb9f3a"
            ],
            [
             0.8888888888888888,
             "#fdca26"
            ],
            [
             1,
             "#f0f921"
            ]
           ],
           "sequentialminus": [
            [
             0,
             "#0d0887"
            ],
            [
             0.1111111111111111,
             "#46039f"
            ],
            [
             0.2222222222222222,
             "#7201a8"
            ],
            [
             0.3333333333333333,
             "#9c179e"
            ],
            [
             0.4444444444444444,
             "#bd3786"
            ],
            [
             0.5555555555555556,
             "#d8576b"
            ],
            [
             0.6666666666666666,
             "#ed7953"
            ],
            [
             0.7777777777777778,
             "#fb9f3a"
            ],
            [
             0.8888888888888888,
             "#fdca26"
            ],
            [
             1,
             "#f0f921"
            ]
           ]
          },
          "colorway": [
           "#636efa",
           "#EF553B",
           "#00cc96",
           "#ab63fa",
           "#FFA15A",
           "#19d3f3",
           "#FF6692",
           "#B6E880",
           "#FF97FF",
           "#FECB52"
          ],
          "font": {
           "color": "#2a3f5f"
          },
          "geo": {
           "bgcolor": "white",
           "lakecolor": "white",
           "landcolor": "#E5ECF6",
           "showlakes": true,
           "showland": true,
           "subunitcolor": "white"
          },
          "hoverlabel": {
           "align": "left"
          },
          "hovermode": "closest",
          "mapbox": {
           "style": "light"
          },
          "paper_bgcolor": "white",
          "plot_bgcolor": "#E5ECF6",
          "polar": {
           "angularaxis": {
            "gridcolor": "white",
            "linecolor": "white",
            "ticks": ""
           },
           "bgcolor": "#E5ECF6",
           "radialaxis": {
            "gridcolor": "white",
            "linecolor": "white",
            "ticks": ""
           }
          },
          "scene": {
           "xaxis": {
            "backgroundcolor": "#E5ECF6",
            "gridcolor": "white",
            "gridwidth": 2,
            "linecolor": "white",
            "showbackground": true,
            "ticks": "",
            "zerolinecolor": "white"
           },
           "yaxis": {
            "backgroundcolor": "#E5ECF6",
            "gridcolor": "white",
            "gridwidth": 2,
            "linecolor": "white",
            "showbackground": true,
            "ticks": "",
            "zerolinecolor": "white"
           },
           "zaxis": {
            "backgroundcolor": "#E5ECF6",
            "gridcolor": "white",
            "gridwidth": 2,
            "linecolor": "white",
            "showbackground": true,
            "ticks": "",
            "zerolinecolor": "white"
           }
          },
          "shapedefaults": {
           "line": {
            "color": "#2a3f5f"
           }
          },
          "ternary": {
           "aaxis": {
            "gridcolor": "white",
            "linecolor": "white",
            "ticks": ""
           },
           "baxis": {
            "gridcolor": "white",
            "linecolor": "white",
            "ticks": ""
           },
           "bgcolor": "#E5ECF6",
           "caxis": {
            "gridcolor": "white",
            "linecolor": "white",
            "ticks": ""
           }
          },
          "title": {
           "x": 0.05
          },
          "xaxis": {
           "automargin": true,
           "gridcolor": "white",
           "linecolor": "white",
           "ticks": "",
           "title": {
            "standoff": 15
           },
           "zerolinecolor": "white",
           "zerolinewidth": 2
          },
          "yaxis": {
           "automargin": true,
           "gridcolor": "white",
           "linecolor": "white",
           "ticks": "",
           "title": {
            "standoff": 15
           },
           "zerolinecolor": "white",
           "zerolinewidth": 2
          }
         }
        },
        "xaxis": {
         "categoryorder": "total ascending"
        }
       }
      }
     },
     "metadata": {}
    }
   ],
   "source": [
    "import plotly.graph_objects as go\n",
    "methods=['LR', 'RFR', 'XGBR', 'SVMR', 'ABR', 'BR', 'Lasso', 'PLS', 'DNN']\n",
    "\n",
    "fig = go.Figure(data=[\n",
    "    go.Bar(name='Validation', x=methods, y=[0.7838, 0.7195, 0.7539, 0.7155, 0.2185, 0.7856, 0.6963, 0.78348, 0.7919], marker_color = 'rgb(17, 103, 177)'),\n",
    "    go.Bar(name='Test', x=methods, y=[0.7536, 0.6815, 0.75239, 0.6732222, 0.326913, 0.7423, 0.6640, 0.75363, 0.7795], marker_color='rgb(42, 157, 244)')\n",
    "])\n",
    "# Change the bar mode\n",
    "fig.update_layout(barmode='group', xaxis={'categoryorder':'total ascending'})\n",
    "fig.show()"
   ]
  }
 ]
}