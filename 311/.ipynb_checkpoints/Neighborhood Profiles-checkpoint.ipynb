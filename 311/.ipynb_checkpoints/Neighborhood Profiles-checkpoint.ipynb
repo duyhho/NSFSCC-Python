{
 "metadata": {
  "language_info": {
   "codemirror_mode": {
    "name": "ipython",
    "version": 3
   },
   "file_extension": ".py",
   "mimetype": "text/x-python",
   "name": "python",
   "nbconvert_exporter": "python",
   "pygments_lexer": "ipython3",
   "version": "3.8.5"
  },
  "orig_nbformat": 2,
  "kernelspec": {
   "name": "python385jvsc74a57bd0a69a97d3c0c90f1132d3fe1c1bdf15f941a20aa0a78eb54401bae5bd6029936d",
   "display_name": "Python 3.8.5 64-bit (conda)"
  }
 },
 "nbformat": 4,
 "nbformat_minor": 2,
 "cells": [
  {
   "cell_type": "code",
   "execution_count": 13,
   "metadata": {},
   "outputs": [],
   "source": [
    "import pandas as pd\n",
    "import json\n",
    "from tqdm.notebook import tqdm"
   ]
  },
  {
   "cell_type": "code",
   "execution_count": 14,
   "metadata": {},
   "outputs": [],
   "source": [
    "YEAR_RANGE = [2019, 2020]\n",
    "df_311 = pd.read_csv('../data/raw/311_Calls_2007-2020.csv')\n",
    "# df_311 = df_311[df_311['CREATION YEAR'].between(YEAR_RANGE[0], YEAR_RANGE[1])]\n",
    "# df_311 = df_311[df_311['CREATION YEAR'] == 2019]\n",
    "df_311 = df_311[df_311['CREATION YEAR'] == 2020]\n",
    "\n",
    "\n"
   ]
  },
  {
   "cell_type": "code",
   "execution_count": 15,
   "metadata": {},
   "outputs": [
    {
     "output_type": "execute_result",
     "data": {
      "text/plain": [
       "           CASE ID SOURCE      DEPARTMENT  \\\n",
       "206     2020133518  PHONE             NHS   \n",
       "571     2020088634  PHONE             NHS   \n",
       "828     2020133201    WEB  Water Services   \n",
       "925     2020130833    WEB    Public Works   \n",
       "1212    2020019600    WEB          Health   \n",
       "...            ...    ...             ...   \n",
       "113050  2020153063  PHONE    Public Works   \n",
       "113249  2020153584    WEB          Health   \n",
       "113256  2020153713    WEB          Health   \n",
       "113326  2020153325    WEB    Public Works   \n",
       "113445  2020153724  EMAIL             NHS   \n",
       "\n",
       "                                        WORK GROUP  \\\n",
       "206                               NHS-Solid Waste-   \n",
       "571                 NHS-Solid Waste-Administration   \n",
       "828       Water Services-Meter and Field Services-   \n",
       "925     Public Works-Street and Traffic-District 2   \n",
       "1212                         Health-Noise Control-   \n",
       "...                                            ...   \n",
       "113050         Public Works-Capital Projects-Signs   \n",
       "113249        Health-Communicable Disease Control-   \n",
       "113256        Health-Communicable Disease Control-   \n",
       "113326  Public Works-Street and Traffic-District 2   \n",
       "113445          NHS-Solid Waste-Abatement Referral   \n",
       "\n",
       "                                             REQUEST TYPE  \\\n",
       "206         Trash / Recycling-Dumping-ROW Land Bank North   \n",
       "571     Trash / Recycling-Services-Service Issue / Pro...   \n",
       "828                                    Water-Leak-Hydrant   \n",
       "925        Streets / Roadways / Alleys-Pothole-District 2   \n",
       "1212                            Public Health-Noise-Other   \n",
       "...                                                   ...   \n",
       "113050             Signs-Traffic Sign-Missing – Emergency   \n",
       "113249                  Public Health-Disease Control-All   \n",
       "113256                  Public Health-Disease Control-All   \n",
       "113326  Streets/Roadways/Alleys-Other Maintenance-Dist...   \n",
       "113445     Trash / Recycling-Dumping-Solid Waste Referral   \n",
       "\n",
       "                           CATEGORY               TYPE  \\\n",
       "206               Trash / Recycling            Dumping   \n",
       "571               Trash / Recycling           Services   \n",
       "828                           Water               Leak   \n",
       "925     Streets / Roadways / Alleys            Pothole   \n",
       "1212                  Public Health              Noise   \n",
       "...                             ...                ...   \n",
       "113050                        Signs       Traffic Sign   \n",
       "113249                Public Health    Disease Control   \n",
       "113256                Public Health    Disease Control   \n",
       "113326  Streets / Roadways / Alleys  Other-Maintenance   \n",
       "113445            Trash / Recycling            Dumping   \n",
       "\n",
       "                         DETAIL CREATION DATE CREATION TIME  ...  \\\n",
       "206       Right of Way LB North    10/09/2020      08:13 AM  ...   \n",
       "571     Service Issue / Problem    06/26/2020      02:32 PM  ...   \n",
       "828                     Hydrant    10/08/2020      11:49 AM  ...   \n",
       "925                  District 2    10/02/2020      12:45 AM  ...   \n",
       "1212                      Other    02/08/2020      11:22 PM  ...   \n",
       "...                         ...           ...           ...  ...   \n",
       "113050      Missing - Emergency    12/08/2020      08:03 AM  ...   \n",
       "113249                      All    12/09/2020      06:15 AM  ...   \n",
       "113256                      All    12/09/2020      10:20 AM  ...   \n",
       "113326               District 2    12/08/2020      12:50 PM  ...   \n",
       "113445     Solid Waste Referral    12/09/2020      10:32 AM  ...   \n",
       "\n",
       "        COUNCIL DISTRICT  POLICE DISTRICT PARCEL ID NO   LATITUDE  LONGITUDE  \\\n",
       "206                  4.0             East        38394  39.137504 -94.502696   \n",
       "571                  4.0             East        38306  39.135788 -94.526010   \n",
       "828                  4.0          Central       123192  39.101021 -94.601792   \n",
       "925                  4.0          Central       148451  39.108711 -94.597874   \n",
       "1212                 4.0          Central       148459  39.108022 -94.589405   \n",
       "...                  ...              ...          ...        ...        ...   \n",
       "113050               4.0             East        38315  39.138925 -94.518688   \n",
       "113249               4.0             East        38288  39.137917 -94.522440   \n",
       "113256               5.0            Metro           35  39.000775 -94.531700   \n",
       "113326               4.0             East        38283  39.144552 -94.513656   \n",
       "113445               3.0          Central        12269  39.095542 -94.565012   \n",
       "\n",
       "                                                 CASE URL  \\\n",
       "206     http://city.kcmo.org/kc/ActionCenterRequest/Ca...   \n",
       "571     http://city.kcmo.org/kc/ActionCenterRequest/Ca...   \n",
       "828     http://city.kcmo.org/kc/ActionCenterRequest/Ca...   \n",
       "925     http://city.kcmo.org/kc/ActionCenterRequest/Ca...   \n",
       "1212    http://city.kcmo.org/kc/ActionCenterRequest/Ca...   \n",
       "...                                                   ...   \n",
       "113050  http://city.kcmo.org/kc/ActionCenterRequest/Ca...   \n",
       "113249  http://city.kcmo.org/kc/ActionCenterRequest/Ca...   \n",
       "113256  http://city.kcmo.org/kc/ActionCenterRequest/Ca...   \n",
       "113326  http://city.kcmo.org/kc/ActionCenterRequest/Ca...   \n",
       "113445  http://city.kcmo.org/kc/ActionCenterRequest/Ca...   \n",
       "\n",
       "        30-60-90 Days Open Window  nbh_id nbh_name BLOCKGROUP ID  \n",
       "206                           NaN       0  Unnamed  2.909502e+11  \n",
       "571                           NaN       0  Unnamed  2.909502e+11  \n",
       "828                           NaN       0  Unnamed  2.909502e+11  \n",
       "925                           NaN       0  Unnamed  2.909502e+11  \n",
       "1212                          NaN       0  Unnamed  2.909502e+11  \n",
       "...                           ...     ...      ...           ...  \n",
       "113050                        NaN       0  Unnamed  2.909502e+11  \n",
       "113249                        NaN       0  Unnamed  2.909502e+11  \n",
       "113256                        NaN       0  Unnamed  2.909598e+11  \n",
       "113326                        NaN       0  Unnamed  2.909502e+11  \n",
       "113445                        NaN       0  Unnamed  2.909502e+11  \n",
       "\n",
       "[1003 rows x 33 columns]"
      ],
      "text/html": "<div>\n<style scoped>\n    .dataframe tbody tr th:only-of-type {\n        vertical-align: middle;\n    }\n\n    .dataframe tbody tr th {\n        vertical-align: top;\n    }\n\n    .dataframe thead th {\n        text-align: right;\n    }\n</style>\n<table border=\"1\" class=\"dataframe\">\n  <thead>\n    <tr style=\"text-align: right;\">\n      <th></th>\n      <th>CASE ID</th>\n      <th>SOURCE</th>\n      <th>DEPARTMENT</th>\n      <th>WORK GROUP</th>\n      <th>REQUEST TYPE</th>\n      <th>CATEGORY</th>\n      <th>TYPE</th>\n      <th>DETAIL</th>\n      <th>CREATION DATE</th>\n      <th>CREATION TIME</th>\n      <th>...</th>\n      <th>COUNCIL DISTRICT</th>\n      <th>POLICE DISTRICT</th>\n      <th>PARCEL ID NO</th>\n      <th>LATITUDE</th>\n      <th>LONGITUDE</th>\n      <th>CASE URL</th>\n      <th>30-60-90 Days Open Window</th>\n      <th>nbh_id</th>\n      <th>nbh_name</th>\n      <th>BLOCKGROUP ID</th>\n    </tr>\n  </thead>\n  <tbody>\n    <tr>\n      <th>206</th>\n      <td>2020133518</td>\n      <td>PHONE</td>\n      <td>NHS</td>\n      <td>NHS-Solid Waste-</td>\n      <td>Trash / Recycling-Dumping-ROW Land Bank North</td>\n      <td>Trash / Recycling</td>\n      <td>Dumping</td>\n      <td>Right of Way LB North</td>\n      <td>10/09/2020</td>\n      <td>08:13 AM</td>\n      <td>...</td>\n      <td>4.0</td>\n      <td>East</td>\n      <td>38394</td>\n      <td>39.137504</td>\n      <td>-94.502696</td>\n      <td>http://city.kcmo.org/kc/ActionCenterRequest/Ca...</td>\n      <td>NaN</td>\n      <td>0</td>\n      <td>Unnamed</td>\n      <td>2.909502e+11</td>\n    </tr>\n    <tr>\n      <th>571</th>\n      <td>2020088634</td>\n      <td>PHONE</td>\n      <td>NHS</td>\n      <td>NHS-Solid Waste-Administration</td>\n      <td>Trash / Recycling-Services-Service Issue / Pro...</td>\n      <td>Trash / Recycling</td>\n      <td>Services</td>\n      <td>Service Issue / Problem</td>\n      <td>06/26/2020</td>\n      <td>02:32 PM</td>\n      <td>...</td>\n      <td>4.0</td>\n      <td>East</td>\n      <td>38306</td>\n      <td>39.135788</td>\n      <td>-94.526010</td>\n      <td>http://city.kcmo.org/kc/ActionCenterRequest/Ca...</td>\n      <td>NaN</td>\n      <td>0</td>\n      <td>Unnamed</td>\n      <td>2.909502e+11</td>\n    </tr>\n    <tr>\n      <th>828</th>\n      <td>2020133201</td>\n      <td>WEB</td>\n      <td>Water Services</td>\n      <td>Water Services-Meter and Field Services-</td>\n      <td>Water-Leak-Hydrant</td>\n      <td>Water</td>\n      <td>Leak</td>\n      <td>Hydrant</td>\n      <td>10/08/2020</td>\n      <td>11:49 AM</td>\n      <td>...</td>\n      <td>4.0</td>\n      <td>Central</td>\n      <td>123192</td>\n      <td>39.101021</td>\n      <td>-94.601792</td>\n      <td>http://city.kcmo.org/kc/ActionCenterRequest/Ca...</td>\n      <td>NaN</td>\n      <td>0</td>\n      <td>Unnamed</td>\n      <td>2.909502e+11</td>\n    </tr>\n    <tr>\n      <th>925</th>\n      <td>2020130833</td>\n      <td>WEB</td>\n      <td>Public Works</td>\n      <td>Public Works-Street and Traffic-District 2</td>\n      <td>Streets / Roadways / Alleys-Pothole-District 2</td>\n      <td>Streets / Roadways / Alleys</td>\n      <td>Pothole</td>\n      <td>District 2</td>\n      <td>10/02/2020</td>\n      <td>12:45 AM</td>\n      <td>...</td>\n      <td>4.0</td>\n      <td>Central</td>\n      <td>148451</td>\n      <td>39.108711</td>\n      <td>-94.597874</td>\n      <td>http://city.kcmo.org/kc/ActionCenterRequest/Ca...</td>\n      <td>NaN</td>\n      <td>0</td>\n      <td>Unnamed</td>\n      <td>2.909502e+11</td>\n    </tr>\n    <tr>\n      <th>1212</th>\n      <td>2020019600</td>\n      <td>WEB</td>\n      <td>Health</td>\n      <td>Health-Noise Control-</td>\n      <td>Public Health-Noise-Other</td>\n      <td>Public Health</td>\n      <td>Noise</td>\n      <td>Other</td>\n      <td>02/08/2020</td>\n      <td>11:22 PM</td>\n      <td>...</td>\n      <td>4.0</td>\n      <td>Central</td>\n      <td>148459</td>\n      <td>39.108022</td>\n      <td>-94.589405</td>\n      <td>http://city.kcmo.org/kc/ActionCenterRequest/Ca...</td>\n      <td>NaN</td>\n      <td>0</td>\n      <td>Unnamed</td>\n      <td>2.909502e+11</td>\n    </tr>\n    <tr>\n      <th>...</th>\n      <td>...</td>\n      <td>...</td>\n      <td>...</td>\n      <td>...</td>\n      <td>...</td>\n      <td>...</td>\n      <td>...</td>\n      <td>...</td>\n      <td>...</td>\n      <td>...</td>\n      <td>...</td>\n      <td>...</td>\n      <td>...</td>\n      <td>...</td>\n      <td>...</td>\n      <td>...</td>\n      <td>...</td>\n      <td>...</td>\n      <td>...</td>\n      <td>...</td>\n      <td>...</td>\n    </tr>\n    <tr>\n      <th>113050</th>\n      <td>2020153063</td>\n      <td>PHONE</td>\n      <td>Public Works</td>\n      <td>Public Works-Capital Projects-Signs</td>\n      <td>Signs-Traffic Sign-Missing – Emergency</td>\n      <td>Signs</td>\n      <td>Traffic Sign</td>\n      <td>Missing - Emergency</td>\n      <td>12/08/2020</td>\n      <td>08:03 AM</td>\n      <td>...</td>\n      <td>4.0</td>\n      <td>East</td>\n      <td>38315</td>\n      <td>39.138925</td>\n      <td>-94.518688</td>\n      <td>http://city.kcmo.org/kc/ActionCenterRequest/Ca...</td>\n      <td>NaN</td>\n      <td>0</td>\n      <td>Unnamed</td>\n      <td>2.909502e+11</td>\n    </tr>\n    <tr>\n      <th>113249</th>\n      <td>2020153584</td>\n      <td>WEB</td>\n      <td>Health</td>\n      <td>Health-Communicable Disease Control-</td>\n      <td>Public Health-Disease Control-All</td>\n      <td>Public Health</td>\n      <td>Disease Control</td>\n      <td>All</td>\n      <td>12/09/2020</td>\n      <td>06:15 AM</td>\n      <td>...</td>\n      <td>4.0</td>\n      <td>East</td>\n      <td>38288</td>\n      <td>39.137917</td>\n      <td>-94.522440</td>\n      <td>http://city.kcmo.org/kc/ActionCenterRequest/Ca...</td>\n      <td>NaN</td>\n      <td>0</td>\n      <td>Unnamed</td>\n      <td>2.909502e+11</td>\n    </tr>\n    <tr>\n      <th>113256</th>\n      <td>2020153713</td>\n      <td>WEB</td>\n      <td>Health</td>\n      <td>Health-Communicable Disease Control-</td>\n      <td>Public Health-Disease Control-All</td>\n      <td>Public Health</td>\n      <td>Disease Control</td>\n      <td>All</td>\n      <td>12/09/2020</td>\n      <td>10:20 AM</td>\n      <td>...</td>\n      <td>5.0</td>\n      <td>Metro</td>\n      <td>35</td>\n      <td>39.000775</td>\n      <td>-94.531700</td>\n      <td>http://city.kcmo.org/kc/ActionCenterRequest/Ca...</td>\n      <td>NaN</td>\n      <td>0</td>\n      <td>Unnamed</td>\n      <td>2.909598e+11</td>\n    </tr>\n    <tr>\n      <th>113326</th>\n      <td>2020153325</td>\n      <td>WEB</td>\n      <td>Public Works</td>\n      <td>Public Works-Street and Traffic-District 2</td>\n      <td>Streets/Roadways/Alleys-Other Maintenance-Dist...</td>\n      <td>Streets / Roadways / Alleys</td>\n      <td>Other-Maintenance</td>\n      <td>District 2</td>\n      <td>12/08/2020</td>\n      <td>12:50 PM</td>\n      <td>...</td>\n      <td>4.0</td>\n      <td>East</td>\n      <td>38283</td>\n      <td>39.144552</td>\n      <td>-94.513656</td>\n      <td>http://city.kcmo.org/kc/ActionCenterRequest/Ca...</td>\n      <td>NaN</td>\n      <td>0</td>\n      <td>Unnamed</td>\n      <td>2.909502e+11</td>\n    </tr>\n    <tr>\n      <th>113445</th>\n      <td>2020153724</td>\n      <td>EMAIL</td>\n      <td>NHS</td>\n      <td>NHS-Solid Waste-Abatement Referral</td>\n      <td>Trash / Recycling-Dumping-Solid Waste Referral</td>\n      <td>Trash / Recycling</td>\n      <td>Dumping</td>\n      <td>Solid Waste Referral</td>\n      <td>12/09/2020</td>\n      <td>10:32 AM</td>\n      <td>...</td>\n      <td>3.0</td>\n      <td>Central</td>\n      <td>12269</td>\n      <td>39.095542</td>\n      <td>-94.565012</td>\n      <td>http://city.kcmo.org/kc/ActionCenterRequest/Ca...</td>\n      <td>NaN</td>\n      <td>0</td>\n      <td>Unnamed</td>\n      <td>2.909502e+11</td>\n    </tr>\n  </tbody>\n</table>\n<p>1003 rows × 33 columns</p>\n</div>"
     },
     "metadata": {},
     "execution_count": 15
    }
   ],
   "source": [
    "# sample_df = df_311.sample(n=10000, random_state=1).reset_index(drop=True).copy()\n",
    "sample_df = df_311.copy()\n",
    "# sample_df = sample_df[sample_df['DAYS TO CLOSE'].notna() & sample_df['STATUS'].str.contains('RESOL')].reset_index(drop=True)\n",
    "sample_df = sample_df[(sample_df['STATUS'] == 'RESOL') & (sample_df['DAYS TO CLOSE'].notna())].reset_index(drop=True)\n",
    "sample_df['nbh_name'] = sample_df['nbh_name'].fillna('Unnamed')\n",
    "\n",
    "sample_df[sample_df['nbh_id'] == 0 ]\n"
   ]
  },
  {
   "cell_type": "code",
   "execution_count": 5,
   "metadata": {},
   "outputs": [
    {
     "output_type": "execute_result",
     "data": {
      "text/plain": [
       "Index(['CASE ID', 'SOURCE', 'DEPARTMENT', 'WORK GROUP', 'REQUEST TYPE',\n",
       "       'CATEGORY', 'TYPE', 'DETAIL', 'CREATION DATE', 'CREATION TIME',\n",
       "       'CREATION MONTH', 'CREATION YEAR', 'STATUS', 'EXCEEDED EST TIMEFRAME',\n",
       "       'CLOSED DATE', 'CLOSED MONTH', 'CLOSED YEAR', 'DAYS TO CLOSE',\n",
       "       'STREET ADDRESS', 'ADDRESS WITH GEOCODE', 'ZIP CODE', 'NEIGHBORHOOD',\n",
       "       'COUNTY', 'COUNCIL DISTRICT', 'POLICE DISTRICT', 'PARCEL ID NO',\n",
       "       'LATITUDE', 'LONGITUDE', 'CASE URL', '30-60-90 Days Open Window',\n",
       "       'nbh_id', 'nbh_name', 'BLOCKGROUP ID'],\n",
       "      dtype='object')"
      ]
     },
     "metadata": {},
     "execution_count": 5
    }
   ],
   "source": [
    "df_311.columns"
   ]
  },
  {
   "cell_type": "code",
   "execution_count": 6,
   "metadata": {},
   "outputs": [
    {
     "output_type": "display_data",
     "data": {
      "text/plain": "HBox(children=(HTML(value=''), FloatProgress(value=0.0, max=113752.0), HTML(value='')))",
      "application/vnd.jupyter.widget-view+json": {
       "version_major": 2,
       "version_minor": 0,
       "model_id": "c65008389a514ae3b54ddf582860b11b"
      }
     },
     "metadata": {}
    },
    {
     "output_type": "stream",
     "name": "stdout",
     "text": [
      "\n"
     ]
    }
   ],
   "source": [
    "from tqdm.notebook import tqdm\n",
    "CATEGORY_MAP = {\n",
    "    'City Facilities': ['City Facilities', 'City Clerks Office','City Managers Office','City Planning & Development', 'Facilities'],\n",
    "    'Parking': ['Park','Park Maintenance','Parking Meter','Downtown Parking'],\n",
    "    'Property Violations': ['Property / Buildings / Construction', 'Property Preservation','Property Violations', 'Graffiti', 'Property & Nuisance Violations', 'Nuisance Violations'],\n",
    "    'Animals': ['Animals / Pets', 'Animal'],\n",
    "    'Water': ['Water','Water Leak','Storm Water','Storm Water / Sewer','Wastewater','Water Main Break','Water Quality','Water Services','Sewer','Ditch'],\n",
    "    'Trash': ['Trash / Recycling','Trash'],\n",
    "    'Public Health': ['Health','Public Health','Food Protection','Air Quality','Weeds'],\n",
    "    'Lights/Signals/Signs': ['Lights / Signals','Signal','Signs'],\n",
    "    'Vehicles': ['Vehicle', 'Vehicles / Parking'],\n",
    "    'Street/Sidewalks': ['Street', 'Street Light','Street Sign','Pothole','Sidewalk','Sidewalks / Curbs / Ditch','Streets / Roadways / Alleys','Steel Plate','Markings'],\n",
    "    'Legal': ['Government','Mayors Office','Permit','Law','Municipal Court'],\n",
    "    'Public Safety': ['Public Safety','Fire','Snow & Ice','Trees'],\n",
    "    'Parks and Recreation': ['Parks & Recreation','Boulevard Parks and Rec'],\n",
    "    'Neighborhood': ['Neighborhood & Community Services', 'Neighborhood Preservation'],\n",
    "    'Data Not Available': ['Data Not Available'],\n",
    "    'Information Request': ['Information Request'],\n",
    "    'Maintenance': ['Maintenance','Bridge','Guard Rail','Cleaning'],\n",
    "    'Traffic': ['Traffic Sign','Traffic Study'],\n",
    "    'Information Technology': ['Information Technology'],\n",
    "    'Noise': ['Noise Control'],\n",
    "    'Other': ['Aviation','Public Works','Zoning','Right of Way','Sealing','Sweeping','Bulky Appointment',\n",
    "              'Consumer Services','Convention & Entertainment Center','Finance','Housing','Mowing / Weeds','Capital Projects']\n",
    "}\n",
    "NEW_CATEGORIES = []\n",
    "for index, row in tqdm(sample_df.iterrows(), total = sample_df.shape[0]):\n",
    "  new_cat = None\n",
    "  category = row['CATEGORY']\n",
    "  for key, value in CATEGORY_MAP.items():\n",
    "    if category in value:\n",
    "      new_cat = key\n",
    "      NEW_CATEGORIES.append(new_cat)\n",
    "  if new_cat is None:\n",
    "    print(category)\n",
    "  assert new_cat is not None\n",
    "  # if index == 10:\n",
    "  #   break\n",
    "sample_df['CATEGORY_NEW'] = NEW_CATEGORIES\n",
    "  "
   ]
  },
  {
   "cell_type": "code",
   "execution_count": null,
   "metadata": {},
   "outputs": [],
   "source": []
  },
  {
   "cell_type": "code",
   "execution_count": 7,
   "metadata": {},
   "outputs": [],
   "source": [
    "temp = sample_df.groupby(['nbh_name', 'CATEGORY_NEW']).size().to_frame('total_calls').sort_index(ascending=[0,1]).sort_values('total_calls',ascending=False)\n",
    "top_5_calls_df = temp.groupby(level=0, as_index=False).apply(lambda x: x.head(5)).reset_index(level=0, drop=True).reset_index()\n"
   ]
  },
  {
   "cell_type": "code",
   "execution_count": null,
   "metadata": {},
   "outputs": [],
   "source": [
    "temp[temp['nbh_name'] == 'Ivanhoe Northeast']"
   ]
  },
  {
   "cell_type": "code",
   "execution_count": null,
   "metadata": {},
   "outputs": [],
   "source": [
    "df.head()"
   ]
  },
  {
   "cell_type": "code",
   "execution_count": 8,
   "metadata": {},
   "outputs": [
    {
     "output_type": "error",
     "ename": "KeyError",
     "evalue": "'nbh_name'",
     "traceback": [
      "\u001b[1;31m---------------------------------------------------------------------------\u001b[0m",
      "\u001b[1;31mKeyError\u001b[0m                                  Traceback (most recent call last)",
      "\u001b[1;32m~\\Anaconda3\\lib\\site-packages\\pandas\\core\\indexes\\base.py\u001b[0m in \u001b[0;36mget_loc\u001b[1;34m(self, key, method, tolerance)\u001b[0m\n\u001b[0;32m   2894\u001b[0m             \u001b[1;32mtry\u001b[0m\u001b[1;33m:\u001b[0m\u001b[1;33m\u001b[0m\u001b[1;33m\u001b[0m\u001b[0m\n\u001b[1;32m-> 2895\u001b[1;33m                 \u001b[1;32mreturn\u001b[0m \u001b[0mself\u001b[0m\u001b[1;33m.\u001b[0m\u001b[0m_engine\u001b[0m\u001b[1;33m.\u001b[0m\u001b[0mget_loc\u001b[0m\u001b[1;33m(\u001b[0m\u001b[0mcasted_key\u001b[0m\u001b[1;33m)\u001b[0m\u001b[1;33m\u001b[0m\u001b[1;33m\u001b[0m\u001b[0m\n\u001b[0m\u001b[0;32m   2896\u001b[0m             \u001b[1;32mexcept\u001b[0m \u001b[0mKeyError\u001b[0m \u001b[1;32mas\u001b[0m \u001b[0merr\u001b[0m\u001b[1;33m:\u001b[0m\u001b[1;33m\u001b[0m\u001b[1;33m\u001b[0m\u001b[0m\n",
      "\u001b[1;32mpandas\\_libs\\index.pyx\u001b[0m in \u001b[0;36mpandas._libs.index.IndexEngine.get_loc\u001b[1;34m()\u001b[0m\n",
      "\u001b[1;32mpandas\\_libs\\index.pyx\u001b[0m in \u001b[0;36mpandas._libs.index.IndexEngine.get_loc\u001b[1;34m()\u001b[0m\n",
      "\u001b[1;32mpandas\\_libs\\hashtable_class_helper.pxi\u001b[0m in \u001b[0;36mpandas._libs.hashtable.PyObjectHashTable.get_item\u001b[1;34m()\u001b[0m\n",
      "\u001b[1;32mpandas\\_libs\\hashtable_class_helper.pxi\u001b[0m in \u001b[0;36mpandas._libs.hashtable.PyObjectHashTable.get_item\u001b[1;34m()\u001b[0m\n",
      "\u001b[1;31mKeyError\u001b[0m: 'nbh_name'",
      "\nThe above exception was the direct cause of the following exception:\n",
      "\u001b[1;31mKeyError\u001b[0m                                  Traceback (most recent call last)",
      "\u001b[1;32m<ipython-input-8-cf2ccda92757>\u001b[0m in \u001b[0;36m<module>\u001b[1;34m\u001b[0m\n\u001b[0;32m      1\u001b[0m \u001b[1;32mimport\u001b[0m \u001b[0mplotly\u001b[0m\u001b[1;33m.\u001b[0m\u001b[0mexpress\u001b[0m \u001b[1;32mas\u001b[0m \u001b[0mpx\u001b[0m\u001b[1;33m\u001b[0m\u001b[1;33m\u001b[0m\u001b[0m\n\u001b[1;32m----> 2\u001b[1;33m \u001b[0mfig\u001b[0m \u001b[1;33m=\u001b[0m \u001b[0mpx\u001b[0m\u001b[1;33m.\u001b[0m\u001b[0mpie\u001b[0m\u001b[1;33m(\u001b[0m\u001b[0mtemp\u001b[0m\u001b[1;33m[\u001b[0m\u001b[0mtemp\u001b[0m\u001b[1;33m[\u001b[0m\u001b[1;34m'nbh_name'\u001b[0m\u001b[1;33m]\u001b[0m \u001b[1;33m==\u001b[0m \u001b[1;34m'Shoal Creek'\u001b[0m\u001b[1;33m]\u001b[0m\u001b[1;33m,\u001b[0m \u001b[0mvalues\u001b[0m\u001b[1;33m=\u001b[0m\u001b[1;34m'total_calls'\u001b[0m\u001b[1;33m,\u001b[0m \u001b[0mnames\u001b[0m\u001b[1;33m=\u001b[0m\u001b[1;34m'CATEGORY_NEW'\u001b[0m\u001b[1;33m,\u001b[0m \u001b[0mtitle\u001b[0m\u001b[1;33m=\u001b[0m\u001b[1;34m'Top 5 311 Calls by Neighborhood'\u001b[0m\u001b[1;33m)\u001b[0m\u001b[1;33m\u001b[0m\u001b[1;33m\u001b[0m\u001b[0m\n\u001b[0m\u001b[0;32m      3\u001b[0m \u001b[0mfig\u001b[0m\u001b[1;33m.\u001b[0m\u001b[0mshow\u001b[0m\u001b[1;33m(\u001b[0m\u001b[1;33m)\u001b[0m\u001b[1;33m\u001b[0m\u001b[1;33m\u001b[0m\u001b[0m\n",
      "\u001b[1;32m~\\Anaconda3\\lib\\site-packages\\pandas\\core\\frame.py\u001b[0m in \u001b[0;36m__getitem__\u001b[1;34m(self, key)\u001b[0m\n\u001b[0;32m   2900\u001b[0m             \u001b[1;32mif\u001b[0m \u001b[0mself\u001b[0m\u001b[1;33m.\u001b[0m\u001b[0mcolumns\u001b[0m\u001b[1;33m.\u001b[0m\u001b[0mnlevels\u001b[0m \u001b[1;33m>\u001b[0m \u001b[1;36m1\u001b[0m\u001b[1;33m:\u001b[0m\u001b[1;33m\u001b[0m\u001b[1;33m\u001b[0m\u001b[0m\n\u001b[0;32m   2901\u001b[0m                 \u001b[1;32mreturn\u001b[0m \u001b[0mself\u001b[0m\u001b[1;33m.\u001b[0m\u001b[0m_getitem_multilevel\u001b[0m\u001b[1;33m(\u001b[0m\u001b[0mkey\u001b[0m\u001b[1;33m)\u001b[0m\u001b[1;33m\u001b[0m\u001b[1;33m\u001b[0m\u001b[0m\n\u001b[1;32m-> 2902\u001b[1;33m             \u001b[0mindexer\u001b[0m \u001b[1;33m=\u001b[0m \u001b[0mself\u001b[0m\u001b[1;33m.\u001b[0m\u001b[0mcolumns\u001b[0m\u001b[1;33m.\u001b[0m\u001b[0mget_loc\u001b[0m\u001b[1;33m(\u001b[0m\u001b[0mkey\u001b[0m\u001b[1;33m)\u001b[0m\u001b[1;33m\u001b[0m\u001b[1;33m\u001b[0m\u001b[0m\n\u001b[0m\u001b[0;32m   2903\u001b[0m             \u001b[1;32mif\u001b[0m \u001b[0mis_integer\u001b[0m\u001b[1;33m(\u001b[0m\u001b[0mindexer\u001b[0m\u001b[1;33m)\u001b[0m\u001b[1;33m:\u001b[0m\u001b[1;33m\u001b[0m\u001b[1;33m\u001b[0m\u001b[0m\n\u001b[0;32m   2904\u001b[0m                 \u001b[0mindexer\u001b[0m \u001b[1;33m=\u001b[0m \u001b[1;33m[\u001b[0m\u001b[0mindexer\u001b[0m\u001b[1;33m]\u001b[0m\u001b[1;33m\u001b[0m\u001b[1;33m\u001b[0m\u001b[0m\n",
      "\u001b[1;32m~\\Anaconda3\\lib\\site-packages\\pandas\\core\\indexes\\base.py\u001b[0m in \u001b[0;36mget_loc\u001b[1;34m(self, key, method, tolerance)\u001b[0m\n\u001b[0;32m   2895\u001b[0m                 \u001b[1;32mreturn\u001b[0m \u001b[0mself\u001b[0m\u001b[1;33m.\u001b[0m\u001b[0m_engine\u001b[0m\u001b[1;33m.\u001b[0m\u001b[0mget_loc\u001b[0m\u001b[1;33m(\u001b[0m\u001b[0mcasted_key\u001b[0m\u001b[1;33m)\u001b[0m\u001b[1;33m\u001b[0m\u001b[1;33m\u001b[0m\u001b[0m\n\u001b[0;32m   2896\u001b[0m             \u001b[1;32mexcept\u001b[0m \u001b[0mKeyError\u001b[0m \u001b[1;32mas\u001b[0m \u001b[0merr\u001b[0m\u001b[1;33m:\u001b[0m\u001b[1;33m\u001b[0m\u001b[1;33m\u001b[0m\u001b[0m\n\u001b[1;32m-> 2897\u001b[1;33m                 \u001b[1;32mraise\u001b[0m \u001b[0mKeyError\u001b[0m\u001b[1;33m(\u001b[0m\u001b[0mkey\u001b[0m\u001b[1;33m)\u001b[0m \u001b[1;32mfrom\u001b[0m \u001b[0merr\u001b[0m\u001b[1;33m\u001b[0m\u001b[1;33m\u001b[0m\u001b[0m\n\u001b[0m\u001b[0;32m   2898\u001b[0m \u001b[1;33m\u001b[0m\u001b[0m\n\u001b[0;32m   2899\u001b[0m         \u001b[1;32mif\u001b[0m \u001b[0mtolerance\u001b[0m \u001b[1;32mis\u001b[0m \u001b[1;32mnot\u001b[0m \u001b[1;32mNone\u001b[0m\u001b[1;33m:\u001b[0m\u001b[1;33m\u001b[0m\u001b[1;33m\u001b[0m\u001b[0m\n",
      "\u001b[1;31mKeyError\u001b[0m: 'nbh_name'"
     ]
    }
   ],
   "source": [
    "import plotly.express as px\n",
    "fig = px.pie(temp[temp['nbh_name'] == 'Shoal Creek'], values='total_calls', names='CATEGORY_NEW', title='Top 5 311 Calls by Neighborhood')\n",
    "fig.show()"
   ]
  },
  {
   "cell_type": "code",
   "execution_count": 132,
   "metadata": {},
   "outputs": [
    {
     "output_type": "execute_result",
     "data": {
      "text/plain": [
       "(12103, 34)"
      ]
     },
     "metadata": {},
     "execution_count": 132
    }
   ],
   "source": [
    "df_property.shape"
   ]
  },
  {
   "cell_type": "code",
   "execution_count": 134,
   "metadata": {},
   "outputs": [
    {
     "output_type": "execute_result",
     "data": {
      "text/plain": [
       "(17992, 34)"
      ]
     },
     "metadata": {},
     "execution_count": 134
    }
   ],
   "source": [
    "# sample_df[sample_df['REQUEST TYPE'] == 'Property Violations'].shape"
   ]
  },
  {
   "cell_type": "code",
   "execution_count": 9,
   "metadata": {},
   "outputs": [
    {
     "output_type": "execute_result",
     "data": {
      "text/plain": [
       "           CASE ID SOURCE DEPARTMENT                      WORK GROUP  \\\n",
       "9       2020149677    WEB        NHS  NHS-Neighborhood Preservation-   \n",
       "10      2020131202    WEB        NHS  NHS-Neighborhood Preservation-   \n",
       "20      2020087852  PHONE        NHS  NHS-Neighborhood Preservation-   \n",
       "28      2020102906  PHONE        NHS  NHS-Neighborhood Preservation-   \n",
       "33      2020088257  PHONE        NHS  NHS-Neighborhood Preservation-   \n",
       "...            ...    ...        ...                             ...   \n",
       "113654  2020112400  PHONE        NHS  NHS-Neighborhood Preservation-   \n",
       "113717  2020111401  PHONE        NHS  NHS-Neighborhood Preservation-   \n",
       "113718  2020109674  PHONE        NHS  NHS-Neighborhood Preservation-   \n",
       "113719  2020111414  PHONE        NHS  NHS-Neighborhood Preservation-   \n",
       "113720  2020152424    WEB        NHS  NHS-Neighborhood Preservation-   \n",
       "\n",
       "               REQUEST TYPE                             CATEGORY  \\\n",
       "9       Property Violations                    Trash / Recycling   \n",
       "10      Property Violations  Property / Buildings / Construction   \n",
       "20      Property Violations  Property / Buildings / Construction   \n",
       "28      Property Violations                                Trees   \n",
       "33      Property Violations  Property / Buildings / Construction   \n",
       "...                     ...                                  ...   \n",
       "113654  Property Violations                       Mowing / Weeds   \n",
       "113717  Property Violations  Property / Buildings / Construction   \n",
       "113718  Property Violations  Property / Buildings / Construction   \n",
       "113719  Property Violations  Property / Buildings / Construction   \n",
       "113720  Property Violations  Property / Buildings / Construction   \n",
       "\n",
       "                        TYPE                DETAIL CREATION DATE  \\\n",
       "9                   Nuisance          Open Storage    11/25/2020   \n",
       "10      Property Maintenance  Other Property Issue    10/02/2020   \n",
       "20      Property Maintenance        Main Structure    06/25/2020   \n",
       "28          Private Property           Tree Debris    07/28/2020   \n",
       "33      Property Maintenance        Main Structure    06/26/2020   \n",
       "...                      ...                   ...           ...   \n",
       "113654  Private / Commercial       Lot - Structure    08/18/2020   \n",
       "113717  Property Maintenance  Other Property Issue    08/17/2020   \n",
       "113718  Property Maintenance        Main Structure    08/12/2020   \n",
       "113719  Property Maintenance        Main Structure    08/17/2020   \n",
       "113720  Property Maintenance              Graffiti    12/05/2020   \n",
       "\n",
       "       CREATION TIME  ...  POLICE DISTRICT  PARCEL ID NO   LATITUDE  \\\n",
       "9           06:39 PM  ...          Central        128496  39.064579   \n",
       "10          05:23 PM  ...             East        240392  39.094498   \n",
       "20          11:15 AM  ...             East         17447  39.080129   \n",
       "28          10:55 AM  ...            Metro        222642  39.014913   \n",
       "33          07:53 AM  ...            Metro        147338  39.019893   \n",
       "...              ...  ...              ...           ...        ...   \n",
       "113654      03:08 PM  ...      Shoal Creek         91488  39.183417   \n",
       "113717      09:45 AM  ...          Central         14060  39.082789   \n",
       "113718      11:29 AM  ...            Metro          2769  39.001799   \n",
       "113719      09:53 AM  ...          Central        126460  39.064743   \n",
       "113720      10:35 AM  ...          Central         12974  39.089248   \n",
       "\n",
       "        LONGITUDE                                           CASE URL  \\\n",
       "9      -94.575951  http://city.kcmo.org/kc/ActionCenterRequest/Ca...   \n",
       "10     -94.532335  http://city.kcmo.org/kc/ActionCenterRequest/Ca...   \n",
       "20     -94.541614  http://city.kcmo.org/kc/ActionCenterRequest/Ca...   \n",
       "28     -94.543592  http://city.kcmo.org/kc/ActionCenterRequest/Ca...   \n",
       "33     -94.567549  http://city.kcmo.org/kc/ActionCenterRequest/Ca...   \n",
       "...           ...                                                ...   \n",
       "113654 -94.484552  http://city.kcmo.org/kc/ActionCenterRequest/Ca...   \n",
       "113717 -94.555356  http://city.kcmo.org/kc/ActionCenterRequest/Ca...   \n",
       "113718 -94.550551  http://city.kcmo.org/kc/ActionCenterRequest/Ca...   \n",
       "113719 -94.558602  http://city.kcmo.org/kc/ActionCenterRequest/Ca...   \n",
       "113720 -94.557082  http://city.kcmo.org/kc/ActionCenterRequest/Ca...   \n",
       "\n",
       "        30-60-90 Days Open Window  nbh_id                        nbh_name  \\\n",
       "9                             NaN      76                 North Hyde Park   \n",
       "10                            NaN      29       East Community Team North   \n",
       "20                            NaN      28             Washington Wheatley   \n",
       "28                            NaN     117           South Town Fork Creek   \n",
       "33                            NaN     119                      Blue Hills   \n",
       "...                           ...     ...                             ...   \n",
       "113654                        NaN     211       Gracemor-Randolph Corners   \n",
       "113717                        NaN      27                Wendell Phillips   \n",
       "113718                        NaN     124  Self Help Neighborhood Council   \n",
       "113719                        NaN      56                   Key Coalition   \n",
       "113720                        NaN      27                Wendell Phillips   \n",
       "\n",
       "       BLOCKGROUP ID         CATEGORY_NEW  \n",
       "9       2.909502e+11                Trash  \n",
       "10      2.909500e+11  Property Violations  \n",
       "20      2.909502e+11  Property Violations  \n",
       "28      2.909501e+11        Public Safety  \n",
       "33      2.909501e+11  Property Violations  \n",
       "...              ...                  ...  \n",
       "113654  2.904702e+11                Other  \n",
       "113717  2.909502e+11  Property Violations  \n",
       "113718  2.909501e+11  Property Violations  \n",
       "113719  2.909501e+11  Property Violations  \n",
       "113720  2.909502e+11  Property Violations  \n",
       "\n",
       "[9336 rows x 34 columns]"
      ],
      "text/html": "<div>\n<style scoped>\n    .dataframe tbody tr th:only-of-type {\n        vertical-align: middle;\n    }\n\n    .dataframe tbody tr th {\n        vertical-align: top;\n    }\n\n    .dataframe thead th {\n        text-align: right;\n    }\n</style>\n<table border=\"1\" class=\"dataframe\">\n  <thead>\n    <tr style=\"text-align: right;\">\n      <th></th>\n      <th>CASE ID</th>\n      <th>SOURCE</th>\n      <th>DEPARTMENT</th>\n      <th>WORK GROUP</th>\n      <th>REQUEST TYPE</th>\n      <th>CATEGORY</th>\n      <th>TYPE</th>\n      <th>DETAIL</th>\n      <th>CREATION DATE</th>\n      <th>CREATION TIME</th>\n      <th>...</th>\n      <th>POLICE DISTRICT</th>\n      <th>PARCEL ID NO</th>\n      <th>LATITUDE</th>\n      <th>LONGITUDE</th>\n      <th>CASE URL</th>\n      <th>30-60-90 Days Open Window</th>\n      <th>nbh_id</th>\n      <th>nbh_name</th>\n      <th>BLOCKGROUP ID</th>\n      <th>CATEGORY_NEW</th>\n    </tr>\n  </thead>\n  <tbody>\n    <tr>\n      <th>9</th>\n      <td>2020149677</td>\n      <td>WEB</td>\n      <td>NHS</td>\n      <td>NHS-Neighborhood Preservation-</td>\n      <td>Property Violations</td>\n      <td>Trash / Recycling</td>\n      <td>Nuisance</td>\n      <td>Open Storage</td>\n      <td>11/25/2020</td>\n      <td>06:39 PM</td>\n      <td>...</td>\n      <td>Central</td>\n      <td>128496</td>\n      <td>39.064579</td>\n      <td>-94.575951</td>\n      <td>http://city.kcmo.org/kc/ActionCenterRequest/Ca...</td>\n      <td>NaN</td>\n      <td>76</td>\n      <td>North Hyde Park</td>\n      <td>2.909502e+11</td>\n      <td>Trash</td>\n    </tr>\n    <tr>\n      <th>10</th>\n      <td>2020131202</td>\n      <td>WEB</td>\n      <td>NHS</td>\n      <td>NHS-Neighborhood Preservation-</td>\n      <td>Property Violations</td>\n      <td>Property / Buildings / Construction</td>\n      <td>Property Maintenance</td>\n      <td>Other Property Issue</td>\n      <td>10/02/2020</td>\n      <td>05:23 PM</td>\n      <td>...</td>\n      <td>East</td>\n      <td>240392</td>\n      <td>39.094498</td>\n      <td>-94.532335</td>\n      <td>http://city.kcmo.org/kc/ActionCenterRequest/Ca...</td>\n      <td>NaN</td>\n      <td>29</td>\n      <td>East Community Team North</td>\n      <td>2.909500e+11</td>\n      <td>Property Violations</td>\n    </tr>\n    <tr>\n      <th>20</th>\n      <td>2020087852</td>\n      <td>PHONE</td>\n      <td>NHS</td>\n      <td>NHS-Neighborhood Preservation-</td>\n      <td>Property Violations</td>\n      <td>Property / Buildings / Construction</td>\n      <td>Property Maintenance</td>\n      <td>Main Structure</td>\n      <td>06/25/2020</td>\n      <td>11:15 AM</td>\n      <td>...</td>\n      <td>East</td>\n      <td>17447</td>\n      <td>39.080129</td>\n      <td>-94.541614</td>\n      <td>http://city.kcmo.org/kc/ActionCenterRequest/Ca...</td>\n      <td>NaN</td>\n      <td>28</td>\n      <td>Washington Wheatley</td>\n      <td>2.909502e+11</td>\n      <td>Property Violations</td>\n    </tr>\n    <tr>\n      <th>28</th>\n      <td>2020102906</td>\n      <td>PHONE</td>\n      <td>NHS</td>\n      <td>NHS-Neighborhood Preservation-</td>\n      <td>Property Violations</td>\n      <td>Trees</td>\n      <td>Private Property</td>\n      <td>Tree Debris</td>\n      <td>07/28/2020</td>\n      <td>10:55 AM</td>\n      <td>...</td>\n      <td>Metro</td>\n      <td>222642</td>\n      <td>39.014913</td>\n      <td>-94.543592</td>\n      <td>http://city.kcmo.org/kc/ActionCenterRequest/Ca...</td>\n      <td>NaN</td>\n      <td>117</td>\n      <td>South Town Fork Creek</td>\n      <td>2.909501e+11</td>\n      <td>Public Safety</td>\n    </tr>\n    <tr>\n      <th>33</th>\n      <td>2020088257</td>\n      <td>PHONE</td>\n      <td>NHS</td>\n      <td>NHS-Neighborhood Preservation-</td>\n      <td>Property Violations</td>\n      <td>Property / Buildings / Construction</td>\n      <td>Property Maintenance</td>\n      <td>Main Structure</td>\n      <td>06/26/2020</td>\n      <td>07:53 AM</td>\n      <td>...</td>\n      <td>Metro</td>\n      <td>147338</td>\n      <td>39.019893</td>\n      <td>-94.567549</td>\n      <td>http://city.kcmo.org/kc/ActionCenterRequest/Ca...</td>\n      <td>NaN</td>\n      <td>119</td>\n      <td>Blue Hills</td>\n      <td>2.909501e+11</td>\n      <td>Property Violations</td>\n    </tr>\n    <tr>\n      <th>...</th>\n      <td>...</td>\n      <td>...</td>\n      <td>...</td>\n      <td>...</td>\n      <td>...</td>\n      <td>...</td>\n      <td>...</td>\n      <td>...</td>\n      <td>...</td>\n      <td>...</td>\n      <td>...</td>\n      <td>...</td>\n      <td>...</td>\n      <td>...</td>\n      <td>...</td>\n      <td>...</td>\n      <td>...</td>\n      <td>...</td>\n      <td>...</td>\n      <td>...</td>\n      <td>...</td>\n    </tr>\n    <tr>\n      <th>113654</th>\n      <td>2020112400</td>\n      <td>PHONE</td>\n      <td>NHS</td>\n      <td>NHS-Neighborhood Preservation-</td>\n      <td>Property Violations</td>\n      <td>Mowing / Weeds</td>\n      <td>Private / Commercial</td>\n      <td>Lot - Structure</td>\n      <td>08/18/2020</td>\n      <td>03:08 PM</td>\n      <td>...</td>\n      <td>Shoal Creek</td>\n      <td>91488</td>\n      <td>39.183417</td>\n      <td>-94.484552</td>\n      <td>http://city.kcmo.org/kc/ActionCenterRequest/Ca...</td>\n      <td>NaN</td>\n      <td>211</td>\n      <td>Gracemor-Randolph Corners</td>\n      <td>2.904702e+11</td>\n      <td>Other</td>\n    </tr>\n    <tr>\n      <th>113717</th>\n      <td>2020111401</td>\n      <td>PHONE</td>\n      <td>NHS</td>\n      <td>NHS-Neighborhood Preservation-</td>\n      <td>Property Violations</td>\n      <td>Property / Buildings / Construction</td>\n      <td>Property Maintenance</td>\n      <td>Other Property Issue</td>\n      <td>08/17/2020</td>\n      <td>09:45 AM</td>\n      <td>...</td>\n      <td>Central</td>\n      <td>14060</td>\n      <td>39.082789</td>\n      <td>-94.555356</td>\n      <td>http://city.kcmo.org/kc/ActionCenterRequest/Ca...</td>\n      <td>NaN</td>\n      <td>27</td>\n      <td>Wendell Phillips</td>\n      <td>2.909502e+11</td>\n      <td>Property Violations</td>\n    </tr>\n    <tr>\n      <th>113718</th>\n      <td>2020109674</td>\n      <td>PHONE</td>\n      <td>NHS</td>\n      <td>NHS-Neighborhood Preservation-</td>\n      <td>Property Violations</td>\n      <td>Property / Buildings / Construction</td>\n      <td>Property Maintenance</td>\n      <td>Main Structure</td>\n      <td>08/12/2020</td>\n      <td>11:29 AM</td>\n      <td>...</td>\n      <td>Metro</td>\n      <td>2769</td>\n      <td>39.001799</td>\n      <td>-94.550551</td>\n      <td>http://city.kcmo.org/kc/ActionCenterRequest/Ca...</td>\n      <td>NaN</td>\n      <td>124</td>\n      <td>Self Help Neighborhood Council</td>\n      <td>2.909501e+11</td>\n      <td>Property Violations</td>\n    </tr>\n    <tr>\n      <th>113719</th>\n      <td>2020111414</td>\n      <td>PHONE</td>\n      <td>NHS</td>\n      <td>NHS-Neighborhood Preservation-</td>\n      <td>Property Violations</td>\n      <td>Property / Buildings / Construction</td>\n      <td>Property Maintenance</td>\n      <td>Main Structure</td>\n      <td>08/17/2020</td>\n      <td>09:53 AM</td>\n      <td>...</td>\n      <td>Central</td>\n      <td>126460</td>\n      <td>39.064743</td>\n      <td>-94.558602</td>\n      <td>http://city.kcmo.org/kc/ActionCenterRequest/Ca...</td>\n      <td>NaN</td>\n      <td>56</td>\n      <td>Key Coalition</td>\n      <td>2.909501e+11</td>\n      <td>Property Violations</td>\n    </tr>\n    <tr>\n      <th>113720</th>\n      <td>2020152424</td>\n      <td>WEB</td>\n      <td>NHS</td>\n      <td>NHS-Neighborhood Preservation-</td>\n      <td>Property Violations</td>\n      <td>Property / Buildings / Construction</td>\n      <td>Property Maintenance</td>\n      <td>Graffiti</td>\n      <td>12/05/2020</td>\n      <td>10:35 AM</td>\n      <td>...</td>\n      <td>Central</td>\n      <td>12974</td>\n      <td>39.089248</td>\n      <td>-94.557082</td>\n      <td>http://city.kcmo.org/kc/ActionCenterRequest/Ca...</td>\n      <td>NaN</td>\n      <td>27</td>\n      <td>Wendell Phillips</td>\n      <td>2.909502e+11</td>\n      <td>Property Violations</td>\n    </tr>\n  </tbody>\n</table>\n<p>9336 rows × 34 columns</p>\n</div>"
     },
     "metadata": {},
     "execution_count": 9
    }
   ],
   "source": [
    "# df_property = sample_df[sample_df['CATEGORY_NEW'] == 'Property Violations']\n",
    "df_property = sample_df[sample_df['REQUEST TYPE'] == 'Property Violations']\n",
    "\n",
    "df_property"
   ]
  },
  {
   "cell_type": "code",
   "execution_count": 117,
   "metadata": {},
   "outputs": [],
   "source": []
  },
  {
   "cell_type": "code",
   "execution_count": 10,
   "metadata": {},
   "outputs": [
    {
     "output_type": "execute_result",
     "data": {
      "text/plain": [
       "   NBH_ID  Total population  Median income  Median home value  \\\n",
       "0       1              1524          27778             165800   \n",
       "1       2              2485          77700             252800   \n",
       "2       3               872          44740             150550   \n",
       "3       4              1968          56325             191933   \n",
       "4       5              1567          26766             116108   \n",
       "\n",
       "   Total population age 25+ years with a bachelor's degree or higher  \\\n",
       "0                                                332                   \n",
       "1                                               1501                   \n",
       "2                                                359                   \n",
       "3                                                860                   \n",
       "4                                                171                   \n",
       "\n",
       "   White alone  Black or African American alone  Asian alone  \\\n",
       "0          742                              502           63   \n",
       "1         2019                              201          112   \n",
       "2          544                              203           20   \n",
       "3         1226                              479          105   \n",
       "4          405                              821          143   \n",
       "\n",
       "   Hispanic or Latino  Total Vacant  ...  \\\n",
       "0                 208            89  ...   \n",
       "1                 138           206  ...   \n",
       "2                  69           141  ...   \n",
       "3                  90           101  ...   \n",
       "4                 163            83  ...   \n",
       "\n",
       "   Households with income below poverty  Total population 25 or older  \\\n",
       "0                                   204                           978   \n",
       "1                                    61                          2100   \n",
       "2                                   159                           657   \n",
       "3                                   112                          1535   \n",
       "4                                   180                           964   \n",
       "\n",
       "   No schooling completed  High school diploma  Bachelor's degree  \\\n",
       "0                      79                   28                245   \n",
       "1                       0                    0               1103   \n",
       "2                      16                    0                206   \n",
       "3                       3                    5                482   \n",
       "4                      49                    0                108   \n",
       "\n",
       "   Master's degree  Doctorate degree                  NBH_NAME  \\\n",
       "0               59                15  Columbus Park Industrial   \n",
       "1              233                48              River Market   \n",
       "2               92                 6              Quality Hill   \n",
       "3              242                58              CBD Downtown   \n",
       "4               40                 7                Paseo West   \n",
       "\n",
       "                             EQUIVALENT_BLOCKGROUPS  \\\n",
       "0                                  ['290950003001']   \n",
       "1                                  ['290950152001']   \n",
       "2                  ['290950011002', '290950011001']   \n",
       "3  ['290950157002', '290950159001', '290950157001']   \n",
       "4  ['290950154001', '290950154002', '290950159001']   \n",
       "\n",
       "                                      NBH_BOUNDARIES  \n",
       "0  [[-94.57683939536817, 39.1095113156913], [-94....  \n",
       "1  [[-94.57702050009627, 39.10947486858083], [-94...  \n",
       "2  [[-94.58859268223543, 39.096400643183834], [-9...  \n",
       "3  [[-94.57231978141229, 39.10627878158096], [-94...  \n",
       "4  [[-94.56368874393506, 39.105292460875276], [-9...  \n",
       "\n",
       "[5 rows x 30 columns]"
      ],
      "text/html": "<div>\n<style scoped>\n    .dataframe tbody tr th:only-of-type {\n        vertical-align: middle;\n    }\n\n    .dataframe tbody tr th {\n        vertical-align: top;\n    }\n\n    .dataframe thead th {\n        text-align: right;\n    }\n</style>\n<table border=\"1\" class=\"dataframe\">\n  <thead>\n    <tr style=\"text-align: right;\">\n      <th></th>\n      <th>NBH_ID</th>\n      <th>Total population</th>\n      <th>Median income</th>\n      <th>Median home value</th>\n      <th>Total population age 25+ years with a bachelor's degree or higher</th>\n      <th>White alone</th>\n      <th>Black or African American alone</th>\n      <th>Asian alone</th>\n      <th>Hispanic or Latino</th>\n      <th>Total Vacant</th>\n      <th>...</th>\n      <th>Households with income below poverty</th>\n      <th>Total population 25 or older</th>\n      <th>No schooling completed</th>\n      <th>High school diploma</th>\n      <th>Bachelor's degree</th>\n      <th>Master's degree</th>\n      <th>Doctorate degree</th>\n      <th>NBH_NAME</th>\n      <th>EQUIVALENT_BLOCKGROUPS</th>\n      <th>NBH_BOUNDARIES</th>\n    </tr>\n  </thead>\n  <tbody>\n    <tr>\n      <th>0</th>\n      <td>1</td>\n      <td>1524</td>\n      <td>27778</td>\n      <td>165800</td>\n      <td>332</td>\n      <td>742</td>\n      <td>502</td>\n      <td>63</td>\n      <td>208</td>\n      <td>89</td>\n      <td>...</td>\n      <td>204</td>\n      <td>978</td>\n      <td>79</td>\n      <td>28</td>\n      <td>245</td>\n      <td>59</td>\n      <td>15</td>\n      <td>Columbus Park Industrial</td>\n      <td>['290950003001']</td>\n      <td>[[-94.57683939536817, 39.1095113156913], [-94....</td>\n    </tr>\n    <tr>\n      <th>1</th>\n      <td>2</td>\n      <td>2485</td>\n      <td>77700</td>\n      <td>252800</td>\n      <td>1501</td>\n      <td>2019</td>\n      <td>201</td>\n      <td>112</td>\n      <td>138</td>\n      <td>206</td>\n      <td>...</td>\n      <td>61</td>\n      <td>2100</td>\n      <td>0</td>\n      <td>0</td>\n      <td>1103</td>\n      <td>233</td>\n      <td>48</td>\n      <td>River Market</td>\n      <td>['290950152001']</td>\n      <td>[[-94.57702050009627, 39.10947486858083], [-94...</td>\n    </tr>\n    <tr>\n      <th>2</th>\n      <td>3</td>\n      <td>872</td>\n      <td>44740</td>\n      <td>150550</td>\n      <td>359</td>\n      <td>544</td>\n      <td>203</td>\n      <td>20</td>\n      <td>69</td>\n      <td>141</td>\n      <td>...</td>\n      <td>159</td>\n      <td>657</td>\n      <td>16</td>\n      <td>0</td>\n      <td>206</td>\n      <td>92</td>\n      <td>6</td>\n      <td>Quality Hill</td>\n      <td>['290950011002', '290950011001']</td>\n      <td>[[-94.58859268223543, 39.096400643183834], [-9...</td>\n    </tr>\n    <tr>\n      <th>3</th>\n      <td>4</td>\n      <td>1968</td>\n      <td>56325</td>\n      <td>191933</td>\n      <td>860</td>\n      <td>1226</td>\n      <td>479</td>\n      <td>105</td>\n      <td>90</td>\n      <td>101</td>\n      <td>...</td>\n      <td>112</td>\n      <td>1535</td>\n      <td>3</td>\n      <td>5</td>\n      <td>482</td>\n      <td>242</td>\n      <td>58</td>\n      <td>CBD Downtown</td>\n      <td>['290950157002', '290950159001', '290950157001']</td>\n      <td>[[-94.57231978141229, 39.10627878158096], [-94...</td>\n    </tr>\n    <tr>\n      <th>4</th>\n      <td>5</td>\n      <td>1567</td>\n      <td>26766</td>\n      <td>116108</td>\n      <td>171</td>\n      <td>405</td>\n      <td>821</td>\n      <td>143</td>\n      <td>163</td>\n      <td>83</td>\n      <td>...</td>\n      <td>180</td>\n      <td>964</td>\n      <td>49</td>\n      <td>0</td>\n      <td>108</td>\n      <td>40</td>\n      <td>7</td>\n      <td>Paseo West</td>\n      <td>['290950154001', '290950154002', '290950159001']</td>\n      <td>[[-94.56368874393506, 39.105292460875276], [-9...</td>\n    </tr>\n  </tbody>\n</table>\n<p>5 rows × 30 columns</p>\n</div>"
     },
     "metadata": {},
     "execution_count": 10
    }
   ],
   "source": [
    "df_shape = pd.read_csv('../data/raw/240NBH_socioeconomic_withshapes.csv')\n",
    "df_shape.head()"
   ]
  },
  {
   "cell_type": "code",
   "execution_count": 89,
   "metadata": {},
   "outputs": [],
   "source": [
    "temp = sample_df.merge(df_shape, how='inner', left_on='nbh_id', right_on='NBH_ID').drop(columns=['NBH_ID', 'NBH_NAME'])\n",
    "temp.to_csv('311_Census_with_shapes.csv', index = False)"
   ]
  },
  {
   "cell_type": "code",
   "execution_count": 88,
   "metadata": {},
   "outputs": [
    {
     "output_type": "execute_result",
     "data": {
      "text/plain": [
       "Index(['CASE ID', 'SOURCE', 'DEPARTMENT', 'WORK GROUP', 'REQUEST TYPE',\n",
       "       'CATEGORY', 'TYPE', 'DETAIL', 'CREATION DATE', 'CREATION TIME',\n",
       "       'CREATION MONTH', 'CREATION YEAR', 'STATUS', 'EXCEEDED EST TIMEFRAME',\n",
       "       'CLOSED DATE', 'CLOSED MONTH', 'CLOSED YEAR', 'DAYS TO CLOSE',\n",
       "       'STREET ADDRESS', 'ADDRESS WITH GEOCODE', 'ZIP CODE', 'NEIGHBORHOOD',\n",
       "       'COUNTY', 'COUNCIL DISTRICT', 'POLICE DISTRICT', 'PARCEL ID NO',\n",
       "       'LATITUDE', 'LONGITUDE', 'CASE URL', '30-60-90 Days Open Window',\n",
       "       'nbh_id', 'nbh_name', 'BLOCKGROUP ID', 'CATEGORY_NEW',\n",
       "       'Total population', 'Median income', 'Median home value',\n",
       "       'Total population age 25+ years with a bachelor's degree or higher',\n",
       "       'White alone', 'Black or African American alone', 'Asian alone',\n",
       "       'Hispanic or Latino', 'Total Vacant', 'Total Renter Occupied',\n",
       "       'Number of Households', 'Total civilian labor force', 'Total employed',\n",
       "       'Total unemployed', 'Families considered in poverty calculation',\n",
       "       'Individuals considered in poverty calculation',\n",
       "       'Households considered in poverty calculation',\n",
       "       'Families with income below poverty',\n",
       "       'Individuals with income below poverty',\n",
       "       'Households with income below poverty', 'Total population 25 or older',\n",
       "       'No schooling completed', 'High school diploma', 'Bachelor's degree',\n",
       "       'Master's degree', 'Doctorate degree', 'EQUIVALENT_BLOCKGROUPS',\n",
       "       'NBH_BOUNDARIES'],\n",
       "      dtype='object')"
      ]
     },
     "metadata": {},
     "execution_count": 88
    }
   ],
   "source": [
    "temp.columns"
   ]
  },
  {
   "cell_type": "code",
   "execution_count": 11,
   "metadata": {},
   "outputs": [
    {
     "output_type": "stream",
     "name": "stdout",
     "text": [
      "95550\n"
     ]
    },
    {
     "output_type": "execute_result",
     "data": {
      "text/plain": [
       "           Address   Age Area Beat         City DVFlag          Description  \\\n",
       "0  200  NICHOLS RD   NaN  CPD  134  KANSAS CITY      N          Shoplifting   \n",
       "1    1800  E 79 ST  21.0  MPD  242  KANSAS CITY      N    All Other Larceny   \n",
       "2  1600  E 40TH ST  26.0  CPD  142  KANSAS CITY      N              Robbery   \n",
       "3   3900  CLIFF DR  19.0  EPD  311  KANSAS CITY      N                  NaN   \n",
       "4  2000  ASKEW AVE   NaN  EPD  323  KANSAS CITY      N  Motor Vehicle Theft   \n",
       "\n",
       "   Firearm Used Flag                           Formatted Address   From_Date  \\\n",
       "0                0.0  200 Nichols Rd, Kansas City, MO 64112, USA  12/30/2019   \n",
       "1                0.0  1800 E 79th St, Kansas City, MO 64131, USA  01/05/2020   \n",
       "2                1.0  1600 E 40th St, Kansas City, MO 64110, USA  01/06/2020   \n",
       "3                0.0   3900 Cliff Dr, Kansas City, MO 64123, USA  01/06/2020   \n",
       "4                0.0  2000 Askew Ave, Kansas City, MO 64127, USA  01/05/2019   \n",
       "\n",
       "   ...     To_Date To_Time Zip Code blockgroup_id        lat        lng  \\\n",
       "0  ...  12/30/2019   18:00  64112.0  2.909501e+11  39.041556 -94.589774   \n",
       "1  ...         NaN     NaN  64131.0  2.909501e+11  38.984188 -94.567016   \n",
       "2  ...         NaN     NaN  64110.0  2.909502e+11  39.054227 -94.565100   \n",
       "3  ...  01/06/2020   16:00  64123.0  2.909502e+11  39.118603 -94.535907   \n",
       "4  ...  01/06/2019   06:00  64127.0  2.909502e+11  39.087565 -94.540455   \n",
       "\n",
       "                    nbh_name  nbhid police_division police_division_id  \n",
       "0         Country Club Plaza   85.0         Central                1.0  \n",
       "1               East Meyer 6  128.0           Metro                2.0  \n",
       "2          Ivanhoe Southwest   53.0         Central                1.0  \n",
       "3             Scarritt Point   18.0            East                3.0  \n",
       "4  East Community Team North   29.0            East                3.0  \n",
       "\n",
       "[5 rows x 31 columns]"
      ],
      "text/html": "<div>\n<style scoped>\n    .dataframe tbody tr th:only-of-type {\n        vertical-align: middle;\n    }\n\n    .dataframe tbody tr th {\n        vertical-align: top;\n    }\n\n    .dataframe thead th {\n        text-align: right;\n    }\n</style>\n<table border=\"1\" class=\"dataframe\">\n  <thead>\n    <tr style=\"text-align: right;\">\n      <th></th>\n      <th>Address</th>\n      <th>Age</th>\n      <th>Area</th>\n      <th>Beat</th>\n      <th>City</th>\n      <th>DVFlag</th>\n      <th>Description</th>\n      <th>Firearm Used Flag</th>\n      <th>Formatted Address</th>\n      <th>From_Date</th>\n      <th>...</th>\n      <th>To_Date</th>\n      <th>To_Time</th>\n      <th>Zip Code</th>\n      <th>blockgroup_id</th>\n      <th>lat</th>\n      <th>lng</th>\n      <th>nbh_name</th>\n      <th>nbhid</th>\n      <th>police_division</th>\n      <th>police_division_id</th>\n    </tr>\n  </thead>\n  <tbody>\n    <tr>\n      <th>0</th>\n      <td>200  NICHOLS RD</td>\n      <td>NaN</td>\n      <td>CPD</td>\n      <td>134</td>\n      <td>KANSAS CITY</td>\n      <td>N</td>\n      <td>Shoplifting</td>\n      <td>0.0</td>\n      <td>200 Nichols Rd, Kansas City, MO 64112, USA</td>\n      <td>12/30/2019</td>\n      <td>...</td>\n      <td>12/30/2019</td>\n      <td>18:00</td>\n      <td>64112.0</td>\n      <td>2.909501e+11</td>\n      <td>39.041556</td>\n      <td>-94.589774</td>\n      <td>Country Club Plaza</td>\n      <td>85.0</td>\n      <td>Central</td>\n      <td>1.0</td>\n    </tr>\n    <tr>\n      <th>1</th>\n      <td>1800  E 79 ST</td>\n      <td>21.0</td>\n      <td>MPD</td>\n      <td>242</td>\n      <td>KANSAS CITY</td>\n      <td>N</td>\n      <td>All Other Larceny</td>\n      <td>0.0</td>\n      <td>1800 E 79th St, Kansas City, MO 64131, USA</td>\n      <td>01/05/2020</td>\n      <td>...</td>\n      <td>NaN</td>\n      <td>NaN</td>\n      <td>64131.0</td>\n      <td>2.909501e+11</td>\n      <td>38.984188</td>\n      <td>-94.567016</td>\n      <td>East Meyer 6</td>\n      <td>128.0</td>\n      <td>Metro</td>\n      <td>2.0</td>\n    </tr>\n    <tr>\n      <th>2</th>\n      <td>1600  E 40TH ST</td>\n      <td>26.0</td>\n      <td>CPD</td>\n      <td>142</td>\n      <td>KANSAS CITY</td>\n      <td>N</td>\n      <td>Robbery</td>\n      <td>1.0</td>\n      <td>1600 E 40th St, Kansas City, MO 64110, USA</td>\n      <td>01/06/2020</td>\n      <td>...</td>\n      <td>NaN</td>\n      <td>NaN</td>\n      <td>64110.0</td>\n      <td>2.909502e+11</td>\n      <td>39.054227</td>\n      <td>-94.565100</td>\n      <td>Ivanhoe Southwest</td>\n      <td>53.0</td>\n      <td>Central</td>\n      <td>1.0</td>\n    </tr>\n    <tr>\n      <th>3</th>\n      <td>3900  CLIFF DR</td>\n      <td>19.0</td>\n      <td>EPD</td>\n      <td>311</td>\n      <td>KANSAS CITY</td>\n      <td>N</td>\n      <td>NaN</td>\n      <td>0.0</td>\n      <td>3900 Cliff Dr, Kansas City, MO 64123, USA</td>\n      <td>01/06/2020</td>\n      <td>...</td>\n      <td>01/06/2020</td>\n      <td>16:00</td>\n      <td>64123.0</td>\n      <td>2.909502e+11</td>\n      <td>39.118603</td>\n      <td>-94.535907</td>\n      <td>Scarritt Point</td>\n      <td>18.0</td>\n      <td>East</td>\n      <td>3.0</td>\n    </tr>\n    <tr>\n      <th>4</th>\n      <td>2000  ASKEW AVE</td>\n      <td>NaN</td>\n      <td>EPD</td>\n      <td>323</td>\n      <td>KANSAS CITY</td>\n      <td>N</td>\n      <td>Motor Vehicle Theft</td>\n      <td>0.0</td>\n      <td>2000 Askew Ave, Kansas City, MO 64127, USA</td>\n      <td>01/05/2019</td>\n      <td>...</td>\n      <td>01/06/2019</td>\n      <td>06:00</td>\n      <td>64127.0</td>\n      <td>2.909502e+11</td>\n      <td>39.087565</td>\n      <td>-94.540455</td>\n      <td>East Community Team North</td>\n      <td>29.0</td>\n      <td>East</td>\n      <td>3.0</td>\n    </tr>\n  </tbody>\n</table>\n<p>5 rows × 31 columns</p>\n</div>"
     },
     "metadata": {},
     "execution_count": 11
    }
   ],
   "source": [
    "df_crime = pd.DataFrame()\n",
    "for yr in range(2020,2021):\n",
    "    # df = pd.read_csv('../Crime/CrimeData{}-withlocality.csv'.format(yr))\n",
    "    df = pd.read_csv('../Crime/CrimeData{}-withlocality_NEW.csv'.format(yr))\n",
    "\n",
    "    print(len(df))\n",
    "    df_crime = pd.concat([df_crime,df ], axis = 0)\n",
    "\n",
    "# df_crime = df_crime[df_crime['nbh_name'].isin(df_shape['NBH_NAME'].unique())][['Address','Formatted Address','nbhid','nbh_name', 'Offense', 'Description']]\n",
    "df_crime = df_crime[df_crime['nbh_name'].isin(df_shape['NBH_NAME'].unique())]#[['Address','Formatted Address','nbhid','nbh_name', 'Offense', 'Description']]\n",
    "# df_crime = df_crime[(df_crime['Offense'].isin(['Property Damage', 'Trespass of Real Property'])) | (df_crime['Description'].isin(['Property Damage', 'Trespass of Real Property']))]\n",
    "df_crime.head()"
   ]
  },
  {
   "cell_type": "code",
   "execution_count": 12,
   "metadata": {},
   "outputs": [],
   "source": [
    "'''\n",
    "Questionables??\n",
    "'''\n",
    "df_crime.groupby(['Address', 'Formatted Address', 'nbh_name','Offense']).size().to_frame('counts').sort_values('counts', ascending=False).reset_index().to_csv('questionables-2020_NEW.csv', index=False)"
   ]
  },
  {
   "cell_type": "code",
   "execution_count": 170,
   "metadata": {},
   "outputs": [
    {
     "output_type": "execute_result",
     "data": {
      "text/plain": [
       "                                       property_damages  \\\n",
       "nbh_name                                                  \n",
       "Blue Hills                                          254   \n",
       "Shoal Creek                                         207   \n",
       "Marlborough Heights/Marlborough Pride               188   \n",
       "CBD Downtown                                        179   \n",
       "East Community Team South                           164   \n",
       "\n",
       "                                       property_violations_calls  \n",
       "nbh_name                                                          \n",
       "Blue Hills                                                 148.0  \n",
       "Shoal Creek                                                113.0  \n",
       "Marlborough Heights/Marlborough Pride                      134.0  \n",
       "CBD Downtown                                                70.0  \n",
       "East Community Team South                                  238.0  "
      ],
      "text/html": "<div>\n<style scoped>\n    .dataframe tbody tr th:only-of-type {\n        vertical-align: middle;\n    }\n\n    .dataframe tbody tr th {\n        vertical-align: top;\n    }\n\n    .dataframe thead th {\n        text-align: right;\n    }\n</style>\n<table border=\"1\" class=\"dataframe\">\n  <thead>\n    <tr style=\"text-align: right;\">\n      <th></th>\n      <th>property_damages</th>\n      <th>property_violations_calls</th>\n    </tr>\n    <tr>\n      <th>nbh_name</th>\n      <th></th>\n      <th></th>\n    </tr>\n  </thead>\n  <tbody>\n    <tr>\n      <th>Blue Hills</th>\n      <td>254</td>\n      <td>148.0</td>\n    </tr>\n    <tr>\n      <th>Shoal Creek</th>\n      <td>207</td>\n      <td>113.0</td>\n    </tr>\n    <tr>\n      <th>Marlborough Heights/Marlborough Pride</th>\n      <td>188</td>\n      <td>134.0</td>\n    </tr>\n    <tr>\n      <th>CBD Downtown</th>\n      <td>179</td>\n      <td>70.0</td>\n    </tr>\n    <tr>\n      <th>East Community Team South</th>\n      <td>164</td>\n      <td>238.0</td>\n    </tr>\n  </tbody>\n</table>\n</div>"
     },
     "metadata": {},
     "execution_count": 170
    }
   ],
   "source": [
    "property_violations_agg_df = df_property.groupby('nbh_name').size().sort_values(ascending=False).to_frame('property_violations_calls').head(50)\n",
    "property_crime_agg_df = df_crime.groupby(['nbh_name']).size().to_frame('property_damages').reset_index()\n",
    "property_crime_agg_df = property_crime_agg_df.merge(property_violations_agg_df, how='left', left_on='nbh_name', right_on='nbh_name').fillna(0).set_index('nbh_name').sort_values(['property_damages', 'property_violations_calls'], ascending=False)\n",
    "property_crime_agg_df.head()"
   ]
  },
  {
   "cell_type": "code",
   "execution_count": 150,
   "metadata": {},
   "outputs": [
    {
     "output_type": "execute_result",
     "data": {
      "text/plain": [
       "property_violations_calls    10160\n",
       "dtype: int64"
      ]
     },
     "metadata": {},
     "execution_count": 150
    }
   ],
   "source": [
    "property_violations_agg_df.sum(axis = 0)"
   ]
  },
  {
   "cell_type": "code",
   "execution_count": 171,
   "metadata": {},
   "outputs": [],
   "source": [
    "property_crime_agg_df.to_csv('property_violations_Crime311_2016.csv', index = True)"
   ]
  },
  {
   "cell_type": "code",
   "execution_count": 146,
   "metadata": {},
   "outputs": [
    {
     "output_type": "execute_result",
     "data": {
      "text/plain": [
       "(224, 2)"
      ]
     },
     "metadata": {},
     "execution_count": 146
    }
   ],
   "source": [
    "property_crime_agg_df.shape"
   ]
  },
  {
   "cell_type": "code",
   "execution_count": 147,
   "metadata": {},
   "outputs": [
    {
     "output_type": "execute_result",
     "data": {
      "text/plain": [
       "                           property_damages  property_violations_calls\n",
       "property_damages                    1.00000                    0.26433\n",
       "property_violations_calls           0.26433                    1.00000"
      ],
      "text/html": "<div>\n<style scoped>\n    .dataframe tbody tr th:only-of-type {\n        vertical-align: middle;\n    }\n\n    .dataframe tbody tr th {\n        vertical-align: top;\n    }\n\n    .dataframe thead th {\n        text-align: right;\n    }\n</style>\n<table border=\"1\" class=\"dataframe\">\n  <thead>\n    <tr style=\"text-align: right;\">\n      <th></th>\n      <th>property_damages</th>\n      <th>property_violations_calls</th>\n    </tr>\n  </thead>\n  <tbody>\n    <tr>\n      <th>property_damages</th>\n      <td>1.00000</td>\n      <td>0.26433</td>\n    </tr>\n    <tr>\n      <th>property_violations_calls</th>\n      <td>0.26433</td>\n      <td>1.00000</td>\n    </tr>\n  </tbody>\n</table>\n</div>"
     },
     "metadata": {},
     "execution_count": 147
    }
   ],
   "source": [
    "property_crime_agg_df.corr()"
   ]
  },
  {
   "source": [
    "<h1> Deploy to Ngrok"
   ],
   "cell_type": "markdown",
   "metadata": {}
  },
  {
   "cell_type": "code",
   "execution_count": null,
   "metadata": {},
   "outputs": [],
   "source": [
    "import dash\n",
    "import dash_core_components as dcc\n",
    "import dash_html_components as html\n",
    "from dash.dependencies import Input, Output\n",
    "import plotly.express as px\n",
    "from jupyter_dash import JupyterDash\n",
    "from flask import Flask\n",
    "from flask_cors import CORS"
   ]
  },
  {
   "cell_type": "code",
   "execution_count": null,
   "metadata": {},
   "outputs": [],
   "source": [
    "app = JupyterDash(__name__)\n",
    "server = app.server\n",
    "CORS(server)\n",
    "\n",
    "app.layout = html.Div([\n",
    "    dcc.Location(id='url', refresh=False),\n",
    "    html.Div(id='page-content')\n",
    "])\n",
    "\n",
    "\n",
    "index_page = html.Div([\n",
    "    dcc.Link('Go to Page 1', href='/page-1'),\n",
    "    html.Br(),\n",
    "    # dcc.Link('Go to Page 2', href='/page-2'),\n",
    "    # html.Br(),\n",
    "    # dcc.Link('Go to Page 3', href='/page-3'),\n",
    "    # html.Br(),\n",
    "    # dcc.Link('Go to Page 4', href='/page-4'),\n",
    "    # html.Br(),\n",
    "    # dcc.Link('Go to Page 5', href='/page-5'),\n",
    "    # html.Br(),\n",
    "    # dcc.Link('Go to Page 6', href='/page-6'),\n",
    "    # html.Br(),\n",
    "    # dcc.Link('Go to Page 7', href='/page-7'),\n",
    "    # html.Br(),\n",
    "    # dcc.Link('Go to Page 8', href='/page-8'),\n",
    "    # html.Br(),\n",
    "    # dcc.Link('Go to Page 9', href='/page-9'),\n",
    "    # html.Br(),\n",
    "    # dcc.Link('Go to Page 10', href='/page-10'),\n",
    "    # html.Br(),\n",
    "    # dcc.Link('Go to Page 11', href='/page-11'),\n",
    "    # html.Br(),\n",
    "    # dcc.Link('Go to Page 12', href='/page-12'),\n",
    "])\n",
    "\n",
    "# -------------------------------------------\n",
    "@app.callback(Output('graph-1', 'figure'),\n",
    "              [Input('call-dropdown', 'value')])       \n",
    "def page_1_content(nbh_name):\n",
    "    fig = px.pie(top_5_calls_df[top_5_calls_df['nbh_name'] == nbh_name], values='total_calls', names='CATEGORY_NEW', title='Top 5 311 Calls of {} (in 2019)'.format(nbh_name.title()))\n",
    "    return fig\n",
    "\n",
    "page_1_layout = html.Div([\n",
    "    html.Label([\n",
    "        \"Select a Neighborhood Name\",\n",
    "        dcc.Dropdown(\n",
    "            id='call-dropdown', clearable=False,\n",
    "            value='Ivanhoe Northeast', options=[\n",
    "                {'label': x.title(), 'value': x}\n",
    "                for x in top_5_calls_df['nbh_name'].unique()\n",
    "            ])\n",
    "    ]),\n",
    "    dcc.Graph(id='graph-1')\n",
    "], style={'width': '50%', 'display': 'inline-block', 'vertical-align': 'middle'})\n",
    "# -------------------------------------------\n",
    "# Update the index\n",
    "@app.callback(Output('page-content', 'children'),\n",
    "              [Input('url', 'pathname')])\n",
    "def display_page(pathname):\n",
    "    if pathname == '/page-1': #state-metal\n",
    "        return page_1_layout\n",
    "    # elif pathname == '/page-2': #\n",
    "    #     return page_2_layout\n",
    "    # elif pathname == '/page-3': #\n",
    "    #     return page_3_layout\n",
    "    # elif pathname == '/page-4': #\n",
    "    #     return page_4_layout\n",
    "    # elif pathname == '/page-5': #\n",
    "    #     return page_5_layout\n",
    "    # elif pathname == '/page-6': #\n",
    "    #     return page_6_layout\n",
    "    # elif pathname == '/page-7': #\n",
    "    #     return page_7_layout\n",
    "    # elif pathname == '/page-8': #\n",
    "    #     return page_8_layout\n",
    "    # elif pathname == '/page-9': #\n",
    "    #     return page_9_layout\n",
    "    # elif pathname == '/page-10': #\n",
    "    #     return page_10_layout\n",
    "    # elif pathname == '/page-11': #\n",
    "    #     return page_11_layout\n",
    "    # elif pathname == '/page-12': #\n",
    "    #     return page_12_layout\n",
    "    else:\n",
    "        return index_page\n",
    "    # You could also return a 404 \"URL not found\" page here\n",
    "\n",
    "\n",
    "\n",
    "\n",
    "\n",
    "@server.route(\"/api/model/quick\")\n",
    "def inference_quick():\n",
    "    height = float(request.args.get('height'))\n",
    "    weight = float(request.args.get('weight'))\n",
    "    age = int(request.args.get('age'))\n",
    "    children = int(request.args.get('children'))\n",
    "    smoker = int(request.args.get('smoker'))\n",
    "    sex = int(request.args.get('sex'))\n",
    "    BMI = weight / (height/100)**2\n",
    "    state = request.args.get('state')\n",
    "    map_sex = {\n",
    "        'male': 0,\n",
    "        'female': 1\n",
    "    }\n",
    "    map_smoker = {\n",
    "        'no': 0,\n",
    "        'yes': 1,\n",
    "    }   \n",
    "    map_region = {'northeast': 0, 'northwest': 1, 'southeast': 2, 'southwest': 3}\n",
    "    region = map_region[region_map[state]]\n",
    "\n",
    "    X_test = np.array([[age, sex, BMI, children, smoker, region]])\n",
    "    test_dataset = RegressionDataset(torch.from_numpy(X_test).float())\n",
    "    test_loader = DataLoader(dataset=test_dataset, batch_size=1)\n",
    "    ''''Testing'''\n",
    "    # X_test = np.array([[45, 1, 15, 2, 1, 3]])\n",
    "    test_dataset = RegressionDataset(torch.from_numpy(X_test).float())\n",
    "    test_loader = DataLoader(dataset=test_dataset, batch_size=1)\n",
    "    ''''Testing'''\n",
    "    with torch.no_grad():\n",
    "        for X_batch in test_loader:\n",
    "            X_batch = X_batch.to(device)\n",
    "            x_test_pred = model_quick(X_batch)[0][0]\n",
    "    estimate =  round(x_test_pred.item()*10000)\n",
    "    insurance_options = {'plans': find_insurance(age = age, kid = children, state='MO', estimate = estimate)}\n",
    "    insurance_options['premium_charge'] = estimate\n",
    "    return json.dumps(insurance_options, indent=4)\n",
    "\n",
    "\n",
    "if __name__ == '__main__':\n",
    "    app.run_server(mode='inline', port = 8020, debug=True)"
   ]
  },
  {
   "cell_type": "code",
   "execution_count": null,
   "metadata": {},
   "outputs": [],
   "source": [
    "from pyngrok import ngrok\n",
    "\n",
    "public_url = ngrok.connect(8020, subdomain=\"nsfscc\")\n",
    "public_url"
   ]
  },
  {
   "cell_type": "code",
   "execution_count": null,
   "metadata": {},
   "outputs": [],
   "source": [
    "ngrok.kill()\n"
   ]
  }
 ]
}