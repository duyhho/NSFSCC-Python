{
 "metadata": {
  "language_info": {
   "codemirror_mode": {
    "name": "ipython",
    "version": 3
   },
   "file_extension": ".py",
   "mimetype": "text/x-python",
   "name": "python",
   "nbconvert_exporter": "python",
   "pygments_lexer": "ipython3",
   "version": "3.8.5"
  },
  "orig_nbformat": 2,
  "kernelspec": {
   "name": "python385jvsc74a57bd0a69a97d3c0c90f1132d3fe1c1bdf15f941a20aa0a78eb54401bae5bd6029936d",
   "display_name": "Python 3.8.5 64-bit (conda)"
  }
 },
 "nbformat": 4,
 "nbformat_minor": 2,
 "cells": [
  {
   "cell_type": "code",
   "execution_count": 79,
   "metadata": {},
   "outputs": [],
   "source": [
    "import pandas as pd\n",
    "import json\n",
    "from tqdm.notebook import tqdm"
   ]
  },
  {
   "cell_type": "code",
   "execution_count": null,
   "metadata": {},
   "outputs": [],
   "source": [
    "YEAR_RANGE = [2019, 2020]\n",
    "df_311 = pd.read_csv('../data/raw/311_Calls_2007-2020.csv')\n",
    "# df_311 = df_311[df_311['CREATION YEAR'].between(YEAR_RANGE[0], YEAR_RANGE[1])]\n",
    "df_311 = df_311[df_311['CREATION YEAR'] == 2019]\n"
   ]
  },
  {
   "cell_type": "code",
   "execution_count": null,
   "metadata": {},
   "outputs": [],
   "source": [
    "# sample_df = df_311.sample(n=10000, random_state=1).reset_index(drop=True).copy()\n",
    "sample_df = df_311.copy()\n",
    "# sample_df = sample_df[sample_df['DAYS TO CLOSE'].notna() & sample_df['STATUS'].str.contains('RESOL')].reset_index(drop=True)\n",
    "sample_df = sample_df[(sample_df['STATUS'] == 'RESOL') & (sample_df['DAYS TO CLOSE'].notna())].reset_index(drop=True)\n",
    "sample_df['nbh_name'] = sample_df['nbh_name'].fillna('Unnamed')\n",
    "\n",
    "sample_df[sample_df['nbh_id'] == 0 ]\n"
   ]
  },
  {
   "cell_type": "code",
   "execution_count": null,
   "metadata": {},
   "outputs": [],
   "source": [
    "df_311.columns"
   ]
  },
  {
   "cell_type": "code",
   "execution_count": null,
   "metadata": {},
   "outputs": [],
   "source": [
    "from tqdm.notebook import tqdm\n",
    "CATEGORY_MAP = {\n",
    "    'City Facilities': ['City Facilities', 'City Clerks Office','City Managers Office','City Planning & Development', 'Facilities'],\n",
    "    'Parking': ['Park','Park Maintenance','Parking Meter','Downtown Parking'],\n",
    "    'Property Violations': ['Property / Buildings / Construction', 'Property Preservation','Property Violations', 'Graffiti', 'Property & Nuisance Violations', 'Nuisance Violations'],\n",
    "    'Animals': ['Animals / Pets', 'Animal'],\n",
    "    'Water': ['Water','Water Leak','Storm Water','Storm Water / Sewer','Wastewater','Water Main Break','Water Quality','Water Services','Sewer','Ditch'],\n",
    "    'Trash': ['Trash / Recycling','Trash'],\n",
    "    'Public Health': ['Health','Public Health','Food Protection','Air Quality','Weeds'],\n",
    "    'Lights/Signals/Signs': ['Lights / Signals','Signal','Signs'],\n",
    "    'Vehicles': ['Vehicle', 'Vehicles / Parking'],\n",
    "    'Street/Sidewalks': ['Street', 'Street Light','Street Sign','Pothole','Sidewalk','Sidewalks / Curbs / Ditch','Streets / Roadways / Alleys','Steel Plate','Markings'],\n",
    "    'Legal': ['Government','Mayors Office','Permit','Law','Municipal Court'],\n",
    "    'Public Safety': ['Public Safety','Fire','Snow & Ice','Trees'],\n",
    "    'Parks and Recreation': ['Parks & Recreation','Boulevard Parks and Rec'],\n",
    "    'Neighborhood': ['Neighborhood & Community Services', 'Neighborhood Preservation'],\n",
    "    'Data Not Available': ['Data Not Available'],\n",
    "    'Information Request': ['Information Request'],\n",
    "    'Maintenance': ['Maintenance','Bridge','Guard Rail','Cleaning'],\n",
    "    'Traffic': ['Traffic Sign','Traffic Study'],\n",
    "    'Information Technology': ['Information Technology'],\n",
    "    'Noise': ['Noise Control'],\n",
    "    'Other': ['Aviation','Public Works','Zoning','Right of Way','Sealing','Sweeping','Bulky Appointment',\n",
    "              'Consumer Services','Convention & Entertainment Center','Finance','Housing','Mowing / Weeds','Capital Projects']\n",
    "}\n",
    "NEW_CATEGORIES = []\n",
    "for index, row in tqdm(sample_df.iterrows(), total = sample_df.shape[0]):\n",
    "  new_cat = None\n",
    "  category = row['CATEGORY']\n",
    "  for key, value in CATEGORY_MAP.items():\n",
    "    if category in value:\n",
    "      new_cat = key\n",
    "      NEW_CATEGORIES.append(new_cat)\n",
    "  if new_cat is None:\n",
    "    print(category)\n",
    "  assert new_cat is not None\n",
    "  # if index == 10:\n",
    "  #   break\n",
    "sample_df['CATEGORY_NEW'] = NEW_CATEGORIES\n",
    "  "
   ]
  },
  {
   "cell_type": "code",
   "execution_count": null,
   "metadata": {},
   "outputs": [],
   "source": []
  },
  {
   "cell_type": "code",
   "execution_count": null,
   "metadata": {},
   "outputs": [],
   "source": [
    "temp = sample_df.groupby(['nbh_name', 'CATEGORY_NEW']).size().to_frame('total_calls').sort_index(ascending=[0,1]).sort_values('total_calls',ascending=False)\n",
    "top_5_calls_df = temp.groupby(level=0, as_index=False).apply(lambda x: x.head(5)).reset_index(level=0, drop=True).reset_index()\n"
   ]
  },
  {
   "cell_type": "code",
   "execution_count": null,
   "metadata": {},
   "outputs": [],
   "source": [
    "temp[temp['nbh_name'] == 'Ivanhoe Northeast']"
   ]
  },
  {
   "cell_type": "code",
   "execution_count": null,
   "metadata": {},
   "outputs": [],
   "source": [
    "df.head()"
   ]
  },
  {
   "cell_type": "code",
   "execution_count": null,
   "metadata": {},
   "outputs": [],
   "source": [
    "import plotly.express as px\n",
    "fig = px.pie(temp[temp['nbh_name'] == 'Shoal Creek'], values='total_calls', names='CATEGORY_NEW', title='Top 5 311 Calls by Neighborhood')\n",
    "fig.show()"
   ]
  },
  {
   "cell_type": "code",
   "execution_count": 132,
   "metadata": {},
   "outputs": [
    {
     "output_type": "execute_result",
     "data": {
      "text/plain": [
       "(12103, 34)"
      ]
     },
     "metadata": {},
     "execution_count": 132
    }
   ],
   "source": [
    "df_property.shape"
   ]
  },
  {
   "cell_type": "code",
   "execution_count": 134,
   "metadata": {},
   "outputs": [
    {
     "output_type": "execute_result",
     "data": {
      "text/plain": [
       "(17992, 34)"
      ]
     },
     "metadata": {},
     "execution_count": 134
    }
   ],
   "source": [
    "# sample_df[sample_df['REQUEST TYPE'] == 'Property Violations'].shape"
   ]
  },
  {
   "cell_type": "code",
   "execution_count": 135,
   "metadata": {},
   "outputs": [
    {
     "output_type": "execute_result",
     "data": {
      "text/plain": [
       "           CASE ID SOURCE DEPARTMENT                      WORK GROUP  \\\n",
       "30      2019000495  PHONE        NHS  NHS-Neighborhood Preservation-   \n",
       "32      2019204960  PHONE        NHS  NHS-Neighborhood Preservation-   \n",
       "33      2019185184  PHONE        NHS  NHS-Neighborhood Preservation-   \n",
       "34      2019185186  PHONE        NHS  NHS-Neighborhood Preservation-   \n",
       "35      2019153984    WEB        NHS  NHS-Neighborhood Preservation-   \n",
       "...            ...    ...        ...                             ...   \n",
       "161135  2019178352  PHONE        NHS  NHS-Neighborhood Preservation-   \n",
       "161136  2019160068  PHONE        NHS  NHS-Neighborhood Preservation-   \n",
       "161137  2019160139    WEB        NHS  NHS-Neighborhood Preservation-   \n",
       "161138  2019165739    WEB        NHS  NHS-Neighborhood Preservation-   \n",
       "161139  2019166256    WEB        NHS  NHS-Neighborhood Preservation-   \n",
       "\n",
       "               REQUEST TYPE                             CATEGORY  \\\n",
       "30      Property Violations                   Vehicles / Parking   \n",
       "32      Property Violations                    Trash / Recycling   \n",
       "33      Property Violations                       Mowing / Weeds   \n",
       "34      Property Violations                       Mowing / Weeds   \n",
       "35      Property Violations  Property / Buildings / Construction   \n",
       "...                     ...                                  ...   \n",
       "161135  Property Violations                    Trash / Recycling   \n",
       "161136  Property Violations                       Mowing / Weeds   \n",
       "161137  Property Violations  Property / Buildings / Construction   \n",
       "161138  Property Violations                       Mowing / Weeds   \n",
       "161139  Property Violations                    Trash / Recycling   \n",
       "\n",
       "                                TYPE                     DETAIL CREATION DATE  \\\n",
       "30      Parked on Unapproved Surface       Car Private Property    01/02/2019   \n",
       "32                          Nuisance  Trash on Private Property    12/17/2019   \n",
       "33              Private / Commercial               Lot - Vacant    10/28/2019   \n",
       "34              Private / Commercial               Lot - Vacant    10/28/2019   \n",
       "35              Property Maintenance                   Graffiti    08/21/2019   \n",
       "...                              ...                        ...           ...   \n",
       "161135                      Nuisance  Trash on Private Property    10/10/2019   \n",
       "161136          Private / Commercial               Lot - Vacant    09/03/2019   \n",
       "161137          Property Maintenance             Main Structure    09/03/2019   \n",
       "161138          Private / Commercial            Lot - Structure    09/13/2019   \n",
       "161139                      Nuisance  Trash on Private Property    09/16/2019   \n",
       "\n",
       "       CREATION TIME  ...  POLICE DISTRICT  PARCEL ID NO   LATITUDE  \\\n",
       "30          02:55 PM  ...             East         46562  39.086081   \n",
       "32          03:36 PM  ...             East         41670  39.111568   \n",
       "33          07:58 AM  ...          Central         14462  39.079394   \n",
       "34          08:02 AM  ...          Central         14460  39.079552   \n",
       "35          04:01 PM  ...          Central        124365  39.083859   \n",
       "...              ...  ...              ...           ...        ...   \n",
       "161135      02:32 PM  ...             East        137353  39.043642   \n",
       "161136      01:48 PM  ...          Central        135427  39.053873   \n",
       "161137      02:58 PM  ...          Central         14290  39.084196   \n",
       "161138      01:18 PM  ...          Central         26634  39.076811   \n",
       "161139      07:09 AM  ...            Metro        113770  39.003846   \n",
       "\n",
       "        LONGITUDE                                           CASE URL  \\\n",
       "30     -94.491835  http://city.kcmo.org/kc/ActionCenterRequest/Ca...   \n",
       "32     -94.538269  http://city.kcmo.org/kc/ActionCenterRequest/Ca...   \n",
       "33     -94.560201  http://city.kcmo.org/kc/ActionCenterRequest/Ca...   \n",
       "34     -94.560192  http://city.kcmo.org/kc/ActionCenterRequest/Ca...   \n",
       "35     -94.598175  http://city.kcmo.org/kc/ActionCenterRequest/Ca...   \n",
       "...           ...                                                ...   \n",
       "161135 -94.555053  http://city.kcmo.org/kc/ActionCenterRequest/Ca...   \n",
       "161136 -94.563800  http://city.kcmo.org/kc/ActionCenterRequest/Ca...   \n",
       "161137 -94.561064  http://city.kcmo.org/kc/ActionCenterRequest/Ca...   \n",
       "161138 -94.555131  http://city.kcmo.org/kc/ActionCenterRequest/Ca...   \n",
       "161139 -94.559103  http://city.kcmo.org/kc/ActionCenterRequest/Ca...   \n",
       "\n",
       "        30-60-90 Days Open Window  nbh_id                           nbh_name  \\\n",
       "30                            NaN      35             Blue Valley Industrial   \n",
       "32                            NaN      18                     Scarritt Point   \n",
       "33                            NaN      27                   Wendell Phillips   \n",
       "34                            NaN      27                   Wendell Phillips   \n",
       "35                            NaN       9                     Westside South   \n",
       "...                           ...     ...                                ...   \n",
       "161135                        NaN      54                  Ivanhoe Southeast   \n",
       "161136                        NaN      53                  Ivanhoe Southwest   \n",
       "161137                        NaN      27                   Wendell Phillips   \n",
       "161138                        NaN      56                      Key Coalition   \n",
       "161139                        NaN     122  Blenheim Square Research Hospital   \n",
       "\n",
       "       BLOCKGROUP ID         CATEGORY_NEW  \n",
       "30      2.909500e+11             Vehicles  \n",
       "32      2.909500e+11                Trash  \n",
       "33      2.909502e+11                Other  \n",
       "34      2.909502e+11                Other  \n",
       "35      2.909502e+11  Property Violations  \n",
       "...              ...                  ...  \n",
       "161135  2.909501e+11                Trash  \n",
       "161136  2.909502e+11                Other  \n",
       "161137  2.909502e+11  Property Violations  \n",
       "161138  2.909502e+11                Other  \n",
       "161139  2.909501e+11                Trash  \n",
       "\n",
       "[17992 rows x 34 columns]"
      ],
      "text/html": "<div>\n<style scoped>\n    .dataframe tbody tr th:only-of-type {\n        vertical-align: middle;\n    }\n\n    .dataframe tbody tr th {\n        vertical-align: top;\n    }\n\n    .dataframe thead th {\n        text-align: right;\n    }\n</style>\n<table border=\"1\" class=\"dataframe\">\n  <thead>\n    <tr style=\"text-align: right;\">\n      <th></th>\n      <th>CASE ID</th>\n      <th>SOURCE</th>\n      <th>DEPARTMENT</th>\n      <th>WORK GROUP</th>\n      <th>REQUEST TYPE</th>\n      <th>CATEGORY</th>\n      <th>TYPE</th>\n      <th>DETAIL</th>\n      <th>CREATION DATE</th>\n      <th>CREATION TIME</th>\n      <th>...</th>\n      <th>POLICE DISTRICT</th>\n      <th>PARCEL ID NO</th>\n      <th>LATITUDE</th>\n      <th>LONGITUDE</th>\n      <th>CASE URL</th>\n      <th>30-60-90 Days Open Window</th>\n      <th>nbh_id</th>\n      <th>nbh_name</th>\n      <th>BLOCKGROUP ID</th>\n      <th>CATEGORY_NEW</th>\n    </tr>\n  </thead>\n  <tbody>\n    <tr>\n      <th>30</th>\n      <td>2019000495</td>\n      <td>PHONE</td>\n      <td>NHS</td>\n      <td>NHS-Neighborhood Preservation-</td>\n      <td>Property Violations</td>\n      <td>Vehicles / Parking</td>\n      <td>Parked on Unapproved Surface</td>\n      <td>Car Private Property</td>\n      <td>01/02/2019</td>\n      <td>02:55 PM</td>\n      <td>...</td>\n      <td>East</td>\n      <td>46562</td>\n      <td>39.086081</td>\n      <td>-94.491835</td>\n      <td>http://city.kcmo.org/kc/ActionCenterRequest/Ca...</td>\n      <td>NaN</td>\n      <td>35</td>\n      <td>Blue Valley Industrial</td>\n      <td>2.909500e+11</td>\n      <td>Vehicles</td>\n    </tr>\n    <tr>\n      <th>32</th>\n      <td>2019204960</td>\n      <td>PHONE</td>\n      <td>NHS</td>\n      <td>NHS-Neighborhood Preservation-</td>\n      <td>Property Violations</td>\n      <td>Trash / Recycling</td>\n      <td>Nuisance</td>\n      <td>Trash on Private Property</td>\n      <td>12/17/2019</td>\n      <td>03:36 PM</td>\n      <td>...</td>\n      <td>East</td>\n      <td>41670</td>\n      <td>39.111568</td>\n      <td>-94.538269</td>\n      <td>http://city.kcmo.org/kc/ActionCenterRequest/Ca...</td>\n      <td>NaN</td>\n      <td>18</td>\n      <td>Scarritt Point</td>\n      <td>2.909500e+11</td>\n      <td>Trash</td>\n    </tr>\n    <tr>\n      <th>33</th>\n      <td>2019185184</td>\n      <td>PHONE</td>\n      <td>NHS</td>\n      <td>NHS-Neighborhood Preservation-</td>\n      <td>Property Violations</td>\n      <td>Mowing / Weeds</td>\n      <td>Private / Commercial</td>\n      <td>Lot - Vacant</td>\n      <td>10/28/2019</td>\n      <td>07:58 AM</td>\n      <td>...</td>\n      <td>Central</td>\n      <td>14462</td>\n      <td>39.079394</td>\n      <td>-94.560201</td>\n      <td>http://city.kcmo.org/kc/ActionCenterRequest/Ca...</td>\n      <td>NaN</td>\n      <td>27</td>\n      <td>Wendell Phillips</td>\n      <td>2.909502e+11</td>\n      <td>Other</td>\n    </tr>\n    <tr>\n      <th>34</th>\n      <td>2019185186</td>\n      <td>PHONE</td>\n      <td>NHS</td>\n      <td>NHS-Neighborhood Preservation-</td>\n      <td>Property Violations</td>\n      <td>Mowing / Weeds</td>\n      <td>Private / Commercial</td>\n      <td>Lot - Vacant</td>\n      <td>10/28/2019</td>\n      <td>08:02 AM</td>\n      <td>...</td>\n      <td>Central</td>\n      <td>14460</td>\n      <td>39.079552</td>\n      <td>-94.560192</td>\n      <td>http://city.kcmo.org/kc/ActionCenterRequest/Ca...</td>\n      <td>NaN</td>\n      <td>27</td>\n      <td>Wendell Phillips</td>\n      <td>2.909502e+11</td>\n      <td>Other</td>\n    </tr>\n    <tr>\n      <th>35</th>\n      <td>2019153984</td>\n      <td>WEB</td>\n      <td>NHS</td>\n      <td>NHS-Neighborhood Preservation-</td>\n      <td>Property Violations</td>\n      <td>Property / Buildings / Construction</td>\n      <td>Property Maintenance</td>\n      <td>Graffiti</td>\n      <td>08/21/2019</td>\n      <td>04:01 PM</td>\n      <td>...</td>\n      <td>Central</td>\n      <td>124365</td>\n      <td>39.083859</td>\n      <td>-94.598175</td>\n      <td>http://city.kcmo.org/kc/ActionCenterRequest/Ca...</td>\n      <td>NaN</td>\n      <td>9</td>\n      <td>Westside South</td>\n      <td>2.909502e+11</td>\n      <td>Property Violations</td>\n    </tr>\n    <tr>\n      <th>...</th>\n      <td>...</td>\n      <td>...</td>\n      <td>...</td>\n      <td>...</td>\n      <td>...</td>\n      <td>...</td>\n      <td>...</td>\n      <td>...</td>\n      <td>...</td>\n      <td>...</td>\n      <td>...</td>\n      <td>...</td>\n      <td>...</td>\n      <td>...</td>\n      <td>...</td>\n      <td>...</td>\n      <td>...</td>\n      <td>...</td>\n      <td>...</td>\n      <td>...</td>\n      <td>...</td>\n    </tr>\n    <tr>\n      <th>161135</th>\n      <td>2019178352</td>\n      <td>PHONE</td>\n      <td>NHS</td>\n      <td>NHS-Neighborhood Preservation-</td>\n      <td>Property Violations</td>\n      <td>Trash / Recycling</td>\n      <td>Nuisance</td>\n      <td>Trash on Private Property</td>\n      <td>10/10/2019</td>\n      <td>02:32 PM</td>\n      <td>...</td>\n      <td>East</td>\n      <td>137353</td>\n      <td>39.043642</td>\n      <td>-94.555053</td>\n      <td>http://city.kcmo.org/kc/ActionCenterRequest/Ca...</td>\n      <td>NaN</td>\n      <td>54</td>\n      <td>Ivanhoe Southeast</td>\n      <td>2.909501e+11</td>\n      <td>Trash</td>\n    </tr>\n    <tr>\n      <th>161136</th>\n      <td>2019160068</td>\n      <td>PHONE</td>\n      <td>NHS</td>\n      <td>NHS-Neighborhood Preservation-</td>\n      <td>Property Violations</td>\n      <td>Mowing / Weeds</td>\n      <td>Private / Commercial</td>\n      <td>Lot - Vacant</td>\n      <td>09/03/2019</td>\n      <td>01:48 PM</td>\n      <td>...</td>\n      <td>Central</td>\n      <td>135427</td>\n      <td>39.053873</td>\n      <td>-94.563800</td>\n      <td>http://city.kcmo.org/kc/ActionCenterRequest/Ca...</td>\n      <td>NaN</td>\n      <td>53</td>\n      <td>Ivanhoe Southwest</td>\n      <td>2.909502e+11</td>\n      <td>Other</td>\n    </tr>\n    <tr>\n      <th>161137</th>\n      <td>2019160139</td>\n      <td>WEB</td>\n      <td>NHS</td>\n      <td>NHS-Neighborhood Preservation-</td>\n      <td>Property Violations</td>\n      <td>Property / Buildings / Construction</td>\n      <td>Property Maintenance</td>\n      <td>Main Structure</td>\n      <td>09/03/2019</td>\n      <td>02:58 PM</td>\n      <td>...</td>\n      <td>Central</td>\n      <td>14290</td>\n      <td>39.084196</td>\n      <td>-94.561064</td>\n      <td>http://city.kcmo.org/kc/ActionCenterRequest/Ca...</td>\n      <td>NaN</td>\n      <td>27</td>\n      <td>Wendell Phillips</td>\n      <td>2.909502e+11</td>\n      <td>Property Violations</td>\n    </tr>\n    <tr>\n      <th>161138</th>\n      <td>2019165739</td>\n      <td>WEB</td>\n      <td>NHS</td>\n      <td>NHS-Neighborhood Preservation-</td>\n      <td>Property Violations</td>\n      <td>Mowing / Weeds</td>\n      <td>Private / Commercial</td>\n      <td>Lot - Structure</td>\n      <td>09/13/2019</td>\n      <td>01:18 PM</td>\n      <td>...</td>\n      <td>Central</td>\n      <td>26634</td>\n      <td>39.076811</td>\n      <td>-94.555131</td>\n      <td>http://city.kcmo.org/kc/ActionCenterRequest/Ca...</td>\n      <td>NaN</td>\n      <td>56</td>\n      <td>Key Coalition</td>\n      <td>2.909502e+11</td>\n      <td>Other</td>\n    </tr>\n    <tr>\n      <th>161139</th>\n      <td>2019166256</td>\n      <td>WEB</td>\n      <td>NHS</td>\n      <td>NHS-Neighborhood Preservation-</td>\n      <td>Property Violations</td>\n      <td>Trash / Recycling</td>\n      <td>Nuisance</td>\n      <td>Trash on Private Property</td>\n      <td>09/16/2019</td>\n      <td>07:09 AM</td>\n      <td>...</td>\n      <td>Metro</td>\n      <td>113770</td>\n      <td>39.003846</td>\n      <td>-94.559103</td>\n      <td>http://city.kcmo.org/kc/ActionCenterRequest/Ca...</td>\n      <td>NaN</td>\n      <td>122</td>\n      <td>Blenheim Square Research Hospital</td>\n      <td>2.909501e+11</td>\n      <td>Trash</td>\n    </tr>\n  </tbody>\n</table>\n<p>17992 rows × 34 columns</p>\n</div>"
     },
     "metadata": {},
     "execution_count": 135
    }
   ],
   "source": [
    "# df_property = sample_df[sample_df['CATEGORY_NEW'] == 'Property Violations']\n",
    "df_property = sample_df[sample_df['REQUEST TYPE'] == 'Property Violations']\n",
    "\n",
    "df_property"
   ]
  },
  {
   "cell_type": "code",
   "execution_count": 117,
   "metadata": {},
   "outputs": [],
   "source": []
  },
  {
   "cell_type": "code",
   "execution_count": 84,
   "metadata": {},
   "outputs": [
    {
     "output_type": "execute_result",
     "data": {
      "text/plain": [
       "   NBH_ID  Total population  Median income  Median home value  \\\n",
       "0       1              1524          27778             165800   \n",
       "1       2              2485          77700             252800   \n",
       "2       3               872          44740             150550   \n",
       "3       4              1968          56325             191933   \n",
       "4       5              1567          26766             116108   \n",
       "\n",
       "   Total population age 25+ years with a bachelor's degree or higher  \\\n",
       "0                                                332                   \n",
       "1                                               1501                   \n",
       "2                                                359                   \n",
       "3                                                860                   \n",
       "4                                                171                   \n",
       "\n",
       "   White alone  Black or African American alone  Asian alone  \\\n",
       "0          742                              502           63   \n",
       "1         2019                              201          112   \n",
       "2          544                              203           20   \n",
       "3         1226                              479          105   \n",
       "4          405                              821          143   \n",
       "\n",
       "   Hispanic or Latino  Total Vacant  ...  \\\n",
       "0                 208            89  ...   \n",
       "1                 138           206  ...   \n",
       "2                  69           141  ...   \n",
       "3                  90           101  ...   \n",
       "4                 163            83  ...   \n",
       "\n",
       "   Households with income below poverty  Total population 25 or older  \\\n",
       "0                                   204                           978   \n",
       "1                                    61                          2100   \n",
       "2                                   159                           657   \n",
       "3                                   112                          1535   \n",
       "4                                   180                           964   \n",
       "\n",
       "   No schooling completed  High school diploma  Bachelor's degree  \\\n",
       "0                      79                   28                245   \n",
       "1                       0                    0               1103   \n",
       "2                      16                    0                206   \n",
       "3                       3                    5                482   \n",
       "4                      49                    0                108   \n",
       "\n",
       "   Master's degree  Doctorate degree                  NBH_NAME  \\\n",
       "0               59                15  Columbus Park Industrial   \n",
       "1              233                48              River Market   \n",
       "2               92                 6              Quality Hill   \n",
       "3              242                58              CBD Downtown   \n",
       "4               40                 7                Paseo West   \n",
       "\n",
       "                             EQUIVALENT_BLOCKGROUPS  \\\n",
       "0                                  ['290950003001']   \n",
       "1                                  ['290950152001']   \n",
       "2                  ['290950011002', '290950011001']   \n",
       "3  ['290950157002', '290950159001', '290950157001']   \n",
       "4  ['290950154001', '290950154002', '290950159001']   \n",
       "\n",
       "                                      NBH_BOUNDARIES  \n",
       "0  [[-94.57683939536817, 39.1095113156913], [-94....  \n",
       "1  [[-94.57702050009627, 39.10947486858083], [-94...  \n",
       "2  [[-94.58859268223543, 39.096400643183834], [-9...  \n",
       "3  [[-94.57231978141229, 39.10627878158096], [-94...  \n",
       "4  [[-94.56368874393506, 39.105292460875276], [-9...  \n",
       "\n",
       "[5 rows x 30 columns]"
      ],
      "text/html": "<div>\n<style scoped>\n    .dataframe tbody tr th:only-of-type {\n        vertical-align: middle;\n    }\n\n    .dataframe tbody tr th {\n        vertical-align: top;\n    }\n\n    .dataframe thead th {\n        text-align: right;\n    }\n</style>\n<table border=\"1\" class=\"dataframe\">\n  <thead>\n    <tr style=\"text-align: right;\">\n      <th></th>\n      <th>NBH_ID</th>\n      <th>Total population</th>\n      <th>Median income</th>\n      <th>Median home value</th>\n      <th>Total population age 25+ years with a bachelor's degree or higher</th>\n      <th>White alone</th>\n      <th>Black or African American alone</th>\n      <th>Asian alone</th>\n      <th>Hispanic or Latino</th>\n      <th>Total Vacant</th>\n      <th>...</th>\n      <th>Households with income below poverty</th>\n      <th>Total population 25 or older</th>\n      <th>No schooling completed</th>\n      <th>High school diploma</th>\n      <th>Bachelor's degree</th>\n      <th>Master's degree</th>\n      <th>Doctorate degree</th>\n      <th>NBH_NAME</th>\n      <th>EQUIVALENT_BLOCKGROUPS</th>\n      <th>NBH_BOUNDARIES</th>\n    </tr>\n  </thead>\n  <tbody>\n    <tr>\n      <th>0</th>\n      <td>1</td>\n      <td>1524</td>\n      <td>27778</td>\n      <td>165800</td>\n      <td>332</td>\n      <td>742</td>\n      <td>502</td>\n      <td>63</td>\n      <td>208</td>\n      <td>89</td>\n      <td>...</td>\n      <td>204</td>\n      <td>978</td>\n      <td>79</td>\n      <td>28</td>\n      <td>245</td>\n      <td>59</td>\n      <td>15</td>\n      <td>Columbus Park Industrial</td>\n      <td>['290950003001']</td>\n      <td>[[-94.57683939536817, 39.1095113156913], [-94....</td>\n    </tr>\n    <tr>\n      <th>1</th>\n      <td>2</td>\n      <td>2485</td>\n      <td>77700</td>\n      <td>252800</td>\n      <td>1501</td>\n      <td>2019</td>\n      <td>201</td>\n      <td>112</td>\n      <td>138</td>\n      <td>206</td>\n      <td>...</td>\n      <td>61</td>\n      <td>2100</td>\n      <td>0</td>\n      <td>0</td>\n      <td>1103</td>\n      <td>233</td>\n      <td>48</td>\n      <td>River Market</td>\n      <td>['290950152001']</td>\n      <td>[[-94.57702050009627, 39.10947486858083], [-94...</td>\n    </tr>\n    <tr>\n      <th>2</th>\n      <td>3</td>\n      <td>872</td>\n      <td>44740</td>\n      <td>150550</td>\n      <td>359</td>\n      <td>544</td>\n      <td>203</td>\n      <td>20</td>\n      <td>69</td>\n      <td>141</td>\n      <td>...</td>\n      <td>159</td>\n      <td>657</td>\n      <td>16</td>\n      <td>0</td>\n      <td>206</td>\n      <td>92</td>\n      <td>6</td>\n      <td>Quality Hill</td>\n      <td>['290950011002', '290950011001']</td>\n      <td>[[-94.58859268223543, 39.096400643183834], [-9...</td>\n    </tr>\n    <tr>\n      <th>3</th>\n      <td>4</td>\n      <td>1968</td>\n      <td>56325</td>\n      <td>191933</td>\n      <td>860</td>\n      <td>1226</td>\n      <td>479</td>\n      <td>105</td>\n      <td>90</td>\n      <td>101</td>\n      <td>...</td>\n      <td>112</td>\n      <td>1535</td>\n      <td>3</td>\n      <td>5</td>\n      <td>482</td>\n      <td>242</td>\n      <td>58</td>\n      <td>CBD Downtown</td>\n      <td>['290950157002', '290950159001', '290950157001']</td>\n      <td>[[-94.57231978141229, 39.10627878158096], [-94...</td>\n    </tr>\n    <tr>\n      <th>4</th>\n      <td>5</td>\n      <td>1567</td>\n      <td>26766</td>\n      <td>116108</td>\n      <td>171</td>\n      <td>405</td>\n      <td>821</td>\n      <td>143</td>\n      <td>163</td>\n      <td>83</td>\n      <td>...</td>\n      <td>180</td>\n      <td>964</td>\n      <td>49</td>\n      <td>0</td>\n      <td>108</td>\n      <td>40</td>\n      <td>7</td>\n      <td>Paseo West</td>\n      <td>['290950154001', '290950154002', '290950159001']</td>\n      <td>[[-94.56368874393506, 39.105292460875276], [-9...</td>\n    </tr>\n  </tbody>\n</table>\n<p>5 rows × 30 columns</p>\n</div>"
     },
     "metadata": {},
     "execution_count": 84
    }
   ],
   "source": [
    "df_shape = pd.read_csv('../data/raw/240NBH_socioeconomic_withshapes.csv')\n",
    "df_shape.head()"
   ]
  },
  {
   "cell_type": "code",
   "execution_count": 89,
   "metadata": {},
   "outputs": [],
   "source": [
    "temp = sample_df.merge(df_shape, how='inner', left_on='nbh_id', right_on='NBH_ID').drop(columns=['NBH_ID', 'NBH_NAME'])\n",
    "temp.to_csv('311_Census_with_shapes.csv', index = False)"
   ]
  },
  {
   "cell_type": "code",
   "execution_count": 88,
   "metadata": {},
   "outputs": [
    {
     "output_type": "execute_result",
     "data": {
      "text/plain": [
       "Index(['CASE ID', 'SOURCE', 'DEPARTMENT', 'WORK GROUP', 'REQUEST TYPE',\n",
       "       'CATEGORY', 'TYPE', 'DETAIL', 'CREATION DATE', 'CREATION TIME',\n",
       "       'CREATION MONTH', 'CREATION YEAR', 'STATUS', 'EXCEEDED EST TIMEFRAME',\n",
       "       'CLOSED DATE', 'CLOSED MONTH', 'CLOSED YEAR', 'DAYS TO CLOSE',\n",
       "       'STREET ADDRESS', 'ADDRESS WITH GEOCODE', 'ZIP CODE', 'NEIGHBORHOOD',\n",
       "       'COUNTY', 'COUNCIL DISTRICT', 'POLICE DISTRICT', 'PARCEL ID NO',\n",
       "       'LATITUDE', 'LONGITUDE', 'CASE URL', '30-60-90 Days Open Window',\n",
       "       'nbh_id', 'nbh_name', 'BLOCKGROUP ID', 'CATEGORY_NEW',\n",
       "       'Total population', 'Median income', 'Median home value',\n",
       "       'Total population age 25+ years with a bachelor's degree or higher',\n",
       "       'White alone', 'Black or African American alone', 'Asian alone',\n",
       "       'Hispanic or Latino', 'Total Vacant', 'Total Renter Occupied',\n",
       "       'Number of Households', 'Total civilian labor force', 'Total employed',\n",
       "       'Total unemployed', 'Families considered in poverty calculation',\n",
       "       'Individuals considered in poverty calculation',\n",
       "       'Households considered in poverty calculation',\n",
       "       'Families with income below poverty',\n",
       "       'Individuals with income below poverty',\n",
       "       'Households with income below poverty', 'Total population 25 or older',\n",
       "       'No schooling completed', 'High school diploma', 'Bachelor's degree',\n",
       "       'Master's degree', 'Doctorate degree', 'EQUIVALENT_BLOCKGROUPS',\n",
       "       'NBH_BOUNDARIES'],\n",
       "      dtype='object')"
      ]
     },
     "metadata": {},
     "execution_count": 88
    }
   ],
   "source": [
    "temp.columns"
   ]
  },
  {
   "cell_type": "code",
   "execution_count": 103,
   "metadata": {},
   "outputs": [
    {
     "output_type": "stream",
     "name": "stdout",
     "text": [
      "77982\n"
     ]
    },
    {
     "output_type": "execute_result",
     "data": {
      "text/plain": [
       "    nbhid            nbh_name          Offense\n",
       "6    80.0       Southmoreland  Property Damage\n",
       "22  162.0            Fairlane  Property Damage\n",
       "46  213.0  Birmingham Bottoms  Property Damage\n",
       "52  154.0       Hidden Valley  Property Damage\n",
       "60  195.0     Colonial Square  Property Damage"
      ],
      "text/html": "<div>\n<style scoped>\n    .dataframe tbody tr th:only-of-type {\n        vertical-align: middle;\n    }\n\n    .dataframe tbody tr th {\n        vertical-align: top;\n    }\n\n    .dataframe thead th {\n        text-align: right;\n    }\n</style>\n<table border=\"1\" class=\"dataframe\">\n  <thead>\n    <tr style=\"text-align: right;\">\n      <th></th>\n      <th>nbhid</th>\n      <th>nbh_name</th>\n      <th>Offense</th>\n    </tr>\n  </thead>\n  <tbody>\n    <tr>\n      <th>6</th>\n      <td>80.0</td>\n      <td>Southmoreland</td>\n      <td>Property Damage</td>\n    </tr>\n    <tr>\n      <th>22</th>\n      <td>162.0</td>\n      <td>Fairlane</td>\n      <td>Property Damage</td>\n    </tr>\n    <tr>\n      <th>46</th>\n      <td>213.0</td>\n      <td>Birmingham Bottoms</td>\n      <td>Property Damage</td>\n    </tr>\n    <tr>\n      <th>52</th>\n      <td>154.0</td>\n      <td>Hidden Valley</td>\n      <td>Property Damage</td>\n    </tr>\n    <tr>\n      <th>60</th>\n      <td>195.0</td>\n      <td>Colonial Square</td>\n      <td>Property Damage</td>\n    </tr>\n  </tbody>\n</table>\n</div>"
     },
     "metadata": {},
     "execution_count": 103
    }
   ],
   "source": [
    "df_crime = pd.DataFrame()\n",
    "for yr in range(2019,2020):\n",
    "    df = pd.read_csv('../Crime/CrimeData{}-withlocality.csv'.format(yr))\n",
    "    print(len(df))\n",
    "    df_crime = pd.concat([df_crime,df ], axis = 0)\n",
    "\n",
    "df_crime = df_crime[df_crime['nbh_name'].isin(df_shape['NBH_NAME'].unique())][['nbhid','nbh_name', 'Offense']]\n",
    "df_crime = df_crime[df_crime['Offense'] == 'Property Damage']\n",
    "df_crime.head()"
   ]
  },
  {
   "cell_type": "code",
   "execution_count": 128,
   "metadata": {},
   "outputs": [
    {
     "output_type": "execute_result",
     "data": {
      "text/plain": [
       "                property_damages  property_violations_calls\n",
       "nbh_name                                                   \n",
       "CBD Downtown                 175                       81.0\n",
       "Scarritt Point                99                      159.0\n",
       "Hospital Hill                 88                        0.0\n",
       "Shoal Creek                   85                      290.0\n",
       "Blue Hills                    71                      156.0"
      ],
      "text/html": "<div>\n<style scoped>\n    .dataframe tbody tr th:only-of-type {\n        vertical-align: middle;\n    }\n\n    .dataframe tbody tr th {\n        vertical-align: top;\n    }\n\n    .dataframe thead th {\n        text-align: right;\n    }\n</style>\n<table border=\"1\" class=\"dataframe\">\n  <thead>\n    <tr style=\"text-align: right;\">\n      <th></th>\n      <th>property_damages</th>\n      <th>property_violations_calls</th>\n    </tr>\n    <tr>\n      <th>nbh_name</th>\n      <th></th>\n      <th></th>\n    </tr>\n  </thead>\n  <tbody>\n    <tr>\n      <th>CBD Downtown</th>\n      <td>175</td>\n      <td>81.0</td>\n    </tr>\n    <tr>\n      <th>Scarritt Point</th>\n      <td>99</td>\n      <td>159.0</td>\n    </tr>\n    <tr>\n      <th>Hospital Hill</th>\n      <td>88</td>\n      <td>0.0</td>\n    </tr>\n    <tr>\n      <th>Shoal Creek</th>\n      <td>85</td>\n      <td>290.0</td>\n    </tr>\n    <tr>\n      <th>Blue Hills</th>\n      <td>71</td>\n      <td>156.0</td>\n    </tr>\n  </tbody>\n</table>\n</div>"
     },
     "metadata": {},
     "execution_count": 128
    }
   ],
   "source": [
    "property_violations_agg_df = df_property.groupby('nbh_name').size().sort_values(ascending=False).to_frame('property_violations_calls').head(50)\n",
    "property_crime_agg_df = df_crime.groupby(['nbh_name']).size().to_frame('property_damages').reset_index()\n",
    "property_crime_agg_df = property_crime_agg_df.merge(property_violations_agg_df, how='left', left_on='nbh_name', right_on='nbh_name').fillna(0).set_index('nbh_name').sort_values(['property_damages', 'property_violations_calls'], ascending=False)\n",
    "property_crime_agg_df.head()"
   ]
  },
  {
   "cell_type": "code",
   "execution_count": 130,
   "metadata": {},
   "outputs": [],
   "source": [
    "property_crime_agg_df.to_csv('property_violations_Crime311.csv', index = True)"
   ]
  },
  {
   "cell_type": "code",
   "execution_count": 127,
   "metadata": {},
   "outputs": [
    {
     "output_type": "execute_result",
     "data": {
      "text/plain": [
       "                           property_damages  property_violations_calls\n",
       "property_damages                   1.000000                   0.307881\n",
       "property_violations_calls          0.307881                   1.000000"
      ],
      "text/html": "<div>\n<style scoped>\n    .dataframe tbody tr th:only-of-type {\n        vertical-align: middle;\n    }\n\n    .dataframe tbody tr th {\n        vertical-align: top;\n    }\n\n    .dataframe thead th {\n        text-align: right;\n    }\n</style>\n<table border=\"1\" class=\"dataframe\">\n  <thead>\n    <tr style=\"text-align: right;\">\n      <th></th>\n      <th>property_damages</th>\n      <th>property_violations_calls</th>\n    </tr>\n  </thead>\n  <tbody>\n    <tr>\n      <th>property_damages</th>\n      <td>1.000000</td>\n      <td>0.307881</td>\n    </tr>\n    <tr>\n      <th>property_violations_calls</th>\n      <td>0.307881</td>\n      <td>1.000000</td>\n    </tr>\n  </tbody>\n</table>\n</div>"
     },
     "metadata": {},
     "execution_count": 127
    }
   ],
   "source": []
  },
  {
   "source": [
    "<h1> Deploy to Ngrok"
   ],
   "cell_type": "markdown",
   "metadata": {}
  },
  {
   "cell_type": "code",
   "execution_count": null,
   "metadata": {},
   "outputs": [],
   "source": [
    "import dash\n",
    "import dash_core_components as dcc\n",
    "import dash_html_components as html\n",
    "from dash.dependencies import Input, Output\n",
    "import plotly.express as px\n",
    "from jupyter_dash import JupyterDash\n",
    "from flask import Flask\n",
    "from flask_cors import CORS"
   ]
  },
  {
   "cell_type": "code",
   "execution_count": null,
   "metadata": {},
   "outputs": [],
   "source": [
    "app = JupyterDash(__name__)\n",
    "server = app.server\n",
    "CORS(server)\n",
    "\n",
    "app.layout = html.Div([\n",
    "    dcc.Location(id='url', refresh=False),\n",
    "    html.Div(id='page-content')\n",
    "])\n",
    "\n",
    "\n",
    "index_page = html.Div([\n",
    "    dcc.Link('Go to Page 1', href='/page-1'),\n",
    "    html.Br(),\n",
    "    # dcc.Link('Go to Page 2', href='/page-2'),\n",
    "    # html.Br(),\n",
    "    # dcc.Link('Go to Page 3', href='/page-3'),\n",
    "    # html.Br(),\n",
    "    # dcc.Link('Go to Page 4', href='/page-4'),\n",
    "    # html.Br(),\n",
    "    # dcc.Link('Go to Page 5', href='/page-5'),\n",
    "    # html.Br(),\n",
    "    # dcc.Link('Go to Page 6', href='/page-6'),\n",
    "    # html.Br(),\n",
    "    # dcc.Link('Go to Page 7', href='/page-7'),\n",
    "    # html.Br(),\n",
    "    # dcc.Link('Go to Page 8', href='/page-8'),\n",
    "    # html.Br(),\n",
    "    # dcc.Link('Go to Page 9', href='/page-9'),\n",
    "    # html.Br(),\n",
    "    # dcc.Link('Go to Page 10', href='/page-10'),\n",
    "    # html.Br(),\n",
    "    # dcc.Link('Go to Page 11', href='/page-11'),\n",
    "    # html.Br(),\n",
    "    # dcc.Link('Go to Page 12', href='/page-12'),\n",
    "])\n",
    "\n",
    "# -------------------------------------------\n",
    "@app.callback(Output('graph-1', 'figure'),\n",
    "              [Input('call-dropdown', 'value')])       \n",
    "def page_1_content(nbh_name):\n",
    "    fig = px.pie(top_5_calls_df[top_5_calls_df['nbh_name'] == nbh_name], values='total_calls', names='CATEGORY_NEW', title='Top 5 311 Calls of {} (in 2019)'.format(nbh_name.title()))\n",
    "    return fig\n",
    "\n",
    "page_1_layout = html.Div([\n",
    "    html.Label([\n",
    "        \"Select a Neighborhood Name\",\n",
    "        dcc.Dropdown(\n",
    "            id='call-dropdown', clearable=False,\n",
    "            value='Ivanhoe Northeast', options=[\n",
    "                {'label': x.title(), 'value': x}\n",
    "                for x in top_5_calls_df['nbh_name'].unique()\n",
    "            ])\n",
    "    ]),\n",
    "    dcc.Graph(id='graph-1')\n",
    "], style={'width': '50%', 'display': 'inline-block', 'vertical-align': 'middle'})\n",
    "# -------------------------------------------\n",
    "# Update the index\n",
    "@app.callback(Output('page-content', 'children'),\n",
    "              [Input('url', 'pathname')])\n",
    "def display_page(pathname):\n",
    "    if pathname == '/page-1': #state-metal\n",
    "        return page_1_layout\n",
    "    # elif pathname == '/page-2': #\n",
    "    #     return page_2_layout\n",
    "    # elif pathname == '/page-3': #\n",
    "    #     return page_3_layout\n",
    "    # elif pathname == '/page-4': #\n",
    "    #     return page_4_layout\n",
    "    # elif pathname == '/page-5': #\n",
    "    #     return page_5_layout\n",
    "    # elif pathname == '/page-6': #\n",
    "    #     return page_6_layout\n",
    "    # elif pathname == '/page-7': #\n",
    "    #     return page_7_layout\n",
    "    # elif pathname == '/page-8': #\n",
    "    #     return page_8_layout\n",
    "    # elif pathname == '/page-9': #\n",
    "    #     return page_9_layout\n",
    "    # elif pathname == '/page-10': #\n",
    "    #     return page_10_layout\n",
    "    # elif pathname == '/page-11': #\n",
    "    #     return page_11_layout\n",
    "    # elif pathname == '/page-12': #\n",
    "    #     return page_12_layout\n",
    "    else:\n",
    "        return index_page\n",
    "    # You could also return a 404 \"URL not found\" page here\n",
    "\n",
    "\n",
    "\n",
    "\n",
    "\n",
    "@server.route(\"/api/model/quick\")\n",
    "def inference_quick():\n",
    "    height = float(request.args.get('height'))\n",
    "    weight = float(request.args.get('weight'))\n",
    "    age = int(request.args.get('age'))\n",
    "    children = int(request.args.get('children'))\n",
    "    smoker = int(request.args.get('smoker'))\n",
    "    sex = int(request.args.get('sex'))\n",
    "    BMI = weight / (height/100)**2\n",
    "    state = request.args.get('state')\n",
    "    map_sex = {\n",
    "        'male': 0,\n",
    "        'female': 1\n",
    "    }\n",
    "    map_smoker = {\n",
    "        'no': 0,\n",
    "        'yes': 1,\n",
    "    }   \n",
    "    map_region = {'northeast': 0, 'northwest': 1, 'southeast': 2, 'southwest': 3}\n",
    "    region = map_region[region_map[state]]\n",
    "\n",
    "    X_test = np.array([[age, sex, BMI, children, smoker, region]])\n",
    "    test_dataset = RegressionDataset(torch.from_numpy(X_test).float())\n",
    "    test_loader = DataLoader(dataset=test_dataset, batch_size=1)\n",
    "    ''''Testing'''\n",
    "    # X_test = np.array([[45, 1, 15, 2, 1, 3]])\n",
    "    test_dataset = RegressionDataset(torch.from_numpy(X_test).float())\n",
    "    test_loader = DataLoader(dataset=test_dataset, batch_size=1)\n",
    "    ''''Testing'''\n",
    "    with torch.no_grad():\n",
    "        for X_batch in test_loader:\n",
    "            X_batch = X_batch.to(device)\n",
    "            x_test_pred = model_quick(X_batch)[0][0]\n",
    "    estimate =  round(x_test_pred.item()*10000)\n",
    "    insurance_options = {'plans': find_insurance(age = age, kid = children, state='MO', estimate = estimate)}\n",
    "    insurance_options['premium_charge'] = estimate\n",
    "    return json.dumps(insurance_options, indent=4)\n",
    "\n",
    "\n",
    "if __name__ == '__main__':\n",
    "    app.run_server(mode='inline', port = 8020, debug=True)"
   ]
  },
  {
   "cell_type": "code",
   "execution_count": null,
   "metadata": {},
   "outputs": [],
   "source": [
    "from pyngrok import ngrok\n",
    "\n",
    "public_url = ngrok.connect(8020, subdomain=\"nsfscc\")\n",
    "public_url"
   ]
  },
  {
   "cell_type": "code",
   "execution_count": null,
   "metadata": {},
   "outputs": [],
   "source": [
    "ngrok.kill()\n"
   ]
  }
 ]
}