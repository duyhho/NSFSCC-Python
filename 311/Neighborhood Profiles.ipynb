{
 "metadata": {
  "language_info": {
   "codemirror_mode": {
    "name": "ipython",
    "version": 3
   },
   "file_extension": ".py",
   "mimetype": "text/x-python",
   "name": "python",
   "nbconvert_exporter": "python",
   "pygments_lexer": "ipython3",
   "version": "3.8.8"
  },
  "orig_nbformat": 2,
  "kernelspec": {
   "name": "python388jvsc74a57bd0be2186f287d63c886f1d6294517293c35caf22eae6846d47e604de0ca1a813d8",
   "display_name": "Python 3.8.8 64-bit ('geo_env': conda)"
  }
 },
 "nbformat": 4,
 "nbformat_minor": 2,
 "cells": [
  {
   "cell_type": "code",
   "execution_count": 1,
   "metadata": {},
   "outputs": [],
   "source": [
    "import pandas as pd\n",
    "import json\n",
    "from tqdm.notebook import tqdm"
   ]
  },
  {
   "cell_type": "code",
   "execution_count": 3,
   "metadata": {},
   "outputs": [],
   "source": [
    "YEAR_RANGE = [2019, 2020]\n",
    "df_311 = pd.read_csv('../data/raw/311_Block_Group_Processed.csv')\n",
    "# df_311 = df_311[df_311['CREATION YEAR'].between(YEAR_RANGE[0], YEAR_RANGE[1])]\n",
    "df_311 = df_311[df_311['CREATION YEAR'] == 2019]\n"
   ]
  },
  {
   "cell_type": "code",
   "execution_count": 4,
   "metadata": {},
   "outputs": [
    {
     "output_type": "execute_result",
     "data": {
      "text/plain": [
       "Index(['CASE ID', 'SOURCE', 'DEPARTMENT', 'WORK GROUP', 'REQUEST TYPE',\n",
       "       'CATEGORY', 'TYPE', 'DETAIL', 'CREATION DATE', 'CREATION TIME',\n",
       "       'CREATION MONTH', 'CREATION YEAR', 'STATUS', 'EXCEEDED EST TIMEFRAME',\n",
       "       'CLOSED DATE', 'CLOSED MONTH', 'CLOSED YEAR', 'DAYS TO CLOSE',\n",
       "       'STREET ADDRESS', 'ADDRESS WITH GEOCODE', 'ZIP CODE', 'NEIGHBORHOOD',\n",
       "       'COUNTY', 'COUNCIL DISTRICT', 'POLICE DISTRICT', 'PARCEL ID NO',\n",
       "       'LATITUDE', 'LONGITUDE', 'CASE URL', '30-60-90 Days Open Window',\n",
       "       'block_id'],\n",
       "      dtype='object')"
      ]
     },
     "metadata": {},
     "execution_count": 4
    }
   ],
   "source": [
    "df_311.columns"
   ]
  }
 ]
}